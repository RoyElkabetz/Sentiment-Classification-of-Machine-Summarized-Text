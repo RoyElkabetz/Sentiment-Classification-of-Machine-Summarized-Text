{
  "nbformat": 4,
  "nbformat_minor": 0,
  "metadata": {
    "colab": {
      "name": "Text_Classification.ipynb",
      "provenance": [],
      "authorship_tag": "ABX9TyP14Kv8o/hlvaMa0a+rkuKs",
      "include_colab_link": true
    },
    "kernelspec": {
      "name": "python3",
      "display_name": "Python 3"
    },
    "language_info": {
      "name": "python"
    }
  },
  "cells": [
    {
      "cell_type": "markdown",
      "metadata": {
        "id": "view-in-github",
        "colab_type": "text"
      },
      "source": [
        "<a href=\"https://colab.research.google.com/github/RoyElkabetz/Text-Summarization-with-Deep-Learning/blob/main/Text_Classification.ipynb\" target=\"_parent\"><img src=\"https://colab.research.google.com/assets/colab-badge.svg\" alt=\"Open In Colab\"/></a>"
      ]
    },
    {
      "cell_type": "code",
      "metadata": {
        "colab": {
          "base_uri": "https://localhost:8080/"
        },
        "id": "8KMfu5tAbJrz",
        "outputId": "c600c4e3-a5e9-4f66-89df-17ed32a9d815"
      },
      "source": [
        "## uncomment only if running from google.colab\n",
        "# clone the git reposetory\n",
        "!git clone https://github.com/RoyElkabetz/Text-Summarization-with-Deep-Learning\n",
        "# add path to .py files for import\n",
        "import sys\n",
        "sys.path.insert(1, \"/content/Text-Summarization-with-Deep-Learning\")"
      ],
      "execution_count": 1,
      "outputs": [
        {
          "output_type": "stream",
          "text": [
            "Cloning into 'Text-Summarization-with-Deep-Learning'...\n",
            "remote: Enumerating objects: 53, done.\u001b[K\n",
            "remote: Counting objects: 100% (53/53), done.\u001b[K\n",
            "remote: Compressing objects: 100% (52/52), done.\u001b[K\n",
            "remote: Total 53 (delta 28), reused 6 (delta 0), pack-reused 0\u001b[K\n",
            "Unpacking objects: 100% (53/53), done.\n"
          ],
          "name": "stdout"
        }
      ]
    },
    {
      "cell_type": "code",
      "metadata": {
        "colab": {
          "base_uri": "https://localhost:8080/"
        },
        "id": "F96lfuaZWBI6",
        "outputId": "0578495a-ecb8-499a-985f-ad1e98b49f7c"
      },
      "source": [
        "%matplotlib inline\n",
        "import time\n",
        "\n",
        "import torch\n",
        "# from torchtext.datasets import IMDB as the_dataset\n",
        "from torchtext.datasets import AG_NEWS as the_dataset\n",
        "import torchtext.data as data\n",
        "from torchtext.data.utils import get_tokenizer\n",
        "from torchtext.vocab import build_vocab_from_iterator\n",
        "from torchtext.data.functional import to_map_style_dataset\n",
        "from torch.utils.data import DataLoader\n",
        "from torch.utils.data.dataset import random_split\n",
        "from torch import nn\n",
        "\n",
        "\n",
        "\n",
        "\n",
        "print(f'torch {torch.__version__}')\n",
        "print('Device properties:')\n",
        "if torch.cuda.is_available():\n",
        "    device = torch.device(\"cuda\")\n",
        "    gpu_data = torch.cuda.get_device_properties(0)\n",
        "    gpu_name = gpu_data.name\n",
        "    gpu_mem  = f'{gpu_data.total_memory * 1e-9:.02f} Gb'\n",
        "    print(f'GPU: {gpu_name}\\nMemory: {gpu_mem}')\n",
        "else:\n",
        "    device = torch.device(\"cpu\")\n",
        "    print('CPU')"
      ],
      "execution_count": 21,
      "outputs": [
        {
          "output_type": "stream",
          "text": [
            "torch 1.9.0+cu102\n",
            "Device properties:\n",
            "CPU\n"
          ],
          "name": "stdout"
        }
      ]
    },
    {
      "cell_type": "code",
      "metadata": {
        "id": "Gj1U-8ysnXbA"
      },
      "source": [
        "# from torchtext.utils import (\n",
        "#     download_from_url,\n",
        "# )\n",
        "# from torchtext.data.datasets_utils import (\n",
        "#     _RawTextIterableDataset,\n",
        "#     _wrap_split_argument,\n",
        "#     _add_docstring_header,\n",
        "#     _create_dataset_directory,\n",
        "#     _create_data_from_csv,\n",
        "# )\n",
        "# import os\n",
        "\n",
        "# URL = {\n",
        "#     'train': \"https://raw.githubusercontent.com/mhjabreel/CharCnn_Keras/master/data/ag_news_csv/train.csv\",\n",
        "#     'test': \"https://raw.githubusercontent.com/mhjabreel/CharCnn_Keras/master/data/ag_news_csv/test.csv\",\n",
        "# }\n",
        "\n",
        "# MD5 = {\n",
        "#     'train': \"b1a00f826fdfbd249f79597b59e1dc12\",\n",
        "#     'test': \"d52ea96a97a2d943681189a97654912d\",\n",
        "# }\n",
        "\n",
        "# NUM_LINES = {\n",
        "#     'train': 120000,\n",
        "#     'test': 7600,\n",
        "# }\n",
        "\n",
        "# DATASET_NAME = \"AG_NEWS\"\n",
        "\n",
        "\n",
        "# # [docs]@_add_docstring_header(num_lines=NUM_LINES, num_classes=4)\n",
        "# # @_create_dataset_directory(dataset_name=DATASET_NAME)\n",
        "# # @_wrap_split_argument(('train', 'test'))\n",
        "# def the_dataset(split):\n",
        "#     root = '/content/dataset'\n",
        "#     path = download_from_url(URL[split], root=root,\n",
        "#                              path=os.path.join(root, split + \".csv\"),\n",
        "#                              hash_value=MD5[split],\n",
        "#                              hash_type='md5')\n",
        "#     return _RawTextIterableDataset(DATASET_NAME, NUM_LINES[split],\n",
        "#                                    _create_data_from_csv(path))"
      ],
      "execution_count": 22,
      "outputs": []
    },
    {
      "cell_type": "code",
      "metadata": {
        "id": "0fQONvlkWN7y"
      },
      "source": [
        "tokenizer = get_tokenizer('basic_english')\n",
        "train_iter = the_dataset(split='train')\n",
        "\n",
        "def yield_tokens(data_iter):\n",
        "    for _, text in data_iter:\n",
        "        yield tokenizer(text)\n",
        "\n",
        "vocab = build_vocab_from_iterator(yield_tokens(train_iter), specials=[\"<unk>\", \"<sos>\", \"<eos>\"])\n",
        "vocab.set_default_index(vocab[\"<unk>\"])"
      ],
      "execution_count": 23,
      "outputs": []
    },
    {
      "cell_type": "code",
      "metadata": {
        "id": "4ModijEJY714"
      },
      "source": [
        "text_pipeline = lambda x: vocab(tokenizer(x))\n",
        "label_pipeline = lambda x: int(x) - 1  # for {1, 2, ...} int classes\n",
        "# label_pipeline = lambda x: 0 if x=='neg' else 1  # for IMDB"
      ],
      "execution_count": 24,
      "outputs": []
    },
    {
      "cell_type": "code",
      "metadata": {
        "colab": {
          "base_uri": "https://localhost:8080/"
        },
        "id": "5AoszQTWWN-a",
        "outputId": "902acdfb-bda8-4d67-cd8c-f2d625b10c65"
      },
      "source": [
        "train_iter = the_dataset(split='train')\n",
        "n_samples = len(train_iter)\n",
        "random_list = torch.randint(0, n_samples - 1, (4, ))\n",
        "labels = []\n",
        "for i, (label, text) in enumerate(train_iter):\n",
        "    labels.append(label)\n",
        "    if i in random_list:\n",
        "        print(f'Label: {label_pipeline(label)}')\n",
        "        print(f'Text: {text}')\n",
        "        print(f'Split: {tokenizer(text)}')\n",
        "        print(f'Tokens: {text_pipeline(text)}\\n')\n",
        "print('Number of classes: {}'.format(len(set(labels))))\n",
        "print('Number of samples: {}'.format(n_samples))"
      ],
      "execution_count": 25,
      "outputs": [
        {
          "output_type": "stream",
          "text": [
            "Label: 0\n",
            "Text: Marines Say Up to 100 Insurgents Killed in Falluja  BAGHDAD (Reuters) - U.S. Marines said on Tuesday that as  many as 100 insurgents had been killed in fighting in the  hotbed Iraqi town of Falluja.\n",
            "Split: ['marines', 'say', 'up', 'to', '100', 'insurgents', 'killed', 'in', 'falluja', 'baghdad', '(', 'reuters', ')', '-', 'u', '.', 's', '.', 'marines', 'said', 'on', 'tuesday', 'that', 'as', 'many', 'as', '100', 'insurgents', 'had', 'been', 'killed', 'in', 'fighting', 'in', 'the', 'hotbed', 'iraqi', 'town', 'of', 'falluja', '.']\n",
            "Tokens: [2502, 235, 45, 6, 752, 1140, 144, 9, 1759, 241, 15, 29, 16, 17, 53, 3, 11, 3, 2502, 28, 12, 59, 19, 21, 308, 21, 752, 1140, 88, 83, 144, 9, 831, 9, 4, 17321, 210, 997, 8, 1759, 3]\n",
            "\n",
            "Label: 0\n",
            "Text: Iraq PM Adamant Jan. Election Will Be Held Iraqi Prime Minister Iyad Allawi said Sunday elections would be held on schedule in January despite a surge in violence and more than a score of hostages under threat of death from insurgents.\n",
            "Split: ['iraq', 'pm', 'adamant', 'jan', '.', 'election', 'will', 'be', 'held', 'iraqi', 'prime', 'minister', 'iyad', 'allawi', 'said', 'sunday', 'elections', 'would', 'be', 'held', 'on', 'schedule', 'in', 'january', 'despite', 'a', 'surge', 'in', 'violence', 'and', 'more', 'than', 'a', 'score', 'of', 'hostages', 'under', 'threat', 'of', 'death', 'from', 'insurgents', '.']\n",
            "Tokens: [72, 818, 17784, 2395, 3, 245, 35, 39, 382, 210, 201, 127, 4515, 1988, 28, 93, 547, 97, 39, 382, 12, 1971, 9, 1255, 347, 7, 1604, 9, 620, 10, 48, 74, 7, 1878, 8, 1088, 269, 782, 8, 449, 31, 1140, 3]\n",
            "\n",
            "Label: 3\n",
            "Text: Open Source Makes Do-It-Yourself CRM Possible (NewsFactor) NewsFactor - For years, companies large and small have been convinced that if they want the sophisticated functionality of enterprise-class software like ERP and CRM systems, they must buy pre-packaged applications. And, to a large extent, that remains true.\n",
            "Split: ['open', 'source', 'makes', 'do-it-yourself', 'crm', 'possible', '(', 'newsfactor', ')', 'newsfactor', '-', 'for', 'years', ',', 'companies', 'large', 'and', 'small', 'have', 'been', 'convinced', 'that', 'if', 'they', 'want', 'the', 'sophisticated', 'functionality', 'of', 'enterprise-class', 'software', 'like', 'erp', 'and', 'crm', 'systems', ',', 'they', 'must', 'buy', 'pre-packaged', 'applications', '.', 'and', ',', 'to', 'a', 'large', 'extent', ',', 'that', 'remains', 'true', '.']\n",
            "Tokens: [151, 616, 655, 15380, 3365, 653, 15, 1259, 16, 1259, 17, 13, 99, 5, 216, 981, 10, 638, 41, 83, 6873, 19, 158, 69, 917, 4, 6920, 7455, 8, 13168, 109, 319, 5297, 10, 3365, 411, 5, 69, 744, 276, 33350, 1112, 3, 10, 5, 6, 7, 981, 10138, 5, 19, 1207, 3116, 3]\n",
            "\n",
            "Label: 2\n",
            "Text: Comcast Announces Broad Microsoft TV Software Deployment Comcast Cable this month will turn up the first US commercial deployment of Microsoft TV Foundation Edition, a digital cable software platform that includes an interactive program guide and supports dual-tuner digital video recording (DVR) services.\n",
            "Split: ['comcast', 'announces', 'broad', 'microsoft', 'tv', 'software', 'deployment', 'comcast', 'cable', 'this', 'month', 'will', 'turn', 'up', 'the', 'first', 'us', 'commercial', 'deployment', 'of', 'microsoft', 'tv', 'foundation', 'edition', ',', 'a', 'digital', 'cable', 'software', 'platform', 'that', 'includes', 'an', 'interactive', 'program', 'guide', 'and', 'supports', 'dual-tuner', 'digital', 'video', 'recording', '(', 'dvr', ')', 'services', '.']\n",
            "Tokens: [3885, 1738, 3572, 79, 607, 109, 3825, 3885, 1468, 54, 227, 35, 941, 45, 4, 49, 38, 1312, 3825, 8, 79, 607, 2782, 2022, 5, 7, 448, 1468, 109, 1696, 19, 2139, 32, 5427, 472, 3527, 10, 4304, 67389, 448, 400, 2462, 15, 25848, 16, 256, 3]\n",
            "\n",
            "Number of classes: 4\n",
            "Number of samples: 120000\n"
          ],
          "name": "stdout"
        }
      ]
    },
    {
      "cell_type": "code",
      "metadata": {
        "id": "cFw4dSbJWODO"
      },
      "source": [
        "def collate_batch(batch):\n",
        "    label_list, text_list, offsets = [], [], [0]\n",
        "    for (_label, _text) in batch:\n",
        "         label_list.append(label_pipeline(_label))\n",
        "         processed_text = torch.tensor(text_pipeline(_text), dtype=torch.int64)\n",
        "         text_list.append(processed_text)\n",
        "         offsets.append(processed_text.size(0))\n",
        "    label_list = torch.tensor(label_list, dtype=torch.int64)\n",
        "    offsets = torch.tensor(offsets[:-1]).cumsum(dim=0)\n",
        "    text_list = torch.cat(text_list)\n",
        "    return label_list.to(device), text_list.to(device), offsets.to(device)    \n",
        "\n",
        "train_iter = the_dataset(split='train')\n",
        "dataloader = DataLoader(train_iter, batch_size=8, shuffle=False, collate_fn=collate_batch)"
      ],
      "execution_count": 26,
      "outputs": []
    },
    {
      "cell_type": "code",
      "metadata": {
        "id": "ivnGdjNMWOFz"
      },
      "source": [
        "class TextClassificationModel(nn.Module):\n",
        "\n",
        "    def __init__(self, vocab_size, embed_dim, num_class):\n",
        "        super(TextClassificationModel, self).__init__()\n",
        "        self.embedding = nn.EmbeddingBag(vocab_size, embed_dim, sparse=True)\n",
        "        self.fc = nn.Linear(embed_dim, num_class)\n",
        "        self.activation = nn.ReLU()\n",
        "        self.init_weights()\n",
        "\n",
        "    def init_weights(self):\n",
        "        initrange = 0.5\n",
        "        self.embedding.weight.data.uniform_(-initrange, initrange)\n",
        "        self.fc.weight.data.uniform_(-initrange, initrange)\n",
        "        self.fc.bias.data.zero_()\n",
        "\n",
        "    def forward(self, text, offsets):\n",
        "        embedded = self.embedding(text, offsets)\n",
        "        x = self.fc(embedded)\n",
        "        output = self.activation(x)\n",
        "        return output"
      ],
      "execution_count": 27,
      "outputs": []
    },
    {
      "cell_type": "code",
      "metadata": {
        "id": "N7Ms8i1-WOIJ"
      },
      "source": [
        "train_iter = the_dataset(split='train')\n",
        "num_class = len(set([label for (label, text) in train_iter]))\n",
        "vocab_size = len(vocab)\n",
        "emsize = 64\n",
        "model = TextClassificationModel(vocab_size, emsize, num_class).to(device)"
      ],
      "execution_count": 28,
      "outputs": []
    },
    {
      "cell_type": "code",
      "metadata": {
        "id": "aR7TagKqWOK1"
      },
      "source": [
        "def train(dataloader):\n",
        "    model.train()\n",
        "    total_acc, total_count = 0, 0\n",
        "    log_interval = 500\n",
        "    start_time = time.time()\n",
        "\n",
        "    for idx, (label, text, offsets) in enumerate(dataloader):\n",
        "        optimizer.zero_grad()\n",
        "        predited_label = model(text, offsets)\n",
        "        loss = criterion(predited_label, label)\n",
        "        loss.backward()\n",
        "        torch.nn.utils.clip_grad_norm_(model.parameters(), 0.1)\n",
        "        optimizer.step()\n",
        "        total_acc += (predited_label.argmax(1) == label).sum().item()\n",
        "        total_count += label.size(0)\n",
        "        if idx % log_interval == 0 and idx > 0:\n",
        "            elapsed = time.time() - start_time\n",
        "            print('| epoch {:3d} | {:5d}/{:5d} batches '\n",
        "                  '| accuracy {:8.3f}'.format(epoch, idx, len(dataloader),\n",
        "                                              total_acc/total_count))\n",
        "            total_acc, total_count = 0, 0\n",
        "            start_time = time.time()\n",
        "\n",
        "def evaluate(dataloader):\n",
        "    model.eval()\n",
        "    total_acc, total_count = 0, 0\n",
        "\n",
        "    with torch.no_grad():\n",
        "        for idx, (label, text, offsets) in enumerate(dataloader):\n",
        "            predited_label = model(text, offsets)\n",
        "            loss = criterion(predited_label, label)\n",
        "            total_acc += (predited_label.argmax(1) == label).sum().item()\n",
        "            total_count += label.size(0)\n",
        "    return total_acc/total_count"
      ],
      "execution_count": 29,
      "outputs": []
    },
    {
      "cell_type": "code",
      "metadata": {
        "id": "2IkN1G6mWONN",
        "colab": {
          "base_uri": "https://localhost:8080/"
        },
        "outputId": "d59b90cb-3807-4099-c7f4-21165c3153c1"
      },
      "source": [
        "# Hyperparameters\n",
        "EPOCHS = 10 # epoch\n",
        "LR = 5  # learning rate\n",
        "BATCH_SIZE = 64 # batch size for training\n",
        "  \n",
        "criterion = torch.nn.CrossEntropyLoss()\n",
        "optimizer = torch.optim.SGD(model.parameters(), lr=LR)\n",
        "scheduler = torch.optim.lr_scheduler.StepLR(optimizer, 1.0, gamma=0.1)\n",
        "total_accu = None\n",
        "train_iter, test_iter = the_dataset()\n",
        "train_dataset = to_map_style_dataset(train_iter)\n",
        "test_dataset = to_map_style_dataset(test_iter)\n",
        "num_train = int(len(train_dataset) * 0.95)\n",
        "split_train_, split_valid_ = \\\n",
        "    random_split(train_dataset, [num_train, len(train_dataset) - num_train])\n",
        "\n",
        "train_dataloader = DataLoader(split_train_, batch_size=BATCH_SIZE,\n",
        "                              shuffle=True, collate_fn=collate_batch)\n",
        "valid_dataloader = DataLoader(split_valid_, batch_size=BATCH_SIZE,\n",
        "                              shuffle=True, collate_fn=collate_batch)\n",
        "test_dataloader = DataLoader(test_dataset, batch_size=BATCH_SIZE,\n",
        "                             shuffle=True, collate_fn=collate_batch)\n",
        "\n",
        "for epoch in range(1, EPOCHS + 1):\n",
        "    epoch_start_time = time.time()\n",
        "    train(train_dataloader)\n",
        "    accu_val = evaluate(valid_dataloader)\n",
        "    if total_accu is not None and total_accu > accu_val:\n",
        "      scheduler.step()\n",
        "    else:\n",
        "       total_accu = accu_val\n",
        "    print('-' * 59)\n",
        "    print('| end of epoch {:3d} | time: {:5.2f}s | '\n",
        "          'valid accuracy {:8.3f} '.format(epoch,\n",
        "                                           time.time() - epoch_start_time,\n",
        "                                           accu_val))\n",
        "    print('-' * 59)"
      ],
      "execution_count": 30,
      "outputs": [
        {
          "output_type": "stream",
          "text": [
            "test.csv: 1.86MB [00:00, 35.3MB/s]                  \n"
          ],
          "name": "stderr"
        },
        {
          "output_type": "stream",
          "text": [
            "| epoch   1 |   500/ 1782 batches | accuracy    0.505\n",
            "| epoch   1 |  1000/ 1782 batches | accuracy    0.645\n",
            "| epoch   1 |  1500/ 1782 batches | accuracy    0.754\n",
            "-----------------------------------------------------------\n",
            "| end of epoch   1 | time: 14.69s | valid accuracy    0.825 \n",
            "-----------------------------------------------------------\n",
            "| epoch   2 |   500/ 1782 batches | accuracy    0.851\n",
            "| epoch   2 |  1000/ 1782 batches | accuracy    0.865\n",
            "| epoch   2 |  1500/ 1782 batches | accuracy    0.893\n",
            "-----------------------------------------------------------\n",
            "| end of epoch   2 | time: 14.41s | valid accuracy    0.901 \n",
            "-----------------------------------------------------------\n",
            "| epoch   3 |   500/ 1782 batches | accuracy    0.911\n",
            "| epoch   3 |  1000/ 1782 batches | accuracy    0.910\n",
            "| epoch   3 |  1500/ 1782 batches | accuracy    0.911\n",
            "-----------------------------------------------------------\n",
            "| end of epoch   3 | time: 14.57s | valid accuracy    0.904 \n",
            "-----------------------------------------------------------\n",
            "| epoch   4 |   500/ 1782 batches | accuracy    0.922\n",
            "| epoch   4 |  1000/ 1782 batches | accuracy    0.921\n",
            "| epoch   4 |  1500/ 1782 batches | accuracy    0.921\n",
            "-----------------------------------------------------------\n",
            "| end of epoch   4 | time: 14.32s | valid accuracy    0.901 \n",
            "-----------------------------------------------------------\n",
            "| epoch   5 |   500/ 1782 batches | accuracy    0.933\n",
            "| epoch   5 |  1000/ 1782 batches | accuracy    0.934\n",
            "| epoch   5 |  1500/ 1782 batches | accuracy    0.935\n",
            "-----------------------------------------------------------\n",
            "| end of epoch   5 | time: 14.44s | valid accuracy    0.910 \n",
            "-----------------------------------------------------------\n",
            "| epoch   6 |   500/ 1782 batches | accuracy    0.934\n",
            "| epoch   6 |  1000/ 1782 batches | accuracy    0.935\n",
            "| epoch   6 |  1500/ 1782 batches | accuracy    0.937\n",
            "-----------------------------------------------------------\n",
            "| end of epoch   6 | time: 14.46s | valid accuracy    0.911 \n",
            "-----------------------------------------------------------\n",
            "| epoch   7 |   500/ 1782 batches | accuracy    0.936\n",
            "| epoch   7 |  1000/ 1782 batches | accuracy    0.937\n",
            "| epoch   7 |  1500/ 1782 batches | accuracy    0.938\n",
            "-----------------------------------------------------------\n",
            "| end of epoch   7 | time: 14.55s | valid accuracy    0.912 \n",
            "-----------------------------------------------------------\n",
            "| epoch   8 |   500/ 1782 batches | accuracy    0.937\n",
            "| epoch   8 |  1000/ 1782 batches | accuracy    0.938\n",
            "| epoch   8 |  1500/ 1782 batches | accuracy    0.938\n",
            "-----------------------------------------------------------\n",
            "| end of epoch   8 | time: 14.49s | valid accuracy    0.912 \n",
            "-----------------------------------------------------------\n",
            "| epoch   9 |   500/ 1782 batches | accuracy    0.939\n",
            "| epoch   9 |  1000/ 1782 batches | accuracy    0.940\n",
            "| epoch   9 |  1500/ 1782 batches | accuracy    0.939\n",
            "-----------------------------------------------------------\n",
            "| end of epoch   9 | time: 14.63s | valid accuracy    0.913 \n",
            "-----------------------------------------------------------\n",
            "| epoch  10 |   500/ 1782 batches | accuracy    0.940\n",
            "| epoch  10 |  1000/ 1782 batches | accuracy    0.938\n",
            "| epoch  10 |  1500/ 1782 batches | accuracy    0.939\n",
            "-----------------------------------------------------------\n",
            "| end of epoch  10 | time: 14.52s | valid accuracy    0.913 \n",
            "-----------------------------------------------------------\n"
          ],
          "name": "stdout"
        }
      ]
    },
    {
      "cell_type": "code",
      "metadata": {
        "id": "i4wj_dhQWOPL",
        "colab": {
          "base_uri": "https://localhost:8080/"
        },
        "outputId": "cc988797-d76a-4d24-a648-65eea1b20b9b"
      },
      "source": [
        "print('Checking the results of test dataset.')\n",
        "accu_test = evaluate(test_dataloader)\n",
        "print('test accuracy {:8.3f}'.format(accu_test))"
      ],
      "execution_count": 31,
      "outputs": [
        {
          "output_type": "stream",
          "text": [
            "Checking the results of test dataset.\n",
            "test accuracy    0.907\n"
          ],
          "name": "stdout"
        }
      ]
    },
    {
      "cell_type": "code",
      "metadata": {
        "id": "PZiqQEhbWjti",
        "colab": {
          "base_uri": "https://localhost:8080/"
        },
        "outputId": "17727272-cb54-4d0b-94f0-c60dc354105c"
      },
      "source": [
        "ag_news_label = {1: \"World\",\n",
        "                 2: \"Sports\",\n",
        "                 3: \"Business\",\n",
        "                 4: \"Sci/Tec\"}\n",
        "\n",
        "def predict(text, text_pipeline):\n",
        "    with torch.no_grad():\n",
        "        text = torch.tensor(text_pipeline(text))\n",
        "        output = model(text, torch.tensor([0]))\n",
        "        return output.argmax(1).item() + 1\n",
        "\n",
        "ex_text_str = \"MEMPHIS, Tenn. – Four days ago, Jon Rahm was \\\n",
        "    enduring the season’s worst weather conditions on Sunday at The \\\n",
        "    Open on his way to a closing 75 at Royal Portrush, which \\\n",
        "    considering the wind and the rain was a respectable showing. \\\n",
        "    Thursday’s first round at the WGC-FedEx St. Jude Invitational \\\n",
        "    was another story. With temperatures in the mid-80s and hardly any \\\n",
        "    wind, the Spaniard was 13 strokes better in a flawless round. \\\n",
        "    Thanks to his best putting performance on the PGA Tour, Rahm \\\n",
        "    finished with an 8-under 62 for a three-stroke lead, which \\\n",
        "    was even more impressive considering he’d never played the \\\n",
        "    front nine at TPC Southwind.\"\n",
        "\n",
        "model = model.to(\"cpu\")\n",
        "\n",
        "print(\"This is a %s news\" %ag_news_label[predict(ex_text_str, text_pipeline)])"
      ],
      "execution_count": 32,
      "outputs": [
        {
          "output_type": "stream",
          "text": [
            "This is a Sports news\n"
          ],
          "name": "stdout"
        }
      ]
    },
    {
      "cell_type": "code",
      "metadata": {
        "id": "T7DN6NobWjwJ"
      },
      "source": [
        ""
      ],
      "execution_count": null,
      "outputs": []
    }
  ]
}