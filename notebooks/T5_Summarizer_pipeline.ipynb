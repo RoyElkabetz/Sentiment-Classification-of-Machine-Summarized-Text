{
  "nbformat": 4,
  "nbformat_minor": 0,
  "metadata": {
    "colab": {
      "name": "T5_Summarizer_pipeline.ipynb",
      "provenance": [],
      "collapsed_sections": [],
      "authorship_tag": "ABX9TyPYZ+ywrGirJ0jNHk8Q2gyi",
      "include_colab_link": true
    },
    "kernelspec": {
      "name": "python3",
      "display_name": "Python 3"
    },
    "language_info": {
      "name": "python"
    },
    "widgets": {
      "application/vnd.jupyter.widget-state+json": {
        "e0e2b675d7d4476da3b8926db07d6e3c": {
          "model_module": "@jupyter-widgets/controls",
          "model_name": "HBoxModel",
          "state": {
            "_view_name": "HBoxView",
            "_dom_classes": [],
            "_model_name": "HBoxModel",
            "_view_module": "@jupyter-widgets/controls",
            "_model_module_version": "1.5.0",
            "_view_count": null,
            "_view_module_version": "1.5.0",
            "box_style": "",
            "layout": "IPY_MODEL_db6f246b38a84ab782a5146671442796",
            "_model_module": "@jupyter-widgets/controls",
            "children": [
              "IPY_MODEL_67c5282bb08f4d86a33b407b78ad1d46",
              "IPY_MODEL_bdaef959099b45a7a70837294956b3c6"
            ]
          }
        },
        "db6f246b38a84ab782a5146671442796": {
          "model_module": "@jupyter-widgets/base",
          "model_name": "LayoutModel",
          "state": {
            "_view_name": "LayoutView",
            "grid_template_rows": null,
            "right": null,
            "justify_content": null,
            "_view_module": "@jupyter-widgets/base",
            "overflow": null,
            "_model_module_version": "1.2.0",
            "_view_count": null,
            "flex_flow": null,
            "width": null,
            "min_width": null,
            "border": null,
            "align_items": null,
            "bottom": null,
            "_model_module": "@jupyter-widgets/base",
            "top": null,
            "grid_column": null,
            "overflow_y": null,
            "overflow_x": null,
            "grid_auto_flow": null,
            "grid_area": null,
            "grid_template_columns": null,
            "flex": null,
            "_model_name": "LayoutModel",
            "justify_items": null,
            "grid_row": null,
            "max_height": null,
            "align_content": null,
            "visibility": null,
            "align_self": null,
            "height": null,
            "min_height": null,
            "padding": null,
            "grid_auto_rows": null,
            "grid_gap": null,
            "max_width": null,
            "order": null,
            "_view_module_version": "1.2.0",
            "grid_template_areas": null,
            "object_position": null,
            "object_fit": null,
            "grid_auto_columns": null,
            "margin": null,
            "display": null,
            "left": null
          }
        },
        "67c5282bb08f4d86a33b407b78ad1d46": {
          "model_module": "@jupyter-widgets/controls",
          "model_name": "FloatProgressModel",
          "state": {
            "_view_name": "ProgressView",
            "style": "IPY_MODEL_d323e335651440d7a609d574bb9f9970",
            "_dom_classes": [],
            "description": "Downloading: 100%",
            "_model_name": "FloatProgressModel",
            "bar_style": "success",
            "max": 791656,
            "_view_module": "@jupyter-widgets/controls",
            "_model_module_version": "1.5.0",
            "value": 791656,
            "_view_count": null,
            "_view_module_version": "1.5.0",
            "orientation": "horizontal",
            "min": 0,
            "description_tooltip": null,
            "_model_module": "@jupyter-widgets/controls",
            "layout": "IPY_MODEL_c82e2939596c4104b1a0d62fd8152d2a"
          }
        },
        "bdaef959099b45a7a70837294956b3c6": {
          "model_module": "@jupyter-widgets/controls",
          "model_name": "HTMLModel",
          "state": {
            "_view_name": "HTMLView",
            "style": "IPY_MODEL_56909f0921b542699562ac057a24546f",
            "_dom_classes": [],
            "description": "",
            "_model_name": "HTMLModel",
            "placeholder": "​",
            "_view_module": "@jupyter-widgets/controls",
            "_model_module_version": "1.5.0",
            "value": " 792k/792k [00:00&lt;00:00, 1.16MB/s]",
            "_view_count": null,
            "_view_module_version": "1.5.0",
            "description_tooltip": null,
            "_model_module": "@jupyter-widgets/controls",
            "layout": "IPY_MODEL_10c7676a30fb47da89b755a4c147fbe3"
          }
        },
        "d323e335651440d7a609d574bb9f9970": {
          "model_module": "@jupyter-widgets/controls",
          "model_name": "ProgressStyleModel",
          "state": {
            "_view_name": "StyleView",
            "_model_name": "ProgressStyleModel",
            "description_width": "initial",
            "_view_module": "@jupyter-widgets/base",
            "_model_module_version": "1.5.0",
            "_view_count": null,
            "_view_module_version": "1.2.0",
            "bar_color": null,
            "_model_module": "@jupyter-widgets/controls"
          }
        },
        "c82e2939596c4104b1a0d62fd8152d2a": {
          "model_module": "@jupyter-widgets/base",
          "model_name": "LayoutModel",
          "state": {
            "_view_name": "LayoutView",
            "grid_template_rows": null,
            "right": null,
            "justify_content": null,
            "_view_module": "@jupyter-widgets/base",
            "overflow": null,
            "_model_module_version": "1.2.0",
            "_view_count": null,
            "flex_flow": null,
            "width": null,
            "min_width": null,
            "border": null,
            "align_items": null,
            "bottom": null,
            "_model_module": "@jupyter-widgets/base",
            "top": null,
            "grid_column": null,
            "overflow_y": null,
            "overflow_x": null,
            "grid_auto_flow": null,
            "grid_area": null,
            "grid_template_columns": null,
            "flex": null,
            "_model_name": "LayoutModel",
            "justify_items": null,
            "grid_row": null,
            "max_height": null,
            "align_content": null,
            "visibility": null,
            "align_self": null,
            "height": null,
            "min_height": null,
            "padding": null,
            "grid_auto_rows": null,
            "grid_gap": null,
            "max_width": null,
            "order": null,
            "_view_module_version": "1.2.0",
            "grid_template_areas": null,
            "object_position": null,
            "object_fit": null,
            "grid_auto_columns": null,
            "margin": null,
            "display": null,
            "left": null
          }
        },
        "56909f0921b542699562ac057a24546f": {
          "model_module": "@jupyter-widgets/controls",
          "model_name": "DescriptionStyleModel",
          "state": {
            "_view_name": "StyleView",
            "_model_name": "DescriptionStyleModel",
            "description_width": "",
            "_view_module": "@jupyter-widgets/base",
            "_model_module_version": "1.5.0",
            "_view_count": null,
            "_view_module_version": "1.2.0",
            "_model_module": "@jupyter-widgets/controls"
          }
        },
        "10c7676a30fb47da89b755a4c147fbe3": {
          "model_module": "@jupyter-widgets/base",
          "model_name": "LayoutModel",
          "state": {
            "_view_name": "LayoutView",
            "grid_template_rows": null,
            "right": null,
            "justify_content": null,
            "_view_module": "@jupyter-widgets/base",
            "overflow": null,
            "_model_module_version": "1.2.0",
            "_view_count": null,
            "flex_flow": null,
            "width": null,
            "min_width": null,
            "border": null,
            "align_items": null,
            "bottom": null,
            "_model_module": "@jupyter-widgets/base",
            "top": null,
            "grid_column": null,
            "overflow_y": null,
            "overflow_x": null,
            "grid_auto_flow": null,
            "grid_area": null,
            "grid_template_columns": null,
            "flex": null,
            "_model_name": "LayoutModel",
            "justify_items": null,
            "grid_row": null,
            "max_height": null,
            "align_content": null,
            "visibility": null,
            "align_self": null,
            "height": null,
            "min_height": null,
            "padding": null,
            "grid_auto_rows": null,
            "grid_gap": null,
            "max_width": null,
            "order": null,
            "_view_module_version": "1.2.0",
            "grid_template_areas": null,
            "object_position": null,
            "object_fit": null,
            "grid_auto_columns": null,
            "margin": null,
            "display": null,
            "left": null
          }
        },
        "9d3e7b5c4fe6455fb44fa7295b831e41": {
          "model_module": "@jupyter-widgets/controls",
          "model_name": "HBoxModel",
          "state": {
            "_view_name": "HBoxView",
            "_dom_classes": [],
            "_model_name": "HBoxModel",
            "_view_module": "@jupyter-widgets/controls",
            "_model_module_version": "1.5.0",
            "_view_count": null,
            "_view_module_version": "1.5.0",
            "box_style": "",
            "layout": "IPY_MODEL_cf36a56ca4d54dc9a357561a35c3054e",
            "_model_module": "@jupyter-widgets/controls",
            "children": [
              "IPY_MODEL_fb95b9909d294fd0b72fdc039d77dcf6",
              "IPY_MODEL_abc79219d28a47ddb46cec9116382949"
            ]
          }
        },
        "cf36a56ca4d54dc9a357561a35c3054e": {
          "model_module": "@jupyter-widgets/base",
          "model_name": "LayoutModel",
          "state": {
            "_view_name": "LayoutView",
            "grid_template_rows": null,
            "right": null,
            "justify_content": null,
            "_view_module": "@jupyter-widgets/base",
            "overflow": null,
            "_model_module_version": "1.2.0",
            "_view_count": null,
            "flex_flow": null,
            "width": null,
            "min_width": null,
            "border": null,
            "align_items": null,
            "bottom": null,
            "_model_module": "@jupyter-widgets/base",
            "top": null,
            "grid_column": null,
            "overflow_y": null,
            "overflow_x": null,
            "grid_auto_flow": null,
            "grid_area": null,
            "grid_template_columns": null,
            "flex": null,
            "_model_name": "LayoutModel",
            "justify_items": null,
            "grid_row": null,
            "max_height": null,
            "align_content": null,
            "visibility": null,
            "align_self": null,
            "height": null,
            "min_height": null,
            "padding": null,
            "grid_auto_rows": null,
            "grid_gap": null,
            "max_width": null,
            "order": null,
            "_view_module_version": "1.2.0",
            "grid_template_areas": null,
            "object_position": null,
            "object_fit": null,
            "grid_auto_columns": null,
            "margin": null,
            "display": null,
            "left": null
          }
        },
        "fb95b9909d294fd0b72fdc039d77dcf6": {
          "model_module": "@jupyter-widgets/controls",
          "model_name": "FloatProgressModel",
          "state": {
            "_view_name": "ProgressView",
            "style": "IPY_MODEL_2bef6f474dfb499ebebfe9e5598c2b48",
            "_dom_classes": [],
            "description": "Downloading: 100%",
            "_model_name": "FloatProgressModel",
            "bar_style": "success",
            "max": 1389353,
            "_view_module": "@jupyter-widgets/controls",
            "_model_module_version": "1.5.0",
            "value": 1389353,
            "_view_count": null,
            "_view_module_version": "1.5.0",
            "orientation": "horizontal",
            "min": 0,
            "description_tooltip": null,
            "_model_module": "@jupyter-widgets/controls",
            "layout": "IPY_MODEL_777a5cd7bc094a77bf01ce53bdcdda10"
          }
        },
        "abc79219d28a47ddb46cec9116382949": {
          "model_module": "@jupyter-widgets/controls",
          "model_name": "HTMLModel",
          "state": {
            "_view_name": "HTMLView",
            "style": "IPY_MODEL_0531cce93891486cab8e1d60f40230ae",
            "_dom_classes": [],
            "description": "",
            "_model_name": "HTMLModel",
            "placeholder": "​",
            "_view_module": "@jupyter-widgets/controls",
            "_model_module_version": "1.5.0",
            "value": " 1.39M/1.39M [00:01&lt;00:00, 702kB/s]",
            "_view_count": null,
            "_view_module_version": "1.5.0",
            "description_tooltip": null,
            "_model_module": "@jupyter-widgets/controls",
            "layout": "IPY_MODEL_7721af509df443468ec5efef14e7e6f5"
          }
        },
        "2bef6f474dfb499ebebfe9e5598c2b48": {
          "model_module": "@jupyter-widgets/controls",
          "model_name": "ProgressStyleModel",
          "state": {
            "_view_name": "StyleView",
            "_model_name": "ProgressStyleModel",
            "description_width": "initial",
            "_view_module": "@jupyter-widgets/base",
            "_model_module_version": "1.5.0",
            "_view_count": null,
            "_view_module_version": "1.2.0",
            "bar_color": null,
            "_model_module": "@jupyter-widgets/controls"
          }
        },
        "777a5cd7bc094a77bf01ce53bdcdda10": {
          "model_module": "@jupyter-widgets/base",
          "model_name": "LayoutModel",
          "state": {
            "_view_name": "LayoutView",
            "grid_template_rows": null,
            "right": null,
            "justify_content": null,
            "_view_module": "@jupyter-widgets/base",
            "overflow": null,
            "_model_module_version": "1.2.0",
            "_view_count": null,
            "flex_flow": null,
            "width": null,
            "min_width": null,
            "border": null,
            "align_items": null,
            "bottom": null,
            "_model_module": "@jupyter-widgets/base",
            "top": null,
            "grid_column": null,
            "overflow_y": null,
            "overflow_x": null,
            "grid_auto_flow": null,
            "grid_area": null,
            "grid_template_columns": null,
            "flex": null,
            "_model_name": "LayoutModel",
            "justify_items": null,
            "grid_row": null,
            "max_height": null,
            "align_content": null,
            "visibility": null,
            "align_self": null,
            "height": null,
            "min_height": null,
            "padding": null,
            "grid_auto_rows": null,
            "grid_gap": null,
            "max_width": null,
            "order": null,
            "_view_module_version": "1.2.0",
            "grid_template_areas": null,
            "object_position": null,
            "object_fit": null,
            "grid_auto_columns": null,
            "margin": null,
            "display": null,
            "left": null
          }
        },
        "0531cce93891486cab8e1d60f40230ae": {
          "model_module": "@jupyter-widgets/controls",
          "model_name": "DescriptionStyleModel",
          "state": {
            "_view_name": "StyleView",
            "_model_name": "DescriptionStyleModel",
            "description_width": "",
            "_view_module": "@jupyter-widgets/base",
            "_model_module_version": "1.5.0",
            "_view_count": null,
            "_view_module_version": "1.2.0",
            "_model_module": "@jupyter-widgets/controls"
          }
        },
        "7721af509df443468ec5efef14e7e6f5": {
          "model_module": "@jupyter-widgets/base",
          "model_name": "LayoutModel",
          "state": {
            "_view_name": "LayoutView",
            "grid_template_rows": null,
            "right": null,
            "justify_content": null,
            "_view_module": "@jupyter-widgets/base",
            "overflow": null,
            "_model_module_version": "1.2.0",
            "_view_count": null,
            "flex_flow": null,
            "width": null,
            "min_width": null,
            "border": null,
            "align_items": null,
            "bottom": null,
            "_model_module": "@jupyter-widgets/base",
            "top": null,
            "grid_column": null,
            "overflow_y": null,
            "overflow_x": null,
            "grid_auto_flow": null,
            "grid_area": null,
            "grid_template_columns": null,
            "flex": null,
            "_model_name": "LayoutModel",
            "justify_items": null,
            "grid_row": null,
            "max_height": null,
            "align_content": null,
            "visibility": null,
            "align_self": null,
            "height": null,
            "min_height": null,
            "padding": null,
            "grid_auto_rows": null,
            "grid_gap": null,
            "max_width": null,
            "order": null,
            "_view_module_version": "1.2.0",
            "grid_template_areas": null,
            "object_position": null,
            "object_fit": null,
            "grid_auto_columns": null,
            "margin": null,
            "display": null,
            "left": null
          }
        },
        "595c9211c0a54833ac7e9202ca0c9b72": {
          "model_module": "@jupyter-widgets/controls",
          "model_name": "HBoxModel",
          "state": {
            "_view_name": "HBoxView",
            "_dom_classes": [],
            "_model_name": "HBoxModel",
            "_view_module": "@jupyter-widgets/controls",
            "_model_module_version": "1.5.0",
            "_view_count": null,
            "_view_module_version": "1.5.0",
            "box_style": "",
            "layout": "IPY_MODEL_9ace2ef8c9fe4c51a0cb52297c25dcb4",
            "_model_module": "@jupyter-widgets/controls",
            "children": [
              "IPY_MODEL_f78092cd8a8d4027a7578fc5f59c3b3a",
              "IPY_MODEL_881f95a9c44d4af2908ae058154e5656"
            ]
          }
        },
        "9ace2ef8c9fe4c51a0cb52297c25dcb4": {
          "model_module": "@jupyter-widgets/base",
          "model_name": "LayoutModel",
          "state": {
            "_view_name": "LayoutView",
            "grid_template_rows": null,
            "right": null,
            "justify_content": null,
            "_view_module": "@jupyter-widgets/base",
            "overflow": null,
            "_model_module_version": "1.2.0",
            "_view_count": null,
            "flex_flow": null,
            "width": null,
            "min_width": null,
            "border": null,
            "align_items": null,
            "bottom": null,
            "_model_module": "@jupyter-widgets/base",
            "top": null,
            "grid_column": null,
            "overflow_y": null,
            "overflow_x": null,
            "grid_auto_flow": null,
            "grid_area": null,
            "grid_template_columns": null,
            "flex": null,
            "_model_name": "LayoutModel",
            "justify_items": null,
            "grid_row": null,
            "max_height": null,
            "align_content": null,
            "visibility": null,
            "align_self": null,
            "height": null,
            "min_height": null,
            "padding": null,
            "grid_auto_rows": null,
            "grid_gap": null,
            "max_width": null,
            "order": null,
            "_view_module_version": "1.2.0",
            "grid_template_areas": null,
            "object_position": null,
            "object_fit": null,
            "grid_auto_columns": null,
            "margin": null,
            "display": null,
            "left": null
          }
        },
        "f78092cd8a8d4027a7578fc5f59c3b3a": {
          "model_module": "@jupyter-widgets/controls",
          "model_name": "FloatProgressModel",
          "state": {
            "_view_name": "ProgressView",
            "style": "IPY_MODEL_2f848ae34ce94b57b9f526f4748cb857",
            "_dom_classes": [],
            "description": "Downloading: 100%",
            "_model_name": "FloatProgressModel",
            "bar_style": "success",
            "max": 1199,
            "_view_module": "@jupyter-widgets/controls",
            "_model_module_version": "1.5.0",
            "value": 1199,
            "_view_count": null,
            "_view_module_version": "1.5.0",
            "orientation": "horizontal",
            "min": 0,
            "description_tooltip": null,
            "_model_module": "@jupyter-widgets/controls",
            "layout": "IPY_MODEL_326d14b2ab224c75b82f65ec4dc6da85"
          }
        },
        "881f95a9c44d4af2908ae058154e5656": {
          "model_module": "@jupyter-widgets/controls",
          "model_name": "HTMLModel",
          "state": {
            "_view_name": "HTMLView",
            "style": "IPY_MODEL_edb58d89c90c4180a05ffe7b1cf37e2d",
            "_dom_classes": [],
            "description": "",
            "_model_name": "HTMLModel",
            "placeholder": "​",
            "_view_module": "@jupyter-widgets/controls",
            "_model_module_version": "1.5.0",
            "value": " 1.20k/1.20k [00:00&lt;00:00, 11.1kB/s]",
            "_view_count": null,
            "_view_module_version": "1.5.0",
            "description_tooltip": null,
            "_model_module": "@jupyter-widgets/controls",
            "layout": "IPY_MODEL_44486c94397948fba830b4b7bf5d6fdb"
          }
        },
        "2f848ae34ce94b57b9f526f4748cb857": {
          "model_module": "@jupyter-widgets/controls",
          "model_name": "ProgressStyleModel",
          "state": {
            "_view_name": "StyleView",
            "_model_name": "ProgressStyleModel",
            "description_width": "initial",
            "_view_module": "@jupyter-widgets/base",
            "_model_module_version": "1.5.0",
            "_view_count": null,
            "_view_module_version": "1.2.0",
            "bar_color": null,
            "_model_module": "@jupyter-widgets/controls"
          }
        },
        "326d14b2ab224c75b82f65ec4dc6da85": {
          "model_module": "@jupyter-widgets/base",
          "model_name": "LayoutModel",
          "state": {
            "_view_name": "LayoutView",
            "grid_template_rows": null,
            "right": null,
            "justify_content": null,
            "_view_module": "@jupyter-widgets/base",
            "overflow": null,
            "_model_module_version": "1.2.0",
            "_view_count": null,
            "flex_flow": null,
            "width": null,
            "min_width": null,
            "border": null,
            "align_items": null,
            "bottom": null,
            "_model_module": "@jupyter-widgets/base",
            "top": null,
            "grid_column": null,
            "overflow_y": null,
            "overflow_x": null,
            "grid_auto_flow": null,
            "grid_area": null,
            "grid_template_columns": null,
            "flex": null,
            "_model_name": "LayoutModel",
            "justify_items": null,
            "grid_row": null,
            "max_height": null,
            "align_content": null,
            "visibility": null,
            "align_self": null,
            "height": null,
            "min_height": null,
            "padding": null,
            "grid_auto_rows": null,
            "grid_gap": null,
            "max_width": null,
            "order": null,
            "_view_module_version": "1.2.0",
            "grid_template_areas": null,
            "object_position": null,
            "object_fit": null,
            "grid_auto_columns": null,
            "margin": null,
            "display": null,
            "left": null
          }
        },
        "edb58d89c90c4180a05ffe7b1cf37e2d": {
          "model_module": "@jupyter-widgets/controls",
          "model_name": "DescriptionStyleModel",
          "state": {
            "_view_name": "StyleView",
            "_model_name": "DescriptionStyleModel",
            "description_width": "",
            "_view_module": "@jupyter-widgets/base",
            "_model_module_version": "1.5.0",
            "_view_count": null,
            "_view_module_version": "1.2.0",
            "_model_module": "@jupyter-widgets/controls"
          }
        },
        "44486c94397948fba830b4b7bf5d6fdb": {
          "model_module": "@jupyter-widgets/base",
          "model_name": "LayoutModel",
          "state": {
            "_view_name": "LayoutView",
            "grid_template_rows": null,
            "right": null,
            "justify_content": null,
            "_view_module": "@jupyter-widgets/base",
            "overflow": null,
            "_model_module_version": "1.2.0",
            "_view_count": null,
            "flex_flow": null,
            "width": null,
            "min_width": null,
            "border": null,
            "align_items": null,
            "bottom": null,
            "_model_module": "@jupyter-widgets/base",
            "top": null,
            "grid_column": null,
            "overflow_y": null,
            "overflow_x": null,
            "grid_auto_flow": null,
            "grid_area": null,
            "grid_template_columns": null,
            "flex": null,
            "_model_name": "LayoutModel",
            "justify_items": null,
            "grid_row": null,
            "max_height": null,
            "align_content": null,
            "visibility": null,
            "align_self": null,
            "height": null,
            "min_height": null,
            "padding": null,
            "grid_auto_rows": null,
            "grid_gap": null,
            "max_width": null,
            "order": null,
            "_view_module_version": "1.2.0",
            "grid_template_areas": null,
            "object_position": null,
            "object_fit": null,
            "grid_auto_columns": null,
            "margin": null,
            "display": null,
            "left": null
          }
        },
        "ff337f33bdba4cea995b5ca81e93fcbe": {
          "model_module": "@jupyter-widgets/controls",
          "model_name": "HBoxModel",
          "state": {
            "_view_name": "HBoxView",
            "_dom_classes": [],
            "_model_name": "HBoxModel",
            "_view_module": "@jupyter-widgets/controls",
            "_model_module_version": "1.5.0",
            "_view_count": null,
            "_view_module_version": "1.5.0",
            "box_style": "",
            "layout": "IPY_MODEL_cb7b7a2cdf8b4c6695a59cf0cf76bfe6",
            "_model_module": "@jupyter-widgets/controls",
            "children": [
              "IPY_MODEL_dbc016db50b64792ae32a946a790db5d",
              "IPY_MODEL_72852b302b78436a9248bd8d7e5eea5e"
            ]
          }
        },
        "cb7b7a2cdf8b4c6695a59cf0cf76bfe6": {
          "model_module": "@jupyter-widgets/base",
          "model_name": "LayoutModel",
          "state": {
            "_view_name": "LayoutView",
            "grid_template_rows": null,
            "right": null,
            "justify_content": null,
            "_view_module": "@jupyter-widgets/base",
            "overflow": null,
            "_model_module_version": "1.2.0",
            "_view_count": null,
            "flex_flow": null,
            "width": null,
            "min_width": null,
            "border": null,
            "align_items": null,
            "bottom": null,
            "_model_module": "@jupyter-widgets/base",
            "top": null,
            "grid_column": null,
            "overflow_y": null,
            "overflow_x": null,
            "grid_auto_flow": null,
            "grid_area": null,
            "grid_template_columns": null,
            "flex": null,
            "_model_name": "LayoutModel",
            "justify_items": null,
            "grid_row": null,
            "max_height": null,
            "align_content": null,
            "visibility": null,
            "align_self": null,
            "height": null,
            "min_height": null,
            "padding": null,
            "grid_auto_rows": null,
            "grid_gap": null,
            "max_width": null,
            "order": null,
            "_view_module_version": "1.2.0",
            "grid_template_areas": null,
            "object_position": null,
            "object_fit": null,
            "grid_auto_columns": null,
            "margin": null,
            "display": null,
            "left": null
          }
        },
        "dbc016db50b64792ae32a946a790db5d": {
          "model_module": "@jupyter-widgets/controls",
          "model_name": "FloatProgressModel",
          "state": {
            "_view_name": "ProgressView",
            "style": "IPY_MODEL_6e1d62be447945e0b387b0e042c47f3a",
            "_dom_classes": [],
            "description": "Downloading: 100%",
            "_model_name": "FloatProgressModel",
            "bar_style": "success",
            "max": 891691430,
            "_view_module": "@jupyter-widgets/controls",
            "_model_module_version": "1.5.0",
            "value": 891691430,
            "_view_count": null,
            "_view_module_version": "1.5.0",
            "orientation": "horizontal",
            "min": 0,
            "description_tooltip": null,
            "_model_module": "@jupyter-widgets/controls",
            "layout": "IPY_MODEL_e4eed01fcd2d4eae8dea866338f65d8e"
          }
        },
        "72852b302b78436a9248bd8d7e5eea5e": {
          "model_module": "@jupyter-widgets/controls",
          "model_name": "HTMLModel",
          "state": {
            "_view_name": "HTMLView",
            "style": "IPY_MODEL_8e058a05be34402fa56b724fa8844666",
            "_dom_classes": [],
            "description": "",
            "_model_name": "HTMLModel",
            "placeholder": "​",
            "_view_module": "@jupyter-widgets/controls",
            "_model_module_version": "1.5.0",
            "value": " 892M/892M [00:21&lt;00:00, 41.7MB/s]",
            "_view_count": null,
            "_view_module_version": "1.5.0",
            "description_tooltip": null,
            "_model_module": "@jupyter-widgets/controls",
            "layout": "IPY_MODEL_c0509f1fba9e47b88df94653c72b63ce"
          }
        },
        "6e1d62be447945e0b387b0e042c47f3a": {
          "model_module": "@jupyter-widgets/controls",
          "model_name": "ProgressStyleModel",
          "state": {
            "_view_name": "StyleView",
            "_model_name": "ProgressStyleModel",
            "description_width": "initial",
            "_view_module": "@jupyter-widgets/base",
            "_model_module_version": "1.5.0",
            "_view_count": null,
            "_view_module_version": "1.2.0",
            "bar_color": null,
            "_model_module": "@jupyter-widgets/controls"
          }
        },
        "e4eed01fcd2d4eae8dea866338f65d8e": {
          "model_module": "@jupyter-widgets/base",
          "model_name": "LayoutModel",
          "state": {
            "_view_name": "LayoutView",
            "grid_template_rows": null,
            "right": null,
            "justify_content": null,
            "_view_module": "@jupyter-widgets/base",
            "overflow": null,
            "_model_module_version": "1.2.0",
            "_view_count": null,
            "flex_flow": null,
            "width": null,
            "min_width": null,
            "border": null,
            "align_items": null,
            "bottom": null,
            "_model_module": "@jupyter-widgets/base",
            "top": null,
            "grid_column": null,
            "overflow_y": null,
            "overflow_x": null,
            "grid_auto_flow": null,
            "grid_area": null,
            "grid_template_columns": null,
            "flex": null,
            "_model_name": "LayoutModel",
            "justify_items": null,
            "grid_row": null,
            "max_height": null,
            "align_content": null,
            "visibility": null,
            "align_self": null,
            "height": null,
            "min_height": null,
            "padding": null,
            "grid_auto_rows": null,
            "grid_gap": null,
            "max_width": null,
            "order": null,
            "_view_module_version": "1.2.0",
            "grid_template_areas": null,
            "object_position": null,
            "object_fit": null,
            "grid_auto_columns": null,
            "margin": null,
            "display": null,
            "left": null
          }
        },
        "8e058a05be34402fa56b724fa8844666": {
          "model_module": "@jupyter-widgets/controls",
          "model_name": "DescriptionStyleModel",
          "state": {
            "_view_name": "StyleView",
            "_model_name": "DescriptionStyleModel",
            "description_width": "",
            "_view_module": "@jupyter-widgets/base",
            "_model_module_version": "1.5.0",
            "_view_count": null,
            "_view_module_version": "1.2.0",
            "_model_module": "@jupyter-widgets/controls"
          }
        },
        "c0509f1fba9e47b88df94653c72b63ce": {
          "model_module": "@jupyter-widgets/base",
          "model_name": "LayoutModel",
          "state": {
            "_view_name": "LayoutView",
            "grid_template_rows": null,
            "right": null,
            "justify_content": null,
            "_view_module": "@jupyter-widgets/base",
            "overflow": null,
            "_model_module_version": "1.2.0",
            "_view_count": null,
            "flex_flow": null,
            "width": null,
            "min_width": null,
            "border": null,
            "align_items": null,
            "bottom": null,
            "_model_module": "@jupyter-widgets/base",
            "top": null,
            "grid_column": null,
            "overflow_y": null,
            "overflow_x": null,
            "grid_auto_flow": null,
            "grid_area": null,
            "grid_template_columns": null,
            "flex": null,
            "_model_name": "LayoutModel",
            "justify_items": null,
            "grid_row": null,
            "max_height": null,
            "align_content": null,
            "visibility": null,
            "align_self": null,
            "height": null,
            "min_height": null,
            "padding": null,
            "grid_auto_rows": null,
            "grid_gap": null,
            "max_width": null,
            "order": null,
            "_view_module_version": "1.2.0",
            "grid_template_areas": null,
            "object_position": null,
            "object_fit": null,
            "grid_auto_columns": null,
            "margin": null,
            "display": null,
            "left": null
          }
        },
        "231600e7c3d74e0987e10f12b97c8cd9": {
          "model_module": "@jupyter-widgets/controls",
          "model_name": "HBoxModel",
          "state": {
            "_view_name": "HBoxView",
            "_dom_classes": [],
            "_model_name": "HBoxModel",
            "_view_module": "@jupyter-widgets/controls",
            "_model_module_version": "1.5.0",
            "_view_count": null,
            "_view_module_version": "1.5.0",
            "box_style": "",
            "layout": "IPY_MODEL_5a733448478d42f9abfca7d10266bec5",
            "_model_module": "@jupyter-widgets/controls",
            "children": [
              "IPY_MODEL_354b00c4b7104a78be37f92f9f6090d2",
              "IPY_MODEL_39324493b13a43a09b57a9c91458b963"
            ]
          }
        },
        "5a733448478d42f9abfca7d10266bec5": {
          "model_module": "@jupyter-widgets/base",
          "model_name": "LayoutModel",
          "state": {
            "_view_name": "LayoutView",
            "grid_template_rows": null,
            "right": null,
            "justify_content": null,
            "_view_module": "@jupyter-widgets/base",
            "overflow": null,
            "_model_module_version": "1.2.0",
            "_view_count": null,
            "flex_flow": null,
            "width": null,
            "min_width": null,
            "border": null,
            "align_items": null,
            "bottom": null,
            "_model_module": "@jupyter-widgets/base",
            "top": null,
            "grid_column": null,
            "overflow_y": null,
            "overflow_x": null,
            "grid_auto_flow": null,
            "grid_area": null,
            "grid_template_columns": null,
            "flex": null,
            "_model_name": "LayoutModel",
            "justify_items": null,
            "grid_row": null,
            "max_height": null,
            "align_content": null,
            "visibility": null,
            "align_self": null,
            "height": null,
            "min_height": null,
            "padding": null,
            "grid_auto_rows": null,
            "grid_gap": null,
            "max_width": null,
            "order": null,
            "_view_module_version": "1.2.0",
            "grid_template_areas": null,
            "object_position": null,
            "object_fit": null,
            "grid_auto_columns": null,
            "margin": null,
            "display": null,
            "left": null
          }
        },
        "354b00c4b7104a78be37f92f9f6090d2": {
          "model_module": "@jupyter-widgets/controls",
          "model_name": "FloatProgressModel",
          "state": {
            "_view_name": "ProgressView",
            "style": "IPY_MODEL_546b9aa770f743ea9c5e1cdf7326e79f",
            "_dom_classes": [],
            "description": "100%",
            "_model_name": "FloatProgressModel",
            "bar_style": "success",
            "max": 1000,
            "_view_module": "@jupyter-widgets/controls",
            "_model_module_version": "1.5.0",
            "value": 1000,
            "_view_count": null,
            "_view_module_version": "1.5.0",
            "orientation": "horizontal",
            "min": 0,
            "description_tooltip": null,
            "_model_module": "@jupyter-widgets/controls",
            "layout": "IPY_MODEL_ba19d4b065ed4409859f874466797386"
          }
        },
        "39324493b13a43a09b57a9c91458b963": {
          "model_module": "@jupyter-widgets/controls",
          "model_name": "HTMLModel",
          "state": {
            "_view_name": "HTMLView",
            "style": "IPY_MODEL_7a9517c65c4b47d1873cdc0398a4ff35",
            "_dom_classes": [],
            "description": "",
            "_model_name": "HTMLModel",
            "placeholder": "​",
            "_view_module": "@jupyter-widgets/controls",
            "_model_module_version": "1.5.0",
            "value": " 1000/1000 [1:46:45&lt;00:00,  6.41s/it]",
            "_view_count": null,
            "_view_module_version": "1.5.0",
            "description_tooltip": null,
            "_model_module": "@jupyter-widgets/controls",
            "layout": "IPY_MODEL_665b903eae50401aba6a91a7b63b27a6"
          }
        },
        "546b9aa770f743ea9c5e1cdf7326e79f": {
          "model_module": "@jupyter-widgets/controls",
          "model_name": "ProgressStyleModel",
          "state": {
            "_view_name": "StyleView",
            "_model_name": "ProgressStyleModel",
            "description_width": "initial",
            "_view_module": "@jupyter-widgets/base",
            "_model_module_version": "1.5.0",
            "_view_count": null,
            "_view_module_version": "1.2.0",
            "bar_color": null,
            "_model_module": "@jupyter-widgets/controls"
          }
        },
        "ba19d4b065ed4409859f874466797386": {
          "model_module": "@jupyter-widgets/base",
          "model_name": "LayoutModel",
          "state": {
            "_view_name": "LayoutView",
            "grid_template_rows": null,
            "right": null,
            "justify_content": null,
            "_view_module": "@jupyter-widgets/base",
            "overflow": null,
            "_model_module_version": "1.2.0",
            "_view_count": null,
            "flex_flow": null,
            "width": null,
            "min_width": null,
            "border": null,
            "align_items": null,
            "bottom": null,
            "_model_module": "@jupyter-widgets/base",
            "top": null,
            "grid_column": null,
            "overflow_y": null,
            "overflow_x": null,
            "grid_auto_flow": null,
            "grid_area": null,
            "grid_template_columns": null,
            "flex": null,
            "_model_name": "LayoutModel",
            "justify_items": null,
            "grid_row": null,
            "max_height": null,
            "align_content": null,
            "visibility": null,
            "align_self": null,
            "height": null,
            "min_height": null,
            "padding": null,
            "grid_auto_rows": null,
            "grid_gap": null,
            "max_width": null,
            "order": null,
            "_view_module_version": "1.2.0",
            "grid_template_areas": null,
            "object_position": null,
            "object_fit": null,
            "grid_auto_columns": null,
            "margin": null,
            "display": null,
            "left": null
          }
        },
        "7a9517c65c4b47d1873cdc0398a4ff35": {
          "model_module": "@jupyter-widgets/controls",
          "model_name": "DescriptionStyleModel",
          "state": {
            "_view_name": "StyleView",
            "_model_name": "DescriptionStyleModel",
            "description_width": "",
            "_view_module": "@jupyter-widgets/base",
            "_model_module_version": "1.5.0",
            "_view_count": null,
            "_view_module_version": "1.2.0",
            "_model_module": "@jupyter-widgets/controls"
          }
        },
        "665b903eae50401aba6a91a7b63b27a6": {
          "model_module": "@jupyter-widgets/base",
          "model_name": "LayoutModel",
          "state": {
            "_view_name": "LayoutView",
            "grid_template_rows": null,
            "right": null,
            "justify_content": null,
            "_view_module": "@jupyter-widgets/base",
            "overflow": null,
            "_model_module_version": "1.2.0",
            "_view_count": null,
            "flex_flow": null,
            "width": null,
            "min_width": null,
            "border": null,
            "align_items": null,
            "bottom": null,
            "_model_module": "@jupyter-widgets/base",
            "top": null,
            "grid_column": null,
            "overflow_y": null,
            "overflow_x": null,
            "grid_auto_flow": null,
            "grid_area": null,
            "grid_template_columns": null,
            "flex": null,
            "_model_name": "LayoutModel",
            "justify_items": null,
            "grid_row": null,
            "max_height": null,
            "align_content": null,
            "visibility": null,
            "align_self": null,
            "height": null,
            "min_height": null,
            "padding": null,
            "grid_auto_rows": null,
            "grid_gap": null,
            "max_width": null,
            "order": null,
            "_view_module_version": "1.2.0",
            "grid_template_areas": null,
            "object_position": null,
            "object_fit": null,
            "grid_auto_columns": null,
            "margin": null,
            "display": null,
            "left": null
          }
        }
      }
    }
  },
  "cells": [
    {
      "cell_type": "markdown",
      "metadata": {
        "id": "view-in-github",
        "colab_type": "text"
      },
      "source": [
        "<a href=\"https://colab.research.google.com/github/RoyElkabetz/Text-Summarization-with-Deep-Learning/blob/main/notebooks/T5_Summarizer_pipeline.ipynb\" target=\"_parent\"><img src=\"https://colab.research.google.com/assets/colab-badge.svg\" alt=\"Open In Colab\"/></a>"
      ]
    },
    {
      "cell_type": "code",
      "metadata": {
        "id": "L1zumSWE4o4W",
        "outputId": "91df2cf4-fc37-4fe9-e2fe-d7f0f3f745f6",
        "colab": {
          "base_uri": "https://localhost:8080/"
        }
      },
      "source": [
        "## uncomment only if running from google.colab\n",
        "# clone the git reposetory\n",
        "!git clone https://github.com/RoyElkabetz/Text-Summarization-with-Deep-Learning\n",
        "# add path to .py files for import\n",
        "import sys\n",
        "sys.path.insert(1, \"/content/Text-Summarization-with-Deep-Learning/src\")"
      ],
      "execution_count": 1,
      "outputs": [
        {
          "output_type": "stream",
          "text": [
            "Cloning into 'Text-Summarization-with-Deep-Learning'...\n",
            "remote: Enumerating objects: 312, done.\u001b[K\n",
            "remote: Counting objects: 100% (312/312), done.\u001b[K\n",
            "remote: Compressing objects: 100% (294/294), done.\u001b[K\n",
            "remote: Total 312 (delta 163), reused 47 (delta 14), pack-reused 0\u001b[K\n",
            "Receiving objects: 100% (312/312), 7.61 MiB | 5.13 MiB/s, done.\n",
            "Resolving deltas: 100% (163/163), done.\n"
          ],
          "name": "stdout"
        }
      ]
    },
    {
      "cell_type": "code",
      "metadata": {
        "colab": {
          "base_uri": "https://localhost:8080/"
        },
        "id": "teLj186gV7VQ",
        "outputId": "73d62fbf-a098-4957-caa9-b6a4e4533daf"
      },
      "source": [
        "## uncomment to mount google drive\n",
        "from google.colab import drive\n",
        "drive.mount('/content/gdrive')"
      ],
      "execution_count": 1,
      "outputs": [
        {
          "output_type": "stream",
          "text": [
            "Mounted at /content/gdrive\n"
          ],
          "name": "stdout"
        }
      ]
    },
    {
      "cell_type": "code",
      "metadata": {
        "colab": {
          "base_uri": "https://localhost:8080/"
        },
        "id": "JQ0Dt40_V_Qr",
        "outputId": "2466dddf-98b0-49a9-979a-52b98e03c4b2"
      },
      "source": [
        "!nvidia-smi"
      ],
      "execution_count": 3,
      "outputs": [
        {
          "output_type": "stream",
          "text": [
            "NVIDIA-SMI has failed because it couldn't communicate with the NVIDIA driver. Make sure that the latest NVIDIA driver is installed and running.\n",
            "\n"
          ],
          "name": "stdout"
        }
      ]
    },
    {
      "cell_type": "code",
      "metadata": {
        "colab": {
          "base_uri": "https://localhost:8080/"
        },
        "id": "3Ong6g4BV_vq",
        "outputId": "a54347dc-df27-4fed-d07d-2e99aa15225c"
      },
      "source": [
        "!pip install --quiet transformers==4.5.0\n",
        "!pip install --quiet pytorch-lightning==1.2.7"
      ],
      "execution_count": 3,
      "outputs": [
        {
          "output_type": "stream",
          "text": [
            "\u001b[K     |████████████████████████████████| 2.2MB 8.7MB/s \n",
            "\u001b[K     |████████████████████████████████| 901kB 49.4MB/s \n",
            "\u001b[K     |████████████████████████████████| 3.3MB 40.5MB/s \n",
            "\u001b[K     |████████████████████████████████| 839kB 6.8MB/s \n",
            "\u001b[K     |████████████████████████████████| 829kB 14.5MB/s \n",
            "\u001b[K     |████████████████████████████████| 235kB 29.1MB/s \n",
            "\u001b[K     |████████████████████████████████| 122kB 28.0MB/s \n",
            "\u001b[K     |████████████████████████████████| 276kB 22.3MB/s \n",
            "\u001b[K     |████████████████████████████████| 1.3MB 30.3MB/s \n",
            "\u001b[K     |████████████████████████████████| 296kB 52.6MB/s \n",
            "\u001b[K     |████████████████████████████████| 143kB 44.0MB/s \n",
            "\u001b[?25h  Building wheel for future (setup.py) ... \u001b[?25l\u001b[?25hdone\n",
            "  Building wheel for PyYAML (setup.py) ... \u001b[?25l\u001b[?25hdone\n"
          ],
          "name": "stdout"
        }
      ]
    },
    {
      "cell_type": "code",
      "metadata": {
        "colab": {
          "base_uri": "https://localhost:8080/"
        },
        "id": "rG8LCDJmV_yJ",
        "outputId": "56acc10a-67e8-41ef-d4f7-5f6b613f8e65"
      },
      "source": [
        "import time\n",
        "import pandas as pd\n",
        "import numpy as np\n",
        "import torch\n",
        "from pathlib import Path\n",
        "from torch.utils.data import Dataset, DataLoader\n",
        "import pytorch_lightning as pl\n",
        "from pytorch_lightning.callbacks import ModelCheckpoint\n",
        "from pytorch_lightning.loggers import TensorBoardLogger\n",
        "from sklearn.model_selection import train_test_split\n",
        "from termcolor import colored\n",
        "from torchtext.datasets import AG_NEWS, IMDB \n",
        "from tqdm.auto import tqdm\n",
        "\n",
        "\n",
        "from transformers import (\n",
        "    AdamW,\n",
        "    T5ForConditionalGeneration,\n",
        "    T5TokenizerFast as T5Tokenizer\n",
        ")\n",
        "\n",
        "\n",
        "# my packages\n",
        "import models\n",
        "import utils\n",
        "\n",
        "# plotting packages \n",
        "import seaborn as sns\n",
        "from pylab import rcParams\n",
        "import matplotlib.pyplot as plt\n",
        "from matplotlib import rc\n",
        "\n",
        "%matplotlib inline\n",
        "%config InlineBackend.figure_format='retina'\n",
        "sns.set(style='whitegrid', palette='muted', font_scale=1.2)\n",
        "rcParams['figure.figsize'] = 16, 10\n",
        "\n",
        "# set seed\n",
        "pl.seed_everything(216)"
      ],
      "execution_count": 4,
      "outputs": [
        {
          "output_type": "stream",
          "text": [
            "Global seed set to 216\n"
          ],
          "name": "stderr"
        },
        {
          "output_type": "execute_result",
          "data": {
            "text/plain": [
              "216"
            ]
          },
          "metadata": {
            "tags": []
          },
          "execution_count": 4
        }
      ]
    },
    {
      "cell_type": "code",
      "metadata": {
        "id": "Ryoz0ctyV_2v"
      },
      "source": [
        "SAVE_DATASET_PATH = '/content/gdrive/MyDrive/Datasets/Text/IMDB/'\n",
        "CHECKPOINTS_PATH = '/content/gdrive/MyDrive/Checkpoints'\n",
        "MY_MODEL_NAME = 'Text_Summarizer_T5-v1'\n",
        "MODEL_NAME = 't5-base'\n",
        "PATH_TO_LAST_CHECKPOINT = ''.join([CHECKPOINTS_PATH, '/', MY_MODEL_NAME, '.ckpt'])"
      ],
      "execution_count": 3,
      "outputs": []
    },
    {
      "cell_type": "code",
      "metadata": {
        "colab": {
          "base_uri": "https://localhost:8080/",
          "height": 213,
          "referenced_widgets": [
            "e0e2b675d7d4476da3b8926db07d6e3c",
            "db6f246b38a84ab782a5146671442796",
            "67c5282bb08f4d86a33b407b78ad1d46",
            "bdaef959099b45a7a70837294956b3c6",
            "d323e335651440d7a609d574bb9f9970",
            "c82e2939596c4104b1a0d62fd8152d2a",
            "56909f0921b542699562ac057a24546f",
            "10c7676a30fb47da89b755a4c147fbe3",
            "9d3e7b5c4fe6455fb44fa7295b831e41",
            "cf36a56ca4d54dc9a357561a35c3054e",
            "fb95b9909d294fd0b72fdc039d77dcf6",
            "abc79219d28a47ddb46cec9116382949",
            "2bef6f474dfb499ebebfe9e5598c2b48",
            "777a5cd7bc094a77bf01ce53bdcdda10",
            "0531cce93891486cab8e1d60f40230ae",
            "7721af509df443468ec5efef14e7e6f5",
            "595c9211c0a54833ac7e9202ca0c9b72",
            "9ace2ef8c9fe4c51a0cb52297c25dcb4",
            "f78092cd8a8d4027a7578fc5f59c3b3a",
            "881f95a9c44d4af2908ae058154e5656",
            "2f848ae34ce94b57b9f526f4748cb857",
            "326d14b2ab224c75b82f65ec4dc6da85",
            "edb58d89c90c4180a05ffe7b1cf37e2d",
            "44486c94397948fba830b4b7bf5d6fdb",
            "ff337f33bdba4cea995b5ca81e93fcbe",
            "cb7b7a2cdf8b4c6695a59cf0cf76bfe6",
            "dbc016db50b64792ae32a946a790db5d",
            "72852b302b78436a9248bd8d7e5eea5e",
            "6e1d62be447945e0b387b0e042c47f3a",
            "e4eed01fcd2d4eae8dea866338f65d8e",
            "8e058a05be34402fa56b724fa8844666",
            "c0509f1fba9e47b88df94653c72b63ce"
          ]
        },
        "id": "vuIKe1rnXUXT",
        "outputId": "5ea64a5c-a6f1-4495-d94d-186c396fa406"
      },
      "source": [
        "# load the T5 tokenizer\n",
        "tokenizer = T5Tokenizer.from_pretrained(MODEL_NAME)\n",
        "\n",
        "# load trained (on \"news summary\" dataset) summarizer\n",
        "base_model = models.NewsSummaryModel()\n",
        "trained_model = base_model.load_from_checkpoint(PATH_TO_LAST_CHECKPOINT)\n",
        "trained_model.freeze()"
      ],
      "execution_count": 6,
      "outputs": [
        {
          "output_type": "display_data",
          "data": {
            "application/vnd.jupyter.widget-view+json": {
              "model_id": "e0e2b675d7d4476da3b8926db07d6e3c",
              "version_minor": 0,
              "version_major": 2
            },
            "text/plain": [
              "HBox(children=(FloatProgress(value=0.0, description='Downloading', max=791656.0, style=ProgressStyle(descripti…"
            ]
          },
          "metadata": {
            "tags": []
          }
        },
        {
          "output_type": "stream",
          "text": [
            "\n"
          ],
          "name": "stdout"
        },
        {
          "output_type": "display_data",
          "data": {
            "application/vnd.jupyter.widget-view+json": {
              "model_id": "9d3e7b5c4fe6455fb44fa7295b831e41",
              "version_minor": 0,
              "version_major": 2
            },
            "text/plain": [
              "HBox(children=(FloatProgress(value=0.0, description='Downloading', max=1389353.0, style=ProgressStyle(descript…"
            ]
          },
          "metadata": {
            "tags": []
          }
        },
        {
          "output_type": "stream",
          "text": [
            "\n"
          ],
          "name": "stdout"
        },
        {
          "output_type": "display_data",
          "data": {
            "application/vnd.jupyter.widget-view+json": {
              "model_id": "595c9211c0a54833ac7e9202ca0c9b72",
              "version_minor": 0,
              "version_major": 2
            },
            "text/plain": [
              "HBox(children=(FloatProgress(value=0.0, description='Downloading', max=1199.0, style=ProgressStyle(description…"
            ]
          },
          "metadata": {
            "tags": []
          }
        },
        {
          "output_type": "stream",
          "text": [
            "\n"
          ],
          "name": "stdout"
        },
        {
          "output_type": "display_data",
          "data": {
            "application/vnd.jupyter.widget-view+json": {
              "model_id": "ff337f33bdba4cea995b5ca81e93fcbe",
              "version_minor": 0,
              "version_major": 2
            },
            "text/plain": [
              "HBox(children=(FloatProgress(value=0.0, description='Downloading', max=891691430.0, style=ProgressStyle(descri…"
            ]
          },
          "metadata": {
            "tags": []
          }
        },
        {
          "output_type": "stream",
          "text": [
            "\n"
          ],
          "name": "stdout"
        }
      ]
    },
    {
      "cell_type": "code",
      "metadata": {
        "id": "GLDH3cmZcKqq"
      },
      "source": [
        "def summarizer(text, summary_max_length=150):\n",
        "  # encoding text\n",
        "  text_encoding = tokenizer(\n",
        "      text,\n",
        "      max_length=512,\n",
        "      padding='max_length',\n",
        "      truncation=True,\n",
        "      return_attention_mask=True,\n",
        "      add_special_tokens=True,\n",
        "      return_tensors='pt'\n",
        "  )\n",
        "\n",
        "  # get predictions as ids\n",
        "  generated_ids = trained_model.model.generate(\n",
        "      input_ids=text_encoding['input_ids'],\n",
        "      attention_mask=text_encoding['attention_mask'],\n",
        "      max_length=summary_max_length,\n",
        "      num_beams=2,\n",
        "      repetition_penalty=2.5,\n",
        "      length_penalty=1.0,\n",
        "      early_stopping=True\n",
        "  )\n",
        "\n",
        "  # decode and join prediction\n",
        "  preds = [\n",
        "   tokenizer.decode(gen_id, skip_special_tokens=True, clean_up_tokenization_spaces=True)\n",
        "   for gen_id in generated_ids\n",
        "  ]\n",
        "  \n",
        "  return ''.join(preds)"
      ],
      "execution_count": 7,
      "outputs": []
    },
    {
      "cell_type": "markdown",
      "metadata": {
        "id": "uZvDM1T3GEmL"
      },
      "source": [
        "## Load, process, split and resave the IMDB Train, Validation and Test datasets as CSV files"
      ]
    },
    {
      "cell_type": "code",
      "metadata": {
        "id": "TrEBrPEoGBei"
      },
      "source": [
        "# down load the Train dataset as an iterator\n",
        "data_iter = IMDB(split='train')\n",
        "labels = []\n",
        "texts = []\n",
        "\n",
        "for i, (label, text) in enumerate(data_iter):\n",
        "  labels.append(label)\n",
        "  texts.append(text)\n",
        "\n",
        "df = pd.DataFrame.from_dict({'label': labels, 'text': texts})\n",
        "df = df.dropna()\n",
        "df.head()\n",
        "df.to_csv(path_or_buf=SAVE_DATASET_PATH + 'train.csv', columns=['label', 'text'])"
      ],
      "execution_count": 7,
      "outputs": []
    },
    {
      "cell_type": "code",
      "metadata": {
        "id": "2UIX82CHcyvW"
      },
      "source": [
        "# down load the Test dataset as an iterator\n",
        "data_iter = IMDB(split='test')\n",
        "labels = []\n",
        "texts = []\n",
        "\n",
        "for i, (label, text) in enumerate(data_iter):\n",
        "  labels.append(label)\n",
        "  texts.append(text)"
      ],
      "execution_count": 15,
      "outputs": []
    },
    {
      "cell_type": "markdown",
      "metadata": {
        "id": "rmNG3icNWgxe"
      },
      "source": [
        "## create a Pandas DataFrame of data\n"
      ]
    },
    {
      "cell_type": "code",
      "metadata": {
        "colab": {
          "base_uri": "https://localhost:8080/",
          "height": 204
        },
        "id": "fBVKEOSfdR8w",
        "outputId": "43d8241c-244e-43b7-d873-75fb3df61bd5"
      },
      "source": [
        "df = pd.DataFrame.from_dict({'label': labels, 'text': texts})\n",
        "df = df.dropna()\n",
        "df.head()"
      ],
      "execution_count": 16,
      "outputs": [
        {
          "output_type": "execute_result",
          "data": {
            "text/html": [
              "<div>\n",
              "<style scoped>\n",
              "    .dataframe tbody tr th:only-of-type {\n",
              "        vertical-align: middle;\n",
              "    }\n",
              "\n",
              "    .dataframe tbody tr th {\n",
              "        vertical-align: top;\n",
              "    }\n",
              "\n",
              "    .dataframe thead th {\n",
              "        text-align: right;\n",
              "    }\n",
              "</style>\n",
              "<table border=\"1\" class=\"dataframe\">\n",
              "  <thead>\n",
              "    <tr style=\"text-align: right;\">\n",
              "      <th></th>\n",
              "      <th>label</th>\n",
              "      <th>text</th>\n",
              "    </tr>\n",
              "  </thead>\n",
              "  <tbody>\n",
              "    <tr>\n",
              "      <th>0</th>\n",
              "      <td>neg</td>\n",
              "      <td>I love sci-fi and am willing to put up with a ...</td>\n",
              "    </tr>\n",
              "    <tr>\n",
              "      <th>1</th>\n",
              "      <td>neg</td>\n",
              "      <td>Worth the entertainment value of a rental, esp...</td>\n",
              "    </tr>\n",
              "    <tr>\n",
              "      <th>2</th>\n",
              "      <td>neg</td>\n",
              "      <td>its a totally average film with a few semi-alr...</td>\n",
              "    </tr>\n",
              "    <tr>\n",
              "      <th>3</th>\n",
              "      <td>neg</td>\n",
              "      <td>STAR RATING: ***** Saturday Night **** Friday ...</td>\n",
              "    </tr>\n",
              "    <tr>\n",
              "      <th>4</th>\n",
              "      <td>neg</td>\n",
              "      <td>First off let me say, If you haven't enjoyed a...</td>\n",
              "    </tr>\n",
              "  </tbody>\n",
              "</table>\n",
              "</div>"
            ],
            "text/plain": [
              "  label                                               text\n",
              "0   neg  I love sci-fi and am willing to put up with a ...\n",
              "1   neg  Worth the entertainment value of a rental, esp...\n",
              "2   neg  its a totally average film with a few semi-alr...\n",
              "3   neg  STAR RATING: ***** Saturday Night **** Friday ...\n",
              "4   neg  First off let me say, If you haven't enjoyed a..."
            ]
          },
          "metadata": {
            "tags": []
          },
          "execution_count": 16
        }
      ]
    },
    {
      "cell_type": "code",
      "metadata": {
        "id": "-ttNIy4Z_gUo",
        "outputId": "ad9f210e-0f5a-44d1-9953-b30481f2722b",
        "colab": {
          "base_uri": "https://localhost:8080/",
          "height": 623
        }
      },
      "source": [
        "i = 500\n",
        "summaries_lengths = [150, 128, 64, 32, 16, 8, 4]\n",
        "negative_df = df[df['label']=='neg']\n",
        "positive_df = df[df['label']=='pos']\n",
        "test_df = negative_df[:i]\n",
        "test_df = test_df.append(positive_df[:i], ignore_index=True)\n",
        "\n",
        "for l in summaries_lengths:\n",
        "    column_name = 'summary-' + str(l)\n",
        "    test_df[column_name] = ['empty'] * len(test_df)\n",
        "print(f'Size of dataframe is: {len(test_df)}')\n",
        "test_df"
      ],
      "execution_count": 35,
      "outputs": [
        {
          "output_type": "stream",
          "text": [
            "Size of dataframe is: 1000\n"
          ],
          "name": "stdout"
        },
        {
          "output_type": "execute_result",
          "data": {
            "text/html": [
              "<div>\n",
              "<style scoped>\n",
              "    .dataframe tbody tr th:only-of-type {\n",
              "        vertical-align: middle;\n",
              "    }\n",
              "\n",
              "    .dataframe tbody tr th {\n",
              "        vertical-align: top;\n",
              "    }\n",
              "\n",
              "    .dataframe thead th {\n",
              "        text-align: right;\n",
              "    }\n",
              "</style>\n",
              "<table border=\"1\" class=\"dataframe\">\n",
              "  <thead>\n",
              "    <tr style=\"text-align: right;\">\n",
              "      <th></th>\n",
              "      <th>label</th>\n",
              "      <th>text</th>\n",
              "      <th>summary-150</th>\n",
              "      <th>summary-128</th>\n",
              "      <th>summary-64</th>\n",
              "      <th>summary-32</th>\n",
              "      <th>summary-16</th>\n",
              "      <th>summary-8</th>\n",
              "      <th>summary-4</th>\n",
              "    </tr>\n",
              "  </thead>\n",
              "  <tbody>\n",
              "    <tr>\n",
              "      <th>0</th>\n",
              "      <td>neg</td>\n",
              "      <td>I love sci-fi and am willing to put up with a ...</td>\n",
              "      <td>empty</td>\n",
              "      <td>empty</td>\n",
              "      <td>empty</td>\n",
              "      <td>empty</td>\n",
              "      <td>empty</td>\n",
              "      <td>empty</td>\n",
              "      <td>empty</td>\n",
              "    </tr>\n",
              "    <tr>\n",
              "      <th>1</th>\n",
              "      <td>neg</td>\n",
              "      <td>Worth the entertainment value of a rental, esp...</td>\n",
              "      <td>empty</td>\n",
              "      <td>empty</td>\n",
              "      <td>empty</td>\n",
              "      <td>empty</td>\n",
              "      <td>empty</td>\n",
              "      <td>empty</td>\n",
              "      <td>empty</td>\n",
              "    </tr>\n",
              "    <tr>\n",
              "      <th>2</th>\n",
              "      <td>neg</td>\n",
              "      <td>its a totally average film with a few semi-alr...</td>\n",
              "      <td>empty</td>\n",
              "      <td>empty</td>\n",
              "      <td>empty</td>\n",
              "      <td>empty</td>\n",
              "      <td>empty</td>\n",
              "      <td>empty</td>\n",
              "      <td>empty</td>\n",
              "    </tr>\n",
              "    <tr>\n",
              "      <th>3</th>\n",
              "      <td>neg</td>\n",
              "      <td>STAR RATING: ***** Saturday Night **** Friday ...</td>\n",
              "      <td>empty</td>\n",
              "      <td>empty</td>\n",
              "      <td>empty</td>\n",
              "      <td>empty</td>\n",
              "      <td>empty</td>\n",
              "      <td>empty</td>\n",
              "      <td>empty</td>\n",
              "    </tr>\n",
              "    <tr>\n",
              "      <th>4</th>\n",
              "      <td>neg</td>\n",
              "      <td>First off let me say, If you haven't enjoyed a...</td>\n",
              "      <td>empty</td>\n",
              "      <td>empty</td>\n",
              "      <td>empty</td>\n",
              "      <td>empty</td>\n",
              "      <td>empty</td>\n",
              "      <td>empty</td>\n",
              "      <td>empty</td>\n",
              "    </tr>\n",
              "    <tr>\n",
              "      <th>...</th>\n",
              "      <td>...</td>\n",
              "      <td>...</td>\n",
              "      <td>...</td>\n",
              "      <td>...</td>\n",
              "      <td>...</td>\n",
              "      <td>...</td>\n",
              "      <td>...</td>\n",
              "      <td>...</td>\n",
              "      <td>...</td>\n",
              "    </tr>\n",
              "    <tr>\n",
              "      <th>995</th>\n",
              "      <td>pos</td>\n",
              "      <td>A very delightful bit of filmwork that should ...</td>\n",
              "      <td>empty</td>\n",
              "      <td>empty</td>\n",
              "      <td>empty</td>\n",
              "      <td>empty</td>\n",
              "      <td>empty</td>\n",
              "      <td>empty</td>\n",
              "      <td>empty</td>\n",
              "    </tr>\n",
              "    <tr>\n",
              "      <th>996</th>\n",
              "      <td>pos</td>\n",
              "      <td>Ordinarily, Anthony Mann made westerns with 't...</td>\n",
              "      <td>empty</td>\n",
              "      <td>empty</td>\n",
              "      <td>empty</td>\n",
              "      <td>empty</td>\n",
              "      <td>empty</td>\n",
              "      <td>empty</td>\n",
              "      <td>empty</td>\n",
              "    </tr>\n",
              "    <tr>\n",
              "      <th>997</th>\n",
              "      <td>pos</td>\n",
              "      <td>&lt;br /&gt;&lt;br /&gt;`The Last Frontier' is a superior ...</td>\n",
              "      <td>empty</td>\n",
              "      <td>empty</td>\n",
              "      <td>empty</td>\n",
              "      <td>empty</td>\n",
              "      <td>empty</td>\n",
              "      <td>empty</td>\n",
              "      <td>empty</td>\n",
              "    </tr>\n",
              "    <tr>\n",
              "      <th>998</th>\n",
              "      <td>pos</td>\n",
              "      <td>One of the more obscure of Anthony Mann's West...</td>\n",
              "      <td>empty</td>\n",
              "      <td>empty</td>\n",
              "      <td>empty</td>\n",
              "      <td>empty</td>\n",
              "      <td>empty</td>\n",
              "      <td>empty</td>\n",
              "      <td>empty</td>\n",
              "    </tr>\n",
              "    <tr>\n",
              "      <th>999</th>\n",
              "      <td>pos</td>\n",
              "      <td>this is another good western,which i enjoyed.i...</td>\n",
              "      <td>empty</td>\n",
              "      <td>empty</td>\n",
              "      <td>empty</td>\n",
              "      <td>empty</td>\n",
              "      <td>empty</td>\n",
              "      <td>empty</td>\n",
              "      <td>empty</td>\n",
              "    </tr>\n",
              "  </tbody>\n",
              "</table>\n",
              "<p>1000 rows × 9 columns</p>\n",
              "</div>"
            ],
            "text/plain": [
              "    label  ... summary-4\n",
              "0     neg  ...     empty\n",
              "1     neg  ...     empty\n",
              "2     neg  ...     empty\n",
              "3     neg  ...     empty\n",
              "4     neg  ...     empty\n",
              "..    ...  ...       ...\n",
              "995   pos  ...     empty\n",
              "996   pos  ...     empty\n",
              "997   pos  ...     empty\n",
              "998   pos  ...     empty\n",
              "999   pos  ...     empty\n",
              "\n",
              "[1000 rows x 9 columns]"
            ]
          },
          "metadata": {
            "tags": []
          },
          "execution_count": 35
        }
      ]
    },
    {
      "cell_type": "code",
      "metadata": {
        "id": "bnENN65FC5qh"
      },
      "source": [
        "columns = ['label', 'text']\n",
        "valid_df = negative_df[i:]\n",
        "valid_df = valid_df.append(positive_df[i:], ignore_index=True)\n",
        "valid_df.to_csv(path_or_buf=SAVE_DATASET_PATH + 'valid.csv', columns=columns)"
      ],
      "execution_count": 36,
      "outputs": []
    },
    {
      "cell_type": "markdown",
      "metadata": {
        "id": "Hye8LC7mWu60"
      },
      "source": [
        "## Summarizer Pipeline - get summary and save as a pd.DataFrame"
      ]
    },
    {
      "cell_type": "code",
      "metadata": {
        "id": "8M7OrebEhANu",
        "outputId": "970533ae-4d17-485e-8e1c-72ff4d0251e8",
        "colab": {
          "base_uri": "https://localhost:8080/",
          "height": 459
        }
      },
      "source": [
        "columns = ['label', 'text', 'summary-150', 'summary-128', 'summary-64', 'summary-32', 'summary-16', 'summary-8', 'summary-4']\n",
        "test_df = pd.read_csv(SAVE_DATASET_PATH + 'test.csv', usecols=columns)\n",
        "test_df.head()"
      ],
      "execution_count": 8,
      "outputs": [
        {
          "output_type": "execute_result",
          "data": {
            "text/html": [
              "<div>\n",
              "<style scoped>\n",
              "    .dataframe tbody tr th:only-of-type {\n",
              "        vertical-align: middle;\n",
              "    }\n",
              "\n",
              "    .dataframe tbody tr th {\n",
              "        vertical-align: top;\n",
              "    }\n",
              "\n",
              "    .dataframe thead th {\n",
              "        text-align: right;\n",
              "    }\n",
              "</style>\n",
              "<table border=\"1\" class=\"dataframe\">\n",
              "  <thead>\n",
              "    <tr style=\"text-align: right;\">\n",
              "      <th></th>\n",
              "      <th>label</th>\n",
              "      <th>text</th>\n",
              "      <th>summary-150</th>\n",
              "      <th>summary-128</th>\n",
              "      <th>summary-64</th>\n",
              "      <th>summary-32</th>\n",
              "      <th>summary-16</th>\n",
              "      <th>summary-8</th>\n",
              "      <th>summary-4</th>\n",
              "    </tr>\n",
              "  </thead>\n",
              "  <tbody>\n",
              "    <tr>\n",
              "      <th>0</th>\n",
              "      <td>neg</td>\n",
              "      <td>I love sci-fi and am willing to put up with a ...</td>\n",
              "      <td>Actors of 'Babylon 5', the original Star Trek ...</td>\n",
              "      <td>Actors of 'Babylon 5', the original Star Trek ...</td>\n",
              "      <td>Actors of 'Babylon 5', the original Star Trek ...</td>\n",
              "      <td>Actors of 'Babylon 5', the original Star Trek ...</td>\n",
              "      <td>Actors of 'Babylon 5', which is</td>\n",
              "      <td>Actors of 'B</td>\n",
              "      <td>Actors</td>\n",
              "    </tr>\n",
              "    <tr>\n",
              "      <th>1</th>\n",
              "      <td>neg</td>\n",
              "      <td>Worth the entertainment value of a rental, esp...</td>\n",
              "      <td>The film is rated 4/5 (Atlanta) and 4/5 (Terro...</td>\n",
              "      <td>The film is rated 4/5 (Atlanta) and 4/5 (Terro...</td>\n",
              "      <td>The film is rated 4/5 (Atlanta) and 4/5 (Terro...</td>\n",
              "      <td>The film is rated 4/5 (Atlanta) and 4/5 (Terro...</td>\n",
              "      <td>The film is rated 4/5 (Atlanta) and 4</td>\n",
              "      <td>The film is rated 4/5</td>\n",
              "      <td>The film is</td>\n",
              "    </tr>\n",
              "    <tr>\n",
              "      <th>2</th>\n",
              "      <td>neg</td>\n",
              "      <td>its a totally average film with a few semi-alr...</td>\n",
              "      <td>The end plot is that of a very basic type that...</td>\n",
              "      <td>The end plot is that of a very basic type that...</td>\n",
              "      <td>The end plot is that of a very basic type that...</td>\n",
              "      <td>The end plot is that of a very basic type that...</td>\n",
              "      <td>The end plot is that of a very basic type that...</td>\n",
              "      <td>The end plot is that of</td>\n",
              "      <td>The end plot</td>\n",
              "    </tr>\n",
              "    <tr>\n",
              "      <th>3</th>\n",
              "      <td>neg</td>\n",
              "      <td>STAR RATING: ***** Saturday Night **** Friday ...</td>\n",
              "      <td>Former New Orleans homicide cop Jack Robideaux...</td>\n",
              "      <td>Former New Orleans homicide cop Jack Robideaux...</td>\n",
              "      <td>Former New Orleans homicide cop Jack Robideaux...</td>\n",
              "      <td>Former New Orleans homicide cop Jack Robideaux...</td>\n",
              "      <td>Former New Orleans homicide cop Jack Robideaux...</td>\n",
              "      <td>Former New Orleans homicide cop</td>\n",
              "      <td>Former New Orleans</td>\n",
              "    </tr>\n",
              "    <tr>\n",
              "      <th>4</th>\n",
              "      <td>neg</td>\n",
              "      <td>First off let me say, If you haven't enjoyed a...</td>\n",
              "      <td>A Van Damme movie is worth watching. It has th...</td>\n",
              "      <td>A Van Damme movie is worth watching. It has th...</td>\n",
              "      <td>A Van Damme movie is worth watching. It has th...</td>\n",
              "      <td>A Van Damme movie is worth watching. It has th...</td>\n",
              "      <td>A Van Damme movie is worth watching. It has th...</td>\n",
              "      <td>The Van Damme movie is</td>\n",
              "      <td>A Van Dam</td>\n",
              "    </tr>\n",
              "  </tbody>\n",
              "</table>\n",
              "</div>"
            ],
            "text/plain": [
              "  label  ...           summary-4\n",
              "0   neg  ...              Actors\n",
              "1   neg  ...         The film is\n",
              "2   neg  ...        The end plot\n",
              "3   neg  ...  Former New Orleans\n",
              "4   neg  ...           A Van Dam\n",
              "\n",
              "[5 rows x 9 columns]"
            ]
          },
          "metadata": {
            "tags": []
          },
          "execution_count": 8
        }
      ]
    },
    {
      "cell_type": "code",
      "metadata": {
        "colab": {
          "base_uri": "https://localhost:8080/",
          "height": 137,
          "referenced_widgets": [
            "231600e7c3d74e0987e10f12b97c8cd9",
            "5a733448478d42f9abfca7d10266bec5",
            "354b00c4b7104a78be37f92f9f6090d2",
            "39324493b13a43a09b57a9c91458b963",
            "546b9aa770f743ea9c5e1cdf7326e79f",
            "ba19d4b065ed4409859f874466797386",
            "7a9517c65c4b47d1873cdc0398a4ff35",
            "665b903eae50401aba6a91a7b63b27a6"
          ]
        },
        "id": "maqr_KYNfw1Y",
        "outputId": "9e94c057-782c-476c-fb5e-528314369307"
      },
      "source": [
        "summaries_lengths = [150, 128, 64, 32, 16, 8, 4]\n",
        "columns = list(test_df.columns.values)\n",
        "with torch.no_grad():\n",
        "    for i in tqdm(range(len(test_df))):\n",
        "        row = test_df.iloc[i]\n",
        "        for j, max_length in enumerate(summaries_lengths):\n",
        "            if row[columns[j + 2]] == 'empty':\n",
        "                text = row['text']\n",
        "                summary = summarizer(text, summary_max_length=max_length)\n",
        "                test_df.iloc[i, j + 2] = summary\n",
        "        if i % 2 == 0:\n",
        "            test_df.to_csv(path_or_buf=SAVE_DATASET_PATH + 'test.csv', columns=columns)"
      ],
      "execution_count": 9,
      "outputs": [
        {
          "output_type": "display_data",
          "data": {
            "application/vnd.jupyter.widget-view+json": {
              "model_id": "231600e7c3d74e0987e10f12b97c8cd9",
              "version_minor": 0,
              "version_major": 2
            },
            "text/plain": [
              "HBox(children=(FloatProgress(value=0.0, max=1000.0), HTML(value='')))"
            ]
          },
          "metadata": {
            "tags": []
          }
        },
        {
          "output_type": "stream",
          "text": [
            "/usr/local/lib/python3.7/dist-packages/torch/_tensor.py:575: UserWarning: floor_divide is deprecated, and will be removed in a future version of pytorch. It currently rounds toward 0 (like the 'trunc' function NOT 'floor'). This results in incorrect rounding for negative values.\n",
            "To keep the current behavior, use torch.div(a, b, rounding_mode='trunc'), or for actual floor division, use torch.div(a, b, rounding_mode='floor'). (Triggered internally at  /pytorch/aten/src/ATen/native/BinaryOps.cpp:467.)\n",
            "  return torch.floor_divide(self, other)\n"
          ],
          "name": "stderr"
        },
        {
          "output_type": "stream",
          "text": [
            "\n"
          ],
          "name": "stdout"
        }
      ]
    }
  ]
}