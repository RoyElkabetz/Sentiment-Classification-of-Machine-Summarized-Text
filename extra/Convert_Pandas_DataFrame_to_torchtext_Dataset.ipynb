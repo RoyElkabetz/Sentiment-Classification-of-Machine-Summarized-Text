{
  "nbformat": 4,
  "nbformat_minor": 0,
  "metadata": {
    "colab": {
      "name": "Convert_Pandas_DataFrame_to_torchtext_Dataset.ipynb",
      "provenance": [],
      "authorship_tag": "ABX9TyO/sKGNyl1JFR8aettmeoD2",
      "include_colab_link": true
    },
    "kernelspec": {
      "name": "python3",
      "display_name": "Python 3"
    },
    "language_info": {
      "name": "python"
    }
  },
  "cells": [
    {
      "cell_type": "markdown",
      "metadata": {
        "id": "view-in-github",
        "colab_type": "text"
      },
      "source": [
        "<a href=\"https://colab.research.google.com/github/RoyElkabetz/Text-Summarization-with-Deep-Learning/blob/main/Convert_Pandas_DataFrame_to_torchtext_Dataset.ipynb\" target=\"_parent\"><img src=\"https://colab.research.google.com/assets/colab-badge.svg\" alt=\"Open In Colab\"/></a>"
      ]
    },
    {
      "cell_type": "code",
      "metadata": {
        "colab": {
          "base_uri": "https://localhost:8080/"
        },
        "id": "QYMoY3nHG63J",
        "outputId": "34e8cf4f-9f14-431e-856b-429fb3274a7a"
      },
      "source": [
        "## uncomment if you want to mount google drive\n",
        "from google.colab import drive\n",
        "drive.mount('/content/gdrive')"
      ],
      "execution_count": 1,
      "outputs": [
        {
          "output_type": "stream",
          "text": [
            "Mounted at /content/gdrive\n"
          ],
          "name": "stdout"
        }
      ]
    },
    {
      "cell_type": "code",
      "metadata": {
        "id": "jNUoUKxVHDeY"
      },
      "source": [
        "LOAD_DATASET_PATH = '/content/gdrive/MyDrive/Datasets/Text/IMDB_train_with_summary_dataset.csv'\n",
        "SAVE_VALID_DATASET_PATH = '/content/gdrive/MyDrive/Datasets/Text/IMDB_validation_dataset.csv'\n",
        "SAVE_TEST_DATASET_PATH = '/content/gdrive/MyDrive/Datasets/Text/IMDB_test_with_summary_dataset.csv'"
      ],
      "execution_count": 166,
      "outputs": []
    },
    {
      "cell_type": "code",
      "metadata": {
        "id": "KyqSPwFsn4q3"
      },
      "source": [
        "import pandas as pd\n",
        "\n",
        "import torch\n",
        "from torchtext.data.utils import get_tokenizer\n",
        "from torchtext.datasets import IMDB\n",
        "from torch.utils.data import Dataset\n",
        "from torchtext.vocab import build_vocab_from_iterator"
      ],
      "execution_count": 155,
      "outputs": []
    },
    {
      "cell_type": "code",
      "metadata": {
        "id": "Y10_VzRLsWqR"
      },
      "source": [
        "class DataFrameDataset(Dataset):\n",
        "  \"\"\"Create a torch.utils.data.Dataset from a pandas.DataFrame or a CSV file.\"\"\"\n",
        "\n",
        "  def __init__(self, csv_file_path=None, pd_dataframe=None, only_columns=None):\n",
        "    \"\"\"\n",
        "      Args:\n",
        "      csv_file_path (string): Path to the csv file with annotations.\n",
        "      pd_dataframe (Pandas DataFrame): A Pandas DataFrame with containing the\n",
        "      data.\n",
        "      only_columns (list): A List of colums names from the data. \n",
        "    \"\"\"\n",
        "    if isinstance(pd_dataframe, pd.DataFrame):\n",
        "      self.df = pd_dataframe \n",
        "    else:\n",
        "      self.df = pd.read_csv(csv_file_path)\n",
        "\n",
        "    if only_columns is not None:\n",
        "      if isinstance(only_columns, list):\n",
        "        for item in only_columns:\n",
        "          if item not in self.df.columns:\n",
        "            raise ValueError(f\"Got a column name '{item}' in only_columns which is not in DataFrame columns.\")\n",
        "        self.only_columns = only_columns\n",
        "      else:\n",
        "        raise TypeError(f\"only_columns must be a <class 'list'>, instead got a {type(only_columns)}.\")\n",
        "    else:\n",
        "      self.only_columns = list(self.df.columns)\n",
        "\n",
        "  def __len__(self):\n",
        "    return len(self.df)\n",
        "\n",
        "  def __getitem__(self, idx):\n",
        "    row = self.df.iloc[idx][self.only_columns]\n",
        "    row_list = [item for item in row]\n",
        "    return row_list"
      ],
      "execution_count": 160,
      "outputs": []
    },
    {
      "cell_type": "markdown",
      "metadata": {
        "id": "nvs1pZfnGS09"
      },
      "source": [
        "## Compare my DataFrameDataset class to IMDB original dataset iterator\n",
        "Iterating through the data"
      ]
    },
    {
      "cell_type": "code",
      "metadata": {
        "colab": {
          "base_uri": "https://localhost:8080/"
        },
        "id": "_fbM2J92uMt-",
        "outputId": "fb9d75dd-2425-4b0c-a858-112810f51bc6"
      },
      "source": [
        "my_dataset = DataFrameDataset(LOAD_DATASET_PATH)\n",
        "train_loader = torch.utils.data.DataLoader(my_dataset, batch_size=3, shuffle=True)\n",
        "for data in train_loader:\n",
        "  print(data)\n",
        "  break"
      ],
      "execution_count": 108,
      "outputs": [
        {
          "output_type": "stream",
          "text": [
            "[tensor([ 9385, 22798, 18157]), ('neg', 'pos', 'pos'), ('I, too, was fooled by the packaging. I, too, fell for the gory packaging and the DVD casing that claims \"grieved fans as every copy was pulled from shelves\". Though it was inexpensive ($6.99), it wasn\\'t really all that worth it - no scares, and very limited gore. The ending was very cheesy and didn\\'t deliver the punch it should have. I really don\\'t even know how it became a \"Video Nasty\" with how very tame it is. The story drags, the characters are obvious amateur actors...it doesn\\'t live up to the promise.', \"Now either you like Mr Carrey's humour or you don't. Me, Myself and Irene had audiences both walking out in droves and, on the other hand, cheering and collapsing in puddles of mirth. Bruce Almighty is a bit more mainstream, but you have been warned.<br /><br />If you're not sure, watch the trailer. I saw the trailer three times and still laughed at the same gags when I saw the film. If you don't find the sight of a dog putting the seat down after using the loo funny, don't bother with the movie.<br /><br /\", 'I consider myself a great admirer of David Lynch\\'s works, for he provides the viewers with absolutely unique motion pictures with typical \"Lynch-elements.\" Having seen most of his works, I naively thought I could predict Lynch\\'s next step. I was dead wrong. Dumbland is something I could have never imagined under the name of David Lynch. Still, after my recovery from the first shock, I started to contemplate about this extremely primitive main character, and I drew the conclusion that all the absurdities, cr'), ('empty', 'empty', 'empty')]\n"
          ],
          "name": "stdout"
        }
      ]
    },
    {
      "cell_type": "code",
      "metadata": {
        "colab": {
          "base_uri": "https://localhost:8080/"
        },
        "id": "kOcbIOAtyWXV",
        "outputId": "97ba521a-dc4f-47ba-b8ae-d742f771bf86"
      },
      "source": [
        "imdb_dataset = IMDB(split='train')\n",
        "imdb_train_loader = torch.utils.data.DataLoader(imdb_dataset, batch_size=5)\n",
        "for data in imdb_train_loader:\n",
        "  print(data)\n",
        "  break"
      ],
      "execution_count": 102,
      "outputs": [
        {
          "output_type": "stream",
          "text": [
            "[('neg', 'neg', 'neg', 'neg', 'neg'), ('I rented I AM CURIOUS-YELLOW from my video store because of all the controversy that surrounded it when it was first released in 1967. I also heard that at first it was seized by U.S. customs if it ever tried to enter this country, therefore being a fan of films considered \"controversial\" I really had to see this for myself.<br /><br />The plot is centered around a young Swedish drama student named Lena who wants to learn everything she can about life. In particular she wants to focus her attentions to making some sort of documentary on what the average Swede thought about certain political issues such as the Vietnam War and race issues in the United States. In between asking politicians and ordinary denizens of Stockholm about their opinions on politics, she has sex with her drama teacher, classmates, and married men.<br /><br />What kills me about I AM CURIOUS-YELLOW is that 40 years ago, this was considered pornographic. Really, the sex and nudity scenes are few and far between, even then it\\'s not shot like some cheaply made porno. While my countrymen mind find it shocking, in reality sex and nudity are a major staple in Swedish cinema. Even Ingmar Bergman, arguably their answer to good old boy John Ford, had sex scenes in his films.<br /><br />I do commend the filmmakers for the fact that any sex shown in the film is shown for artistic purposes rather than just to shock people and make money to be shown in pornographic theaters in America. I AM CURIOUS-YELLOW is a good film for anyone wanting to study the meat and potatoes (no pun intended) of Swedish cinema. But really, this film doesn\\'t have much of a plot.', '\"I Am Curious: Yellow\" is a risible and pretentious steaming pile. It doesn\\'t matter what one\\'s political views are because this film can hardly be taken seriously on any level. As for the claim that frontal male nudity is an automatic NC-17, that isn\\'t true. I\\'ve seen R-rated films with male nudity. Granted, they only offer some fleeting views, but where are the R-rated films with gaping vulvas and flapping labia? Nowhere, because they don\\'t exist. The same goes for those crappy cable shows: schlongs swinging in the breeze but not a clitoris in sight. And those pretentious indie movies like The Brown Bunny, in which we\\'re treated to the site of Vincent Gallo\\'s throbbing johnson, but not a trace of pink visible on Chloe Sevigny. Before crying (or implying) \"double-standard\" in matters of nudity, the mentally obtuse should take into account one unavoidably obvious anatomical difference between men and women: there are no genitals on display when actresses appears nude, and the same cannot be said for a man. In fact, you generally won\\'t see female genitals in an American film in anything short of porn or explicit erotica. This alleged double-standard is less a double standard than an admittedly depressing ability to come to terms culturally with the insides of women\\'s bodies.', \"If only to avoid making this type of film in the future. This film is interesting as an experiment but tells no cogent story.<br /><br />One might feel virtuous for sitting thru it because it touches on so many IMPORTANT issues but it does so without any discernable motive. The viewer comes away with no new perspectives (unless one comes up with one while one's mind wanders, as it will invariably do during this pointless film).<br /><br />One might better spend one's time staring out a window at a tree growing.<br /><br />\", \"This film was probably inspired by Godard's Masculin, féminin and I urge you to see that film instead.<br /><br />The film has two strong elements and those are, (1) the realistic acting (2) the impressive, undeservedly good, photo. Apart from that, what strikes me most is the endless stream of silliness. Lena Nyman has to be most annoying actress in the world. She acts so stupid and with all the nudity in this film,...it's unattractive. Comparing to Godard's film, intellectuality has been replaced with stupidity. Without going too far on this subject, I would say that follows from the difference in ideals between the French and the Swedish society.<br /><br />A movie of its time, and place. 2/10.\", 'Oh, brother...after hearing about this ridiculous film for umpteen years all I can think of is that old Peggy Lee song..<br /><br />\"Is that all there is??\" ...I was just an early teen when this smoked fish hit the U.S. I was too young to get in the theater (although I did manage to sneak into \"Goodbye Columbus\"). Then a screening at a local film museum beckoned - Finally I could see this film, except now I was as old as my parents were when they schlepped to see it!!<br /><br />The ONLY reason this film was not condemned to the anonymous sands of time was because of the obscenity case sparked by its U.S. release. MILLIONS of people flocked to this stinker, thinking they were going to see a sex film...Instead, they got lots of closeups of gnarly, repulsive Swedes, on-street interviews in bland shopping malls, asinie political pretension...and feeble who-cares simulated sex scenes with saggy, pale actors.<br /><br />Cultural icon, holy grail, historic artifact..whatever this thing was, shred it, burn it, then stuff the ashes in a lead box!<br /><br />Elite esthetes still scrape to find value in its boring pseudo revolutionary political spewings..But if it weren\\'t for the censorship scandal, it would have been ignored, then forgotten.<br /><br />Instead, the \"I Am Blank, Blank\" rhythymed title was repeated endlessly for years as a titilation for porno films (I am Curious, Lavender - for gay films, I Am Curious, Black - for blaxploitation films, etc..) and every ten years or so the thing rises from the dead, to be viewed by a new generation of suckers who want to see that \"naughty sex film\" that \"revolutionized the film industry\"...<br /><br />Yeesh, avoid like the plague..Or if you MUST see it - rent the video and fast forward to the \"dirty\" parts, just to get it over with.<br /><br />')]\n"
          ],
          "name": "stdout"
        }
      ]
    },
    {
      "cell_type": "markdown",
      "metadata": {
        "id": "HPvIgnAKGmU5"
      },
      "source": [
        "### Creating a vocabulary from text using DataFrameDataset"
      ]
    },
    {
      "cell_type": "code",
      "metadata": {
        "colab": {
          "base_uri": "https://localhost:8080/"
        },
        "id": "IBIiZb9K7C4Y",
        "outputId": "3e0f3af2-03ac-462e-e109-b649e68e0c73"
      },
      "source": [
        "data_columns = ['label', 'text', 'summary']\n",
        "new_dataset = DataFrameDataset(LOAD_DATASET_PATH, only_columns=data_columns)\n",
        "train_loader = torch.utils.data.DataLoader(new_dataset, batch_size=1, shuffle=True)\n",
        "for data_sample in train_loader:\n",
        "  print('A single batch from the data:')\n",
        "  for i, obj in enumerate(data_sample):\n",
        "    print(f'{data_columns[i]}s:')\n",
        "    print(obj)\n",
        "    print('\\n')\n",
        "  break\n",
        "tokenizer = get_tokenizer('basic_english')\n",
        "\n",
        "def yield_text_tokens(data_iter):\n",
        "    for batch in data_iter:\n",
        "        texts = batch[1]\n",
        "        for text in texts:\n",
        "          yield tokenizer(text)\n",
        "\n",
        "vocab = build_vocab_from_iterator(yield_text_tokens(train_loader), specials=[\"<unk>\", \"<sos>\", \"<eos>\"])\n",
        "vocab.set_default_index(vocab[\"<unk>\"])\n",
        "print(f'Size of vocabiulary is: {len(vocab)}')"
      ],
      "execution_count": 176,
      "outputs": [
        {
          "output_type": "stream",
          "text": [
            "A single batch from the data:\n",
            "labels:\n",
            "('neg',)\n",
            "\n",
            "\n",
            "texts:\n",
            "('I run a group to stop comedian exploitation and I just spent the past 2 months hearing horror stories from comedians who attempted to audition for, \"Last Comic Standing.\" If they don\\'t have a GOOD agent, then they don\\'t even get a chance to audition so more than 80% of the comedians who turn up are rejected before they can show anyone that they have talent! If they do make it to an audition, I was told that it\\'s \"pre-determined\" if they get a second chance. So what the TV audience sees is NOT the best comic',)\n",
            "\n",
            "\n",
            "summarys:\n",
            "('Actor-comedians who try to audition for \\'Last Comic Standing\\' have been rejected by over 80% of the comedians who turn up. \"If they don\\'t have a GOOD agent, then they don\\'t even get a chance to audition so more than 80% of the comedians who turn up are rejected before they can show anyone that they have talent!\"',)\n",
            "\n",
            "\n",
            "Size of vocabiulary is: 62093\n"
          ],
          "name": "stdout"
        }
      ]
    },
    {
      "cell_type": "markdown",
      "metadata": {
        "id": "l6qys-FrDS4T"
      },
      "source": [
        "## Cleaning the spliting the summarized IMDB data into Validation and Test CSV files\n",
        "#### Load the data from CSV as a pandas.DataFrame and clean it up."
      ]
    },
    {
      "cell_type": "code",
      "metadata": {
        "colab": {
          "base_uri": "https://localhost:8080/",
          "height": 204
        },
        "id": "1OIoIXksiiqm",
        "outputId": "03acda09-c36f-48d5-8c38-5c55af983add"
      },
      "source": [
        "imdb_data = pd.read_csv(LOAD_DATASET_PATH ,encoding='utf-8')\n",
        "imdb_data.drop_duplicates(subset=['text'],inplace=True) # dropping duplicates\n",
        "imdb_data.dropna(axis=0,inplace=True) # dropping na\n",
        "columns = ['label', 'text', 'summary']\n",
        "imdb_data = imdb_data[columns]\n",
        "imdb_data.head()"
      ],
      "execution_count": 162,
      "outputs": [
        {
          "output_type": "execute_result",
          "data": {
            "text/html": [
              "<div>\n",
              "<style scoped>\n",
              "    .dataframe tbody tr th:only-of-type {\n",
              "        vertical-align: middle;\n",
              "    }\n",
              "\n",
              "    .dataframe tbody tr th {\n",
              "        vertical-align: top;\n",
              "    }\n",
              "\n",
              "    .dataframe thead th {\n",
              "        text-align: right;\n",
              "    }\n",
              "</style>\n",
              "<table border=\"1\" class=\"dataframe\">\n",
              "  <thead>\n",
              "    <tr style=\"text-align: right;\">\n",
              "      <th></th>\n",
              "      <th>label</th>\n",
              "      <th>text</th>\n",
              "      <th>summary</th>\n",
              "    </tr>\n",
              "  </thead>\n",
              "  <tbody>\n",
              "    <tr>\n",
              "      <th>0</th>\n",
              "      <td>neg</td>\n",
              "      <td>I rented I AM CURIOUS-YELLOW from my video sto...</td>\n",
              "      <td>I AM CURIOUS-YELLOW is a film about a young Sw...</td>\n",
              "    </tr>\n",
              "    <tr>\n",
              "      <th>1</th>\n",
              "      <td>neg</td>\n",
              "      <td>\"I Am Curious: Yellow\" is a risible and preten...</td>\n",
              "      <td>\"I Am Curious: Yellow\" is a risible and preten...</td>\n",
              "    </tr>\n",
              "    <tr>\n",
              "      <th>2</th>\n",
              "      <td>neg</td>\n",
              "      <td>If only to avoid making this type of film in t...</td>\n",
              "      <td>The film is interesting as an experiment but t...</td>\n",
              "    </tr>\n",
              "    <tr>\n",
              "      <th>3</th>\n",
              "      <td>neg</td>\n",
              "      <td>This film was probably inspired by Godard's Ma...</td>\n",
              "      <td>Actress Lena Nyman has to be the most annoying...</td>\n",
              "    </tr>\n",
              "    <tr>\n",
              "      <th>4</th>\n",
              "      <td>neg</td>\n",
              "      <td>Oh, brother...after hearing about this ridicul...</td>\n",
              "      <td>After hearing about this ridiculous film for u...</td>\n",
              "    </tr>\n",
              "  </tbody>\n",
              "</table>\n",
              "</div>"
            ],
            "text/plain": [
              "  label  ...                                            summary\n",
              "0   neg  ...  I AM CURIOUS-YELLOW is a film about a young Sw...\n",
              "1   neg  ...  \"I Am Curious: Yellow\" is a risible and preten...\n",
              "2   neg  ...  The film is interesting as an experiment but t...\n",
              "3   neg  ...  Actress Lena Nyman has to be the most annoying...\n",
              "4   neg  ...  After hearing about this ridiculous film for u...\n",
              "\n",
              "[5 rows x 3 columns]"
            ]
          },
          "metadata": {
            "tags": []
          },
          "execution_count": 162
        }
      ]
    },
    {
      "cell_type": "markdown",
      "metadata": {
        "id": "oYdXB1_2D7_E"
      },
      "source": [
        "#### Split the data into Validation and Test DataFrames"
      ]
    },
    {
      "cell_type": "code",
      "metadata": {
        "id": "UD6akU1CjUNb"
      },
      "source": [
        "valid_df = imdb_data[imdb_data['summary'] == 'empty']\n",
        "test_df = imdb_data[imdb_data['summary'] != 'empty']"
      ],
      "execution_count": 163,
      "outputs": []
    },
    {
      "cell_type": "code",
      "metadata": {
        "colab": {
          "base_uri": "https://localhost:8080/",
          "height": 221
        },
        "id": "rCHoLLPLkm12",
        "outputId": "6dd63cbd-3f22-478a-808e-f668a1806d33"
      },
      "source": [
        "print('There are {} samples in the Validation dataset with {} positive and {}\\\n",
        " negative samples.'.format(len(valid_df), (valid_df['label'] == 'pos').sum(),\n",
        "                           (valid_df['label'] == 'neg').sum()))\n",
        "valid_df.head()"
      ],
      "execution_count": 164,
      "outputs": [
        {
          "output_type": "stream",
          "text": [
            "There are 16434 samples in the Validation dataset with 9943 positive and 6491 negative samples.\n"
          ],
          "name": "stdout"
        },
        {
          "output_type": "execute_result",
          "data": {
            "text/html": [
              "<div>\n",
              "<style scoped>\n",
              "    .dataframe tbody tr th:only-of-type {\n",
              "        vertical-align: middle;\n",
              "    }\n",
              "\n",
              "    .dataframe tbody tr th {\n",
              "        vertical-align: top;\n",
              "    }\n",
              "\n",
              "    .dataframe thead th {\n",
              "        text-align: right;\n",
              "    }\n",
              "</style>\n",
              "<table border=\"1\" class=\"dataframe\">\n",
              "  <thead>\n",
              "    <tr style=\"text-align: right;\">\n",
              "      <th></th>\n",
              "      <th>label</th>\n",
              "      <th>text</th>\n",
              "      <th>summary</th>\n",
              "    </tr>\n",
              "  </thead>\n",
              "  <tbody>\n",
              "    <tr>\n",
              "      <th>5961</th>\n",
              "      <td>neg</td>\n",
              "      <td>If this is supposed to be the black experience...</td>\n",
              "      <td>empty</td>\n",
              "    </tr>\n",
              "    <tr>\n",
              "      <th>5962</th>\n",
              "      <td>neg</td>\n",
              "      <td>As a fan of Notorious B.I.G., I was looking fo...</td>\n",
              "      <td>empty</td>\n",
              "    </tr>\n",
              "    <tr>\n",
              "      <th>5963</th>\n",
              "      <td>neg</td>\n",
              "      <td>Look,I'm reading and reading this comments and...</td>\n",
              "      <td>empty</td>\n",
              "    </tr>\n",
              "    <tr>\n",
              "      <th>5964</th>\n",
              "      <td>neg</td>\n",
              "      <td>I thought the movie was OK but very disappoint...</td>\n",
              "      <td>empty</td>\n",
              "    </tr>\n",
              "    <tr>\n",
              "      <th>5965</th>\n",
              "      <td>neg</td>\n",
              "      <td>if you didn't live in the 90's or didn't liste...</td>\n",
              "      <td>empty</td>\n",
              "    </tr>\n",
              "  </tbody>\n",
              "</table>\n",
              "</div>"
            ],
            "text/plain": [
              "     label                                               text summary\n",
              "5961   neg  If this is supposed to be the black experience...   empty\n",
              "5962   neg  As a fan of Notorious B.I.G., I was looking fo...   empty\n",
              "5963   neg  Look,I'm reading and reading this comments and...   empty\n",
              "5964   neg  I thought the movie was OK but very disappoint...   empty\n",
              "5965   neg  if you didn't live in the 90's or didn't liste...   empty"
            ]
          },
          "metadata": {
            "tags": []
          },
          "execution_count": 164
        }
      ]
    },
    {
      "cell_type": "code",
      "metadata": {
        "colab": {
          "base_uri": "https://localhost:8080/",
          "height": 221
        },
        "id": "d-r2p22ZkgtU",
        "outputId": "db8c8126-0cc2-482c-ec72-41dfde7ad339"
      },
      "source": [
        "print('There are {} samples in the Test dataset with {} positive and {}\\\n",
        " negative samples.'.format(len(test_df), (test_df['label'] == 'pos').sum(),\n",
        "                           (test_df['label'] == 'neg').sum()))\n",
        "test_df.head()"
      ],
      "execution_count": 165,
      "outputs": [
        {
          "output_type": "stream",
          "text": [
            "There are 8467 samples in the Test dataset with 2527 positive and 5940 negative samples.\n"
          ],
          "name": "stdout"
        },
        {
          "output_type": "execute_result",
          "data": {
            "text/html": [
              "<div>\n",
              "<style scoped>\n",
              "    .dataframe tbody tr th:only-of-type {\n",
              "        vertical-align: middle;\n",
              "    }\n",
              "\n",
              "    .dataframe tbody tr th {\n",
              "        vertical-align: top;\n",
              "    }\n",
              "\n",
              "    .dataframe thead th {\n",
              "        text-align: right;\n",
              "    }\n",
              "</style>\n",
              "<table border=\"1\" class=\"dataframe\">\n",
              "  <thead>\n",
              "    <tr style=\"text-align: right;\">\n",
              "      <th></th>\n",
              "      <th>label</th>\n",
              "      <th>text</th>\n",
              "      <th>summary</th>\n",
              "    </tr>\n",
              "  </thead>\n",
              "  <tbody>\n",
              "    <tr>\n",
              "      <th>0</th>\n",
              "      <td>neg</td>\n",
              "      <td>I rented I AM CURIOUS-YELLOW from my video sto...</td>\n",
              "      <td>I AM CURIOUS-YELLOW is a film about a young Sw...</td>\n",
              "    </tr>\n",
              "    <tr>\n",
              "      <th>1</th>\n",
              "      <td>neg</td>\n",
              "      <td>\"I Am Curious: Yellow\" is a risible and preten...</td>\n",
              "      <td>\"I Am Curious: Yellow\" is a risible and preten...</td>\n",
              "    </tr>\n",
              "    <tr>\n",
              "      <th>2</th>\n",
              "      <td>neg</td>\n",
              "      <td>If only to avoid making this type of film in t...</td>\n",
              "      <td>The film is interesting as an experiment but t...</td>\n",
              "    </tr>\n",
              "    <tr>\n",
              "      <th>3</th>\n",
              "      <td>neg</td>\n",
              "      <td>This film was probably inspired by Godard's Ma...</td>\n",
              "      <td>Actress Lena Nyman has to be the most annoying...</td>\n",
              "    </tr>\n",
              "    <tr>\n",
              "      <th>4</th>\n",
              "      <td>neg</td>\n",
              "      <td>Oh, brother...after hearing about this ridicul...</td>\n",
              "      <td>After hearing about this ridiculous film for u...</td>\n",
              "    </tr>\n",
              "  </tbody>\n",
              "</table>\n",
              "</div>"
            ],
            "text/plain": [
              "  label  ...                                            summary\n",
              "0   neg  ...  I AM CURIOUS-YELLOW is a film about a young Sw...\n",
              "1   neg  ...  \"I Am Curious: Yellow\" is a risible and preten...\n",
              "2   neg  ...  The film is interesting as an experiment but t...\n",
              "3   neg  ...  Actress Lena Nyman has to be the most annoying...\n",
              "4   neg  ...  After hearing about this ridiculous film for u...\n",
              "\n",
              "[5 rows x 3 columns]"
            ]
          },
          "metadata": {
            "tags": []
          },
          "execution_count": 165
        }
      ]
    },
    {
      "cell_type": "markdown",
      "metadata": {
        "id": "kqQBpDbXEjfN"
      },
      "source": [
        "#### Save the Validation and Test DataFrames into CSV files"
      ]
    },
    {
      "cell_type": "code",
      "metadata": {
        "id": "8Svu35wQERnY"
      },
      "source": [
        "valid_df.to_csv(path_or_buf=SAVE_VALID_DATASET_PATH, columns=columns)\n",
        "test_df.to_csv(path_or_buf=SAVE_TEST_DATASET_PATH, columns=columns)"
      ],
      "execution_count": 167,
      "outputs": []
    }
  ]
}