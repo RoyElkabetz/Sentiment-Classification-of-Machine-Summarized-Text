{
  "nbformat": 4,
  "nbformat_minor": 0,
  "metadata": {
    "colab": {
      "name": "Text_Summarization.ipynb",
      "provenance": [],
      "authorship_tag": "ABX9TyN+67VXDYTcGtV1yJRi/79R",
      "include_colab_link": true
    },
    "kernelspec": {
      "name": "python3",
      "display_name": "Python 3"
    },
    "language_info": {
      "name": "python"
    },
    "widgets": {
      "application/vnd.jupyter.widget-state+json": {
        "1fa79a09556740e38709ce867e20c7e6": {
          "model_module": "@jupyter-widgets/controls",
          "model_name": "HBoxModel",
          "state": {
            "_view_name": "HBoxView",
            "_dom_classes": [],
            "_model_name": "HBoxModel",
            "_view_module": "@jupyter-widgets/controls",
            "_model_module_version": "1.5.0",
            "_view_count": null,
            "_view_module_version": "1.5.0",
            "box_style": "",
            "layout": "IPY_MODEL_52d59940510f44c79b9f50dccf57d3db",
            "_model_module": "@jupyter-widgets/controls",
            "children": [
              "IPY_MODEL_c65b979564254ba080b321c9483e5691",
              "IPY_MODEL_dd14ee017e5c47e2bdb3d23142439892"
            ]
          }
        },
        "52d59940510f44c79b9f50dccf57d3db": {
          "model_module": "@jupyter-widgets/base",
          "model_name": "LayoutModel",
          "state": {
            "_view_name": "LayoutView",
            "grid_template_rows": null,
            "right": null,
            "justify_content": null,
            "_view_module": "@jupyter-widgets/base",
            "overflow": null,
            "_model_module_version": "1.2.0",
            "_view_count": null,
            "flex_flow": null,
            "width": null,
            "min_width": null,
            "border": null,
            "align_items": null,
            "bottom": null,
            "_model_module": "@jupyter-widgets/base",
            "top": null,
            "grid_column": null,
            "overflow_y": null,
            "overflow_x": null,
            "grid_auto_flow": null,
            "grid_area": null,
            "grid_template_columns": null,
            "flex": null,
            "_model_name": "LayoutModel",
            "justify_items": null,
            "grid_row": null,
            "max_height": null,
            "align_content": null,
            "visibility": null,
            "align_self": null,
            "height": null,
            "min_height": null,
            "padding": null,
            "grid_auto_rows": null,
            "grid_gap": null,
            "max_width": null,
            "order": null,
            "_view_module_version": "1.2.0",
            "grid_template_areas": null,
            "object_position": null,
            "object_fit": null,
            "grid_auto_columns": null,
            "margin": null,
            "display": null,
            "left": null
          }
        },
        "c65b979564254ba080b321c9483e5691": {
          "model_module": "@jupyter-widgets/controls",
          "model_name": "FloatProgressModel",
          "state": {
            "_view_name": "ProgressView",
            "style": "IPY_MODEL_df176fba96de4cdfa218d7d9ae194dae",
            "_dom_classes": [],
            "description": "100%",
            "_model_name": "FloatProgressModel",
            "bar_style": "success",
            "max": 30,
            "_view_module": "@jupyter-widgets/controls",
            "_model_module_version": "1.5.0",
            "value": 30,
            "_view_count": null,
            "_view_module_version": "1.5.0",
            "orientation": "horizontal",
            "min": 0,
            "description_tooltip": null,
            "_model_module": "@jupyter-widgets/controls",
            "layout": "IPY_MODEL_3541cd6ec3bb4231b01275720ce90ce3"
          }
        },
        "dd14ee017e5c47e2bdb3d23142439892": {
          "model_module": "@jupyter-widgets/controls",
          "model_name": "HTMLModel",
          "state": {
            "_view_name": "HTMLView",
            "style": "IPY_MODEL_d7681798fb5a4239b7eec2a178d5603a",
            "_dom_classes": [],
            "description": "",
            "_model_name": "HTMLModel",
            "placeholder": "​",
            "_view_module": "@jupyter-widgets/controls",
            "_model_module_version": "1.5.0",
            "value": " 30/30 [1:05:44&lt;00:00, 131.48s/it]",
            "_view_count": null,
            "_view_module_version": "1.5.0",
            "description_tooltip": null,
            "_model_module": "@jupyter-widgets/controls",
            "layout": "IPY_MODEL_1efafe37727f4640b95fb9ba09384c5f"
          }
        },
        "df176fba96de4cdfa218d7d9ae194dae": {
          "model_module": "@jupyter-widgets/controls",
          "model_name": "ProgressStyleModel",
          "state": {
            "_view_name": "StyleView",
            "_model_name": "ProgressStyleModel",
            "description_width": "initial",
            "_view_module": "@jupyter-widgets/base",
            "_model_module_version": "1.5.0",
            "_view_count": null,
            "_view_module_version": "1.2.0",
            "bar_color": null,
            "_model_module": "@jupyter-widgets/controls"
          }
        },
        "3541cd6ec3bb4231b01275720ce90ce3": {
          "model_module": "@jupyter-widgets/base",
          "model_name": "LayoutModel",
          "state": {
            "_view_name": "LayoutView",
            "grid_template_rows": null,
            "right": null,
            "justify_content": null,
            "_view_module": "@jupyter-widgets/base",
            "overflow": null,
            "_model_module_version": "1.2.0",
            "_view_count": null,
            "flex_flow": null,
            "width": null,
            "min_width": null,
            "border": null,
            "align_items": null,
            "bottom": null,
            "_model_module": "@jupyter-widgets/base",
            "top": null,
            "grid_column": null,
            "overflow_y": null,
            "overflow_x": null,
            "grid_auto_flow": null,
            "grid_area": null,
            "grid_template_columns": null,
            "flex": null,
            "_model_name": "LayoutModel",
            "justify_items": null,
            "grid_row": null,
            "max_height": null,
            "align_content": null,
            "visibility": null,
            "align_self": null,
            "height": null,
            "min_height": null,
            "padding": null,
            "grid_auto_rows": null,
            "grid_gap": null,
            "max_width": null,
            "order": null,
            "_view_module_version": "1.2.0",
            "grid_template_areas": null,
            "object_position": null,
            "object_fit": null,
            "grid_auto_columns": null,
            "margin": null,
            "display": null,
            "left": null
          }
        },
        "d7681798fb5a4239b7eec2a178d5603a": {
          "model_module": "@jupyter-widgets/controls",
          "model_name": "DescriptionStyleModel",
          "state": {
            "_view_name": "StyleView",
            "_model_name": "DescriptionStyleModel",
            "description_width": "",
            "_view_module": "@jupyter-widgets/base",
            "_model_module_version": "1.5.0",
            "_view_count": null,
            "_view_module_version": "1.2.0",
            "_model_module": "@jupyter-widgets/controls"
          }
        },
        "1efafe37727f4640b95fb9ba09384c5f": {
          "model_module": "@jupyter-widgets/base",
          "model_name": "LayoutModel",
          "state": {
            "_view_name": "LayoutView",
            "grid_template_rows": null,
            "right": null,
            "justify_content": null,
            "_view_module": "@jupyter-widgets/base",
            "overflow": null,
            "_model_module_version": "1.2.0",
            "_view_count": null,
            "flex_flow": null,
            "width": null,
            "min_width": null,
            "border": null,
            "align_items": null,
            "bottom": null,
            "_model_module": "@jupyter-widgets/base",
            "top": null,
            "grid_column": null,
            "overflow_y": null,
            "overflow_x": null,
            "grid_auto_flow": null,
            "grid_area": null,
            "grid_template_columns": null,
            "flex": null,
            "_model_name": "LayoutModel",
            "justify_items": null,
            "grid_row": null,
            "max_height": null,
            "align_content": null,
            "visibility": null,
            "align_self": null,
            "height": null,
            "min_height": null,
            "padding": null,
            "grid_auto_rows": null,
            "grid_gap": null,
            "max_width": null,
            "order": null,
            "_view_module_version": "1.2.0",
            "grid_template_areas": null,
            "object_position": null,
            "object_fit": null,
            "grid_auto_columns": null,
            "margin": null,
            "display": null,
            "left": null
          }
        }
      }
    },
    "accelerator": "GPU"
  },
  "cells": [
    {
      "cell_type": "markdown",
      "metadata": {
        "id": "view-in-github",
        "colab_type": "text"
      },
      "source": [
        "<a href=\"https://colab.research.google.com/github/RoyElkabetz/Text-Summarization-with-Deep-Learning/blob/main/Text_Summarization.ipynb\" target=\"_parent\"><img src=\"https://colab.research.google.com/assets/colab-badge.svg\" alt=\"Open In Colab\"/></a>"
      ]
    },
    {
      "cell_type": "code",
      "metadata": {
        "colab": {
          "base_uri": "https://localhost:8080/"
        },
        "id": "94-50bV31g5A",
        "outputId": "8591e9cc-6fe0-410c-f662-65c8e3fb3f75"
      },
      "source": [
        "## uncomment only if running from google.colab\n",
        "# clone the git reposetory\n",
        "!git clone https://github.com/RoyElkabetz/Text-Summarization-with-Deep-Learning\n",
        "# add path to .py files for import\n",
        "import sys\n",
        "sys.path.insert(1, \"/content/Text-Summarization-with-Deep-Learning\")"
      ],
      "execution_count": 1,
      "outputs": [
        {
          "output_type": "stream",
          "text": [
            "Cloning into 'Text-Summarization-with-Deep-Learning'...\n",
            "remote: Enumerating objects: 137, done.\u001b[K\n",
            "remote: Counting objects: 100% (137/137), done.\u001b[K\n",
            "remote: Compressing objects: 100% (136/136), done.\u001b[K\n",
            "remote: Total 137 (delta 78), reused 6 (delta 0), pack-reused 0\u001b[K\n",
            "Receiving objects: 100% (137/137), 359.26 KiB | 1.76 MiB/s, done.\n",
            "Resolving deltas: 100% (78/78), done.\n"
          ],
          "name": "stdout"
        }
      ]
    },
    {
      "cell_type": "code",
      "metadata": {
        "colab": {
          "base_uri": "https://localhost:8080/"
        },
        "id": "-ejtaOc71hzT",
        "outputId": "3ab28b33-7ca8-45d6-8266-8b5bcf0ea9b3"
      },
      "source": [
        "## uncomment to mount google drive\n",
        "from google.colab import drive\n",
        "drive.mount('/content/gdrive')"
      ],
      "execution_count": 2,
      "outputs": [
        {
          "output_type": "stream",
          "text": [
            "Mounted at /content/gdrive\n"
          ],
          "name": "stdout"
        }
      ]
    },
    {
      "cell_type": "code",
      "metadata": {
        "id": "CniCusU62lza"
      },
      "source": [
        "PATH_DATASET = '/content/gdrive/MyDrive/Datasets/Text/news_summary_more.csv'"
      ],
      "execution_count": 3,
      "outputs": []
    },
    {
      "cell_type": "code",
      "metadata": {
        "colab": {
          "base_uri": "https://localhost:8080/"
        },
        "id": "wZxlt_woxho8",
        "outputId": "b2893f3f-7ded-473e-9433-b862ac9d72d3"
      },
      "source": [
        "%matplotlib inline\n",
        "import os\n",
        "import time\n",
        "import random\n",
        "import math\n",
        "import numpy as np\n",
        "import pandas as pd\n",
        "import matplotlib.pyplot as plt\n",
        "from IPython.display import HTML, display, clear_output\n",
        "from tqdm.autonotebook import tqdm\n",
        "\n",
        "\n",
        "import torch\n",
        "from torch import nn\n",
        "import torchtext.legacy.data as data\n",
        "from torchtext.data.utils import get_tokenizer\n",
        "from torchtext.legacy.data import Field, Dataset, Example, BucketIterator, Iterator\n",
        "from torch.utils.data import DataLoader, random_split\n",
        "\n",
        "# from torchtext.datasets import IMDB as the_dataset\n",
        "# from torchtext.datasets import AG_NEWS as the_dataset\n",
        "# import torchtext.data as data\n",
        "# from torchtext.data.utils import get_tokenizer\n",
        "# from torchtext.vocab import build_vocab_from_iterator\n",
        "# from torchtext.data.functional import to_map_style_dataset\n",
        "# from torch.utils.data import DataLoader\n",
        "# from torch.utils.data.dataset import random_split\n",
        "# from torch import nn\n",
        "\n",
        "seed = 210\n",
        "np.random.seed(seed)\n",
        "torch.manual_seed(seed)\n",
        "\n",
        "\n",
        "\n",
        "print(f'torch {torch.__version__}')\n",
        "print('Device properties:')\n",
        "if torch.cuda.is_available():\n",
        "    device = torch.device(\"cuda\")\n",
        "    gpu_data = torch.cuda.get_device_properties(0)\n",
        "    gpu_name = gpu_data.name\n",
        "    gpu_mem  = f'{gpu_data.total_memory * 1e-9:.02f} Gb'\n",
        "    print(f'GPU: {gpu_name}\\nMemory: {gpu_mem}')\n",
        "else:\n",
        "    device = torch.device(\"cpu\")\n",
        "    print('CPU')"
      ],
      "execution_count": 95,
      "outputs": [
        {
          "output_type": "stream",
          "text": [
            "torch 1.9.0+cu102\n",
            "Device properties:\n",
            "GPU: Tesla T4\n",
            "Memory: 15.84 Gb\n"
          ],
          "name": "stdout"
        }
      ]
    },
    {
      "cell_type": "code",
      "metadata": {
        "id": "5p6Ut6L0t4fQ"
      },
      "source": [
        "class DataFrameDataset(Dataset):\n",
        "    \"\"\"Class for using pandas DataFrames as a datasource\"\"\"\n",
        "    \"\"\"Pytorch legacy Dataset: https://pytorch.org/text/_modules/torchtext/data/dataset.html\"\"\"\n",
        "    def __init__(self, examples, fields, filter_pred=None):\n",
        "        \"\"\"\n",
        "        Create a dataset from a pandas dataframe of examples and Fields\n",
        "        Arguments:\n",
        "            examples pd.DataFrame: DataFrame of examples\n",
        "            fields {str: Field}: The Fields to use in this tuple. The\n",
        "                string is a field name, and the Field is the associated field.\n",
        "            filter_pred (callable or None): use only exanples for which\n",
        "                filter_pred(example) is true, or use all examples if None.\n",
        "                Default is None\n",
        "        \"\"\"\n",
        "        self.examples = examples.apply(SeriesExample.fromSeries, args=(fields,), axis=1).tolist()\n",
        "        if filter_pred is not None:\n",
        "            self.examples = filter(filter_pred, self.examples)\n",
        "        self.fields = dict(fields)\n",
        "        # Unpack field tuples\n",
        "        for n, f in list(self.fields.items()):\n",
        "            if isinstance(n, tuple):\n",
        "                self.fields.update(zip(n, f))\n",
        "                del self.fields[n]\n",
        "\n",
        "class SeriesExample(Example):\n",
        "    \"\"\"Class to convert a pandas Series to an Example\"\"\"\n",
        "  \n",
        "    @classmethod\n",
        "    def fromSeries(cls, data, fields):\n",
        "        return cls.fromdict(data.to_dict(), fields)\n",
        "\n",
        "    @classmethod\n",
        "    def fromdict(cls, data, fields):\n",
        "        ex = cls()\n",
        "        \n",
        "        for key, field in fields.items():\n",
        "            if key not in data:\n",
        "                raise ValueError(\"Specified key {} was not found in \"\n",
        "                \"the input data\".format(key))\n",
        "            if field is not None:\n",
        "                setattr(ex, key, field.preprocess(data[key]))\n",
        "            else:\n",
        "                setattr(ex, key, data[key])\n",
        "        return ex"
      ],
      "execution_count": 96,
      "outputs": []
    },
    {
      "cell_type": "code",
      "metadata": {
        "colab": {
          "base_uri": "https://localhost:8080/",
          "height": 204
        },
        "id": "DgDn9Xxy3FqN",
        "outputId": "684c5d8e-a207-400b-e983-8e9ca499f4b9"
      },
      "source": [
        "data_df = pd.read_csv(PATH_DATASET ,encoding='utf-8')\n",
        "data_df.drop_duplicates(subset=['text'],inplace=True)  # dropping duplicates\n",
        "data_df.dropna(axis=0,inplace=True)  # dropping na\n",
        "data_df.head()"
      ],
      "execution_count": 97,
      "outputs": [
        {
          "output_type": "execute_result",
          "data": {
            "text/html": [
              "<div>\n",
              "<style scoped>\n",
              "    .dataframe tbody tr th:only-of-type {\n",
              "        vertical-align: middle;\n",
              "    }\n",
              "\n",
              "    .dataframe tbody tr th {\n",
              "        vertical-align: top;\n",
              "    }\n",
              "\n",
              "    .dataframe thead th {\n",
              "        text-align: right;\n",
              "    }\n",
              "</style>\n",
              "<table border=\"1\" class=\"dataframe\">\n",
              "  <thead>\n",
              "    <tr style=\"text-align: right;\">\n",
              "      <th></th>\n",
              "      <th>headlines</th>\n",
              "      <th>text</th>\n",
              "    </tr>\n",
              "  </thead>\n",
              "  <tbody>\n",
              "    <tr>\n",
              "      <th>0</th>\n",
              "      <td>upGrad learner switches to career in ML &amp; Al w...</td>\n",
              "      <td>Saurav Kant, an alumnus of upGrad and IIIT-B's...</td>\n",
              "    </tr>\n",
              "    <tr>\n",
              "      <th>1</th>\n",
              "      <td>Delhi techie wins free food from Swiggy for on...</td>\n",
              "      <td>Kunal Shah's credit card bill payment platform...</td>\n",
              "    </tr>\n",
              "    <tr>\n",
              "      <th>2</th>\n",
              "      <td>New Zealand end Rohit Sharma-led India's 12-ma...</td>\n",
              "      <td>New Zealand defeated India by 8 wickets in the...</td>\n",
              "    </tr>\n",
              "    <tr>\n",
              "      <th>3</th>\n",
              "      <td>Aegon life iTerm insurance plan helps customer...</td>\n",
              "      <td>With Aegon Life iTerm Insurance plan, customer...</td>\n",
              "    </tr>\n",
              "    <tr>\n",
              "      <th>4</th>\n",
              "      <td>Have known Hirani for yrs, what if MeToo claim...</td>\n",
              "      <td>Speaking about the sexual harassment allegatio...</td>\n",
              "    </tr>\n",
              "  </tbody>\n",
              "</table>\n",
              "</div>"
            ],
            "text/plain": [
              "                                           headlines                                               text\n",
              "0  upGrad learner switches to career in ML & Al w...  Saurav Kant, an alumnus of upGrad and IIIT-B's...\n",
              "1  Delhi techie wins free food from Swiggy for on...  Kunal Shah's credit card bill payment platform...\n",
              "2  New Zealand end Rohit Sharma-led India's 12-ma...  New Zealand defeated India by 8 wickets in the...\n",
              "3  Aegon life iTerm insurance plan helps customer...  With Aegon Life iTerm Insurance plan, customer...\n",
              "4  Have known Hirani for yrs, what if MeToo claim...  Speaking about the sexual harassment allegatio..."
            ]
          },
          "metadata": {
            "tags": []
          },
          "execution_count": 97
        }
      ]
    },
    {
      "cell_type": "code",
      "metadata": {
        "id": "JDhBVBMb3dp8"
      },
      "source": [
        "contraction_mapping = {\"ain't\": \"is not\", \"aren't\": \"are not\",\"can't\": \"cannot\", \"'cause\": \"because\", \"could've\": \"could have\", \"couldn't\": \"could not\",\n",
        "                           \"didn't\": \"did not\",  \"doesn't\": \"does not\", \"don't\": \"do not\", \"hadn't\": \"had not\", \"hasn't\": \"has not\", \"haven't\": \"have not\",\n",
        "                           \"he'd\": \"he would\",\"he'll\": \"he will\", \"he's\": \"he is\", \"how'd\": \"how did\", \"how'd'y\": \"how do you\", \"how'll\": \"how will\", \"how's\": \"how is\",\n",
        "                           \"I'd\": \"I would\", \"I'd've\": \"I would have\", \"I'll\": \"I will\", \"I'll've\": \"I will have\",\"I'm\": \"I am\", \"I've\": \"I have\", \"i'd\": \"i would\",\n",
        "                           \"i'd've\": \"i would have\", \"i'll\": \"i will\",  \"i'll've\": \"i will have\",\"i'm\": \"i am\", \"i've\": \"i have\", \"isn't\": \"is not\", \"it'd\": \"it would\",\n",
        "                           \"it'd've\": \"it would have\", \"it'll\": \"it will\", \"it'll've\": \"it will have\",\"it's\": \"it is\", \"let's\": \"let us\", \"ma'am\": \"madam\",\n",
        "                           \"mayn't\": \"may not\", \"might've\": \"might have\",\"mightn't\": \"might not\",\"mightn't've\": \"might not have\", \"must've\": \"must have\",\n",
        "                           \"mustn't\": \"must not\", \"mustn't've\": \"must not have\", \"needn't\": \"need not\", \"needn't've\": \"need not have\",\"o'clock\": \"of the clock\",\n",
        "                           \"oughtn't\": \"ought not\", \"oughtn't've\": \"ought not have\", \"shan't\": \"shall not\", \"sha'n't\": \"shall not\", \"shan't've\": \"shall not have\",\n",
        "                           \"she'd\": \"she would\", \"she'd've\": \"she would have\", \"she'll\": \"she will\", \"she'll've\": \"she will have\", \"she's\": \"she is\",\n",
        "                           \"should've\": \"should have\", \"shouldn't\": \"should not\", \"shouldn't've\": \"should not have\", \"so've\": \"so have\",\"so's\": \"so as\",\n",
        "                           \"this's\": \"this is\",\"that'd\": \"that would\", \"that'd've\": \"that would have\", \"that's\": \"that is\", \"there'd\": \"there would\",\n",
        "                           \"there'd've\": \"there would have\", \"there's\": \"there is\", \"here's\": \"here is\",\"they'd\": \"they would\", \"they'd've\": \"they would have\",\n",
        "                           \"they'll\": \"they will\", \"they'll've\": \"they will have\", \"they're\": \"they are\", \"they've\": \"they have\", \"to've\": \"to have\",\n",
        "                           \"wasn't\": \"was not\", \"we'd\": \"we would\", \"we'd've\": \"we would have\", \"we'll\": \"we will\", \"we'll've\": \"we will have\", \"we're\": \"we are\",\n",
        "                           \"we've\": \"we have\", \"weren't\": \"were not\", \"what'll\": \"what will\", \"what'll've\": \"what will have\", \"what're\": \"what are\",\n",
        "                           \"what's\": \"what is\", \"what've\": \"what have\", \"when's\": \"when is\", \"when've\": \"when have\", \"where'd\": \"where did\", \"where's\": \"where is\",\n",
        "                           \"where've\": \"where have\", \"who'll\": \"who will\", \"who'll've\": \"who will have\", \"who's\": \"who is\", \"who've\": \"who have\",\n",
        "                           \"why's\": \"why is\", \"why've\": \"why have\", \"will've\": \"will have\", \"won't\": \"will not\", \"won't've\": \"will not have\",\n",
        "                           \"would've\": \"would have\", \"wouldn't\": \"would not\", \"wouldn't've\": \"would not have\", \"y'all\": \"you all\",\n",
        "                           \"y'all'd\": \"you all would\",\"y'all'd've\": \"you all would have\",\"y'all're\": \"you all are\",\"y'all've\": \"you all have\",\n",
        "                           \"you'd\": \"you would\", \"you'd've\": \"you would have\", \"you'll\": \"you will\", \"you'll've\": \"you will have\",\n",
        "                           \"you're\": \"you are\", \"you've\": \"you have\"}"
      ],
      "execution_count": 98,
      "outputs": []
    },
    {
      "cell_type": "code",
      "metadata": {
        "colab": {
          "base_uri": "https://localhost:8080/"
        },
        "id": "xiAmXOc0378W",
        "outputId": "ca52d7d3-851c-4be3-9c4f-0c11915efecd"
      },
      "source": [
        "## run this if you want to remove stop words from data\n",
        "import re\n",
        "import nltk\n",
        "from nltk.corpus import stopwords\n",
        "nltk.download('stopwords')\n",
        "\n",
        "stop_words = stopwords.words('english')\n",
        "\n",
        "def preprocess(text):\n",
        "    text = text.lower() # lowercase\n",
        "    text = text.split() # convert have'nt -> have not\n",
        "    for i in range(len(text)):\n",
        "        word = text[i]\n",
        "        if word in contraction_mapping:\n",
        "            text[i] = contraction_mapping[word]\n",
        "    text = \" \".join(text)\n",
        "    # text = text.split()\n",
        "    # newtext = []\n",
        "    # for word in text:\n",
        "    #     if word not in stop_words:\n",
        "    #         newtext.append(word)\n",
        "    # text = \" \".join(newtext)\n",
        "    # text = text.replace(\"'s\",'') # convert your's -> your\n",
        "    #text = re.sub(r'\\(.*\\)','',text) # remove (words)\n",
        "    #text = re.sub(r'[^a-zA-Z0-9. ]','',text) # remove punctuations\n",
        "    #text = re.sub(r'\\.',' . ',text)\n",
        "    return text\n",
        "\n",
        "sample = \"(hello) hi there .man tiger caller who's that isn't it ? WALL-E\"\n",
        "print(preprocess(sample))"
      ],
      "execution_count": 99,
      "outputs": [
        {
          "output_type": "stream",
          "text": [
            "[nltk_data] Downloading package stopwords to /root/nltk_data...\n",
            "[nltk_data]   Package stopwords is already up-to-date!\n",
            "(hello) hi there .man tiger caller who is that is not it ? wall-e\n"
          ],
          "name": "stdout"
        }
      ]
    },
    {
      "cell_type": "code",
      "metadata": {
        "colab": {
          "base_uri": "https://localhost:8080/"
        },
        "id": "q9I6cfkx5ED3",
        "outputId": "a214e70b-fde5-42fb-a715-2d4aadbabed2"
      },
      "source": [
        "# process the data inplace\n",
        "print('Before preprocessing:\\n {}\\n {}\\n'.format(data_df['headlines'][20], data_df['text'][20]))\n",
        "data_df['cleaned_headlines'] = data_df['headlines'].apply(lambda x: preprocess(x))\n",
        "data_df['cleaned_text'] = data_df['text'].apply(lambda x: preprocess(x))\n",
        "print('After preprocessing:\\n {}\\n {}\\n'.format(data_df['headlines'][20], data_df['text'][20]))\n",
        "print('After preprocessing:\\n {}\\n {}\\n'.format(data_df['cleaned_headlines'][20], data_df['cleaned_text'][20]))"
      ],
      "execution_count": 100,
      "outputs": [
        {
          "output_type": "stream",
          "text": [
            "Before preprocessing:\n",
            " I think the opposition even dreams about me: PM Modi\n",
            " Claiming there is a dearth of ideas among opposition parties, Prime Minister Narendra Modi on Wednesday said, \"The opposition talks only about Modi the whole day, I suspect they even dream about me.\" PM Modi, who was addressing the New India Youth Conclave inâ Surat, added that the opposition parties have only one agenda which is \"Modi\". \n",
            "\n",
            "After preprocessing:\n",
            " I think the opposition even dreams about me: PM Modi\n",
            " Claiming there is a dearth of ideas among opposition parties, Prime Minister Narendra Modi on Wednesday said, \"The opposition talks only about Modi the whole day, I suspect they even dream about me.\" PM Modi, who was addressing the New India Youth Conclave inâ Surat, added that the opposition parties have only one agenda which is \"Modi\". \n",
            "\n",
            "After preprocessing:\n",
            " i think the opposition even dreams about me: pm modi\n",
            " claiming there is a dearth of ideas among opposition parties, prime minister narendra modi on wednesday said, \"the opposition talks only about modi the whole day, i suspect they even dream about me.\" pm modi, who was addressing the new india youth conclave inâ surat, added that the opposition parties have only one agenda which is \"modi\".\n",
            "\n"
          ],
          "name": "stdout"
        }
      ]
    },
    {
      "cell_type": "code",
      "metadata": {
        "id": "ceSbOcqp6m-c"
      },
      "source": [
        "data_df.replace('', np.nan, inplace=True)\n",
        "data_df.dropna(axis=0, inplace=True)"
      ],
      "execution_count": 101,
      "outputs": []
    },
    {
      "cell_type": "code",
      "metadata": {
        "colab": {
          "base_uri": "https://localhost:8080/",
          "height": 281
        },
        "id": "ndNK3O3J9tTZ",
        "outputId": "8d355699-e1eb-4d22-f517-03cdbe1e761f"
      },
      "source": [
        "text_word_count = []\n",
        "headlines_word_count = []\n",
        "\n",
        "# populate the lists with sentence lengths\n",
        "for i in data_df['cleaned_text']:\n",
        "      text_word_count.append(len(i.split()))\n",
        "\n",
        "for i in data_df['cleaned_headlines']:\n",
        "      headlines_word_count.append(len(i.split()))\n",
        "\n",
        "\n",
        "length_df = pd.DataFrame({'cleaned_text':text_word_count, 'cleaned_headlines':headlines_word_count})\n",
        "length_df.hist(bins = 30)\n",
        "plt.show()"
      ],
      "execution_count": 102,
      "outputs": [
        {
          "output_type": "display_data",
          "data": {
            "image/png": "[encoded data removed]",
            "text/plain": [
              "<Figure size 432x288 with 2 Axes>"
            ]
          },
          "metadata": {
            "tags": [],
            "needs_background": "light"
          }
        }
      ]
    },
    {
      "cell_type": "code",
      "metadata": {
        "colab": {
          "base_uri": "https://localhost:8080/"
        },
        "id": "bsdZeXQC-Gw9",
        "outputId": "ec386256-c673-45d8-da18-cfe990d0044e"
      },
      "source": [
        "cnt = 0\n",
        "for i in data_df['cleaned_headlines']:\n",
        "    if(len(i.split()) <= 15):\n",
        "        cnt += 1\n",
        "print(cnt / len(data_df['cleaned_headlines']))\n",
        "\n",
        "cnt = 0\n",
        "for i in data_df['cleaned_text']:\n",
        "    if(len(i.split()) <= 65):\n",
        "        cnt += 1\n",
        "print(cnt / len(data_df['cleaned_text']))"
      ],
      "execution_count": 103,
      "outputs": [
        {
          "output_type": "stream",
          "text": [
            "0.9997559983733225\n",
            "0.9999186661244408\n"
          ],
          "name": "stdout"
        }
      ]
    },
    {
      "cell_type": "code",
      "metadata": {
        "id": "0SZHjWgw-NAm"
      },
      "source": [
        "max_text_len = 65\n",
        "max_summary_len = 15\n",
        "pad_token = ' <pad>'"
      ],
      "execution_count": 104,
      "outputs": []
    },
    {
      "cell_type": "code",
      "metadata": {
        "id": "X2IMDGBa--mH",
        "colab": {
          "base_uri": "https://localhost:8080/"
        },
        "outputId": "e94a799b-bd9c-44ea-a7c6-f2fbf05c7892"
      },
      "source": [
        "cleaned_text = np.array(data_df['cleaned_text'])\n",
        "cleaned_summary = np.array(data_df['cleaned_headlines'])\n",
        "\n",
        "short_text = []\n",
        "short_summary = []\n",
        "\n",
        "for i in range(len(cleaned_text)):\n",
        "    if(len(cleaned_summary[i].split()) <= max_summary_len and len(cleaned_text[i].split()) <= max_text_len):\n",
        "        #padded_cleaned_text = cleaned_text[i] + (max_text_len - len(cleaned_text[i].split())) * [pad_token]\n",
        "        #padded_cleaned_summary = cleaned_summary[i] + (max_summary_len - len(cleaned_summary[i].split())) * [pad_token]\n",
        "        short_text.append(cleaned_text[i])\n",
        "        short_summary.append(cleaned_summary[i])\n",
        "        \n",
        "df = pd.DataFrame({'text': short_text,'summary': short_summary})\n",
        "print(len(df))"
      ],
      "execution_count": 105,
      "outputs": [
        {
          "output_type": "stream",
          "text": [
            "98328\n"
          ],
          "name": "stdout"
        }
      ]
    },
    {
      "cell_type": "code",
      "metadata": {
        "id": "f2Po4j1tATeO"
      },
      "source": [
        "tokenizer = get_tokenizer(\"basic_english\")\n",
        "\n",
        "# define the text field for the dataset\n",
        "TEXT = data.Field(sequential=True,\n",
        "                  lower=True, \n",
        "                  tokenize=tokenizer,\n",
        "                  init_token='<sos>', \n",
        "                  eos_token='<eos>',\n",
        "                  dtype=torch.long)\n",
        "# define the text field for the dataset\n",
        "SUMMARY = data.Field(sequential=True,\n",
        "                    lower=True, \n",
        "                    tokenize=tokenizer,\n",
        "                    init_token='<sos>', \n",
        "                    eos_token='<eos>',\n",
        "                    dtype=torch.long)\n",
        "#SUMMARY = data.Field(sequential=True, tokenize=tokenizer)\n",
        "# TEXT.build_vocab(my_data, max_size=25000, vectors=\"glove.6B.100d\") \n",
        "#TEXT.build_vocab(my_data, max_size=25000) \n",
        "#SUMMARY.build_vocab(my_data)\n",
        "fields = {'text': TEXT, 'summary': SUMMARY}"
      ],
      "execution_count": 106,
      "outputs": []
    },
    {
      "cell_type": "code",
      "metadata": {
        "id": "yv6xCz8Btxez"
      },
      "source": [
        "train_data, test_data, val_data = DataFrameDataset(df, fields=fields).split(split_ratio=[0.8, 0.1, 0.1])"
      ],
      "execution_count": 107,
      "outputs": []
    },
    {
      "cell_type": "code",
      "metadata": {
        "id": "e_l8aWWP0LTr",
        "colab": {
          "base_uri": "https://localhost:8080/"
        },
        "outputId": "ae6656e8-f9d9-46b7-a41d-cda6b3b7fcf0"
      },
      "source": [
        "TEXT.build_vocab(train_data, min_freq=2)\n",
        "SUMMARY.build_vocab(train_data, min_freq=2) \n",
        "\n",
        "print(f\"Unique tokens in training text vocabulary: {len(TEXT.vocab)}\")\n",
        "print(f\"Unique tokens in training summary vocabulary: {len(SUMMARY.vocab)}\")"
      ],
      "execution_count": 108,
      "outputs": [
        {
          "output_type": "stream",
          "text": [
            "Unique tokens in training text vocabulary: 54129\n",
            "Unique tokens in training summary vocabulary: 22331\n"
          ],
          "name": "stdout"
        }
      ]
    },
    {
      "cell_type": "code",
      "metadata": {
        "colab": {
          "base_uri": "https://localhost:8080/",
          "height": 434
        },
        "id": "rVqBCyuyvxry",
        "outputId": "93853917-5a9b-404e-e5e4-5ef93a93a424"
      },
      "source": [
        "print(f'Number of train samples: {len(train_data)}')\n",
        "print(f'Number of validation samples: {len(val_data)}')\n",
        "print(f'Number of test samples: {len(test_data)}')\n",
        "\n",
        "# display data samples\n",
        "display(HTML('<h4>Display data samples:</h4>'))\n",
        "n_samples = 2\n",
        "for i in range(n_samples):\n",
        "    print(\"\\nText:\\n \", \" \".join([t for t in train_data.examples[i].text]))\n",
        "    print(\"Tokens:\\n \", [TEXT.vocab.stoi[t] for t in train_data.examples[i].text])\n",
        "    print(\"Summary:\\n \", \" \".join([t for t in train_data.examples[i].summary]))\n",
        "    print(\"Tokens:\\n \", [SUMMARY.vocab.stoi[t] for t in train_data.examples[i].summary])"
      ],
      "execution_count": 109,
      "outputs": [
        {
          "output_type": "stream",
          "text": [
            "Number of train samples: 78662\n",
            "Number of validation samples: 9833\n",
            "Number of test samples: 9833\n"
          ],
          "name": "stdout"
        },
        {
          "output_type": "display_data",
          "data": {
            "text/html": [
              "<h4>Display data samples:</h4>"
            ],
            "text/plain": [
              "<IPython.core.display.HTML object>"
            ]
          },
          "metadata": {
            "tags": []
          }
        },
        {
          "output_type": "stream",
          "text": [
            "\n",
            "Text:\n",
            "  as per experts , the yamuna river is at its healthiest this year and its water quality has improved significantly due to a rise in inflow of flood water . the improvement is due to the increased oxygen content which cleanses the river , they said . the temporary improvement in water quality is an yearly affair , said a yamuna biodiversity park scientist . nn\n",
            "Tokens:\n",
            "  [28, 215, 3009, 6, 4, 6036, 1551, 20, 30, 47, 28431, 46, 74, 12, 47, 362, 1650, 15, 4913, 6822, 190, 7, 8, 1628, 9, 17129, 11, 4757, 362, 5, 4, 6718, 20, 190, 7, 4, 1016, 2680, 1319, 39, 0, 4, 1551, 6, 61, 17, 5, 4, 3756, 6718, 9, 362, 1650, 20, 31, 9304, 2874, 6, 17, 8, 6036, 16909, 1513, 4022, 5, 1325]\n",
            "Summary:\n",
            "  yamuna at its healthiest in 2018 due to flood water experts\n",
            "Tokens:\n",
            "  [3699, 17, 86, 19509, 6, 177, 191, 5, 2000, 376, 4762]\n",
            "\n",
            "Text:\n",
            "  google has lost a ' right to be forgotten ' case filed by a uk businessman , who demanded search results about a past crime he had committed to be deleted . he got six months in jail 10 years ago for conspiring to intercept communications . the ' right to be forgotten ' , established in 2014 , allowed people to ask search engines to delist their information .\n",
            "Tokens:\n",
            "  [291, 15, 379, 8, 10, 476, 7, 32, 6567, 10, 156, 289, 22, 8, 358, 2423, 6, 36, 881, 1112, 1331, 59, 8, 641, 1128, 21, 35, 903, 7, 32, 2504, 5, 21, 294, 251, 292, 9, 657, 209, 78, 524, 16, 6855, 7, 13080, 2033, 5, 4, 10, 476, 7, 32, 6567, 10, 6, 3191, 9, 487, 6, 627, 58, 7, 1804, 1112, 4217, 7, 25545, 52, 441, 5]\n",
            "Summary:\n",
            "  google loses ' right to be forgotten ' case in uk\n",
            "Tokens:\n",
            "  [108, 456, 4, 619, 5, 27, 8921, 4, 68, 6, 96]\n"
          ],
          "name": "stdout"
        }
      ]
    },
    {
      "cell_type": "code",
      "metadata": {
        "colab": {
          "base_uri": "https://localhost:8080/"
        },
        "id": "XtTxuiLxwJ6J",
        "outputId": "dc45dc1d-d6dd-42f8-b716-974ce902daac"
      },
      "source": [
        "print(vars(train_data.examples[0])['summary'])\n",
        "print([SUMMARY.vocab.stoi[t] for t in vars(train_data.examples[0])['summary']])"
      ],
      "execution_count": 110,
      "outputs": [
        {
          "output_type": "stream",
          "text": [
            "['yamuna', 'at', 'its', 'healthiest', 'in', '2018', 'due', 'to', 'flood', 'water', 'experts']\n",
            "[3699, 17, 86, 19509, 6, 177, 191, 5, 2000, 376, 4762]\n"
          ],
          "name": "stdout"
        }
      ]
    },
    {
      "cell_type": "code",
      "metadata": {
        "id": "VjzvUwk_xnft"
      },
      "source": [
        "BATCH_SIZE = 64\n",
        "\n",
        "train_iterator, valid_iterator, test_iterator = BucketIterator.splits(\n",
        "    (train_data, val_data, test_data), \n",
        "    batch_size = BATCH_SIZE, \n",
        "    device = device,\n",
        "    shuffle=False,\n",
        "    sort=False\n",
        "    )"
      ],
      "execution_count": 111,
      "outputs": []
    },
    {
      "cell_type": "code",
      "metadata": {
        "colab": {
          "base_uri": "https://localhost:8080/"
        },
        "id": "kvk5S-DDpXBB",
        "outputId": "c4bd6073-8480-4e72-d390-fd0e3a0eff0d"
      },
      "source": [
        "for i, batch in enumerate(test_iterator):\n",
        "    trg = batch.summary\n",
        "    if i==0:\n",
        "        print(trg.shape)\n",
        "    else:\n",
        "      break\n",
        "        "
      ],
      "execution_count": 22,
      "outputs": [
        {
          "output_type": "stream",
          "text": [
            "tensor([[    2,     2,     2,     2,     2],\n",
            "        [ 1678,   280,   880,   697,   705],\n",
            "        [ 5698,    24,    96,  1322,    10],\n",
            "        [ 1135,   158,    72,     5,   323],\n",
            "        [  324,     0,  1857,  2351,    87],\n",
            "        [   16,  6433,   294,  7812,     6],\n",
            "        [ 2461, 10457,    18,  4076,  6068],\n",
            "        [16439,     7,  1132,   212,  1892],\n",
            "        [  772,    98,    30,    18,     0],\n",
            "        [    1,  3302,    82,  3465,  6024],\n",
            "        [    1,    79,   294,    39,     1],\n",
            "        [    1,     1,  2105,     1,     1],\n",
            "        [    1,     1,     6,     1,     1],\n",
            "        [    1,     1,   437,     1,     1],\n",
            "        [    1,     1,     1,     1,     1],\n",
            "        [    1,     1,     1,     1,     1],\n",
            "        [    3,     1,     1,     3,     3],\n",
            "        [    1,     3,     1,     1,     1],\n",
            "        [    1,     1,     3,     1,     1]], device='cuda:0')\n"
          ],
          "name": "stdout"
        }
      ]
    },
    {
      "cell_type": "code",
      "metadata": {
        "id": "0ZmFkO-q5iKB"
      },
      "source": [
        "class Encoder(nn.Module):\n",
        "    def __init__(self, input_dim, emb_dim, hid_dim, n_layers, dropout):\n",
        "        super().__init__()\n",
        "        \n",
        "        # initializations\n",
        "        self.hid_dim = hid_dim\n",
        "        self.n_layers = n_layers\n",
        "        self.embedding = nn.Embedding(input_dim, emb_dim)\n",
        "        # we will use 2 layers for both encoder and decoder\n",
        "        self.rnn = nn.LSTM(emb_dim, hid_dim, n_layers, dropout=dropout)\n",
        "        self.dropout = nn.Dropout(dropout)\n",
        "        \n",
        "    def forward(self, src):\n",
        "        embedded = self.dropout(self.embedding(src)) # [src len, batch size]\n",
        "        outputs, (hidden, cell) = self.rnn(embedded) # [src len, batch size, emb dim]\n",
        "        \n",
        "        ## dimension\n",
        "        # outputs = [src len, batch size, hid dim * n directions]\n",
        "        # hidden = [n layers * n directions, batch size, hid dim]\n",
        "        # cell = [n layers * n directions, batch size, hid dim]\n",
        "        \n",
        "        # outputs are always from the top hidden layer\n",
        "        return hidden, cell\n",
        " \n",
        "\n",
        "\n",
        "\n",
        "class Decoder(nn.Module):\n",
        "    def __init__(self, output_dim, emb_dim, hid_dim, n_layers, dropout):\n",
        "        super().__init__()\n",
        "        \n",
        "        self.output_dim = output_dim\n",
        "        self.hid_dim = hid_dim\n",
        "        self.n_layers = n_layers\n",
        "        self.embedding = nn.Embedding(output_dim, emb_dim)\n",
        "        self.rnn = nn.LSTM(emb_dim, hid_dim, n_layers, dropout=dropout)\n",
        "        self.fc_out = nn.Linear(hid_dim, output_dim)\n",
        "        self.dropout = nn.Dropout(dropout)\n",
        "        \n",
        "    def forward(self, input, hidden, cell):\n",
        "        \n",
        "        # input = [batch size]\n",
        "        # hidden = [n layers * n directions, batch size, hid dim]\n",
        "        # cell = [n layers * n directions, batch size, hid dim]\n",
        "        \n",
        "        # n directions in the decoder will both always be 1, therefore:\n",
        "        # hidden = [n layers, batch size, hid dim]\n",
        "        # context = [n layers, batch size, hid dim]\n",
        "        \n",
        "        input = input.unsqueeze(0) #  [1, batch size]\n",
        "        embedded = self.dropout(self.embedding(input)) #  [1, batch size, emb dim]\n",
        "        output, (hidden, cell) = self.rnn(embedded, (hidden, cell))\n",
        "        \n",
        "        # output = [seq len, batch size, hid dim * n directions]\n",
        "        # hidden = [n layers * n directions, batch size, hid dim]\n",
        "        # cell = [n layers * n directions, batch size, hid dim]\n",
        "        \n",
        "        #seq len and n directions will always be 1 in the decoder, therefore:\n",
        "        #output = [1, batch size, hid dim]\n",
        "        #hidden = [n layers, batch size, hid dim]\n",
        "        #cell = [n layers, batch size, hid dim]\n",
        "        \n",
        "        prediction = self.fc_out(output.squeeze(0)) #  [batch size, output dim]\n",
        "        \n",
        "        return prediction, hidden, cell\n",
        "\n",
        "    \n",
        "\n",
        "class Seq2Seq(nn.Module):\n",
        "    def __init__(self, encoder, decoder, device):\n",
        "        super().__init__()\n",
        "        \n",
        "        self.encoder = encoder\n",
        "        self.decoder = decoder\n",
        "        self.device = device\n",
        "        \n",
        "        assert encoder.hid_dim == decoder.hid_dim, \\\n",
        "            \"Hidden dimensions of encoder and decoder must be equal!\"\n",
        "        assert encoder.n_layers == decoder.n_layers, \\\n",
        "            \"Encoder and decoder must have equal number of layers!\"\n",
        "        \n",
        "    def forward(self, src, trg, teacher_forcing_ratio=0.5):\n",
        "        \n",
        "        # src = [src len, batch size]\n",
        "        # trg = [trg len, batch size]\n",
        "        # teacher_forcing_ratio is probability to use teacher forcing\n",
        "        # e.g. if teacher_forcing_ratio is 0.75 we use ground-truth inputs 75% of the time\n",
        "        \n",
        "        batch_size = trg.shape[1]\n",
        "        trg_len = trg.shape[0]\n",
        "        trg_vocab_size = self.decoder.output_dim\n",
        "        \n",
        "        # tensor to store decoder outputs\n",
        "        outputs = torch.zeros(trg_len, batch_size, trg_vocab_size).to(self.device)\n",
        "        \n",
        "        # last hidden state of the encoder is used as the initial hidden state of the decoder\n",
        "        hidden, cell = self.encoder(src)\n",
        "        \n",
        "        # first input to the decoder is the <sos> tokens\n",
        "        input = trg[0, :]\n",
        "        \n",
        "        for t in range(1, trg_len):\n",
        "            \n",
        "            # insert input token embedding, previous hidden and previous cell states\n",
        "            # receive output tensor (predictions) and new hidden and cell states\n",
        "            output, hidden, cell = self.decoder(input, hidden, cell)\n",
        "            \n",
        "            # place predictions in a tensor holding predictions for each token\n",
        "            outputs[t] = output\n",
        "            \n",
        "            # decide if we are going to use teacher forcing or not\n",
        "            teacher_force = random.random() < teacher_forcing_ratio\n",
        "            \n",
        "            # get the highest predicted token from our predictions\n",
        "            top1 = output.argmax(1) \n",
        "            \n",
        "            # if teacher forcing, use actual next token as next input\n",
        "            # if not, use predicted token\n",
        "            input = trg[t] if teacher_force else top1\n",
        "        \n",
        "        return outputs"
      ],
      "execution_count": 112,
      "outputs": []
    },
    {
      "cell_type": "code",
      "metadata": {
        "id": "4O3xrMfU6kPC"
      },
      "source": [
        "INPUT_DIM = len(TEXT.vocab)\n",
        "OUTPUT_DIM = len(SUMMARY.vocab)\n",
        "ENC_EMB_DIM = 128\n",
        "DEC_EMB_DIM = 128\n",
        "HID_DIM = 128\n",
        "N_LAYERS = 2\n",
        "ENC_DROPOUT = 0.1\n",
        "DEC_DROPOUT = 0.1\n",
        "model_params = {'INPUT_DIM':    INPUT_DIM,\n",
        "                'OUTPUT_DIM':   OUTPUT_DIM,\n",
        "                'ENC_EMB_DIM':  ENC_EMB_DIM,\n",
        "                'DEC_EMB_DIM':  DEC_EMB_DIM,\n",
        "                'HID_DIM':      HID_DIM,\n",
        "                'N_LAYERS':     N_LAYERS,\n",
        "                'ENC_DROPOUT':  ENC_DROPOUT,\n",
        "                'DEC_DROPOUT':  DEC_DROPOUT,\n",
        "                }\n",
        "\n",
        "# initialize seq2seq model\n",
        "enc = Encoder(INPUT_DIM, ENC_EMB_DIM, HID_DIM, N_LAYERS, ENC_DROPOUT)\n",
        "dec = Decoder(OUTPUT_DIM, DEC_EMB_DIM, HID_DIM, N_LAYERS, DEC_DROPOUT)\n",
        "model = Seq2Seq(enc, dec, device)"
      ],
      "execution_count": 124,
      "outputs": []
    },
    {
      "cell_type": "code",
      "metadata": {
        "id": "TBp1ZBSl61DE"
      },
      "source": [
        "class Seq2Seq_trainer(object):\n",
        "    def __init__(self, model, model_params, train_iterator, valid_iterator, src_vocab, trg_vocab, device, clip, learning_rate):\n",
        "        # paths for save and load models\n",
        "        self.CHECKPOINT_DIR = '/content/gdrive/MyDrive/Checkpoints'\n",
        "        self.MODEL_NAME = 'LSTM_Text_Summarizer'\n",
        "        # initialize config variables\n",
        "        self.model = model.to(device)\n",
        "        self.model_params = model_params\n",
        "        self.train_iterator = train_iterator\n",
        "        self.valid_iterator = valid_iterator\n",
        "        self.clip = clip\n",
        "        self.optimizer = torch.optim.Adam(self.model.parameters(), lr=learning_rate)\n",
        "        self.src_vocab = src_vocab\n",
        "        self.trg_vocab = trg_vocab\n",
        "        pad_index = self.trg_vocab.stoi['<pad>']\n",
        "        self.criterion = nn.CrossEntropyLoss(ignore_index = pad_index)\n",
        "        self.model.apply(self.init_weights)\n",
        "        self.logger = {'training_loss': [], \n",
        "                       'validation_loss': [],\n",
        "                       'epochs': [],\n",
        "                       }\n",
        "        print(f'The model has {self.count_parameters(self.model):,} trainable parameters')\n",
        "\n",
        "        \n",
        "    \n",
        "    def init_weights(self,m):\n",
        "        for name, param in m.named_parameters():\n",
        "            nn.init.uniform_(param.data, -0.08, 0.08)\n",
        "        \n",
        "    \n",
        "    def count_parameters(self, model):\n",
        "        return sum(p.numel() for p in model.parameters() if p.requires_grad)\n",
        "\n",
        "    \n",
        "    def save_model(self, epoch):\n",
        "        if not os.path.exists(self.CHECKPOINT_DIR):\n",
        "            os.mkdir(self.CHECKPOINT_DIR)\n",
        "        # create the state for saving\n",
        "        state = {\n",
        "                'model': self.model.state_dict(),\n",
        "                'model_params': self.model_params,\n",
        "                'src_vocab': self.src_vocab,\n",
        "                'trg_vocab': self.trg_vocab,\n",
        "                'epoch': epoch,\n",
        "                'logger': self.logger\n",
        "                }\n",
        "        torch.save(state, f'{self.CHECKPOINT_DIR}/{self.MODEL_NAME}_{epoch}.pth')\n",
        "        print('-' * 89)\n",
        "        print(f'| Model was saved at epoch {epoch}|')\n",
        "        print('-' * 89)\n",
        "\n",
        "\n",
        "    def load_model(self, CHECKPOINT_DIR, MODEL_NAME, epoch, device):\n",
        "        # load saved model\n",
        "        state = torch.load(f'{CHECKPOINT_DIR}/{MODEL_NAME}_{epoch}.pth', map_location=device)\n",
        "\n",
        "        # initialize seq2seq model\n",
        "        model_params = state['model_params']\n",
        "        enc = Encoder(model_params['INPUT_DIM'], \n",
        "                      model_params['ENC_EMB_DIM'], \n",
        "                      model_params['HID_DIM'], \n",
        "                      model_params['N_LAYERS'], \n",
        "                      model_params['ENC_DROPOUT'])\n",
        "        dec = Decoder(model_params['OUTPUT_DIM'], \n",
        "                      model_params['DEC_EMB_DIM'], \n",
        "                      model_params['HID_DIM'], \n",
        "                      model_params['N_LAYERS'], \n",
        "                      model_params['DEC_DROPOUT'])\n",
        "        self.model = Seq2Seq(enc, dec, device).to(device)\n",
        "        self.model.load_state_dict(state['model'])\n",
        "        self.logger = state['logger']\n",
        "        self.src_vocab = state['src_vocab']\n",
        "        self.trg_vocab = state['trg_vocab']\n",
        "        \n",
        "        print('-' * 89)\n",
        "        print(f'Model - \"{MODEL_NAME}\", weights and vocabularies from epoch {epoch} were uploaded succesfully.')\n",
        "        print('-' * 89)\n",
        "\n",
        "\n",
        "    def train(self):\n",
        "\n",
        "        self.model.train()\n",
        "        epoch_loss = 0\n",
        "        for i, batch in enumerate(self.train_iterator):\n",
        "\n",
        "            src = batch.text\n",
        "            trg = batch.summary\n",
        "            self.optimizer.zero_grad()\n",
        "            output = self.model(src, trg)\n",
        "\n",
        "            # trg = [trg len, batch size]\n",
        "            # output = [trg len, batch size, output dim]\n",
        "\n",
        "            output_dim = output.shape[-1]\n",
        "            output = output[1:].view(-1, output_dim)\n",
        "            trg = trg[1:].view(-1)\n",
        "\n",
        "            # trg = [(trg len - 1) * batch size]\n",
        "            # output = [(trg len - 1) * batch size, output dim]\n",
        "\n",
        "            loss = self.criterion(output, trg)\n",
        "            loss.backward()\n",
        "            torch.nn.utils.clip_grad_norm_(self.model.parameters(), self.clip)\n",
        "            self.optimizer.step()\n",
        "            epoch_loss += loss.item()\n",
        "\n",
        "        return epoch_loss / len(self.train_iterator)\n",
        "    \n",
        "    \n",
        "    def evaluate(self, iterator):\n",
        "\n",
        "        self.model.eval()\n",
        "        epoch_loss = 0\n",
        "\n",
        "        with torch.no_grad():\n",
        "            for i, batch in enumerate(iterator):\n",
        "\n",
        "                src = batch.text\n",
        "                trg = batch.summary\n",
        "                output = self.model(src, trg, teacher_forcing_ratio=0) #turn off teacher forcing\n",
        "\n",
        "                # trg = [trg len, batch size]\n",
        "                # output = [trg len, batch size, output dim]\n",
        "\n",
        "                output_dim = output.shape[-1]\n",
        "                output = output[1:].view(-1, output_dim)\n",
        "                trg = trg[1:].view(-1)\n",
        "\n",
        "                # trg = [(trg len - 1) * batch size]\n",
        "                # output = [(trg len - 1) * batch size, output dim]\n",
        "\n",
        "                loss = self.criterion(output, trg)\n",
        "                epoch_loss += loss.item()\n",
        "\n",
        "        return epoch_loss / len(iterator)\n",
        "\n",
        "\n",
        "    def get_summary(self, text, max_len=30):\n",
        "        self.model.eval()\n",
        "\n",
        "        with torch.no_grad():\n",
        "            numerics = [self.src_vocab.stoi[t] for t in text.split()]\n",
        "            src = torch.tensor(numerics, dtype=torch.int)\n",
        "            src = torch.unsqueeze(src, 1).to(device)\n",
        "            trg = torch.zeros((max_len, 1), dtype=torch.int).to(device)\n",
        "            output = model(src, trg, teacher_forcing_ratio=0) #turn off teacher forcing\n",
        "            output_numerics = torch.argmax(output, -1).squeeze()\n",
        "            summary = ' '.join([self.trg_vocab.itos[t] for t in output_numerics])\n",
        "            return summary\n",
        "    \n",
        "    \n",
        "    def epoch_time(self, start_time, end_time):\n",
        "        elapsed_time = end_time - start_time\n",
        "        elapsed_mins = int(elapsed_time / 60)\n",
        "        elapsed_secs = int(elapsed_time - (elapsed_mins * 60))\n",
        "        return elapsed_mins, elapsed_secs\n",
        "    \n",
        "    \n",
        "    def fit(self, nepochs):\n",
        "        best_valid_loss = float('inf')\n",
        "        epoch_counter = 0\n",
        "\n",
        "        for epoch in tqdm(range(1, nepochs + 1)):\n",
        "            \n",
        "            start_time = time.time()\n",
        "            train_loss = self.train()\n",
        "            valid_loss = self.evaluate(self.valid_iterator)\n",
        "            end_time = time.time()\n",
        "            epoch_mins, epoch_secs = self.epoch_time(start_time, end_time)\n",
        "\n",
        "            self.logger['training_loss'].append(train_loss)\n",
        "            self.logger['validation_loss'].append(valid_loss)\n",
        "            self.logger['epochs'].append(epoch)\n",
        "\n",
        "            if valid_loss < best_valid_loss:\n",
        "                best_valid_loss = valid_loss\n",
        "                self.save_model(epoch)\n",
        "                print(f'Epoch with best validation loss: {epoch:02}')\n",
        "                epoch_counter = 0\n",
        "            elif epoch_counter == 5:\n",
        "                self.save_model(epoch)\n",
        "                epoch_counter = 0\n",
        "            else:\n",
        "                epoch_counter += 1\n",
        "\n",
        "            print(f'Epoch: {epoch:02} | Time: {epoch_mins}m {epoch_secs}s')\n",
        "            print(f'\\tTrain Loss: {train_loss:.3f} | Train PPL: {math.exp(train_loss):7.3f}')\n",
        "            print(f'\\t Val. Loss: {valid_loss:.3f} |  Val. PPL: {math.exp(valid_loss):7.3f}')"
      ],
      "execution_count": 127,
      "outputs": []
    },
    {
      "cell_type": "code",
      "metadata": {
        "colab": {
          "base_uri": "https://localhost:8080/"
        },
        "id": "e6mTEVla8u9g",
        "outputId": "c9e3b86f-08a0-45a2-c90c-05270a94217d"
      },
      "source": [
        "# initialize trainer\n",
        "trainer = Seq2Seq_trainer(model, model_params, train_iterator, valid_iterator, TEXT.vocab, SUMMARY.vocab, device, 1, 1e-3)"
      ],
      "execution_count": 128,
      "outputs": [
        {
          "output_type": "stream",
          "text": [
            "The model has 13,195,963 trainable parameters\n"
          ],
          "name": "stdout"
        }
      ]
    },
    {
      "cell_type": "code",
      "metadata": {
        "colab": {
          "base_uri": "https://localhost:8080/",
          "height": 1000,
          "referenced_widgets": [
            "1fa79a09556740e38709ce867e20c7e6",
            "52d59940510f44c79b9f50dccf57d3db",
            "c65b979564254ba080b321c9483e5691",
            "dd14ee017e5c47e2bdb3d23142439892",
            "df176fba96de4cdfa218d7d9ae194dae",
            "3541cd6ec3bb4231b01275720ce90ce3",
            "d7681798fb5a4239b7eec2a178d5603a",
            "1efafe37727f4640b95fb9ba09384c5f"
          ]
        },
        "id": "Bel8WuKl9GXO",
        "outputId": "ee9e00da-08f4-4fda-bd1e-52f554841188"
      },
      "source": [
        "epochs = 30\n",
        "trainer.fit(epochs)"
      ],
      "execution_count": 129,
      "outputs": [
        {
          "output_type": "display_data",
          "data": {
            "application/vnd.jupyter.widget-view+json": {
              "model_id": "1fa79a09556740e38709ce867e20c7e6",
              "version_minor": 0,
              "version_major": 2
            },
            "text/plain": [
              "HBox(children=(FloatProgress(value=0.0, max=30.0), HTML(value='')))"
            ]
          },
          "metadata": {
            "tags": []
          }
        },
        {
          "output_type": "stream",
          "text": [
            "-----------------------------------------------------------------------------------------\n",
            "| Model was saved at epoch 1|\n",
            "-----------------------------------------------------------------------------------------\n",
            "Epoch with best validation loss: 01\n",
            "Epoch: 01 | Time: 2m 11s\n",
            "\tTrain Loss: 7.104 | Train PPL: 1216.558\n",
            "\t Val. Loss: 6.958 |  Val. PPL: 1051.348\n",
            "-----------------------------------------------------------------------------------------\n",
            "| Model was saved at epoch 2|\n",
            "-----------------------------------------------------------------------------------------\n",
            "Epoch with best validation loss: 02\n",
            "Epoch: 02 | Time: 2m 11s\n",
            "\tTrain Loss: 6.806 | Train PPL: 903.678\n",
            "\t Val. Loss: 6.890 |  Val. PPL: 982.128\n",
            "-----------------------------------------------------------------------------------------\n",
            "| Model was saved at epoch 3|\n",
            "-----------------------------------------------------------------------------------------\n",
            "Epoch with best validation loss: 03\n",
            "Epoch: 03 | Time: 2m 11s\n",
            "\tTrain Loss: 6.544 | Train PPL: 695.402\n",
            "\t Val. Loss: 6.687 |  Val. PPL: 801.998\n",
            "-----------------------------------------------------------------------------------------\n",
            "| Model was saved at epoch 4|\n",
            "-----------------------------------------------------------------------------------------\n",
            "Epoch with best validation loss: 04\n",
            "Epoch: 04 | Time: 2m 11s\n",
            "\tTrain Loss: 6.263 | Train PPL: 524.882\n",
            "\t Val. Loss: 6.512 |  Val. PPL: 672.878\n",
            "-----------------------------------------------------------------------------------------\n",
            "| Model was saved at epoch 5|\n",
            "-----------------------------------------------------------------------------------------\n",
            "Epoch with best validation loss: 05\n",
            "Epoch: 05 | Time: 2m 11s\n",
            "\tTrain Loss: 5.999 | Train PPL: 403.186\n",
            "\t Val. Loss: 6.359 |  Val. PPL: 577.940\n",
            "-----------------------------------------------------------------------------------------\n",
            "| Model was saved at epoch 6|\n",
            "-----------------------------------------------------------------------------------------\n",
            "Epoch with best validation loss: 06\n",
            "Epoch: 06 | Time: 2m 11s\n",
            "\tTrain Loss: 5.776 | Train PPL: 322.494\n",
            "\t Val. Loss: 6.278 |  Val. PPL: 532.774\n",
            "-----------------------------------------------------------------------------------------\n",
            "| Model was saved at epoch 7|\n",
            "-----------------------------------------------------------------------------------------\n",
            "Epoch with best validation loss: 07\n",
            "Epoch: 07 | Time: 2m 11s\n",
            "\tTrain Loss: 5.581 | Train PPL: 265.455\n",
            "\t Val. Loss: 6.188 |  Val. PPL: 486.751\n",
            "-----------------------------------------------------------------------------------------\n",
            "| Model was saved at epoch 8|\n",
            "-----------------------------------------------------------------------------------------\n",
            "Epoch with best validation loss: 08\n",
            "Epoch: 08 | Time: 2m 11s\n",
            "\tTrain Loss: 5.412 | Train PPL: 224.167\n",
            "\t Val. Loss: 6.142 |  Val. PPL: 465.040\n",
            "-----------------------------------------------------------------------------------------\n",
            "| Model was saved at epoch 9|\n",
            "-----------------------------------------------------------------------------------------\n",
            "Epoch with best validation loss: 09\n",
            "Epoch: 09 | Time: 2m 11s\n",
            "\tTrain Loss: 5.263 | Train PPL: 193.059\n",
            "\t Val. Loss: 6.112 |  Val. PPL: 451.462\n",
            "Epoch: 10 | Time: 2m 11s\n",
            "\tTrain Loss: 5.113 | Train PPL: 166.149\n",
            "\t Val. Loss: 6.115 |  Val. PPL: 452.467\n",
            "Epoch: 11 | Time: 2m 10s\n",
            "\tTrain Loss: 4.986 | Train PPL: 146.413\n",
            "\t Val. Loss: 6.114 |  Val. PPL: 452.250\n",
            "Epoch: 12 | Time: 2m 10s\n",
            "\tTrain Loss: 4.871 | Train PPL: 130.389\n",
            "\t Val. Loss: 6.119 |  Val. PPL: 454.242\n",
            "Epoch: 13 | Time: 2m 11s\n",
            "\tTrain Loss: 4.758 | Train PPL: 116.514\n",
            "\t Val. Loss: 6.125 |  Val. PPL: 457.316\n",
            "-----------------------------------------------------------------------------------------\n",
            "| Model was saved at epoch 14|\n",
            "-----------------------------------------------------------------------------------------\n",
            "Epoch with best validation loss: 14\n",
            "Epoch: 14 | Time: 2m 10s\n",
            "\tTrain Loss: 4.658 | Train PPL: 105.438\n",
            "\t Val. Loss: 6.109 |  Val. PPL: 449.926\n",
            "Epoch: 15 | Time: 2m 11s\n",
            "\tTrain Loss: 4.560 | Train PPL:  95.587\n",
            "\t Val. Loss: 6.158 |  Val. PPL: 472.390\n",
            "Epoch: 16 | Time: 2m 11s\n",
            "\tTrain Loss: 4.472 | Train PPL:  87.537\n",
            "\t Val. Loss: 6.178 |  Val. PPL: 481.913\n",
            "Epoch: 17 | Time: 2m 11s\n",
            "\tTrain Loss: 4.390 | Train PPL:  80.646\n",
            "\t Val. Loss: 6.181 |  Val. PPL: 483.508\n",
            "Epoch: 18 | Time: 2m 10s\n",
            "\tTrain Loss: 4.304 | Train PPL:  74.031\n",
            "\t Val. Loss: 6.232 |  Val. PPL: 508.572\n",
            "Epoch: 19 | Time: 2m 11s\n",
            "\tTrain Loss: 4.225 | Train PPL:  68.369\n",
            "\t Val. Loss: 6.260 |  Val. PPL: 523.407\n",
            "-----------------------------------------------------------------------------------------\n",
            "| Model was saved at epoch 20|\n",
            "-----------------------------------------------------------------------------------------\n",
            "Epoch: 20 | Time: 2m 11s\n",
            "\tTrain Loss: 4.156 | Train PPL:  63.820\n",
            "\t Val. Loss: 6.301 |  Val. PPL: 545.031\n",
            "Epoch: 21 | Time: 2m 11s\n",
            "\tTrain Loss: 4.092 | Train PPL:  59.831\n",
            "\t Val. Loss: 6.326 |  Val. PPL: 558.990\n",
            "Epoch: 22 | Time: 2m 11s\n",
            "\tTrain Loss: 4.015 | Train PPL:  55.425\n",
            "\t Val. Loss: 6.390 |  Val. PPL: 595.648\n",
            "Epoch: 23 | Time: 2m 11s\n",
            "\tTrain Loss: 3.937 | Train PPL:  51.269\n",
            "\t Val. Loss: 6.418 |  Val. PPL: 612.520\n",
            "Epoch: 24 | Time: 2m 11s\n",
            "\tTrain Loss: 3.888 | Train PPL:  48.832\n",
            "\t Val. Loss: 6.457 |  Val. PPL: 637.304\n",
            "-----------------------------------------------------------------------------------------\n",
            "| Model was saved at epoch 25|\n",
            "-----------------------------------------------------------------------------------------\n",
            "Epoch: 25 | Time: 2m 11s\n",
            "\tTrain Loss: 3.826 | Train PPL:  45.881\n",
            "\t Val. Loss: 6.433 |  Val. PPL: 621.899\n",
            "Epoch: 26 | Time: 2m 11s\n",
            "\tTrain Loss: 3.762 | Train PPL:  43.047\n",
            "\t Val. Loss: 6.488 |  Val. PPL: 657.017\n",
            "Epoch: 27 | Time: 2m 11s\n",
            "\tTrain Loss: 3.710 | Train PPL:  40.867\n",
            "\t Val. Loss: 6.500 |  Val. PPL: 665.294\n",
            "Epoch: 28 | Time: 2m 11s\n",
            "\tTrain Loss: 3.643 | Train PPL:  38.208\n",
            "\t Val. Loss: 6.550 |  Val. PPL: 699.324\n",
            "Epoch: 29 | Time: 2m 11s\n",
            "\tTrain Loss: 3.596 | Train PPL:  36.452\n",
            "\t Val. Loss: 6.607 |  Val. PPL: 740.465\n",
            "-----------------------------------------------------------------------------------------\n",
            "| Model was saved at epoch 30|\n",
            "-----------------------------------------------------------------------------------------\n",
            "Epoch: 30 | Time: 2m 11s\n",
            "\tTrain Loss: 3.553 | Train PPL:  34.918\n",
            "\t Val. Loss: 6.649 |  Val. PPL: 771.728\n",
            "\n"
          ],
          "name": "stdout"
        }
      ]
    },
    {
      "cell_type": "code",
      "metadata": {
        "colab": {
          "base_uri": "https://localhost:8080/"
        },
        "id": "Xr53AzWU9wmo",
        "outputId": "855ee6d7-ad08-4581-fd5c-41f921de1b8f"
      },
      "source": [
        "# load model\n",
        "CHECKPOINT_DIR = '/content/gdrive/MyDrive/Checkpoints'\n",
        "MODEL_NAME = 'LSTM_Text_Summarizer'\n",
        "epoch = 30\n",
        "trainer.load_model(CHECKPOINT_DIR, MODEL_NAME, epoch, device)\n",
        "\n",
        "# evaluate on test data\n",
        "test_loss = trainer.evaluate(test_iterator)\n",
        "print(f'\\t Test. Loss: {test_loss:.3f} |  Test. PPL: {math.exp(test_loss):7.3f}')"
      ],
      "execution_count": 130,
      "outputs": [
        {
          "output_type": "stream",
          "text": [
            "-----------------------------------------------------------------------------------------\n",
            "Model - \"LSTM_Text_Summarizer\", weights and vocabularies from epoch 30 were uploaded succesfully.\n",
            "-----------------------------------------------------------------------------------------\n",
            "\t Test. Loss: 6.587 |  Test. PPL: 725.590\n"
          ],
          "name": "stdout"
        }
      ]
    },
    {
      "cell_type": "code",
      "metadata": {
        "colab": {
          "base_uri": "https://localhost:8080/",
          "height": 580
        },
        "id": "yigdc9fSEuD_",
        "outputId": "02809558-f5d2-4297-ffd8-48798f70714b"
      },
      "source": [
        "logger = trainer.logger\n",
        "fig, ax = plt.subplots(1, 1, figsize=(12,6), dpi=200)\n",
        "fig.patch.set_facecolor('white')\n",
        "\n",
        "# plot accuracy\n",
        "p1 = ax.plot(logger['epochs'], logger['training_loss'], linewidth=2, label='train\\nloss')\n",
        "p2 = ax.plot(logger['epochs'], logger['validation_loss'], linewidth=2, label='validation\\nloss')\n",
        "#ax.set_xticks(range(0, logger['epochs'][-1] + 1, 2))\n",
        "#ax.set_xticklabels(range(0, logger['epochs'][-1] + 1, 2))\n",
        "ax.set_xlabel('Epoch')\n",
        "ax.set_ylabel('Loss [%]')\n",
        "ax.set_title('Model Loss')\n",
        "ax.xaxis.grid()\n",
        "ax.legend()"
      ],
      "execution_count": 131,
      "outputs": [
        {
          "output_type": "execute_result",
          "data": {
            "text/plain": [
              "<matplotlib.legend.Legend at 0x7fae51a6bed0>"
            ]
          },
          "metadata": {
            "tags": []
          },
          "execution_count": 131
        },
        {
          "output_type": "display_data",
          "data": {
            "image/png": "[encoded data removed]",
            "text/plain": [
              "<Figure size 2400x1200 with 1 Axes>"
            ]
          },
          "metadata": {
            "tags": []
          }
        }
      ]
    },
    {
      "cell_type": "code",
      "metadata": {
        "id": "Ebw98ig1GH4Q"
      },
      "source": [
        "body = '''\n",
        "Scientists say they have discovered a new species of orangutans on Indonesia’s island of Sumatra.\n",
        "The population differs in several ways from the two existing orangutan species found in Sumatra and the neighboring island of Borneo.\n",
        "The orangutans were found inside North Sumatra’s Batang Toru forest, the science publication Current Biology reported.\n",
        "Researchers named the new species the Tapanuli orangutan. They say the animals are considered a new species because of genetic, skeletal and tooth differences.\n",
        "Michael Kruetzen is a geneticist with the University of Zurich who has studied the orangutans for several years. He said he was excited to be part of the unusual discovery of a new great ape in the present day. He noted that most great apes are currently considered endangered or severely endangered.\n",
        "Gorillas, chimpanzees and bonobos also belong to the great ape species.\n",
        "Orangutan – which means person of the forest in the Indonesian and Malay languages - is the world’s biggest tree-living mammal. The orange-haired animals can move easily among the trees because their arms are longer than their legs. They live more lonely lives than other great apes, spending a lot of time sleeping and eating fruit in the forest.\n",
        "The new study said fewer than 800 of the newly-described orangutans exist. Their low numbers make the group the most endangered of all the great ape species.\n",
        "They live within an area covering about 1,000 square kilometers. The population is considered highly vulnerable. That is because the environment which they depend on is greatly threatened by development.\n",
        "Researchers say if steps are not taken quickly to reduce the current and future threats, the new species could become extinct “within our lifetime.”\n",
        "Research into the new species began in 2013, when an orangutan protection group in Sumatra found an injured orangutan in an area far away from the other species. The adult male orangutan had been beaten by local villagers and died of his injuries. The complete skull was examined by researchers.\n",
        "Among the physical differences of the new species are a notably smaller head and frizzier hair. The Tapanuli orangutans also have a different diet and are found only in higher forest areas.\n",
        "There is no unified international system for recognizing new species. But to be considered, discovery claims at least require publication in a major scientific publication.\n",
        "Russell Mittermeier is head of the primate specialist group at the International Union for the Conservation of Nature. He called the finding a “remarkable discovery.” He said it puts responsibility on the Indonesian government to help the species survive.\n",
        "Matthew Nowak is one of the writers of the study. He told the Associated Press that there are three groups of the Tapanuli orangutans that are separated by non-protected land.He said forest land needs to connect the separated groups.\n",
        "In addition, the writers of the study are recommending that plans for a hydropower center in the area be stopped by the government.\n",
        "It also recommended that remaining forest in the Sumatran area where the orangutans live be protected.\n",
        "I’m Bryan Lynn.\n",
        "'''\n"
      ],
      "execution_count": 132,
      "outputs": []
    },
    {
      "cell_type": "code",
      "metadata": {
        "colab": {
          "base_uri": "https://localhost:8080/",
          "height": 52
        },
        "id": "ytnNAwS6USHT",
        "outputId": "5cc95454-def6-4607-f01c-5eb92b38e035"
      },
      "source": [
        "processed_text = preprocess(body)\n",
        "trainer.get_summary(processed_text)"
      ],
      "execution_count": 133,
      "outputs": [
        {
          "output_type": "execute_result",
          "data": {
            "application/vnd.google.colaboratory.intrinsic+json": {
              "type": "string"
            },
            "text/plain": [
              "\"<unk> saudi arabia ' <unk> ' <unk> ' <unk> <unk> of the in in <eos> <eos> <eos> <eos> <eos> <eos> <eos> <eos> <eos> <eos> <eos> <eos> <eos> <eos> <eos> <eos>\""
            ]
          },
          "metadata": {
            "tags": []
          },
          "execution_count": 133
        }
      ]
    },
    {
      "cell_type": "code",
      "metadata": {
        "colab": {
          "base_uri": "https://localhost:8080/"
        },
        "id": "Ze8ZD4_AJ16k",
        "outputId": "1ae34a73-d92a-49fc-d4bf-160c82258ce4"
      },
      "source": [
        "for i in range(5):\n",
        "    print('TEXT:\\n', ' '.join([t for t in test_data.examples[i].text]))\n",
        "    print('SUMMARY:\\n', ' '.join([t for t in test_data.examples[i].summary]))\n",
        "    print('predicted SUMMARY:\\n', trainer.get_summary(' '.join([t for t in test_data.examples[i].text])))\n",
        "    print('\\n')"
      ],
      "execution_count": 139,
      "outputs": [
        {
          "output_type": "stream",
          "text": [
            "TEXT:\n",
            " india opener rohit sharma smashed a 58-ball century in the second t20i against windies at lucknow on tuesday to become the first cricketer in history to reach four hundreds in t20i cricket . the 31-year-old , who holds the record for the joint-fastest century in t20i cricket , also became the second highest run-getter in t20i cricket , overtaking pakistan ' s shoaib malik ( 2 , 190 runs ) .\n",
            "SUMMARY:\n",
            " rohit becomes first cricketer in history to score 4 t20i hundreds\n",
            "predicted SUMMARY:\n",
            " <unk> rohit sharma 1st 1st ton in 1st 1st test in in <eos> <eos> <eos> <eos> <eos> <eos> <eos> <eos> <eos> <eos> <eos> <eos> <eos> <eos> <eos> <eos> <eos> <eos>\n",
            "\n",
            "\n",
            "TEXT:\n",
            " rani mukerji starrer ' hichki ' is set to be screened at the belt and road film week of shanghai international film festival in china . the film will be screened on the opening day of the film festival on june 16 . siddharth malhotra , the director of ' hichki ' , will also interact with members of the audience following the screening .\n",
            "SUMMARY:\n",
            " rani mukerji ' s ' hichki ' to be screened at shanghai film fest\n",
            "predicted SUMMARY:\n",
            " <unk> rani mukerji to to ' <unk> ' in ' film ' <eos> <eos> <eos> <eos> <eos> <eos> <eos> <eos> <eos> <eos> <eos> <eos> <eos> <eos> <eos> <eos> <eos> <eos>\n",
            "\n",
            "\n",
            "TEXT:\n",
            " great-granddaughter of netaji subhas chandra bose and akhil bharat hindu mahasabha ( abhm ) leader , rajashree choudhury , on monday , said that the abhm will contest 2019 lok sabha elections independently . we will contest on our symbol and soon decide the seats , she added . she said it will depend on decisions and situation whether abhm will go for an alliance or not .\n",
            "SUMMARY:\n",
            " will contest 2019 lok sabha polls independently abhm\n",
            "predicted SUMMARY:\n",
            " <unk> <unk> <unk> <unk> , <unk> <unk> <unk> , <unk> police <eos> <eos> <eos> <eos> <eos> <eos> <eos> <eos> <eos> <eos> <eos> <eos> <eos> <eos> <eos> <eos> <eos> <eos> <eos>\n",
            "\n",
            "\n",
            "TEXT:\n",
            " g-iii apparel group , which makes ivanka trump-branded clothing , made one of its chinese factories ' employees work beyond legal limit and paid them just over $1 an hour . a report on the factory , which employs 80 workers , said some workers made only $63 weekly . further , the factory ' s monthly overtime hours ranged from 42-82 against the national legal overtime limit of 36 .\n",
            "SUMMARY:\n",
            " ivanka clothing line maker paid china staff only $1 an hour\n",
            "predicted SUMMARY:\n",
            " <unk> twitter users for <unk> marijuana in <unk> <eos> <eos> <eos> <eos> <eos> <eos> <eos> <eos> <eos> <eos> <eos> <eos> <eos> <eos> <eos> <eos> <eos> <eos> <eos> <eos> <eos> <eos>\n",
            "\n",
            "\n",
            "TEXT:\n",
            " south african conglomerate naspers-owned online payments service provider payu india has received a licence from the rbi to open its own non-banking financial company ( nbfc ) . the licence will be used to start a new credit business , payu credit . through the service , payu will issue personal loans and equated monthly instalments for consumers , payu india md jitendra gupta said .\n",
            "SUMMARY:\n",
            " payu gets rbi nod to open non-banking financial company\n",
            "predicted SUMMARY:\n",
            " <unk> indian firm firm for for analytics startup snapdeal <eos> <eos> <eos> <eos> <eos> <eos> <eos> <eos> <eos> <eos> <eos> <eos> <eos> <eos> <eos> <eos> <eos> <eos> <eos> <eos> <eos>\n",
            "\n",
            "\n"
          ],
          "name": "stdout"
        }
      ]
    },
    {
      "cell_type": "code",
      "metadata": {
        "id": "lUeMfkyfYmo-"
      },
      "source": [
        "# TODO\n",
        "# [0] fix padding before '<eos>'\n",
        "# [1] add attention\n",
        "# [2] write optuna class\n",
        "# [3] Evaluate the performance of your model based on the BLEU score\n",
        "# [4] Try implementing Bi-Directional LSTM which is capable of capturing the context from both the directions and results in a better context vector\n",
        "# [5] Use the beam search strategy for decoding the test sequence instead of using the greedy approach (argmax)"
      ],
      "execution_count": null,
      "outputs": []
    }
  ]
}