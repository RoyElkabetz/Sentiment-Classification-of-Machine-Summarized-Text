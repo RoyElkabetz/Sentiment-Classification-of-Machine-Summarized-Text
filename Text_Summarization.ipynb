{
  "nbformat": 4,
  "nbformat_minor": 0,
  "metadata": {
    "colab": {
      "name": "Text_Summarization.ipynb",
      "provenance": [],
      "authorship_tag": "ABX9TyO8R37b2u4iaxJqgCN/Z1dA",
      "include_colab_link": true
    },
    "kernelspec": {
      "name": "python3",
      "display_name": "Python 3"
    },
    "language_info": {
      "name": "python"
    },
    "accelerator": "GPU",
    "widgets": {
      "application/vnd.jupyter.widget-state+json": {
        "43f672c9d02e4471a677a755472309a2": {
          "model_module": "@jupyter-widgets/controls",
          "model_name": "HBoxModel",
          "state": {
            "_view_name": "HBoxView",
            "_dom_classes": [],
            "_model_name": "HBoxModel",
            "_view_module": "@jupyter-widgets/controls",
            "_model_module_version": "1.5.0",
            "_view_count": null,
            "_view_module_version": "1.5.0",
            "box_style": "",
            "layout": "IPY_MODEL_6882932e754046499bccd16096678d1d",
            "_model_module": "@jupyter-widgets/controls",
            "children": [
              "IPY_MODEL_a620739930814685bcbddfa890772e70",
              "IPY_MODEL_ab67e933b0434ec7b265cd29dcc225c9"
            ]
          }
        },
        "6882932e754046499bccd16096678d1d": {
          "model_module": "@jupyter-widgets/base",
          "model_name": "LayoutModel",
          "state": {
            "_view_name": "LayoutView",
            "grid_template_rows": null,
            "right": null,
            "justify_content": null,
            "_view_module": "@jupyter-widgets/base",
            "overflow": null,
            "_model_module_version": "1.2.0",
            "_view_count": null,
            "flex_flow": null,
            "width": null,
            "min_width": null,
            "border": null,
            "align_items": null,
            "bottom": null,
            "_model_module": "@jupyter-widgets/base",
            "top": null,
            "grid_column": null,
            "overflow_y": null,
            "overflow_x": null,
            "grid_auto_flow": null,
            "grid_area": null,
            "grid_template_columns": null,
            "flex": null,
            "_model_name": "LayoutModel",
            "justify_items": null,
            "grid_row": null,
            "max_height": null,
            "align_content": null,
            "visibility": null,
            "align_self": null,
            "height": null,
            "min_height": null,
            "padding": null,
            "grid_auto_rows": null,
            "grid_gap": null,
            "max_width": null,
            "order": null,
            "_view_module_version": "1.2.0",
            "grid_template_areas": null,
            "object_position": null,
            "object_fit": null,
            "grid_auto_columns": null,
            "margin": null,
            "display": null,
            "left": null
          }
        },
        "a620739930814685bcbddfa890772e70": {
          "model_module": "@jupyter-widgets/controls",
          "model_name": "FloatProgressModel",
          "state": {
            "_view_name": "ProgressView",
            "style": "IPY_MODEL_3a7ffc909dfe45549e60057af0c6f679",
            "_dom_classes": [],
            "description": " 40%",
            "_model_name": "FloatProgressModel",
            "bar_style": "danger",
            "max": 50,
            "_view_module": "@jupyter-widgets/controls",
            "_model_module_version": "1.5.0",
            "value": 20,
            "_view_count": null,
            "_view_module_version": "1.5.0",
            "orientation": "horizontal",
            "min": 0,
            "description_tooltip": null,
            "_model_module": "@jupyter-widgets/controls",
            "layout": "IPY_MODEL_d2c20e5614554d38a877c6d2d10ae628"
          }
        },
        "ab67e933b0434ec7b265cd29dcc225c9": {
          "model_module": "@jupyter-widgets/controls",
          "model_name": "HTMLModel",
          "state": {
            "_view_name": "HTMLView",
            "style": "IPY_MODEL_3a2823940f954c66b8863fa7ebf68b65",
            "_dom_classes": [],
            "description": "",
            "_model_name": "HTMLModel",
            "placeholder": "​",
            "_view_module": "@jupyter-widgets/controls",
            "_model_module_version": "1.5.0",
            "value": " 20/50 [40:48&lt;1:01:21, 122.72s/it]",
            "_view_count": null,
            "_view_module_version": "1.5.0",
            "description_tooltip": null,
            "_model_module": "@jupyter-widgets/controls",
            "layout": "IPY_MODEL_103b5ae713b448848a406b1fc576801f"
          }
        },
        "3a7ffc909dfe45549e60057af0c6f679": {
          "model_module": "@jupyter-widgets/controls",
          "model_name": "ProgressStyleModel",
          "state": {
            "_view_name": "StyleView",
            "_model_name": "ProgressStyleModel",
            "description_width": "initial",
            "_view_module": "@jupyter-widgets/base",
            "_model_module_version": "1.5.0",
            "_view_count": null,
            "_view_module_version": "1.2.0",
            "bar_color": null,
            "_model_module": "@jupyter-widgets/controls"
          }
        },
        "d2c20e5614554d38a877c6d2d10ae628": {
          "model_module": "@jupyter-widgets/base",
          "model_name": "LayoutModel",
          "state": {
            "_view_name": "LayoutView",
            "grid_template_rows": null,
            "right": null,
            "justify_content": null,
            "_view_module": "@jupyter-widgets/base",
            "overflow": null,
            "_model_module_version": "1.2.0",
            "_view_count": null,
            "flex_flow": null,
            "width": null,
            "min_width": null,
            "border": null,
            "align_items": null,
            "bottom": null,
            "_model_module": "@jupyter-widgets/base",
            "top": null,
            "grid_column": null,
            "overflow_y": null,
            "overflow_x": null,
            "grid_auto_flow": null,
            "grid_area": null,
            "grid_template_columns": null,
            "flex": null,
            "_model_name": "LayoutModel",
            "justify_items": null,
            "grid_row": null,
            "max_height": null,
            "align_content": null,
            "visibility": null,
            "align_self": null,
            "height": null,
            "min_height": null,
            "padding": null,
            "grid_auto_rows": null,
            "grid_gap": null,
            "max_width": null,
            "order": null,
            "_view_module_version": "1.2.0",
            "grid_template_areas": null,
            "object_position": null,
            "object_fit": null,
            "grid_auto_columns": null,
            "margin": null,
            "display": null,
            "left": null
          }
        },
        "3a2823940f954c66b8863fa7ebf68b65": {
          "model_module": "@jupyter-widgets/controls",
          "model_name": "DescriptionStyleModel",
          "state": {
            "_view_name": "StyleView",
            "_model_name": "DescriptionStyleModel",
            "description_width": "",
            "_view_module": "@jupyter-widgets/base",
            "_model_module_version": "1.5.0",
            "_view_count": null,
            "_view_module_version": "1.2.0",
            "_model_module": "@jupyter-widgets/controls"
          }
        },
        "103b5ae713b448848a406b1fc576801f": {
          "model_module": "@jupyter-widgets/base",
          "model_name": "LayoutModel",
          "state": {
            "_view_name": "LayoutView",
            "grid_template_rows": null,
            "right": null,
            "justify_content": null,
            "_view_module": "@jupyter-widgets/base",
            "overflow": null,
            "_model_module_version": "1.2.0",
            "_view_count": null,
            "flex_flow": null,
            "width": null,
            "min_width": null,
            "border": null,
            "align_items": null,
            "bottom": null,
            "_model_module": "@jupyter-widgets/base",
            "top": null,
            "grid_column": null,
            "overflow_y": null,
            "overflow_x": null,
            "grid_auto_flow": null,
            "grid_area": null,
            "grid_template_columns": null,
            "flex": null,
            "_model_name": "LayoutModel",
            "justify_items": null,
            "grid_row": null,
            "max_height": null,
            "align_content": null,
            "visibility": null,
            "align_self": null,
            "height": null,
            "min_height": null,
            "padding": null,
            "grid_auto_rows": null,
            "grid_gap": null,
            "max_width": null,
            "order": null,
            "_view_module_version": "1.2.0",
            "grid_template_areas": null,
            "object_position": null,
            "object_fit": null,
            "grid_auto_columns": null,
            "margin": null,
            "display": null,
            "left": null
          }
        },
        "d19809afbad44d7083b674e901d2035b": {
          "model_module": "@jupyter-widgets/controls",
          "model_name": "HBoxModel",
          "state": {
            "_view_name": "HBoxView",
            "_dom_classes": [],
            "_model_name": "HBoxModel",
            "_view_module": "@jupyter-widgets/controls",
            "_model_module_version": "1.5.0",
            "_view_count": null,
            "_view_module_version": "1.5.0",
            "box_style": "",
            "layout": "IPY_MODEL_96fbe364188a4820beda13fd996b4742",
            "_model_module": "@jupyter-widgets/controls",
            "children": [
              "IPY_MODEL_4c28ec25e7494cb7bdcc9ea2ffb91146",
              "IPY_MODEL_67d436687555443a96a39ae1beb04555"
            ]
          }
        },
        "96fbe364188a4820beda13fd996b4742": {
          "model_module": "@jupyter-widgets/base",
          "model_name": "LayoutModel",
          "state": {
            "_view_name": "LayoutView",
            "grid_template_rows": null,
            "right": null,
            "justify_content": null,
            "_view_module": "@jupyter-widgets/base",
            "overflow": null,
            "_model_module_version": "1.2.0",
            "_view_count": null,
            "flex_flow": null,
            "width": null,
            "min_width": null,
            "border": null,
            "align_items": null,
            "bottom": null,
            "_model_module": "@jupyter-widgets/base",
            "top": null,
            "grid_column": null,
            "overflow_y": null,
            "overflow_x": null,
            "grid_auto_flow": null,
            "grid_area": null,
            "grid_template_columns": null,
            "flex": null,
            "_model_name": "LayoutModel",
            "justify_items": null,
            "grid_row": null,
            "max_height": null,
            "align_content": null,
            "visibility": null,
            "align_self": null,
            "height": null,
            "min_height": null,
            "padding": null,
            "grid_auto_rows": null,
            "grid_gap": null,
            "max_width": null,
            "order": null,
            "_view_module_version": "1.2.0",
            "grid_template_areas": null,
            "object_position": null,
            "object_fit": null,
            "grid_auto_columns": null,
            "margin": null,
            "display": null,
            "left": null
          }
        },
        "4c28ec25e7494cb7bdcc9ea2ffb91146": {
          "model_module": "@jupyter-widgets/controls",
          "model_name": "FloatProgressModel",
          "state": {
            "_view_name": "ProgressView",
            "style": "IPY_MODEL_026ec4f7ce50479eb9971d2b150039b8",
            "_dom_classes": [],
            "description": "  0%",
            "_model_name": "FloatProgressModel",
            "bar_style": "danger",
            "max": 154,
            "_view_module": "@jupyter-widgets/controls",
            "_model_module_version": "1.5.0",
            "value": 0,
            "_view_count": null,
            "_view_module_version": "1.5.0",
            "orientation": "horizontal",
            "min": 0,
            "description_tooltip": null,
            "_model_module": "@jupyter-widgets/controls",
            "layout": "IPY_MODEL_4dff75e7ee2a48fdb66f98073378fe6c"
          }
        },
        "67d436687555443a96a39ae1beb04555": {
          "model_module": "@jupyter-widgets/controls",
          "model_name": "HTMLModel",
          "state": {
            "_view_name": "HTMLView",
            "style": "IPY_MODEL_fc42761c98d443209f85678e0f129b44",
            "_dom_classes": [],
            "description": "",
            "_model_name": "HTMLModel",
            "placeholder": "​",
            "_view_module": "@jupyter-widgets/controls",
            "_model_module_version": "1.5.0",
            "value": " 0/154 [00:00&lt;?, ?it/s]",
            "_view_count": null,
            "_view_module_version": "1.5.0",
            "description_tooltip": null,
            "_model_module": "@jupyter-widgets/controls",
            "layout": "IPY_MODEL_cb25aacca2e14a1480fe0667aa70b287"
          }
        },
        "026ec4f7ce50479eb9971d2b150039b8": {
          "model_module": "@jupyter-widgets/controls",
          "model_name": "ProgressStyleModel",
          "state": {
            "_view_name": "StyleView",
            "_model_name": "ProgressStyleModel",
            "description_width": "initial",
            "_view_module": "@jupyter-widgets/base",
            "_model_module_version": "1.5.0",
            "_view_count": null,
            "_view_module_version": "1.2.0",
            "bar_color": null,
            "_model_module": "@jupyter-widgets/controls"
          }
        },
        "4dff75e7ee2a48fdb66f98073378fe6c": {
          "model_module": "@jupyter-widgets/base",
          "model_name": "LayoutModel",
          "state": {
            "_view_name": "LayoutView",
            "grid_template_rows": null,
            "right": null,
            "justify_content": null,
            "_view_module": "@jupyter-widgets/base",
            "overflow": null,
            "_model_module_version": "1.2.0",
            "_view_count": null,
            "flex_flow": null,
            "width": null,
            "min_width": null,
            "border": null,
            "align_items": null,
            "bottom": null,
            "_model_module": "@jupyter-widgets/base",
            "top": null,
            "grid_column": null,
            "overflow_y": null,
            "overflow_x": null,
            "grid_auto_flow": null,
            "grid_area": null,
            "grid_template_columns": null,
            "flex": null,
            "_model_name": "LayoutModel",
            "justify_items": null,
            "grid_row": null,
            "max_height": null,
            "align_content": null,
            "visibility": null,
            "align_self": null,
            "height": null,
            "min_height": null,
            "padding": null,
            "grid_auto_rows": null,
            "grid_gap": null,
            "max_width": null,
            "order": null,
            "_view_module_version": "1.2.0",
            "grid_template_areas": null,
            "object_position": null,
            "object_fit": null,
            "grid_auto_columns": null,
            "margin": null,
            "display": null,
            "left": null
          }
        },
        "fc42761c98d443209f85678e0f129b44": {
          "model_module": "@jupyter-widgets/controls",
          "model_name": "DescriptionStyleModel",
          "state": {
            "_view_name": "StyleView",
            "_model_name": "DescriptionStyleModel",
            "description_width": "",
            "_view_module": "@jupyter-widgets/base",
            "_model_module_version": "1.5.0",
            "_view_count": null,
            "_view_module_version": "1.2.0",
            "_model_module": "@jupyter-widgets/controls"
          }
        },
        "cb25aacca2e14a1480fe0667aa70b287": {
          "model_module": "@jupyter-widgets/base",
          "model_name": "LayoutModel",
          "state": {
            "_view_name": "LayoutView",
            "grid_template_rows": null,
            "right": null,
            "justify_content": null,
            "_view_module": "@jupyter-widgets/base",
            "overflow": null,
            "_model_module_version": "1.2.0",
            "_view_count": null,
            "flex_flow": null,
            "width": null,
            "min_width": null,
            "border": null,
            "align_items": null,
            "bottom": null,
            "_model_module": "@jupyter-widgets/base",
            "top": null,
            "grid_column": null,
            "overflow_y": null,
            "overflow_x": null,
            "grid_auto_flow": null,
            "grid_area": null,
            "grid_template_columns": null,
            "flex": null,
            "_model_name": "LayoutModel",
            "justify_items": null,
            "grid_row": null,
            "max_height": null,
            "align_content": null,
            "visibility": null,
            "align_self": null,
            "height": null,
            "min_height": null,
            "padding": null,
            "grid_auto_rows": null,
            "grid_gap": null,
            "max_width": null,
            "order": null,
            "_view_module_version": "1.2.0",
            "grid_template_areas": null,
            "object_position": null,
            "object_fit": null,
            "grid_auto_columns": null,
            "margin": null,
            "display": null,
            "left": null
          }
        }
      }
    }
  },
  "cells": [
    {
      "cell_type": "markdown",
      "metadata": {
        "id": "view-in-github",
        "colab_type": "text"
      },
      "source": [
        "<a href=\"https://colab.research.google.com/github/RoyElkabetz/Text-Summarization-with-Deep-Learning/blob/main/Text_Summarization.ipynb\" target=\"_parent\"><img src=\"https://colab.research.google.com/assets/colab-badge.svg\" alt=\"Open In Colab\"/></a>"
      ]
    },
    {
      "cell_type": "code",
      "metadata": {
        "colab": {
          "base_uri": "https://localhost:8080/"
        },
        "id": "94-50bV31g5A",
        "outputId": "75ff906d-0af2-42fa-81b0-94a0866a439f"
      },
      "source": [
        "## uncomment only if running from google.colab\n",
        "# clone the git reposetory\n",
        "!git clone https://github.com/RoyElkabetz/Text-Summarization-with-Deep-Learning\n",
        "# add path to .py files for import\n",
        "import sys\n",
        "sys.path.insert(1, \"/content/Text-Summarization-with-Deep-Learning\")"
      ],
      "execution_count": 1,
      "outputs": [
        {
          "output_type": "stream",
          "text": [
            "Cloning into 'Text-Summarization-with-Deep-Learning'...\n",
            "remote: Enumerating objects: 131, done.\u001b[K\n",
            "remote: Counting objects: 100% (131/131), done.\u001b[K\n",
            "remote: Compressing objects: 100% (130/130), done.\u001b[K\n",
            "remote: Total 131 (delta 75), reused 6 (delta 0), pack-reused 0\u001b[K\n",
            "Receiving objects: 100% (131/131), 234.27 KiB | 9.01 MiB/s, done.\n",
            "Resolving deltas: 100% (75/75), done.\n"
          ],
          "name": "stdout"
        }
      ]
    },
    {
      "cell_type": "code",
      "metadata": {
        "colab": {
          "base_uri": "https://localhost:8080/"
        },
        "id": "-ejtaOc71hzT",
        "outputId": "d0681e36-961b-476c-8d41-739e5693e43e"
      },
      "source": [
        "## uncomment if you want to mount google drive\n",
        "from google.colab import drive\n",
        "drive.mount('/content/gdrive')"
      ],
      "execution_count": 2,
      "outputs": [
        {
          "output_type": "stream",
          "text": [
            "Mounted at /content/gdrive\n"
          ],
          "name": "stdout"
        }
      ]
    },
    {
      "cell_type": "code",
      "metadata": {
        "id": "CniCusU62lza"
      },
      "source": [
        "PATH_DATASET = '/content/gdrive/MyDrive/Datasets/Text/news_summary_more.csv'\n",
        "CHECKPOINT_DIR = '/content/gdrive/MyDrive/Checkpoints'\n",
        "MODEL_NAME = 'LSTM_Text_Summarizer'"
      ],
      "execution_count": 76,
      "outputs": []
    },
    {
      "cell_type": "code",
      "metadata": {
        "colab": {
          "base_uri": "https://localhost:8080/"
        },
        "id": "wZxlt_woxho8",
        "outputId": "74cf6920-c602-4324-ed4b-ffc1e2a7c3f4"
      },
      "source": [
        "%matplotlib inline\n",
        "import time\n",
        "import random\n",
        "import math\n",
        "import numpy as np\n",
        "import pandas as pd\n",
        "import matplotlib.pyplot as plt\n",
        "from IPython.display import HTML, display, clear_output\n",
        "from tqdm.autonotebook import tqdm\n",
        "\n",
        "\n",
        "import torch\n",
        "from torch import nn\n",
        "import torchtext.legacy.data as data\n",
        "from torchtext.data.utils import get_tokenizer\n",
        "from torchtext.legacy.data import Field, Dataset, Example, BucketIterator, Iterator\n",
        "from torch.utils.data import DataLoader, random_split\n",
        "\n",
        "# from torchtext.datasets import IMDB as the_dataset\n",
        "# from torchtext.datasets import AG_NEWS as the_dataset\n",
        "# import torchtext.data as data\n",
        "# from torchtext.data.utils import get_tokenizer\n",
        "# from torchtext.vocab import build_vocab_from_iterator\n",
        "# from torchtext.data.functional import to_map_style_dataset\n",
        "# from torch.utils.data import DataLoader\n",
        "# from torch.utils.data.dataset import random_split\n",
        "# from torch import nn\n",
        "\n",
        "\n",
        "\n",
        "\n",
        "print(f'torch {torch.__version__}')\n",
        "print('Device properties:')\n",
        "if torch.cuda.is_available():\n",
        "    device = torch.device(\"cuda\")\n",
        "    gpu_data = torch.cuda.get_device_properties(0)\n",
        "    gpu_name = gpu_data.name\n",
        "    gpu_mem  = f'{gpu_data.total_memory * 1e-9:.02f} Gb'\n",
        "    print(f'GPU: {gpu_name}\\nMemory: {gpu_mem}')\n",
        "else:\n",
        "    device = torch.device(\"cpu\")\n",
        "    print('CPU')"
      ],
      "execution_count": 77,
      "outputs": [
        {
          "output_type": "stream",
          "text": [
            "torch 1.9.0+cu102\n",
            "Device properties:\n",
            "GPU: Tesla T4\n",
            "Memory: 15.84 Gb\n"
          ],
          "name": "stdout"
        }
      ]
    },
    {
      "cell_type": "code",
      "metadata": {
        "id": "5p6Ut6L0t4fQ"
      },
      "source": [
        "class DataFrameDataset(Dataset):\n",
        "    \"\"\"Class for using pandas DataFrames as a datasource\"\"\"\n",
        "    \"\"\"Pytorch legacy Dataset: https://pytorch.org/text/_modules/torchtext/data/dataset.html\"\"\"\n",
        "    def __init__(self, examples, fields, filter_pred=None):\n",
        "        \"\"\"\n",
        "        Create a dataset from a pandas dataframe of examples and Fields\n",
        "        Arguments:\n",
        "            examples pd.DataFrame: DataFrame of examples\n",
        "            fields {str: Field}: The Fields to use in this tuple. The\n",
        "                string is a field name, and the Field is the associated field.\n",
        "            filter_pred (callable or None): use only exanples for which\n",
        "                filter_pred(example) is true, or use all examples if None.\n",
        "                Default is None\n",
        "        \"\"\"\n",
        "        self.examples = examples.apply(SeriesExample.fromSeries, args=(fields,), axis=1).tolist()\n",
        "        if filter_pred is not None:\n",
        "            self.examples = filter(filter_pred, self.examples)\n",
        "        self.fields = dict(fields)\n",
        "        # Unpack field tuples\n",
        "        for n, f in list(self.fields.items()):\n",
        "            if isinstance(n, tuple):\n",
        "                self.fields.update(zip(n, f))\n",
        "                del self.fields[n]\n",
        "\n",
        "class SeriesExample(Example):\n",
        "    \"\"\"Class to convert a pandas Series to an Example\"\"\"\n",
        "  \n",
        "    @classmethod\n",
        "    def fromSeries(cls, data, fields):\n",
        "        return cls.fromdict(data.to_dict(), fields)\n",
        "\n",
        "    @classmethod\n",
        "    def fromdict(cls, data, fields):\n",
        "        ex = cls()\n",
        "        \n",
        "        for key, field in fields.items():\n",
        "            if key not in data:\n",
        "                raise ValueError(\"Specified key {} was not found in \"\n",
        "                \"the input data\".format(key))\n",
        "            if field is not None:\n",
        "                setattr(ex, key, field.preprocess(data[key]))\n",
        "            else:\n",
        "                setattr(ex, key, data[key])\n",
        "        return ex"
      ],
      "execution_count": 78,
      "outputs": []
    },
    {
      "cell_type": "code",
      "metadata": {
        "colab": {
          "base_uri": "https://localhost:8080/",
          "height": 204
        },
        "id": "DgDn9Xxy3FqN",
        "outputId": "34c44f27-f4fc-4d76-c484-5dcbe31e9f28"
      },
      "source": [
        "data_df = pd.read_csv(PATH_DATASET ,encoding='utf-8')\n",
        "data_df.drop_duplicates(subset=['text'],inplace=True)  # dropping duplicates\n",
        "data_df.dropna(axis=0,inplace=True)  # dropping na\n",
        "data_df.head()"
      ],
      "execution_count": 126,
      "outputs": [
        {
          "output_type": "execute_result",
          "data": {
            "text/html": [
              "<div>\n",
              "<style scoped>\n",
              "    .dataframe tbody tr th:only-of-type {\n",
              "        vertical-align: middle;\n",
              "    }\n",
              "\n",
              "    .dataframe tbody tr th {\n",
              "        vertical-align: top;\n",
              "    }\n",
              "\n",
              "    .dataframe thead th {\n",
              "        text-align: right;\n",
              "    }\n",
              "</style>\n",
              "<table border=\"1\" class=\"dataframe\">\n",
              "  <thead>\n",
              "    <tr style=\"text-align: right;\">\n",
              "      <th></th>\n",
              "      <th>headlines</th>\n",
              "      <th>text</th>\n",
              "    </tr>\n",
              "  </thead>\n",
              "  <tbody>\n",
              "    <tr>\n",
              "      <th>0</th>\n",
              "      <td>upGrad learner switches to career in ML &amp; Al w...</td>\n",
              "      <td>Saurav Kant, an alumnus of upGrad and IIIT-B's...</td>\n",
              "    </tr>\n",
              "    <tr>\n",
              "      <th>1</th>\n",
              "      <td>Delhi techie wins free food from Swiggy for on...</td>\n",
              "      <td>Kunal Shah's credit card bill payment platform...</td>\n",
              "    </tr>\n",
              "    <tr>\n",
              "      <th>2</th>\n",
              "      <td>New Zealand end Rohit Sharma-led India's 12-ma...</td>\n",
              "      <td>New Zealand defeated India by 8 wickets in the...</td>\n",
              "    </tr>\n",
              "    <tr>\n",
              "      <th>3</th>\n",
              "      <td>Aegon life iTerm insurance plan helps customer...</td>\n",
              "      <td>With Aegon Life iTerm Insurance plan, customer...</td>\n",
              "    </tr>\n",
              "    <tr>\n",
              "      <th>4</th>\n",
              "      <td>Have known Hirani for yrs, what if MeToo claim...</td>\n",
              "      <td>Speaking about the sexual harassment allegatio...</td>\n",
              "    </tr>\n",
              "  </tbody>\n",
              "</table>\n",
              "</div>"
            ],
            "text/plain": [
              "                                           headlines                                               text\n",
              "0  upGrad learner switches to career in ML & Al w...  Saurav Kant, an alumnus of upGrad and IIIT-B's...\n",
              "1  Delhi techie wins free food from Swiggy for on...  Kunal Shah's credit card bill payment platform...\n",
              "2  New Zealand end Rohit Sharma-led India's 12-ma...  New Zealand defeated India by 8 wickets in the...\n",
              "3  Aegon life iTerm insurance plan helps customer...  With Aegon Life iTerm Insurance plan, customer...\n",
              "4  Have known Hirani for yrs, what if MeToo claim...  Speaking about the sexual harassment allegatio..."
            ]
          },
          "metadata": {
            "tags": []
          },
          "execution_count": 126
        }
      ]
    },
    {
      "cell_type": "code",
      "metadata": {
        "id": "JDhBVBMb3dp8"
      },
      "source": [
        "contraction_mapping = {\"ain't\": \"is not\", \"aren't\": \"are not\",\"can't\": \"cannot\", \"'cause\": \"because\", \"could've\": \"could have\", \"couldn't\": \"could not\",\n",
        "                           \"didn't\": \"did not\",  \"doesn't\": \"does not\", \"don't\": \"do not\", \"hadn't\": \"had not\", \"hasn't\": \"has not\", \"haven't\": \"have not\",\n",
        "                           \"he'd\": \"he would\",\"he'll\": \"he will\", \"he's\": \"he is\", \"how'd\": \"how did\", \"how'd'y\": \"how do you\", \"how'll\": \"how will\", \"how's\": \"how is\",\n",
        "                           \"I'd\": \"I would\", \"I'd've\": \"I would have\", \"I'll\": \"I will\", \"I'll've\": \"I will have\",\"I'm\": \"I am\", \"I've\": \"I have\", \"i'd\": \"i would\",\n",
        "                           \"i'd've\": \"i would have\", \"i'll\": \"i will\",  \"i'll've\": \"i will have\",\"i'm\": \"i am\", \"i've\": \"i have\", \"isn't\": \"is not\", \"it'd\": \"it would\",\n",
        "                           \"it'd've\": \"it would have\", \"it'll\": \"it will\", \"it'll've\": \"it will have\",\"it's\": \"it is\", \"let's\": \"let us\", \"ma'am\": \"madam\",\n",
        "                           \"mayn't\": \"may not\", \"might've\": \"might have\",\"mightn't\": \"might not\",\"mightn't've\": \"might not have\", \"must've\": \"must have\",\n",
        "                           \"mustn't\": \"must not\", \"mustn't've\": \"must not have\", \"needn't\": \"need not\", \"needn't've\": \"need not have\",\"o'clock\": \"of the clock\",\n",
        "                           \"oughtn't\": \"ought not\", \"oughtn't've\": \"ought not have\", \"shan't\": \"shall not\", \"sha'n't\": \"shall not\", \"shan't've\": \"shall not have\",\n",
        "                           \"she'd\": \"she would\", \"she'd've\": \"she would have\", \"she'll\": \"she will\", \"she'll've\": \"she will have\", \"she's\": \"she is\",\n",
        "                           \"should've\": \"should have\", \"shouldn't\": \"should not\", \"shouldn't've\": \"should not have\", \"so've\": \"so have\",\"so's\": \"so as\",\n",
        "                           \"this's\": \"this is\",\"that'd\": \"that would\", \"that'd've\": \"that would have\", \"that's\": \"that is\", \"there'd\": \"there would\",\n",
        "                           \"there'd've\": \"there would have\", \"there's\": \"there is\", \"here's\": \"here is\",\"they'd\": \"they would\", \"they'd've\": \"they would have\",\n",
        "                           \"they'll\": \"they will\", \"they'll've\": \"they will have\", \"they're\": \"they are\", \"they've\": \"they have\", \"to've\": \"to have\",\n",
        "                           \"wasn't\": \"was not\", \"we'd\": \"we would\", \"we'd've\": \"we would have\", \"we'll\": \"we will\", \"we'll've\": \"we will have\", \"we're\": \"we are\",\n",
        "                           \"we've\": \"we have\", \"weren't\": \"were not\", \"what'll\": \"what will\", \"what'll've\": \"what will have\", \"what're\": \"what are\",\n",
        "                           \"what's\": \"what is\", \"what've\": \"what have\", \"when's\": \"when is\", \"when've\": \"when have\", \"where'd\": \"where did\", \"where's\": \"where is\",\n",
        "                           \"where've\": \"where have\", \"who'll\": \"who will\", \"who'll've\": \"who will have\", \"who's\": \"who is\", \"who've\": \"who have\",\n",
        "                           \"why's\": \"why is\", \"why've\": \"why have\", \"will've\": \"will have\", \"won't\": \"will not\", \"won't've\": \"will not have\",\n",
        "                           \"would've\": \"would have\", \"wouldn't\": \"would not\", \"wouldn't've\": \"would not have\", \"y'all\": \"you all\",\n",
        "                           \"y'all'd\": \"you all would\",\"y'all'd've\": \"you all would have\",\"y'all're\": \"you all are\",\"y'all've\": \"you all have\",\n",
        "                           \"you'd\": \"you would\", \"you'd've\": \"you would have\", \"you'll\": \"you will\", \"you'll've\": \"you will have\",\n",
        "                           \"you're\": \"you are\", \"you've\": \"you have\"}"
      ],
      "execution_count": 127,
      "outputs": []
    },
    {
      "cell_type": "code",
      "metadata": {
        "colab": {
          "base_uri": "https://localhost:8080/"
        },
        "id": "xiAmXOc0378W",
        "outputId": "af31aa4d-d50f-4d17-bea9-31c6702c0d62"
      },
      "source": [
        "## run this if you want to remove stop words from data\n",
        "import re\n",
        "import nltk\n",
        "from nltk.corpus import stopwords\n",
        "nltk.download('stopwords')\n",
        "\n",
        "stop_words = stopwords.words('english')\n",
        "\n",
        "def preprocess(text):\n",
        "    text = text.lower() # lowercase\n",
        "    text = text.split() # convert have'nt -> have not\n",
        "    for i in range(len(text)):\n",
        "        word = text[i]\n",
        "        if word in contraction_mapping:\n",
        "            text[i] = contraction_mapping[word]\n",
        "    text = \" \".join(text)\n",
        "    # text = text.split()\n",
        "    # newtext = []\n",
        "    # for word in text:\n",
        "    #     if word not in stop_words:\n",
        "    #         newtext.append(word)\n",
        "    # text = \" \".join(newtext)\n",
        "    # text = text.replace(\"'s\",'') # convert your's -> your\n",
        "    #text = re.sub(r'\\(.*\\)','',text) # remove (words)\n",
        "    #text = re.sub(r'[^a-zA-Z0-9. ]','',text) # remove punctuations\n",
        "    #text = re.sub(r'\\.',' . ',text)\n",
        "    return text\n",
        "\n",
        "sample = \"(hello) hi there .man tiger caller who's that isn't it ? WALL-E\"\n",
        "print(preprocess(sample))"
      ],
      "execution_count": 128,
      "outputs": [
        {
          "output_type": "stream",
          "text": [
            "[nltk_data] Downloading package stopwords to /root/nltk_data...\n",
            "[nltk_data]   Package stopwords is already up-to-date!\n",
            "(hello) hi there .man tiger caller who is that is not it ? wall-e\n"
          ],
          "name": "stdout"
        }
      ]
    },
    {
      "cell_type": "code",
      "metadata": {
        "colab": {
          "base_uri": "https://localhost:8080/"
        },
        "id": "q9I6cfkx5ED3",
        "outputId": "f7126ce1-c6e1-40c0-8d06-5312c94f9379"
      },
      "source": [
        "# process the data inplace\n",
        "print('Before preprocessing:\\n {}\\n {}\\n'.format(data_df['headlines'][20], data_df['text'][20]))\n",
        "data_df['cleaned_headlines'] = data_df['headlines'].apply(lambda x: preprocess(x))\n",
        "data_df['cleaned_text'] = data_df['text'].apply(lambda x: preprocess(x))\n",
        "print('After preprocessing:\\n {}\\n {}\\n'.format(data_df['headlines'][20], data_df['text'][20]))\n",
        "print('After preprocessing:\\n {}\\n {}\\n'.format(data_df['cleaned_headlines'][20], data_df['cleaned_text'][20]))"
      ],
      "execution_count": 129,
      "outputs": [
        {
          "output_type": "stream",
          "text": [
            "Before preprocessing:\n",
            " I think the opposition even dreams about me: PM Modi\n",
            " Claiming there is a dearth of ideas among opposition parties, Prime Minister Narendra Modi on Wednesday said, \"The opposition talks only about Modi the whole day, I suspect they even dream about me.\" PM Modi, who was addressing the New India Youth Conclave inâ Surat, added that the opposition parties have only one agenda which is \"Modi\". \n",
            "\n",
            "After preprocessing:\n",
            " I think the opposition even dreams about me: PM Modi\n",
            " Claiming there is a dearth of ideas among opposition parties, Prime Minister Narendra Modi on Wednesday said, \"The opposition talks only about Modi the whole day, I suspect they even dream about me.\" PM Modi, who was addressing the New India Youth Conclave inâ Surat, added that the opposition parties have only one agenda which is \"Modi\". \n",
            "\n",
            "After preprocessing:\n",
            " i think the opposition even dreams about me: pm modi\n",
            " claiming there is a dearth of ideas among opposition parties, prime minister narendra modi on wednesday said, \"the opposition talks only about modi the whole day, i suspect they even dream about me.\" pm modi, who was addressing the new india youth conclave inâ surat, added that the opposition parties have only one agenda which is \"modi\".\n",
            "\n"
          ],
          "name": "stdout"
        }
      ]
    },
    {
      "cell_type": "code",
      "metadata": {
        "id": "ceSbOcqp6m-c"
      },
      "source": [
        "data_df.replace('', np.nan, inplace=True)\n",
        "data_df.dropna(axis=0, inplace=True)"
      ],
      "execution_count": 130,
      "outputs": []
    },
    {
      "cell_type": "code",
      "metadata": {
        "colab": {
          "base_uri": "https://localhost:8080/",
          "height": 281
        },
        "id": "ndNK3O3J9tTZ",
        "outputId": "70a3dc7f-4060-438f-dc9c-895b1fead72d"
      },
      "source": [
        "text_word_count = []\n",
        "headlines_word_count = []\n",
        "\n",
        "# populate the lists with sentence lengths\n",
        "for i in data_df['cleaned_text']:\n",
        "      text_word_count.append(len(i.split()))\n",
        "\n",
        "for i in data_df['cleaned_headlines']:\n",
        "      headlines_word_count.append(len(i.split()))\n",
        "\n",
        "\n",
        "length_df = pd.DataFrame({'cleaned_text':text_word_count, 'cleaned_headlines':headlines_word_count})\n",
        "length_df.hist(bins = 30)\n",
        "plt.show()"
      ],
      "execution_count": 131,
      "outputs": [
        {
          "output_type": "display_data",
          "data": {
            "image/png": "[encoded data removed]",
            "text/plain": [
              "<Figure size 432x288 with 2 Axes>"
            ]
          },
          "metadata": {
            "tags": [],
            "needs_background": "light"
          }
        }
      ]
    },
    {
      "cell_type": "code",
      "metadata": {
        "colab": {
          "base_uri": "https://localhost:8080/"
        },
        "id": "bsdZeXQC-Gw9",
        "outputId": "98ca4caa-965c-4395-d0fd-e57199b2116e"
      },
      "source": [
        "cnt = 0\n",
        "for i in data_df['cleaned_headlines']:\n",
        "    if(len(i.split()) <= 15):\n",
        "        cnt += 1\n",
        "print(cnt / len(data_df['cleaned_headlines']))\n",
        "\n",
        "cnt = 0\n",
        "for i in data_df['cleaned_text']:\n",
        "    if(len(i.split()) <= 65):\n",
        "        cnt += 1\n",
        "print(cnt / len(data_df['cleaned_text']))"
      ],
      "execution_count": 132,
      "outputs": [
        {
          "output_type": "stream",
          "text": [
            "0.9997559983733225\n",
            "0.9999186661244408\n"
          ],
          "name": "stdout"
        }
      ]
    },
    {
      "cell_type": "code",
      "metadata": {
        "id": "0SZHjWgw-NAm"
      },
      "source": [
        "max_text_len = 65\n",
        "max_summary_len = 15\n",
        "pad_token = ' <pad>'"
      ],
      "execution_count": 133,
      "outputs": []
    },
    {
      "cell_type": "code",
      "metadata": {
        "id": "X2IMDGBa--mH",
        "colab": {
          "base_uri": "https://localhost:8080/"
        },
        "outputId": "9d80aed9-c52b-4b28-9f08-cdde57726c2a"
      },
      "source": [
        "cleaned_text = np.array(data_df['cleaned_text'])\n",
        "cleaned_summary = np.array(data_df['cleaned_headlines'])\n",
        "\n",
        "short_text = []\n",
        "short_summary = []\n",
        "\n",
        "for i in range(len(cleaned_text)):\n",
        "    if(len(cleaned_summary[i].split()) <= max_summary_len and len(cleaned_text[i].split()) <= max_text_len):\n",
        "        #padded_cleaned_text = cleaned_text[i] + (max_text_len - len(cleaned_text[i].split())) * pad_token\n",
        "        #padded_cleaned_summary = cleaned_summary[i] + (max_summary_len - len(cleaned_summary[i].split())) * pad_token\n",
        "        short_text.append(cleaned_text[i])\n",
        "        short_summary.append(cleaned_summary[i])\n",
        "        \n",
        "df = pd.DataFrame({'text': short_text,'summary': short_summary})\n",
        "print(len(df))"
      ],
      "execution_count": 137,
      "outputs": [
        {
          "output_type": "stream",
          "text": [
            "98328\n"
          ],
          "name": "stdout"
        }
      ]
    },
    {
      "cell_type": "code",
      "metadata": {
        "id": "f2Po4j1tATeO"
      },
      "source": [
        "tokenizer = get_tokenizer(\"basic_english\")\n",
        "\n",
        "# define the text field for the dataset\n",
        "TEXT = data.Field(sequential=True,\n",
        "                  lower=True, \n",
        "                  tokenize=tokenizer,\n",
        "                  init_token='<sos>', \n",
        "                  eos_token='<eos>',\n",
        "                  dtype=torch.long)\n",
        "# define the text field for the dataset\n",
        "SUMMARY = data.Field(sequential=True,\n",
        "                    lower=True, \n",
        "                    tokenize=tokenizer,\n",
        "                    init_token='<sos>', \n",
        "                    eos_token='<eos>',\n",
        "                    dtype=torch.long)\n",
        "#SUMMARY = data.Field(sequential=True, tokenize=tokenizer)\n",
        "# TEXT.build_vocab(my_data, max_size=25000, vectors=\"glove.6B.100d\") \n",
        "#TEXT.build_vocab(my_data, max_size=25000) \n",
        "#SUMMARY.build_vocab(my_data)\n",
        "fields = {'text': TEXT, 'summary': SUMMARY}"
      ],
      "execution_count": 138,
      "outputs": []
    },
    {
      "cell_type": "code",
      "metadata": {
        "id": "yv6xCz8Btxez"
      },
      "source": [
        "train_data, test_data, val_data = DataFrameDataset(df, fields=fields).split(split_ratio=[0.8, 0.1, 0.1])"
      ],
      "execution_count": 139,
      "outputs": []
    },
    {
      "cell_type": "code",
      "metadata": {
        "id": "e_l8aWWP0LTr",
        "colab": {
          "base_uri": "https://localhost:8080/"
        },
        "outputId": "8d8ea855-af3e-4d22-828a-9a04aaddf38d"
      },
      "source": [
        "TEXT.build_vocab(train_data, min_freq=2)\n",
        "SUMMARY.build_vocab(train_data, min_freq=2) \n",
        "\n",
        "vocab = TEXT.vocab\n",
        "print(f\"Unique tokens in training text vocabulary: {len(TEXT.vocab)}\")\n",
        "print(f\"Unique tokens in training summary vocabulary: {len(SUMMARY.vocab)}\")"
      ],
      "execution_count": 140,
      "outputs": [
        {
          "output_type": "stream",
          "text": [
            "Unique tokens in training text vocabulary: 53927\n",
            "Unique tokens in training summary vocabulary: 22260\n"
          ],
          "name": "stdout"
        }
      ]
    },
    {
      "cell_type": "code",
      "metadata": {
        "colab": {
          "base_uri": "https://localhost:8080/",
          "height": 434
        },
        "id": "rVqBCyuyvxry",
        "outputId": "129c1963-d847-4999-fa65-bc26a3d1201a"
      },
      "source": [
        "print(f'Number of train samples: {len(train_data)}')\n",
        "print(f'Number of validation samples: {len(val_data)}')\n",
        "print(f'Number of test samples: {len(test_data)}')\n",
        "\n",
        "# display data samples\n",
        "display(HTML('<h4>Display data samples:</h4>'))\n",
        "n_samples = 2\n",
        "for i in range(n_samples):\n",
        "    print(\"\\nText:\\n \", \" \".join([t for t in train_data.examples[i].text]))\n",
        "    print(\"Tokens:\\n \", [vocab.stoi[t] for t in train_data.examples[i].text])\n",
        "    print(\"Summary:\\n \", \" \".join([t for t in train_data.examples[i].summary]))\n",
        "    print(\"Tokens:\\n \", [vocab.stoi[t] for t in train_data.examples[i].summary])"
      ],
      "execution_count": 141,
      "outputs": [
        {
          "output_type": "stream",
          "text": [
            "Number of train samples: 78662\n",
            "Number of validation samples: 9833\n",
            "Number of test samples: 9833\n"
          ],
          "name": "stdout"
        },
        {
          "output_type": "display_data",
          "data": {
            "text/html": [
              "<h4>Display data samples:</h4>"
            ],
            "text/plain": [
              "<IPython.core.display.HTML object>"
            ]
          },
          "metadata": {
            "tags": []
          }
        },
        {
          "output_type": "stream",
          "text": [
            "\n",
            "Text:\n",
            "  opera software has created a new version of its internet browser codenamed ' reborn ' with a messaging sidebar built directly into the interface . the sidebar gives users direct access to facebook-owned whatsapp and messenger apps instead of using web or desktop versions . users will be able to pin chats next to their open tabs or pin the icons to the sidebar .\n",
            "Tokens:\n",
            "  [12758, 1373, 15, 809, 8, 79, 1598, 11, 47, 1071, 6547, 11970, 10, 39125, 10, 23, 8, 2801, 39655, 1137, 2320, 98, 4, 7310, 5, 4, 39655, 2483, 180, 1640, 947, 7, 4777, 974, 12, 4783, 1979, 716, 11, 249, 2146, 95, 9553, 6926, 5, 180, 29, 32, 821, 7, 9112, 8342, 281, 7, 52, 358, 26846, 95, 9112, 4, 10313, 7, 4, 39655, 5]\n",
            "Summary:\n",
            "  opera makes web browser with built-in whatsapp , fb messenger\n",
            "Tokens:\n",
            "  [12758, 1453, 2146, 6547, 23, 7968, 974, 6, 36505, 4783]\n",
            "\n",
            "Text:\n",
            "  tata sky has dropped over 20 channels run by sony pictures networks , including sab and max along with three tv today network channels like aaj tak and india today tv . tata sky said the channels were discontinued after failed negotiation talks with their broadcasters . it said continuing these channels on tata sky ' s platform would have forced it to hike prices .\n",
            "Tokens:\n",
            "  [1183, 4670, 15, 1380, 48, 402, 4219, 598, 22, 6527, 713, 4445, 6, 151, 16668, 12, 4782, 370, 23, 108, 855, 400, 1220, 4219, 102, 9332, 14959, 12, 37, 400, 855, 5, 1183, 4670, 17, 4, 4219, 44, 10076, 26, 590, 21099, 898, 23, 52, 14140, 5, 25, 17, 5463, 404, 4219, 13, 1183, 4670, 10, 14, 545, 77, 34, 887, 25, 7, 2255, 1157, 5]\n",
            "Summary:\n",
            "  tata sky drops several channels after failed negotiation talks\n",
            "Tokens:\n",
            "  [1183, 4670, 12306, 257, 4219, 26, 590, 21099, 898]\n"
          ],
          "name": "stdout"
        }
      ]
    },
    {
      "cell_type": "code",
      "metadata": {
        "colab": {
          "base_uri": "https://localhost:8080/"
        },
        "id": "XtTxuiLxwJ6J",
        "outputId": "ec19a469-4dca-4d1d-8582-704734b57cea"
      },
      "source": [
        "print(vars(train_data.examples[0])['summary'])\n",
        "print([SUMMARY.vocab.stoi[t] for t in vars(train_data.examples[0])['summary']])"
      ],
      "execution_count": 142,
      "outputs": [
        {
          "output_type": "stream",
          "text": [
            "['opera', 'makes', 'web', 'browser', 'with', 'built-in', 'whatsapp', ',', 'fb', 'messenger']\n",
            "[8498, 306, 1788, 6593, 12, 9537, 428, 7, 313, 4362]\n"
          ],
          "name": "stdout"
        }
      ]
    },
    {
      "cell_type": "code",
      "metadata": {
        "id": "VjzvUwk_xnft"
      },
      "source": [
        "BATCH_SIZE = 64\n",
        "\n",
        "train_iterator, valid_iterator, test_iterator = BucketIterator.splits(\n",
        "    (train_data, val_data, test_data), \n",
        "    batch_size = BATCH_SIZE, \n",
        "    device = device,\n",
        "    shuffle=False,\n",
        "    sort=False\n",
        "    )"
      ],
      "execution_count": 147,
      "outputs": []
    },
    {
      "cell_type": "code",
      "metadata": {
        "colab": {
          "base_uri": "https://localhost:8080/"
        },
        "id": "kvk5S-DDpXBB",
        "outputId": "c0d73cb2-a811-4998-9d40-a94ca276ce0e"
      },
      "source": [
        "for i, batch in enumerate(train_iterator):\n",
        "    trg = batch.summary\n",
        "    if i==0:\n",
        "        print(trg.shape)\n",
        "    else:\n",
        "      break\n",
        "        "
      ],
      "execution_count": 148,
      "outputs": [
        {
          "output_type": "stream",
          "text": [
            "torch.Size([17, 64])\n"
          ],
          "name": "stdout"
        }
      ]
    },
    {
      "cell_type": "code",
      "metadata": {
        "id": "0ZmFkO-q5iKB"
      },
      "source": [
        "class Encoder(nn.Module):\n",
        "    def __init__(self, input_dim, emb_dim, hid_dim, n_layers, dropout):\n",
        "        super().__init__()\n",
        "        \n",
        "        # initializations\n",
        "        self.hid_dim = hid_dim\n",
        "        self.n_layers = n_layers\n",
        "        self.embedding = nn.Embedding(input_dim, emb_dim)\n",
        "        # we will use 2 layers for both encoder and decoder\n",
        "        self.rnn = nn.LSTM(emb_dim, hid_dim, n_layers, dropout=dropout)\n",
        "        self.dropout = nn.Dropout(dropout)\n",
        "        \n",
        "    def forward(self, src):\n",
        "        embedded = self.dropout(self.embedding(src)) # [src len, batch size]\n",
        "        outputs, (hidden, cell) = self.rnn(embedded) # [src len, batch size, emb dim]\n",
        "        \n",
        "        ## dimension\n",
        "        # outputs = [src len, batch size, hid dim * n directions]\n",
        "        # hidden = [n layers * n directions, batch size, hid dim]\n",
        "        # cell = [n layers * n directions, batch size, hid dim]\n",
        "        \n",
        "        # outputs are always from the top hidden layer\n",
        "        return hidden, cell\n",
        " \n",
        "\n",
        "\n",
        "\n",
        "class Decoder(nn.Module):\n",
        "    def __init__(self, output_dim, emb_dim, hid_dim, n_layers, dropout):\n",
        "        super().__init__()\n",
        "        \n",
        "        self.output_dim = output_dim\n",
        "        self.hid_dim = hid_dim\n",
        "        self.n_layers = n_layers\n",
        "        self.embedding = nn.Embedding(output_dim, emb_dim)\n",
        "        self.rnn = nn.LSTM(emb_dim, hid_dim, n_layers, dropout=dropout)\n",
        "        self.fc_out = nn.Linear(hid_dim, output_dim)\n",
        "        self.dropout = nn.Dropout(dropout)\n",
        "        \n",
        "    def forward(self, input, hidden, cell):\n",
        "        \n",
        "        # input = [batch size]\n",
        "        # hidden = [n layers * n directions, batch size, hid dim]\n",
        "        # cell = [n layers * n directions, batch size, hid dim]\n",
        "        \n",
        "        # n directions in the decoder will both always be 1, therefore:\n",
        "        # hidden = [n layers, batch size, hid dim]\n",
        "        # context = [n layers, batch size, hid dim]\n",
        "        \n",
        "        input = input.unsqueeze(0) #  [1, batch size]\n",
        "        embedded = self.dropout(self.embedding(input)) #  [1, batch size, emb dim]\n",
        "        output, (hidden, cell) = self.rnn(embedded, (hidden, cell))\n",
        "        \n",
        "        # output = [seq len, batch size, hid dim * n directions]\n",
        "        # hidden = [n layers * n directions, batch size, hid dim]\n",
        "        # cell = [n layers * n directions, batch size, hid dim]\n",
        "        \n",
        "        #seq len and n directions will always be 1 in the decoder, therefore:\n",
        "        #output = [1, batch size, hid dim]\n",
        "        #hidden = [n layers, batch size, hid dim]\n",
        "        #cell = [n layers, batch size, hid dim]\n",
        "        \n",
        "        prediction = self.fc_out(output.squeeze(0)) #  [batch size, output dim]\n",
        "        \n",
        "        return prediction, hidden, cell\n",
        "\n",
        "    \n",
        "\n",
        "class Seq2Seq(nn.Module):\n",
        "    def __init__(self, encoder, decoder, device):\n",
        "        super().__init__()\n",
        "        \n",
        "        self.encoder = encoder\n",
        "        self.decoder = decoder\n",
        "        self.device = device\n",
        "        \n",
        "        assert encoder.hid_dim == decoder.hid_dim, \\\n",
        "            \"Hidden dimensions of encoder and decoder must be equal!\"\n",
        "        assert encoder.n_layers == decoder.n_layers, \\\n",
        "            \"Encoder and decoder must have equal number of layers!\"\n",
        "        \n",
        "    def forward(self, src, trg, teacher_forcing_ratio=0.5):\n",
        "        \n",
        "        # src = [src len, batch size]\n",
        "        # trg = [trg len, batch size]\n",
        "        # teacher_forcing_ratio is probability to use teacher forcing\n",
        "        # e.g. if teacher_forcing_ratio is 0.75 we use ground-truth inputs 75% of the time\n",
        "        \n",
        "        batch_size = trg.shape[1]\n",
        "        trg_len = trg.shape[0]\n",
        "        trg_vocab_size = self.decoder.output_dim\n",
        "        \n",
        "        # tensor to store decoder outputs\n",
        "        outputs = torch.zeros(trg_len, batch_size, trg_vocab_size).to(self.device)\n",
        "        \n",
        "        # last hidden state of the encoder is used as the initial hidden state of the decoder\n",
        "        hidden, cell = self.encoder(src)\n",
        "        \n",
        "        # first input to the decoder is the <sos> tokens\n",
        "        input = trg[0, :]\n",
        "        \n",
        "        for t in range(1, trg_len):\n",
        "            \n",
        "            # insert input token embedding, previous hidden and previous cell states\n",
        "            # receive output tensor (predictions) and new hidden and cell states\n",
        "            output, hidden, cell = self.decoder(input, hidden, cell)\n",
        "            \n",
        "            # place predictions in a tensor holding predictions for each token\n",
        "            outputs[t] = output\n",
        "            \n",
        "            # decide if we are going to use teacher forcing or not\n",
        "            teacher_force = random.random() < teacher_forcing_ratio\n",
        "            \n",
        "            # get the highest predicted token from our predictions\n",
        "            top1 = output.argmax(1) \n",
        "            \n",
        "            # if teacher forcing, use actual next token as next input\n",
        "            # if not, use predicted token\n",
        "            input = trg[t] if teacher_force else top1\n",
        "        \n",
        "        return outputs"
      ],
      "execution_count": 149,
      "outputs": []
    },
    {
      "cell_type": "code",
      "metadata": {
        "id": "4O3xrMfU6kPC"
      },
      "source": [
        "INPUT_DIM = len(TEXT.vocab)\n",
        "OUTPUT_DIM = len(SUMMARY.vocab)\n",
        "ENC_EMB_DIM = 32\n",
        "DEC_EMB_DIM = 32\n",
        "HID_DIM = 64\n",
        "N_LAYERS = 2\n",
        "ENC_DROPOUT = 0.1\n",
        "DEC_DROPOUT = 0.1\n",
        "\n",
        "# initialize seq2seq model\n",
        "enc = Encoder(INPUT_DIM, ENC_EMB_DIM, HID_DIM, N_LAYERS, ENC_DROPOUT)\n",
        "dec = Decoder(OUTPUT_DIM, DEC_EMB_DIM, HID_DIM, N_LAYERS, DEC_DROPOUT)\n",
        "model = Seq2Seq(enc, dec, device)"
      ],
      "execution_count": 150,
      "outputs": []
    },
    {
      "cell_type": "code",
      "metadata": {
        "id": "TBp1ZBSl61DE"
      },
      "source": [
        "class Seq2Seq_trainer(object):\n",
        "    def __init__(self, model, train_iterator, valid_iterator, pad_index, device, clip, learning_rate):\n",
        "        # initialize config variables\n",
        "        self.model = model.to(device)\n",
        "        self.train_iterator = train_iterator\n",
        "        self.valid_iterator = valid_iterator\n",
        "        self.clip = clip\n",
        "        self.optimizer = torch.optim.Adam(self.model.parameters(), lr=learning_rate)\n",
        "        # TRG_PAD_IDX = TRG.vocab.stoi[TRG.pad_token]\n",
        "        self.criterion = nn.CrossEntropyLoss(ignore_index = pad_index)\n",
        "        self.model.apply(self.init_weights)\n",
        "        self.logger = {'training_loss': [], \n",
        "                       'validation_loss': [],\n",
        "                       'epochs': [],\n",
        "                       }\n",
        "        print(f'The model has {self.count_parameters(self.model):,} trainable parameters')\n",
        "\n",
        "        \n",
        "    \n",
        "    def init_weights(self,m):\n",
        "        for name, param in m.named_parameters():\n",
        "            nn.init.uniform_(param.data, -0.08, 0.08)\n",
        "        \n",
        "    \n",
        "    def count_parameters(self, model):\n",
        "        return sum(p.numel() for p in model.parameters() if p.requires_grad)\n",
        "\n",
        "    \n",
        "    def train(self):\n",
        "\n",
        "        self.model.train()\n",
        "        epoch_loss = 0\n",
        "        for i, batch in enumerate(self.train_iterator):\n",
        "\n",
        "            src = batch.text\n",
        "            trg = batch.summary\n",
        "            self.optimizer.zero_grad()\n",
        "            output = self.model(src, trg)\n",
        "\n",
        "            # trg = [trg len, batch size]\n",
        "            # output = [trg len, batch size, output dim]\n",
        "\n",
        "            output_dim = output.shape[-1]\n",
        "            output = output[1:].view(-1, output_dim)\n",
        "            trg = trg[1:].view(-1)\n",
        "\n",
        "            # trg = [(trg len - 1) * batch size]\n",
        "            # output = [(trg len - 1) * batch size, output dim]\n",
        "\n",
        "            loss = self.criterion(output, trg)\n",
        "            loss.backward()\n",
        "            torch.nn.utils.clip_grad_norm_(self.model.parameters(), self.clip)\n",
        "            self.optimizer.step()\n",
        "            epoch_loss += loss.item()\n",
        "\n",
        "        return epoch_loss / len(self.train_iterator)\n",
        "    \n",
        "    \n",
        "    def evaluate(self, iterator):\n",
        "\n",
        "        self.model.eval()\n",
        "        epoch_loss = 0\n",
        "\n",
        "        with torch.no_grad():\n",
        "            for i, batch in enumerate(iterator):\n",
        "\n",
        "                src = batch.text\n",
        "                trg = batch.summary\n",
        "                output = self.model(src, trg, teacher_forcing_ratio=0) #turn off teacher forcing\n",
        "\n",
        "                # trg = [trg len, batch size]\n",
        "                # output = [trg len, batch size, output dim]\n",
        "\n",
        "                output_dim = output.shape[-1]\n",
        "                output = output[1:].view(-1, output_dim)\n",
        "                trg = trg[1:].view(-1)\n",
        "\n",
        "                # trg = [(trg len - 1) * batch size]\n",
        "                # output = [(trg len - 1) * batch size, output dim]\n",
        "\n",
        "                loss = self.criterion(output, trg)\n",
        "                epoch_loss += loss.item()\n",
        "\n",
        "        return epoch_loss / len(iterator)\n",
        "    \n",
        "    \n",
        "    def epoch_time(self, start_time, end_time):\n",
        "        elapsed_time = end_time - start_time\n",
        "        elapsed_mins = int(elapsed_time / 60)\n",
        "        elapsed_secs = int(elapsed_time - (elapsed_mins * 60))\n",
        "        return elapsed_mins, elapsed_secs\n",
        "    \n",
        "    \n",
        "    def fit(self, nepochs):\n",
        "        best_valid_loss = float('inf')\n",
        "        best_model = None\n",
        "        epoch_counter = 0\n",
        "\n",
        "        for epoch in tqdm(range(nepochs)):\n",
        "            if epoch_counter == 5:\n",
        "                torch.save(state, f'{CHECKPOINT_DIR}/{MODEL_NAME}_{epoch}.pth')\n",
        "                print('-' * 89)\n",
        "                print('| Model was saved |')\n",
        "                print('-' * 89)\n",
        "                epoch_counter = 0\n",
        "                \n",
        "            start_time = time.time()\n",
        "            train_loss = self.train()\n",
        "            valid_loss = self.evaluate(self.valid_iterator)\n",
        "            end_time = time.time()\n",
        "            epoch_mins, epoch_secs = self.epoch_time(start_time, end_time)\n",
        "\n",
        "            self.logger['training_loss'].append(train_loss)\n",
        "            self.logger['validation_loss'].append(valid_loss)\n",
        "            self.logger['epochs'].append(epoch)\n",
        "\n",
        "            if valid_loss < best_valid_loss:\n",
        "                best_valid_loss = valid_loss\n",
        "                state = {\n",
        "                    'model': self.model.state_dict(),\n",
        "                    'epoch': epoch,\n",
        "                    'logger': self.logger\n",
        "                }\n",
        "                torch.save(state, f'{CHECKPOINT_DIR}/{MODEL_NAME}_{epoch}.pth')\n",
        "                print('-' * 89)\n",
        "                print('| Model was saved |')\n",
        "                print('-' * 89)\n",
        "\n",
        "                # torch.save(model.state_dict(), 'tut1-model.pt')\n",
        "                print(f'Epoch with best validation loss: {epoch+1:02}')\n",
        "                epoch_counter = 0\n",
        "            else:\n",
        "                epoch_counter += 1\n",
        "\n",
        "            print(f'Epoch: {epoch+1:02} | Time: {epoch_mins}m {epoch_secs}s')\n",
        "            print(f'\\tTrain Loss: {train_loss:.3f} | Train PPL: {math.exp(train_loss):7.3f}')\n",
        "            print(f'\\t Val. Loss: {valid_loss:.3f} |  Val. PPL: {math.exp(valid_loss):7.3f}')"
      ],
      "execution_count": 154,
      "outputs": []
    },
    {
      "cell_type": "code",
      "metadata": {
        "colab": {
          "base_uri": "https://localhost:8080/"
        },
        "id": "e6mTEVla8u9g",
        "outputId": "8e67ec4a-36b3-4c25-db93-c99daa1e9175"
      },
      "source": [
        "# config vaiables\n",
        "pad_index = SUMMARY.vocab.stoi[SUMMARY.pad_token]\n",
        "# initialize trainer\n",
        "trainer = Seq2Seq_trainer(model, train_iterator, valid_iterator, pad_index, device, 1, 1e-3)"
      ],
      "execution_count": 157,
      "outputs": [
        {
          "output_type": "stream",
          "text": [
            "The model has 4,001,620 trainable parameters\n"
          ],
          "name": "stdout"
        }
      ]
    },
    {
      "cell_type": "code",
      "metadata": {
        "colab": {
          "base_uri": "https://localhost:8080/",
          "height": 1000,
          "referenced_widgets": [
            "43f672c9d02e4471a677a755472309a2",
            "6882932e754046499bccd16096678d1d",
            "a620739930814685bcbddfa890772e70",
            "ab67e933b0434ec7b265cd29dcc225c9",
            "3a7ffc909dfe45549e60057af0c6f679",
            "d2c20e5614554d38a877c6d2d10ae628",
            "3a2823940f954c66b8863fa7ebf68b65",
            "103b5ae713b448848a406b1fc576801f"
          ]
        },
        "id": "Bel8WuKl9GXO",
        "outputId": "06b8de67-b3b6-4121-d8d7-a8528dd6bc59"
      },
      "source": [
        "epochs = 50\n",
        "trainer.fit(epochs)"
      ],
      "execution_count": 158,
      "outputs": [
        {
          "output_type": "display_data",
          "data": {
            "application/vnd.jupyter.widget-view+json": {
              "model_id": "43f672c9d02e4471a677a755472309a2",
              "version_minor": 0,
              "version_major": 2
            },
            "text/plain": [
              "HBox(children=(FloatProgress(value=0.0, max=50.0), HTML(value='')))"
            ]
          },
          "metadata": {
            "tags": []
          }
        },
        {
          "output_type": "stream",
          "text": [
            "-----------------------------------------------------------------------------------------\n",
            "| Model was saved |\n",
            "-----------------------------------------------------------------------------------------\n",
            "Epoch with best validation loss: 01\n",
            "Epoch: 01 | Time: 2m 2s\n",
            "\tTrain Loss: 7.198 | Train PPL: 1336.929\n",
            "\t Val. Loss: 6.953 |  Val. PPL: 1046.069\n",
            "-----------------------------------------------------------------------------------------\n",
            "| Model was saved |\n",
            "-----------------------------------------------------------------------------------------\n",
            "Epoch with best validation loss: 02\n",
            "Epoch: 02 | Time: 2m 2s\n",
            "\tTrain Loss: 6.897 | Train PPL: 989.536\n",
            "\t Val. Loss: 6.934 |  Val. PPL: 1026.308\n",
            "-----------------------------------------------------------------------------------------\n",
            "| Model was saved |\n",
            "-----------------------------------------------------------------------------------------\n",
            "Epoch with best validation loss: 03\n",
            "Epoch: 03 | Time: 2m 2s\n",
            "\tTrain Loss: 6.764 | Train PPL: 866.174\n",
            "\t Val. Loss: 6.832 |  Val. PPL: 927.480\n",
            "-----------------------------------------------------------------------------------------\n",
            "| Model was saved |\n",
            "-----------------------------------------------------------------------------------------\n",
            "Epoch with best validation loss: 04\n",
            "Epoch: 04 | Time: 2m 2s\n",
            "\tTrain Loss: 6.607 | Train PPL: 740.269\n",
            "\t Val. Loss: 6.749 |  Val. PPL: 853.294\n",
            "-----------------------------------------------------------------------------------------\n",
            "| Model was saved |\n",
            "-----------------------------------------------------------------------------------------\n",
            "Epoch with best validation loss: 05\n",
            "Epoch: 05 | Time: 2m 2s\n",
            "\tTrain Loss: 6.463 | Train PPL: 641.224\n",
            "\t Val. Loss: 6.657 |  Val. PPL: 778.187\n",
            "-----------------------------------------------------------------------------------------\n",
            "| Model was saved |\n",
            "-----------------------------------------------------------------------------------------\n",
            "Epoch with best validation loss: 06\n",
            "Epoch: 06 | Time: 2m 1s\n",
            "\tTrain Loss: 6.303 | Train PPL: 546.454\n",
            "\t Val. Loss: 6.550 |  Val. PPL: 699.557\n",
            "-----------------------------------------------------------------------------------------\n",
            "| Model was saved |\n",
            "-----------------------------------------------------------------------------------------\n",
            "Epoch with best validation loss: 07\n",
            "Epoch: 07 | Time: 2m 0s\n",
            "\tTrain Loss: 6.151 | Train PPL: 469.294\n",
            "\t Val. Loss: 6.479 |  Val. PPL: 651.185\n",
            "-----------------------------------------------------------------------------------------\n",
            "| Model was saved |\n",
            "-----------------------------------------------------------------------------------------\n",
            "Epoch with best validation loss: 08\n",
            "Epoch: 08 | Time: 2m 0s\n",
            "\tTrain Loss: 6.020 | Train PPL: 411.610\n",
            "\t Val. Loss: 6.387 |  Val. PPL: 594.267\n",
            "-----------------------------------------------------------------------------------------\n",
            "| Model was saved |\n",
            "-----------------------------------------------------------------------------------------\n",
            "Epoch with best validation loss: 09\n",
            "Epoch: 09 | Time: 2m 0s\n",
            "\tTrain Loss: 5.880 | Train PPL: 357.930\n",
            "\t Val. Loss: 6.337 |  Val. PPL: 565.221\n",
            "-----------------------------------------------------------------------------------------\n",
            "| Model was saved |\n",
            "-----------------------------------------------------------------------------------------\n",
            "Epoch with best validation loss: 10\n",
            "Epoch: 10 | Time: 2m 1s\n",
            "\tTrain Loss: 5.761 | Train PPL: 317.691\n",
            "\t Val. Loss: 6.265 |  Val. PPL: 525.682\n",
            "-----------------------------------------------------------------------------------------\n",
            "| Model was saved |\n",
            "-----------------------------------------------------------------------------------------\n",
            "Epoch with best validation loss: 11\n",
            "Epoch: 11 | Time: 2m 2s\n",
            "\tTrain Loss: 5.646 | Train PPL: 283.018\n",
            "\t Val. Loss: 6.218 |  Val. PPL: 501.583\n",
            "-----------------------------------------------------------------------------------------\n",
            "| Model was saved |\n",
            "-----------------------------------------------------------------------------------------\n",
            "Epoch with best validation loss: 12\n",
            "Epoch: 12 | Time: 2m 3s\n",
            "\tTrain Loss: 5.541 | Train PPL: 254.942\n",
            "\t Val. Loss: 6.197 |  Val. PPL: 491.359\n",
            "-----------------------------------------------------------------------------------------\n",
            "| Model was saved |\n",
            "-----------------------------------------------------------------------------------------\n",
            "Epoch with best validation loss: 13\n",
            "Epoch: 13 | Time: 2m 3s\n",
            "\tTrain Loss: 5.456 | Train PPL: 234.111\n",
            "\t Val. Loss: 6.150 |  Val. PPL: 468.848\n",
            "-----------------------------------------------------------------------------------------\n",
            "| Model was saved |\n",
            "-----------------------------------------------------------------------------------------\n",
            "Epoch with best validation loss: 14\n",
            "Epoch: 14 | Time: 2m 3s\n",
            "\tTrain Loss: 5.362 | Train PPL: 213.168\n",
            "\t Val. Loss: 6.139 |  Val. PPL: 463.775\n",
            "-----------------------------------------------------------------------------------------\n",
            "| Model was saved |\n",
            "-----------------------------------------------------------------------------------------\n",
            "Epoch with best validation loss: 15\n",
            "Epoch: 15 | Time: 2m 2s\n",
            "\tTrain Loss: 5.293 | Train PPL: 198.868\n",
            "\t Val. Loss: 6.106 |  Val. PPL: 448.489\n",
            "-----------------------------------------------------------------------------------------\n",
            "| Model was saved |\n",
            "-----------------------------------------------------------------------------------------\n",
            "Epoch with best validation loss: 16\n",
            "Epoch: 16 | Time: 2m 3s\n",
            "\tTrain Loss: 5.218 | Train PPL: 184.540\n",
            "\t Val. Loss: 6.092 |  Val. PPL: 442.388\n",
            "-----------------------------------------------------------------------------------------\n",
            "| Model was saved |\n",
            "-----------------------------------------------------------------------------------------\n",
            "Epoch with best validation loss: 17\n",
            "Epoch: 17 | Time: 2m 3s\n",
            "\tTrain Loss: 5.145 | Train PPL: 171.623\n",
            "\t Val. Loss: 6.090 |  Val. PPL: 441.216\n",
            "-----------------------------------------------------------------------------------------\n",
            "| Model was saved |\n",
            "-----------------------------------------------------------------------------------------\n",
            "Epoch with best validation loss: 18\n",
            "Epoch: 18 | Time: 2m 2s\n",
            "\tTrain Loss: 5.077 | Train PPL: 160.215\n",
            "\t Val. Loss: 6.069 |  Val. PPL: 432.192\n",
            "Epoch: 19 | Time: 2m 2s\n",
            "\tTrain Loss: 5.019 | Train PPL: 151.201\n",
            "\t Val. Loss: 6.071 |  Val. PPL: 433.322\n",
            "Epoch: 20 | Time: 2m 2s\n",
            "\tTrain Loss: 4.953 | Train PPL: 141.583\n",
            "\t Val. Loss: 6.087 |  Val. PPL: 440.230\n"
          ],
          "name": "stdout"
        }
      ]
    },
    {
      "cell_type": "code",
      "metadata": {
        "colab": {
          "base_uri": "https://localhost:8080/",
          "height": 580
        },
        "id": "yigdc9fSEuD_",
        "outputId": "0ea53201-f3d2-4049-f6db-07eaa83b1dff"
      },
      "source": [
        "fig, ax = plt.subplots(1, 1, figsize=(12,6), dpi=200)\n",
        "fig.patch.set_facecolor('white')\n",
        "\n",
        "# plot accuracy\n",
        "p1 = ax.plot(trainer.logger['epochs'], trainer.logger['training_loss'], linewidth=2, label='train\\nloss')\n",
        "p2 = ax.plot(trainer.logger['epochs'], trainer.logger['validation_loss'], linewidth=2, label='validation\\nloss')\n",
        "ax.set_xticks(range(0, trainer.logger['epochs'][-1] + 1, 2))\n",
        "ax.set_xticklabels(range(0, trainer.logger['epochs'][-1] + 1, 2))\n",
        "ax.set_xlabel('Epoch')\n",
        "ax.set_ylabel('Loss [%]')\n",
        "ax.set_title('Model Loss')\n",
        "ax.xaxis.grid()\n",
        "ax.legend()"
      ],
      "execution_count": 159,
      "outputs": [
        {
          "output_type": "execute_result",
          "data": {
            "text/plain": [
              "<matplotlib.legend.Legend at 0x7fc4e604add0>"
            ]
          },
          "metadata": {
            "tags": []
          },
          "execution_count": 159
        },
        {
          "output_type": "display_data",
          "data": {
            "image/png": "[encoded data removed]",
            "text/plain": [
              "<Figure size 2400x1200 with 1 Axes>"
            ]
          },
          "metadata": {
            "tags": []
          }
        }
      ]
    },
    {
      "cell_type": "code",
      "metadata": {
        "colab": {
          "base_uri": "https://localhost:8080/"
        },
        "id": "Xr53AzWU9wmo",
        "outputId": "77a40e25-06ae-4918-a1a4-ef1517581695"
      },
      "source": [
        "# evaluate on test data\n",
        "test_loss = trainer.evaluate(test_iterator)\n",
        "print(f'\\t Test. Loss: {test_loss:.3f} |  Test. PPL: {math.exp(test_loss):7.3f}')"
      ],
      "execution_count": 160,
      "outputs": [
        {
          "output_type": "stream",
          "text": [
            "\t Test. Loss: 6.070 |  Test. PPL: 432.810\n"
          ],
          "name": "stdout"
        }
      ]
    },
    {
      "cell_type": "code",
      "metadata": {
        "id": "1y-HL8dHF8ml"
      },
      "source": [
        "def predict(model, iterator):\n",
        "        model.eval()\n",
        "\n",
        "        with torch.no_grad():\n",
        "            for i, batch in enumerate(tqdm(iterator)):\n",
        "\n",
        "                src = batch.text\n",
        "                trg = batch.summary\n",
        "                output = model(src, trg, teacher_forcing_ratio=0) #turn off teacher forcing\n",
        "\n",
        "                #trg = [trg len, batch size]\n",
        "                #output = [trg len, batch size, output dim]\n",
        "                print(i)\n",
        "                print(output.shape)\n",
        "                \n",
        "                if i == 0:\n",
        "                    outputs = torch.argmax(output, -1)\n",
        "                else:\n",
        "                    break\n",
        "                    outputs = torch.cat((outputs, torch.argmax(output, -1)), -1)\n",
        "                \n",
        "                # outputs = [trg_len, len(iterator)]\n",
        "        return torch.transpose(outputs, 0, 1)"
      ],
      "execution_count": 179,
      "outputs": []
    },
    {
      "cell_type": "code",
      "metadata": {
        "colab": {
          "base_uri": "https://localhost:8080/",
          "height": 117,
          "referenced_widgets": [
            "d19809afbad44d7083b674e901d2035b",
            "96fbe364188a4820beda13fd996b4742",
            "4c28ec25e7494cb7bdcc9ea2ffb91146",
            "67d436687555443a96a39ae1beb04555",
            "026ec4f7ce50479eb9971d2b150039b8",
            "4dff75e7ee2a48fdb66f98073378fe6c",
            "fc42761c98d443209f85678e0f129b44",
            "cb25aacca2e14a1480fe0667aa70b287"
          ]
        },
        "id": "UWREfU4QGVF3",
        "outputId": "b806b513-0b19-47c0-9398-70074e5cbf71"
      },
      "source": [
        "test_tensor = predict(model, test_iterator)"
      ],
      "execution_count": 180,
      "outputs": [
        {
          "output_type": "display_data",
          "data": {
            "application/vnd.jupyter.widget-view+json": {
              "model_id": "d19809afbad44d7083b674e901d2035b",
              "version_minor": 0,
              "version_major": 2
            },
            "text/plain": [
              "HBox(children=(FloatProgress(value=0.0, max=154.0), HTML(value='')))"
            ]
          },
          "metadata": {
            "tags": []
          }
        },
        {
          "output_type": "stream",
          "text": [
            "0\n",
            "torch.Size([17, 64, 22260])\n",
            "1\n",
            "torch.Size([18, 64, 22260])\n"
          ],
          "name": "stdout"
        }
      ]
    },
    {
      "cell_type": "code",
      "metadata": {
        "id": "Ebw98ig1GH4Q"
      },
      "source": [
        "# body = '''\n",
        "#        Scientists say they have discovered a new species of orangutans on Indonesia’s island of Sumatra.\n",
        "# The population differs in several ways from the two existing orangutan species found in Sumatra and the neighboring island of Borneo.\n",
        "# The orangutans were found inside North Sumatra’s Batang Toru forest, the science publication Current Biology reported.\n",
        "# Researchers named the new species the Tapanuli orangutan. They say the animals are considered a new species because of genetic, skeletal and tooth differences.\n",
        "# Michael Kruetzen is a geneticist with the University of Zurich who has studied the orangutans for several years. He said he was excited to be part of the unusual discovery of a new great ape in the present day. He noted that most great apes are currently considered endangered or severely endangered.\n",
        "# Gorillas, chimpanzees and bonobos also belong to the great ape species.\n",
        "# Orangutan – which means person of the forest in the Indonesian and Malay languages - is the world’s biggest tree-living mammal. The orange-haired animals can move easily among the trees because their arms are longer than their legs. They live more lonely lives than other great apes, spending a lot of time sleeping and eating fruit in the forest.\n",
        "# The new study said fewer than 800 of the newly-described orangutans exist. Their low numbers make the group the most endangered of all the great ape species.\n",
        "# They live within an area covering about 1,000 square kilometers. The population is considered highly vulnerable. That is because the environment which they depend on is greatly threatened by development.\n",
        "# Researchers say if steps are not taken quickly to reduce the current and future threats, the new species could become extinct “within our lifetime.”\n",
        "# Research into the new species began in 2013, when an orangutan protection group in Sumatra found an injured orangutan in an area far away from the other species. The adult male orangutan had been beaten by local villagers and died of his injuries. The complete skull was examined by researchers.\n",
        "# Among the physical differences of the new species are a notably smaller head and frizzier hair. The Tapanuli orangutans also have a different diet and are found only in higher forest areas.\n",
        "# There is no unified international system for recognizing new species. But to be considered, discovery claims at least require publication in a major scientific publication.\n",
        "# Russell Mittermeier is head of the primate specialist group at the International Union for the Conservation of Nature. He called the finding a “remarkable discovery.” He said it puts responsibility on the Indonesian government to help the species survive.\n",
        "# Matthew Nowak is one of the writers of the study. He told the Associated Press that there are three groups of the Tapanuli orangutans that are separated by non-protected land.He said forest land needs to connect the separated groups.\n",
        "# In addition, the writers of the study are recommending that plans for a hydropower center in the area be stopped by the government.\n",
        "# It also recommended that remaining forest in the Sumatran area where the orangutans live be protected.\n",
        "# I’m Bryan Lynn.\n",
        "\n",
        "#         '''\n"
      ],
      "execution_count": null,
      "outputs": []
    },
    {
      "cell_type": "code",
      "metadata": {
        "id": "KBtEMLzXeo9t"
      },
      "source": [
        ""
      ],
      "execution_count": null,
      "outputs": []
    },
    {
      "cell_type": "code",
      "metadata": {
        "id": "qmBt-PVVH8Xt"
      },
      "source": [
        "# def plot_results(test_prediction, test_data, n_examples, trg_vocab):\n",
        "#     for i in range(n_samples):\n",
        "#         print('TEXT:\\n', ' '.join([t for t in test_data.examples[i].text]))\n",
        "#         print('SUMMARY:\\n', ' '.join([t for t in test_data.examples[i].summary]))\n",
        "#         print('predicted SUMMARY:\\n', ' '.join([trg_vocab.itos[t] for t in test_prediction[i]]))\n",
        "#         print('\\n')\n"
      ],
      "execution_count": 74,
      "outputs": []
    },
    {
      "cell_type": "code",
      "metadata": {
        "colab": {
          "base_uri": "https://localhost:8080/"
        },
        "id": "t3gQ8_rvGpIH",
        "outputId": "7b1c78cd-c5c4-4139-d4f8-df3ee5e049f2"
      },
      "source": [
        "# plot_results(test_tensor, test_data, 10, SUMMARY.vocab)"
      ],
      "execution_count": 73,
      "outputs": [
        {
          "output_type": "stream",
          "text": [
            "TEXT:\n",
            " us technology startup palantir agreed pay 10 crore back wages extend job offers eight applicants settle lawsuit accusing racial discrimination asians . lawsuit specifically focused company hiring selection processes engineering roles . earlier palantir ceo alex karp said ive fcked lot discriminated . <pad> <pad> <pad> <pad> <pad> <pad> <pad>\n",
            "SUMMARY:\n",
            " put air india stake sale 2019 polls swamy <pad> <pad>\n",
            "predicted SUMMARY:\n",
            " <unk> 2 play wedding centurion sena sena shahid shahid 15 plans <eos>\n",
            "\n",
            "\n",
            "TEXT:\n",
            " india organisation chemists druggists declared nationwide strike friday oppose government move regularise online sale medicines . chemists body alleged epharmacies would encourage drug abuse . sale tranquilisers habitforming drugs prohibited online however antidepressants sold without checking prescriptions aiocd said . <pad> <pad> <pad> <pad> <pad> <pad> <pad> <pad> <pad> <pad>\n",
            "SUMMARY:\n",
            " dress made 8 straw hats costs nearly 2 lakh <pad>\n",
            "predicted SUMMARY:\n",
            " <unk> maha drowned kriti kriti kriti kriti kohli 2 days delhi <eos>\n",
            "\n",
            "\n"
          ],
          "name": "stdout"
        }
      ]
    },
    {
      "cell_type": "code",
      "metadata": {
        "colab": {
          "base_uri": "https://localhost:8080/"
        },
        "id": "Ze8ZD4_AJ16k",
        "outputId": "63236c47-41f3-4ba4-8f29-a5ecd9b50b2d"
      },
      "source": [
        "for i in range(30):\n",
        "    print('TEXT:\\n', ' '.join([t for t in test_data.examples[i].text]))\n",
        "    print('SUMMARY:\\n', ' '.join([t for t in test_data.examples[i].summary]))\n",
        "    print('predicted SUMMARY:\\n', ' '.join([SUMMARY.vocab.itos[t] for t in test_tensor[i]]))\n",
        "    print('\\n')"
      ],
      "execution_count": 182,
      "outputs": [
        {
          "output_type": "stream",
          "text": [
            "TEXT:\n",
            " a student found â£100 ( â¹9 , 000 ) on her lap on a train in england when she woke up from a nap after discussing her financial problems with her mother on the phone . in a facebook post , the student revealed that she had talked about failing to locate â£35 . the conversation was apparently overheard by a stranger who left her the money .\n",
            "SUMMARY:\n",
            " stranger overhears student ' s money issues , leaves her â¹9 , 000\n",
            "predicted SUMMARY:\n",
            " <unk> man dies after car , s , ' to ' to ' <eos> <eos> <eos> <eos>\n",
            "\n",
            "\n",
            "TEXT:\n",
            " classified files related to former us president john f kennedy ' s assassination have revealed that his assassin lee harvey oswald was in contact with then-soviet intelligence services . the files further revealed that oswald had met a soviet assassination agent about two months before kennedy ' s killing . soviet officials also feared a war in the wake of kennedy ' s assassination , the files stated .\n",
            "SUMMARY:\n",
            " kennedy ' s assassin had links to soviet union jfk files\n",
            "predicted SUMMARY:\n",
            " <unk> former obama <unk> <unk> <unk> in <unk> <eos> <eos> <eos> <eos> <eos> <eos> <eos> <eos> <eos>\n",
            "\n",
            "\n",
            "TEXT:\n",
            " mumbai police registered at least 455 cases of drunk driving till 6 am on new year ' s day , an official said . actions like an imposition of fine and compounding of driving licenses have been taken against them , he added . till midnight of december 31 police caught a total of 1 , 533 people , of which 76 were found to be drunk .\n",
            "SUMMARY:\n",
            " 455 people caught drunk driving in mumbai on new year\n",
            "predicted SUMMARY:\n",
            " <unk> 2 lakh , 000 lakh , in in , , , <eos> <eos> <eos> <eos> <eos>\n",
            "\n",
            "\n",
            "TEXT:\n",
            " a one-week-old girl succumbed to her injuries today after suffering lung injuries in the fire at esic kamgar hospital in andheri , taking the death toll to 11 . the condition of her twin brother is said to be stable . notably , an inquiry has been ordered following the level-four fire at the hospital , which was recently denied a final no objection certificate .\n",
            "SUMMARY:\n",
            " 1-week-old girl succumbs to injuries in esic hospital fire\n",
            "predicted SUMMARY:\n",
            " <unk> video girl dies after death , after 2 injured in delhi <eos> <eos> <eos> <eos> <eos>\n",
            "\n",
            "\n",
            "TEXT:\n",
            " the supreme court , while reading out its verdict on the constitutional validity of aadhar , said that aadhaar cannot be mandated for school admissions . aadhaar should also not be made mandatory for cbse , ugc and neet exams , the apex court added . no child can be denied any schemes if they are not able to bring their aadhaar number , it added .\n",
            "SUMMARY:\n",
            " aadhaar not compulsory for school admissions supreme court\n",
            "predicted SUMMARY:\n",
            " <unk> aadhaar cannot be aadhaar aadhaar aadhaar sc sc <eos> <eos> <eos> <eos> <eos> <eos> <eos> <eos>\n",
            "\n",
            "\n",
            "TEXT:\n",
            " an undertrial was killed and two others were injured after five armed criminals shot at them inside bihar ' s barh court on friday . two police officials and 23 constables responsible for security at the court have been suspended . investigation is on to find how such an incident took place when adequate security was present in the court premises , police officials said .\n",
            "SUMMARY:\n",
            " 3 inmates shot at inside bihar court , 25 officials suspended\n",
            "predicted SUMMARY:\n",
            " <unk> 3 killed , dead dead in in in <eos> <eos> <eos> <eos> <eos> <eos> <eos> <eos>\n",
            "\n",
            "\n",
            "TEXT:\n",
            " actress kangana ranaut has said ' mental ' and ' psycho ' are the terms that have been used to shame her . the way my life unfolded in the past few years , i realised there was so much stigma attached to being different , she added . kangana will be seen opposite rajkummar rao in ekta kapoor ' s production psychological thriller ' mental hai kya ' .\n",
            "SUMMARY:\n",
            " mental , psycho were terms used to shame me kangana ranaut\n",
            "predicted SUMMARY:\n",
            " <unk> kangana ' s ' ' ' ' ' ' ' ' ' ' <eos> <eos> <eos>\n",
            "\n",
            "\n",
            "TEXT:\n",
            " the supreme court has refused to review its earlier order and reiterated that the upsc is not bound to reveal the raw and scaled marks of the civil service exam under the rti act . in its order in february , the court had observed that disclosing marks could compromise the integrity and prestige of the system .\n",
            "SUMMARY:\n",
            " upsc not bound to reveal marks sc refuses to review order\n",
            "predicted SUMMARY:\n",
            " <unk> sc to to to to to to sc to sc <eos> <eos> <eos> <eos> <eos> <eos>\n",
            "\n",
            "\n",
            "TEXT:\n",
            " chipmaker qualcomm on friday announced it has filed a complaint with us international trade commission , accusing apple of infringing six patents . qualcomm said the technologies covered by the patents are central to the iphone ' s performance . they cover aspects of extending a device ' s battery life in situations like transmitting video files over cellular network and playing games with rich graphics .\n",
            "SUMMARY:\n",
            " what is the technology over which qualcomm has sued apple ?\n",
            "predicted SUMMARY:\n",
            " <unk> qualcomm files lawsuit against us for over $1 bn <eos> <eos> <eos> <eos> <eos> <eos> <eos>\n",
            "\n",
            "\n",
            "TEXT:\n",
            " tv actor gaurav chopra , who was also a contestant on the show ' bigg boss 10 ' , got married to his girlfriend hitisha in new delhi . the wedding was a private affair with only family and close friends in attendance . gaurav is known for his role in serials like ' aisa des hai mera ' and ' uttaran ' .\n",
            "SUMMARY:\n",
            " bigg boss 10 contestant gaurav marries girlfriend hitisha\n",
            "predicted SUMMARY:\n",
            " <unk> video shows pic of her for her her her <eos> <eos> <eos> <eos> <eos> <eos> <eos>\n",
            "\n",
            "\n",
            "TEXT:\n",
            " three undertrial prisoners escaped from high-security mathura jail in uttar pradesh by jumping the compound wall at around 2 am on monday . one of the accomplices was injured when he fell down trying to scale the boundary wall , police officials said . the fugitives were housed in a barrack that had a tin shed .\n",
            "SUMMARY:\n",
            " undertrial prisoners escape from mathura jail\n",
            "predicted SUMMARY:\n",
            " <unk> 2 arrested for raping killing of killing in <eos> <eos> <eos> <eos> <eos> <eos> <eos> <eos>\n",
            "\n",
            "\n",
            "TEXT:\n",
            " australian cricketer david warner , who is currently serving a one-year ban over the ball-tampering scandal , has said that if he did not love cricket , he would have retired by now . i ' ve still got plenty of fuel in the tank and i am excited , the 31-year-old said after playing his first match in australia since the scandal . warner scored 36 runs off 32 balls .\n",
            "SUMMARY:\n",
            " if i did not love cricket , i would have retired by now warner\n",
            "predicted SUMMARY:\n",
            " <unk> i will not to to to if i will not to smith <eos> <eos> <eos> <eos>\n",
            "\n",
            "\n",
            "TEXT:\n",
            " beleaguered liquor baron vijay mallya on wednesday claimed that he met finance minister arun jaitley to settle matters before he left india . the banks had filed objections to my settlement letters , he added . i left because i had a scheduled meeting in geneva , said 62-year-old mallya , who owes over â¹9 , 000 crore to banks in india .\n",
            "SUMMARY:\n",
            " i met arun jaitley to settle matters before leaving india mallya\n",
            "predicted SUMMARY:\n",
            " <unk> rbi is not to to mallya ' s mallya mallya <eos> <eos> <eos> <eos> <eos> <eos>\n",
            "\n",
            "\n",
            "TEXT:\n",
            " pnb fraud accused nirav modi ' s us firm firestar diamond inc , which filed for bankruptcy on february 26 , has received strong early expressions of interest from buyers , court filings showed . firestar diamond and its affiliates had annual sales of around $90 million , the company said . notably , firestar was not named in the $2-billion fraud complaint filed by pnb .\n",
            "SUMMARY:\n",
            " strong buyer interest for nirav ' s bankrupt us firm filings\n",
            "predicted SUMMARY:\n",
            " <unk> nirav ' s ' ' s mallya ' s <unk> ' <eos> <eos> <eos> <eos> <eos>\n",
            "\n",
            "\n",
            "TEXT:\n",
            " telangana bjp mla t raja singh on sunday said he has offered his resignation to the party so that he can work towards cow protection without getting the party into any trouble . he added that he had brought up the issue several times in the assembly but the bjp did not support him . for cow protection . . . we will kill or . . . die , singh said .\n",
            "SUMMARY:\n",
            " bjp mla resigns from party to pursue cow protection\n",
            "predicted SUMMARY:\n",
            " <unk> will not s cm , cm cm to s cm yogi <eos> <eos> <eos> <eos> <eos>\n",
            "\n",
            "\n",
            "TEXT:\n",
            " air india has asked delhi police to explain the delay in action against shiv sena mp ravindra gaikwad who was accused of thrashing an airline employee . âany delay in taking action will give a wrong impression . the morale of the staff will also be affected , â it stated . gaikwad was taken off air india ' s no-fly list following intervention from the government .\n",
            "SUMMARY:\n",
            " explain delay in action against sena mp air india to police\n",
            "predicted SUMMARY:\n",
            " <unk> delhi govt asks air to to to to to to <eos> <eos> <eos> <eos> <eos> <eos>\n",
            "\n",
            "\n",
            "TEXT:\n",
            " japanese company emonster has sued apple in the us , alleging that it stole the term ' animoji ' for its newly launched iphone x . in the lawsuit , emonster said that apple has wilfully and deliberately infringed on its trademark . apple announced the animoji feature in iphone x in september which uses face-scanning feature to create customised 3d versions of emoji .\n",
            "SUMMARY:\n",
            " apple sued by japanese company over ' animoji ' trademark\n",
            "predicted SUMMARY:\n",
            " <unk> uber firm firm sues uber ' s ' to <eos> <eos> <eos> <eos> <eos> <eos> <eos>\n",
            "\n",
            "\n",
            "TEXT:\n",
            " janhvi kapoor , while talking about her family ' s reaction after watching her debut film ' dhadak ' , said , they told me not to do a remake of any film for a while now . ' dhadak ' , which is an adaptation of the marathi film ' sairat ' , also stars ishaan khatter in the lead role . directed by shashank khaitan , the film released on july 20 .\n",
            "SUMMARY:\n",
            " family said not to do remake for a while post dhadak janhvi\n",
            "predicted SUMMARY:\n",
            " <unk> i am not to ' s ' ' ' ' ' ' ' ' ' <eos>\n",
            "\n",
            "\n",
            "TEXT:\n",
            " the delhi medical council has cancelled the licence of a lab in defence colony after it wrongly declared a man hiv-positive . i was about to take up a new job at an mnc in delhi . however . . . the lab declared me hiv-positive , following which the company denied me the job , the man said . later his reports were contradicted by other lab .\n",
            "SUMMARY:\n",
            " delhi lab wrongly diagnoses man with hiv , loses licence\n",
            "predicted SUMMARY:\n",
            " <unk> delhi civic body allows <unk> to to to <eos> <eos> <eos> <eos> <eos> <eos> <eos> <eos>\n",
            "\n",
            "\n",
            "TEXT:\n",
            " the india-pakistan champions trophy match has been reduced to 48 overs a side after two rain delays . india resumed their innings at 173/1 with rohit sharma and virat kohli at the crease , while shikhar dhawan , who earlier shared a 136-run first wicket stand with rohit , earlier got out for 68 ( 65 ) . india is playing five bowlers , with ravichandran ashwin sitting out .\n",
            "SUMMARY:\n",
            " india-pakistan match reduced to 48 overs a side due to rain\n",
            "predicted SUMMARY:\n",
            " <unk> <unk> bowler to s , , , , in in <eos> <eos> <eos> <eos> <eos> <eos>\n",
            "\n",
            "\n",
            "TEXT:\n",
            " indian opener rohit sharma , who scored odi cricket ' s highest individual score of 264 ( 173 ) against sri lanka on november 13 , 2014 , was once dropped on 4* and later on 201* and 222* during that innings . rohit went on to hit a record 33 fours and nine sixes in his innings . rohit is the only batsman to hit two odi double centuries .\n",
            "SUMMARY:\n",
            " rohit was dropped thrice in his 264-run odi innings vs sl\n",
            "predicted SUMMARY:\n",
            " <unk> rohit sharma hit the sixes in ipl , in in in <eos> <eos> <eos> <eos> <eos>\n",
            "\n",
            "\n",
            "TEXT:\n",
            " chief justice of india js khehar on saturday said , nowadays manifestos have become a mere piece of paper , for this political parties have to be made accountable . he further said , none of the political parties indicated any link between electoral reforms and constitutional goal of ensuring economic-social justice to the marginalised section .\n",
            "SUMMARY:\n",
            " parties must be held accountable for unfulfilled promises\n",
            "predicted SUMMARY:\n",
            " <unk> <unk> is not <unk> <unk> <unk> <unk> <unk> chief <eos> <eos> <eos> <eos> <eos> <eos> <eos>\n",
            "\n",
            "\n",
            "TEXT:\n",
            " while defending actress kajol , who was trolled on social media for her selfie with kamal haasan and amitabh bachchan , haasan tweeted , please spare kajolji . twitter users had pointed out that the photo kajol shared did not qualify as a selfie . kamal added , i ( am ) not a fan of selfies . though i am a fan of them both . troll not a kind ( gesture ) .\n",
            "SUMMARY:\n",
            " please spare her haasan on kajol being trolled for selfie\n",
            "predicted SUMMARY:\n",
            " <unk> kapil shares pic of a , , , , tweets user <eos> <eos> <eos> <eos> <eos>\n",
            "\n",
            "\n",
            "TEXT:\n",
            " richa chadha and mrunal thakur starrer ' love sonia ' , which released today , has picked . . . an important issue of our times , wrote hindustan times ( ht ) . the times of india ( toi ) said the film has been told sincerely . india today wrote it gives a realistic treatment to sex trafficking victims ' lives . it has been rated 3 . 5/5 ( ht ) , 3/5 ( toi ) and 2 . 5/5 ( india today ) .\n",
            "SUMMARY:\n",
            " richa chadha , mrunal thakur starrer love sonia hits theatres\n",
            "predicted SUMMARY:\n",
            " <unk> nawazuddin ' s ' ' ' ' released <eos> released <eos> <eos> theatres <eos> <eos> <eos>\n",
            "\n",
            "\n",
            "TEXT:\n",
            " officials of the surat municipal corporation on friday locked themselves in their vehicle for over an hour after they were allegedly attacked by a mob for seizing a stray cow . the mob gheraoed the vehicle and some of them even climbed onto it , police said . the officials had seized the cow after receiving complaints that it was behaving uncontrollably .\n",
            "SUMMARY:\n",
            " surat civic officials attacked for seizing stray cow\n",
            "predicted SUMMARY:\n",
            " <unk> 2 students , over fire , in , , in , 000 <eos> <eos> <eos> <eos>\n",
            "\n",
            "\n",
            "TEXT:\n",
            " stephen hawking ' s scientific paper theorising what happens to information when objects fall into black holes has been posted online . cambridge professor malcolm perry , a co-author on the paper ' black hole entropy and soft hair ' said the information paradox was at the centre of hawking ' s life for over 40 years . the work was completed days before hawking ' s death on march 14 .\n",
            "SUMMARY:\n",
            " stephen hawking ' s paper completed days before death now online\n",
            "predicted SUMMARY:\n",
            " <unk> nasa hawking ' s <unk> <unk> <unk> <unk> <eos> <eos> <eos> <eos> <eos> <eos> <eos> <eos>\n",
            "\n",
            "\n",
            "TEXT:\n",
            " new zealand pm jacinda ardern had told a friend that us president donald trump had confused her for canadian pm justin trudeau ' s wife . ardern ' s friend revealed the conversation in a radio interview saying that the new zealand pm told her trump was not as orange in real life . following the revelations , ardern said she should have not recounted the story . n\n",
            "SUMMARY:\n",
            " trump confused me for canada pm ' s wife new zealand pm\n",
            "predicted SUMMARY:\n",
            " <unk> pm modi ' s ' ' s ' ' ' ' s ' <eos> <eos> <eos>\n",
            "\n",
            "\n",
            "TEXT:\n",
            " wipro has said it will contest a lawsuit filed by national grid us seeking damages of over â¹900 crore ( $140 million ) for a project that began in 2009 . the lawsuit relates to wipro ' s work to set up a new software back-office system . national grid said the new system was hampered by many technical issues costing it millions of dollars .\n",
            "SUMMARY:\n",
            " wipro to challenge â¹900-crore lawsuit in us\n",
            "predicted SUMMARY:\n",
            " <unk> us to to to ' s ' to to for fake data <eos> <eos> <eos> <eos>\n",
            "\n",
            "\n",
            "TEXT:\n",
            " chennai super kings captain ms dhoni distributed â¹20 , 000 cheques and awards to the ground staff of his side ' s adopted home ground in pune . the 36-year-old also teased a few of the staff members while distributing the awards . due to protests about the on-going cauvery water dispute , the side had to play their home matches in pune from april 20 onwards .\n",
            "SUMMARY:\n",
            " dhoni distributes awards , teases pune ground staff\n",
            "predicted SUMMARY:\n",
            " <unk> dhoni ' s son ' s ' s ' for ' ' s <eos> <eos> <eos>\n",
            "\n",
            "\n",
            "TEXT:\n",
            " a 38-year-old woman suffered head injuries on friday after a portion of the false ceiling of the foot overbridge at mumbai ' s elphinstone road railway station crumbled and fell on her head . the woman was rushed to a hospital where she received four stitches . notably , at least 23 people were killed in a stampede at the station ' s foot overbridge last month .\n",
            "SUMMARY:\n",
            " woman hurt after elphinstone stationâs ceiling falls on her\n",
            "predicted SUMMARY:\n",
            " <unk> man falls off train train in mumbai in mumbai <eos> <eos> <eos> <eos> <eos> <eos> <eos>\n",
            "\n",
            "\n"
          ],
          "name": "stdout"
        }
      ]
    },
    {
      "cell_type": "code",
      "metadata": {
        "id": "M7Afzj-GOUmT"
      },
      "source": [
        ""
      ],
      "execution_count": null,
      "outputs": []
    }
  ]
}