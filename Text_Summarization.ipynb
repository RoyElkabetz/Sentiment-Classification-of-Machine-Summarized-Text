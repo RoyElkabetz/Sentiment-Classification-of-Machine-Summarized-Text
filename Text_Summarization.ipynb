{
  "nbformat": 4,
  "nbformat_minor": 0,
  "metadata": {
    "colab": {
      "name": "Text_Summarization.ipynb",
      "provenance": [],
      "authorship_tag": "ABX9TyOvCugwvUMMf/j1SJdmxbs3",
      "include_colab_link": true
    },
    "kernelspec": {
      "name": "python3",
      "display_name": "Python 3"
    },
    "language_info": {
      "name": "python"
    },
    "widgets": {
      "application/vnd.jupyter.widget-state+json": {
        "05421a21532f4aafa0c2b3f4b0e49aa8": {
          "model_module": "@jupyter-widgets/controls",
          "model_name": "HBoxModel",
          "state": {
            "_view_name": "HBoxView",
            "_dom_classes": [],
            "_model_name": "HBoxModel",
            "_view_module": "@jupyter-widgets/controls",
            "_model_module_version": "1.5.0",
            "_view_count": null,
            "_view_module_version": "1.5.0",
            "box_style": "",
            "layout": "IPY_MODEL_f540ecbca2264f069fa949c2cd99b57d",
            "_model_module": "@jupyter-widgets/controls",
            "children": [
              "IPY_MODEL_0fad8448021a48899f1fdc3c7484bc32",
              "IPY_MODEL_f5ed470c208f43a08a9db00ecd5da026"
            ]
          }
        },
        "f540ecbca2264f069fa949c2cd99b57d": {
          "model_module": "@jupyter-widgets/base",
          "model_name": "LayoutModel",
          "state": {
            "_view_name": "LayoutView",
            "grid_template_rows": null,
            "right": null,
            "justify_content": null,
            "_view_module": "@jupyter-widgets/base",
            "overflow": null,
            "_model_module_version": "1.2.0",
            "_view_count": null,
            "flex_flow": null,
            "width": null,
            "min_width": null,
            "border": null,
            "align_items": null,
            "bottom": null,
            "_model_module": "@jupyter-widgets/base",
            "top": null,
            "grid_column": null,
            "overflow_y": null,
            "overflow_x": null,
            "grid_auto_flow": null,
            "grid_area": null,
            "grid_template_columns": null,
            "flex": null,
            "_model_name": "LayoutModel",
            "justify_items": null,
            "grid_row": null,
            "max_height": null,
            "align_content": null,
            "visibility": null,
            "align_self": null,
            "height": null,
            "min_height": null,
            "padding": null,
            "grid_auto_rows": null,
            "grid_gap": null,
            "max_width": null,
            "order": null,
            "_view_module_version": "1.2.0",
            "grid_template_areas": null,
            "object_position": null,
            "object_fit": null,
            "grid_auto_columns": null,
            "margin": null,
            "display": null,
            "left": null
          }
        },
        "0fad8448021a48899f1fdc3c7484bc32": {
          "model_module": "@jupyter-widgets/controls",
          "model_name": "FloatProgressModel",
          "state": {
            "_view_name": "ProgressView",
            "style": "IPY_MODEL_ada69fde30e94214946a5d4703c408a3",
            "_dom_classes": [],
            "description": " 73%",
            "_model_name": "FloatProgressModel",
            "bar_style": "",
            "max": 150,
            "_view_module": "@jupyter-widgets/controls",
            "_model_module_version": "1.5.0",
            "value": 109,
            "_view_count": null,
            "_view_module_version": "1.5.0",
            "orientation": "horizontal",
            "min": 0,
            "description_tooltip": null,
            "_model_module": "@jupyter-widgets/controls",
            "layout": "IPY_MODEL_1f0f3908b5c3477e8fde99b698cedba0"
          }
        },
        "f5ed470c208f43a08a9db00ecd5da026": {
          "model_module": "@jupyter-widgets/controls",
          "model_name": "HTMLModel",
          "state": {
            "_view_name": "HTMLView",
            "style": "IPY_MODEL_d4430a12a75f4901a0412fc93c2cc310",
            "_dom_classes": [],
            "description": "",
            "_model_name": "HTMLModel",
            "placeholder": "​",
            "_view_module": "@jupyter-widgets/controls",
            "_model_module_version": "1.5.0",
            "value": " 109/150 [3:32:24&lt;1:19:34, 116.44s/it]",
            "_view_count": null,
            "_view_module_version": "1.5.0",
            "description_tooltip": null,
            "_model_module": "@jupyter-widgets/controls",
            "layout": "IPY_MODEL_c573139c5df548c6905c845863774b27"
          }
        },
        "ada69fde30e94214946a5d4703c408a3": {
          "model_module": "@jupyter-widgets/controls",
          "model_name": "ProgressStyleModel",
          "state": {
            "_view_name": "StyleView",
            "_model_name": "ProgressStyleModel",
            "description_width": "initial",
            "_view_module": "@jupyter-widgets/base",
            "_model_module_version": "1.5.0",
            "_view_count": null,
            "_view_module_version": "1.2.0",
            "bar_color": null,
            "_model_module": "@jupyter-widgets/controls"
          }
        },
        "1f0f3908b5c3477e8fde99b698cedba0": {
          "model_module": "@jupyter-widgets/base",
          "model_name": "LayoutModel",
          "state": {
            "_view_name": "LayoutView",
            "grid_template_rows": null,
            "right": null,
            "justify_content": null,
            "_view_module": "@jupyter-widgets/base",
            "overflow": null,
            "_model_module_version": "1.2.0",
            "_view_count": null,
            "flex_flow": null,
            "width": null,
            "min_width": null,
            "border": null,
            "align_items": null,
            "bottom": null,
            "_model_module": "@jupyter-widgets/base",
            "top": null,
            "grid_column": null,
            "overflow_y": null,
            "overflow_x": null,
            "grid_auto_flow": null,
            "grid_area": null,
            "grid_template_columns": null,
            "flex": null,
            "_model_name": "LayoutModel",
            "justify_items": null,
            "grid_row": null,
            "max_height": null,
            "align_content": null,
            "visibility": null,
            "align_self": null,
            "height": null,
            "min_height": null,
            "padding": null,
            "grid_auto_rows": null,
            "grid_gap": null,
            "max_width": null,
            "order": null,
            "_view_module_version": "1.2.0",
            "grid_template_areas": null,
            "object_position": null,
            "object_fit": null,
            "grid_auto_columns": null,
            "margin": null,
            "display": null,
            "left": null
          }
        },
        "d4430a12a75f4901a0412fc93c2cc310": {
          "model_module": "@jupyter-widgets/controls",
          "model_name": "DescriptionStyleModel",
          "state": {
            "_view_name": "StyleView",
            "_model_name": "DescriptionStyleModel",
            "description_width": "",
            "_view_module": "@jupyter-widgets/base",
            "_model_module_version": "1.5.0",
            "_view_count": null,
            "_view_module_version": "1.2.0",
            "_model_module": "@jupyter-widgets/controls"
          }
        },
        "c573139c5df548c6905c845863774b27": {
          "model_module": "@jupyter-widgets/base",
          "model_name": "LayoutModel",
          "state": {
            "_view_name": "LayoutView",
            "grid_template_rows": null,
            "right": null,
            "justify_content": null,
            "_view_module": "@jupyter-widgets/base",
            "overflow": null,
            "_model_module_version": "1.2.0",
            "_view_count": null,
            "flex_flow": null,
            "width": null,
            "min_width": null,
            "border": null,
            "align_items": null,
            "bottom": null,
            "_model_module": "@jupyter-widgets/base",
            "top": null,
            "grid_column": null,
            "overflow_y": null,
            "overflow_x": null,
            "grid_auto_flow": null,
            "grid_area": null,
            "grid_template_columns": null,
            "flex": null,
            "_model_name": "LayoutModel",
            "justify_items": null,
            "grid_row": null,
            "max_height": null,
            "align_content": null,
            "visibility": null,
            "align_self": null,
            "height": null,
            "min_height": null,
            "padding": null,
            "grid_auto_rows": null,
            "grid_gap": null,
            "max_width": null,
            "order": null,
            "_view_module_version": "1.2.0",
            "grid_template_areas": null,
            "object_position": null,
            "object_fit": null,
            "grid_auto_columns": null,
            "margin": null,
            "display": null,
            "left": null
          }
        }
      }
    },
    "accelerator": "GPU"
  },
  "cells": [
    {
      "cell_type": "markdown",
      "metadata": {
        "id": "view-in-github",
        "colab_type": "text"
      },
      "source": [
        "<a href=\"https://colab.research.google.com/github/RoyElkabetz/Text-Summarization-with-Deep-Learning/blob/main/Text_Summarization.ipynb\" target=\"_parent\"><img src=\"https://colab.research.google.com/assets/colab-badge.svg\" alt=\"Open In Colab\"/></a>"
      ]
    },
    {
      "cell_type": "code",
      "metadata": {
        "colab": {
          "base_uri": "https://localhost:8080/"
        },
        "id": "94-50bV31g5A",
        "outputId": "8591e9cc-6fe0-410c-f662-65c8e3fb3f75"
      },
      "source": [
        "## uncomment only if running from google.colab\n",
        "# clone the git reposetory\n",
        "!git clone https://github.com/RoyElkabetz/Text-Summarization-with-Deep-Learning\n",
        "# add path to .py files for import\n",
        "import sys\n",
        "sys.path.insert(1, \"/content/Text-Summarization-with-Deep-Learning\")"
      ],
      "execution_count": 1,
      "outputs": [
        {
          "output_type": "stream",
          "text": [
            "Cloning into 'Text-Summarization-with-Deep-Learning'...\n",
            "remote: Enumerating objects: 137, done.\u001b[K\n",
            "remote: Counting objects: 100% (137/137), done.\u001b[K\n",
            "remote: Compressing objects: 100% (136/136), done.\u001b[K\n",
            "remote: Total 137 (delta 78), reused 6 (delta 0), pack-reused 0\u001b[K\n",
            "Receiving objects: 100% (137/137), 359.26 KiB | 1.76 MiB/s, done.\n",
            "Resolving deltas: 100% (78/78), done.\n"
          ],
          "name": "stdout"
        }
      ]
    },
    {
      "cell_type": "code",
      "metadata": {
        "colab": {
          "base_uri": "https://localhost:8080/"
        },
        "id": "-ejtaOc71hzT",
        "outputId": "3ab28b33-7ca8-45d6-8266-8b5bcf0ea9b3"
      },
      "source": [
        "## uncomment to mount google drive\n",
        "from google.colab import drive\n",
        "drive.mount('/content/gdrive')"
      ],
      "execution_count": 2,
      "outputs": [
        {
          "output_type": "stream",
          "text": [
            "Mounted at /content/gdrive\n"
          ],
          "name": "stdout"
        }
      ]
    },
    {
      "cell_type": "code",
      "metadata": {
        "id": "CniCusU62lza"
      },
      "source": [
        "PATH_DATASET = '/content/gdrive/MyDrive/Datasets/Text/news_summary_more.csv'"
      ],
      "execution_count": 3,
      "outputs": []
    },
    {
      "cell_type": "code",
      "metadata": {
        "colab": {
          "base_uri": "https://localhost:8080/"
        },
        "id": "wZxlt_woxho8",
        "outputId": "3f31db63-24ee-4336-f02f-8062c9d82453"
      },
      "source": [
        "%matplotlib inline\n",
        "import time\n",
        "import random\n",
        "import math\n",
        "import numpy as np\n",
        "import pandas as pd\n",
        "import matplotlib.pyplot as plt\n",
        "from IPython.display import HTML, display, clear_output\n",
        "from tqdm.autonotebook import tqdm\n",
        "\n",
        "\n",
        "import torch\n",
        "from torch import nn\n",
        "import torchtext.legacy.data as data\n",
        "from torchtext.data.utils import get_tokenizer\n",
        "from torchtext.legacy.data import Field, Dataset, Example, BucketIterator, Iterator\n",
        "from torch.utils.data import DataLoader, random_split\n",
        "\n",
        "# from torchtext.datasets import IMDB as the_dataset\n",
        "# from torchtext.datasets import AG_NEWS as the_dataset\n",
        "# import torchtext.data as data\n",
        "# from torchtext.data.utils import get_tokenizer\n",
        "# from torchtext.vocab import build_vocab_from_iterator\n",
        "# from torchtext.data.functional import to_map_style_dataset\n",
        "# from torch.utils.data import DataLoader\n",
        "# from torch.utils.data.dataset import random_split\n",
        "# from torch import nn\n",
        "\n",
        "seed = 211\n",
        "np.random.seed(seed)\n",
        "torch.manual_seed(seed)\n",
        "\n",
        "\n",
        "\n",
        "print(f'torch {torch.__version__}')\n",
        "print('Device properties:')\n",
        "if torch.cuda.is_available():\n",
        "    device = torch.device(\"cuda\")\n",
        "    gpu_data = torch.cuda.get_device_properties(0)\n",
        "    gpu_name = gpu_data.name\n",
        "    gpu_mem  = f'{gpu_data.total_memory * 1e-9:.02f} Gb'\n",
        "    print(f'GPU: {gpu_name}\\nMemory: {gpu_mem}')\n",
        "else:\n",
        "    device = torch.device(\"cpu\")\n",
        "    print('CPU')"
      ],
      "execution_count": 4,
      "outputs": [
        {
          "output_type": "stream",
          "text": [
            "/usr/local/lib/python3.7/dist-packages/ipykernel_launcher.py:9: TqdmExperimentalWarning: Using `tqdm.autonotebook.tqdm` in notebook mode. Use `tqdm.tqdm` instead to force console mode (e.g. in jupyter console)\n",
            "  if __name__ == '__main__':\n"
          ],
          "name": "stderr"
        },
        {
          "output_type": "stream",
          "text": [
            "torch 1.9.0+cu102\n",
            "Device properties:\n",
            "GPU: Tesla T4\n",
            "Memory: 15.84 Gb\n"
          ],
          "name": "stdout"
        }
      ]
    },
    {
      "cell_type": "code",
      "metadata": {
        "id": "5p6Ut6L0t4fQ"
      },
      "source": [
        "class DataFrameDataset(Dataset):\n",
        "    \"\"\"Class for using pandas DataFrames as a datasource\"\"\"\n",
        "    \"\"\"Pytorch legacy Dataset: https://pytorch.org/text/_modules/torchtext/data/dataset.html\"\"\"\n",
        "    def __init__(self, examples, fields, filter_pred=None):\n",
        "        \"\"\"\n",
        "        Create a dataset from a pandas dataframe of examples and Fields\n",
        "        Arguments:\n",
        "            examples pd.DataFrame: DataFrame of examples\n",
        "            fields {str: Field}: The Fields to use in this tuple. The\n",
        "                string is a field name, and the Field is the associated field.\n",
        "            filter_pred (callable or None): use only exanples for which\n",
        "                filter_pred(example) is true, or use all examples if None.\n",
        "                Default is None\n",
        "        \"\"\"\n",
        "        self.examples = examples.apply(SeriesExample.fromSeries, args=(fields,), axis=1).tolist()\n",
        "        if filter_pred is not None:\n",
        "            self.examples = filter(filter_pred, self.examples)\n",
        "        self.fields = dict(fields)\n",
        "        # Unpack field tuples\n",
        "        for n, f in list(self.fields.items()):\n",
        "            if isinstance(n, tuple):\n",
        "                self.fields.update(zip(n, f))\n",
        "                del self.fields[n]\n",
        "\n",
        "class SeriesExample(Example):\n",
        "    \"\"\"Class to convert a pandas Series to an Example\"\"\"\n",
        "  \n",
        "    @classmethod\n",
        "    def fromSeries(cls, data, fields):\n",
        "        return cls.fromdict(data.to_dict(), fields)\n",
        "\n",
        "    @classmethod\n",
        "    def fromdict(cls, data, fields):\n",
        "        ex = cls()\n",
        "        \n",
        "        for key, field in fields.items():\n",
        "            if key not in data:\n",
        "                raise ValueError(\"Specified key {} was not found in \"\n",
        "                \"the input data\".format(key))\n",
        "            if field is not None:\n",
        "                setattr(ex, key, field.preprocess(data[key]))\n",
        "            else:\n",
        "                setattr(ex, key, data[key])\n",
        "        return ex"
      ],
      "execution_count": 5,
      "outputs": []
    },
    {
      "cell_type": "code",
      "metadata": {
        "colab": {
          "base_uri": "https://localhost:8080/",
          "height": 204
        },
        "id": "DgDn9Xxy3FqN",
        "outputId": "9b5da2ec-fa6c-4718-893b-0f9f2eef37da"
      },
      "source": [
        "data_df = pd.read_csv(PATH_DATASET ,encoding='utf-8')\n",
        "data_df.drop_duplicates(subset=['text'],inplace=True)  # dropping duplicates\n",
        "data_df.dropna(axis=0,inplace=True)  # dropping na\n",
        "data_df.head()"
      ],
      "execution_count": 6,
      "outputs": [
        {
          "output_type": "execute_result",
          "data": {
            "text/html": [
              "<div>\n",
              "<style scoped>\n",
              "    .dataframe tbody tr th:only-of-type {\n",
              "        vertical-align: middle;\n",
              "    }\n",
              "\n",
              "    .dataframe tbody tr th {\n",
              "        vertical-align: top;\n",
              "    }\n",
              "\n",
              "    .dataframe thead th {\n",
              "        text-align: right;\n",
              "    }\n",
              "</style>\n",
              "<table border=\"1\" class=\"dataframe\">\n",
              "  <thead>\n",
              "    <tr style=\"text-align: right;\">\n",
              "      <th></th>\n",
              "      <th>headlines</th>\n",
              "      <th>text</th>\n",
              "    </tr>\n",
              "  </thead>\n",
              "  <tbody>\n",
              "    <tr>\n",
              "      <th>0</th>\n",
              "      <td>upGrad learner switches to career in ML &amp; Al w...</td>\n",
              "      <td>Saurav Kant, an alumnus of upGrad and IIIT-B's...</td>\n",
              "    </tr>\n",
              "    <tr>\n",
              "      <th>1</th>\n",
              "      <td>Delhi techie wins free food from Swiggy for on...</td>\n",
              "      <td>Kunal Shah's credit card bill payment platform...</td>\n",
              "    </tr>\n",
              "    <tr>\n",
              "      <th>2</th>\n",
              "      <td>New Zealand end Rohit Sharma-led India's 12-ma...</td>\n",
              "      <td>New Zealand defeated India by 8 wickets in the...</td>\n",
              "    </tr>\n",
              "    <tr>\n",
              "      <th>3</th>\n",
              "      <td>Aegon life iTerm insurance plan helps customer...</td>\n",
              "      <td>With Aegon Life iTerm Insurance plan, customer...</td>\n",
              "    </tr>\n",
              "    <tr>\n",
              "      <th>4</th>\n",
              "      <td>Have known Hirani for yrs, what if MeToo claim...</td>\n",
              "      <td>Speaking about the sexual harassment allegatio...</td>\n",
              "    </tr>\n",
              "  </tbody>\n",
              "</table>\n",
              "</div>"
            ],
            "text/plain": [
              "                                           headlines                                               text\n",
              "0  upGrad learner switches to career in ML & Al w...  Saurav Kant, an alumnus of upGrad and IIIT-B's...\n",
              "1  Delhi techie wins free food from Swiggy for on...  Kunal Shah's credit card bill payment platform...\n",
              "2  New Zealand end Rohit Sharma-led India's 12-ma...  New Zealand defeated India by 8 wickets in the...\n",
              "3  Aegon life iTerm insurance plan helps customer...  With Aegon Life iTerm Insurance plan, customer...\n",
              "4  Have known Hirani for yrs, what if MeToo claim...  Speaking about the sexual harassment allegatio..."
            ]
          },
          "metadata": {
            "tags": []
          },
          "execution_count": 6
        }
      ]
    },
    {
      "cell_type": "code",
      "metadata": {
        "id": "JDhBVBMb3dp8"
      },
      "source": [
        "contraction_mapping = {\"ain't\": \"is not\", \"aren't\": \"are not\",\"can't\": \"cannot\", \"'cause\": \"because\", \"could've\": \"could have\", \"couldn't\": \"could not\",\n",
        "                           \"didn't\": \"did not\",  \"doesn't\": \"does not\", \"don't\": \"do not\", \"hadn't\": \"had not\", \"hasn't\": \"has not\", \"haven't\": \"have not\",\n",
        "                           \"he'd\": \"he would\",\"he'll\": \"he will\", \"he's\": \"he is\", \"how'd\": \"how did\", \"how'd'y\": \"how do you\", \"how'll\": \"how will\", \"how's\": \"how is\",\n",
        "                           \"I'd\": \"I would\", \"I'd've\": \"I would have\", \"I'll\": \"I will\", \"I'll've\": \"I will have\",\"I'm\": \"I am\", \"I've\": \"I have\", \"i'd\": \"i would\",\n",
        "                           \"i'd've\": \"i would have\", \"i'll\": \"i will\",  \"i'll've\": \"i will have\",\"i'm\": \"i am\", \"i've\": \"i have\", \"isn't\": \"is not\", \"it'd\": \"it would\",\n",
        "                           \"it'd've\": \"it would have\", \"it'll\": \"it will\", \"it'll've\": \"it will have\",\"it's\": \"it is\", \"let's\": \"let us\", \"ma'am\": \"madam\",\n",
        "                           \"mayn't\": \"may not\", \"might've\": \"might have\",\"mightn't\": \"might not\",\"mightn't've\": \"might not have\", \"must've\": \"must have\",\n",
        "                           \"mustn't\": \"must not\", \"mustn't've\": \"must not have\", \"needn't\": \"need not\", \"needn't've\": \"need not have\",\"o'clock\": \"of the clock\",\n",
        "                           \"oughtn't\": \"ought not\", \"oughtn't've\": \"ought not have\", \"shan't\": \"shall not\", \"sha'n't\": \"shall not\", \"shan't've\": \"shall not have\",\n",
        "                           \"she'd\": \"she would\", \"she'd've\": \"she would have\", \"she'll\": \"she will\", \"she'll've\": \"she will have\", \"she's\": \"she is\",\n",
        "                           \"should've\": \"should have\", \"shouldn't\": \"should not\", \"shouldn't've\": \"should not have\", \"so've\": \"so have\",\"so's\": \"so as\",\n",
        "                           \"this's\": \"this is\",\"that'd\": \"that would\", \"that'd've\": \"that would have\", \"that's\": \"that is\", \"there'd\": \"there would\",\n",
        "                           \"there'd've\": \"there would have\", \"there's\": \"there is\", \"here's\": \"here is\",\"they'd\": \"they would\", \"they'd've\": \"they would have\",\n",
        "                           \"they'll\": \"they will\", \"they'll've\": \"they will have\", \"they're\": \"they are\", \"they've\": \"they have\", \"to've\": \"to have\",\n",
        "                           \"wasn't\": \"was not\", \"we'd\": \"we would\", \"we'd've\": \"we would have\", \"we'll\": \"we will\", \"we'll've\": \"we will have\", \"we're\": \"we are\",\n",
        "                           \"we've\": \"we have\", \"weren't\": \"were not\", \"what'll\": \"what will\", \"what'll've\": \"what will have\", \"what're\": \"what are\",\n",
        "                           \"what's\": \"what is\", \"what've\": \"what have\", \"when's\": \"when is\", \"when've\": \"when have\", \"where'd\": \"where did\", \"where's\": \"where is\",\n",
        "                           \"where've\": \"where have\", \"who'll\": \"who will\", \"who'll've\": \"who will have\", \"who's\": \"who is\", \"who've\": \"who have\",\n",
        "                           \"why's\": \"why is\", \"why've\": \"why have\", \"will've\": \"will have\", \"won't\": \"will not\", \"won't've\": \"will not have\",\n",
        "                           \"would've\": \"would have\", \"wouldn't\": \"would not\", \"wouldn't've\": \"would not have\", \"y'all\": \"you all\",\n",
        "                           \"y'all'd\": \"you all would\",\"y'all'd've\": \"you all would have\",\"y'all're\": \"you all are\",\"y'all've\": \"you all have\",\n",
        "                           \"you'd\": \"you would\", \"you'd've\": \"you would have\", \"you'll\": \"you will\", \"you'll've\": \"you will have\",\n",
        "                           \"you're\": \"you are\", \"you've\": \"you have\"}"
      ],
      "execution_count": 7,
      "outputs": []
    },
    {
      "cell_type": "code",
      "metadata": {
        "colab": {
          "base_uri": "https://localhost:8080/"
        },
        "id": "xiAmXOc0378W",
        "outputId": "9f38680d-4820-4372-a626-ef808e26974e"
      },
      "source": [
        "## run this if you want to remove stop words from data\n",
        "import re\n",
        "import nltk\n",
        "from nltk.corpus import stopwords\n",
        "nltk.download('stopwords')\n",
        "\n",
        "stop_words = stopwords.words('english')\n",
        "\n",
        "def preprocess(text):\n",
        "    text = text.lower() # lowercase\n",
        "    text = text.split() # convert have'nt -> have not\n",
        "    for i in range(len(text)):\n",
        "        word = text[i]\n",
        "        if word in contraction_mapping:\n",
        "            text[i] = contraction_mapping[word]\n",
        "    text = \" \".join(text)\n",
        "    # text = text.split()\n",
        "    # newtext = []\n",
        "    # for word in text:\n",
        "    #     if word not in stop_words:\n",
        "    #         newtext.append(word)\n",
        "    # text = \" \".join(newtext)\n",
        "    # text = text.replace(\"'s\",'') # convert your's -> your\n",
        "    #text = re.sub(r'\\(.*\\)','',text) # remove (words)\n",
        "    #text = re.sub(r'[^a-zA-Z0-9. ]','',text) # remove punctuations\n",
        "    #text = re.sub(r'\\.',' . ',text)\n",
        "    return text\n",
        "\n",
        "sample = \"(hello) hi there .man tiger caller who's that isn't it ? WALL-E\"\n",
        "print(preprocess(sample))"
      ],
      "execution_count": 8,
      "outputs": [
        {
          "output_type": "stream",
          "text": [
            "[nltk_data] Downloading package stopwords to /root/nltk_data...\n",
            "[nltk_data]   Unzipping corpora/stopwords.zip.\n",
            "(hello) hi there .man tiger caller who is that is not it ? wall-e\n"
          ],
          "name": "stdout"
        }
      ]
    },
    {
      "cell_type": "code",
      "metadata": {
        "colab": {
          "base_uri": "https://localhost:8080/"
        },
        "id": "q9I6cfkx5ED3",
        "outputId": "5aac11de-95ba-4db1-f3b1-cf89edd05f05"
      },
      "source": [
        "# process the data inplace\n",
        "print('Before preprocessing:\\n {}\\n {}\\n'.format(data_df['headlines'][20], data_df['text'][20]))\n",
        "data_df['cleaned_headlines'] = data_df['headlines'].apply(lambda x: preprocess(x))\n",
        "data_df['cleaned_text'] = data_df['text'].apply(lambda x: preprocess(x))\n",
        "print('After preprocessing:\\n {}\\n {}\\n'.format(data_df['headlines'][20], data_df['text'][20]))\n",
        "print('After preprocessing:\\n {}\\n {}\\n'.format(data_df['cleaned_headlines'][20], data_df['cleaned_text'][20]))"
      ],
      "execution_count": 9,
      "outputs": [
        {
          "output_type": "stream",
          "text": [
            "Before preprocessing:\n",
            " I think the opposition even dreams about me: PM Modi\n",
            " Claiming there is a dearth of ideas among opposition parties, Prime Minister Narendra Modi on Wednesday said, \"The opposition talks only about Modi the whole day, I suspect they even dream about me.\" PM Modi, who was addressing the New India Youth Conclave inâ Surat, added that the opposition parties have only one agenda which is \"Modi\". \n",
            "\n",
            "After preprocessing:\n",
            " I think the opposition even dreams about me: PM Modi\n",
            " Claiming there is a dearth of ideas among opposition parties, Prime Minister Narendra Modi on Wednesday said, \"The opposition talks only about Modi the whole day, I suspect they even dream about me.\" PM Modi, who was addressing the New India Youth Conclave inâ Surat, added that the opposition parties have only one agenda which is \"Modi\". \n",
            "\n",
            "After preprocessing:\n",
            " i think the opposition even dreams about me: pm modi\n",
            " claiming there is a dearth of ideas among opposition parties, prime minister narendra modi on wednesday said, \"the opposition talks only about modi the whole day, i suspect they even dream about me.\" pm modi, who was addressing the new india youth conclave inâ surat, added that the opposition parties have only one agenda which is \"modi\".\n",
            "\n"
          ],
          "name": "stdout"
        }
      ]
    },
    {
      "cell_type": "code",
      "metadata": {
        "id": "ceSbOcqp6m-c"
      },
      "source": [
        "data_df.replace('', np.nan, inplace=True)\n",
        "data_df.dropna(axis=0, inplace=True)"
      ],
      "execution_count": 10,
      "outputs": []
    },
    {
      "cell_type": "code",
      "metadata": {
        "colab": {
          "base_uri": "https://localhost:8080/",
          "height": 281
        },
        "id": "ndNK3O3J9tTZ",
        "outputId": "ced7d794-7348-4389-edf0-20c68bd10cfc"
      },
      "source": [
        "text_word_count = []\n",
        "headlines_word_count = []\n",
        "\n",
        "# populate the lists with sentence lengths\n",
        "for i in data_df['cleaned_text']:\n",
        "      text_word_count.append(len(i.split()))\n",
        "\n",
        "for i in data_df['cleaned_headlines']:\n",
        "      headlines_word_count.append(len(i.split()))\n",
        "\n",
        "\n",
        "length_df = pd.DataFrame({'cleaned_text':text_word_count, 'cleaned_headlines':headlines_word_count})\n",
        "length_df.hist(bins = 30)\n",
        "plt.show()"
      ],
      "execution_count": 11,
      "outputs": [
        {
          "output_type": "display_data",
          "data": {
            "image/png": "[encoded data removed]",
            "text/plain": [
              "<Figure size 432x288 with 2 Axes>"
            ]
          },
          "metadata": {
            "tags": [],
            "needs_background": "light"
          }
        }
      ]
    },
    {
      "cell_type": "code",
      "metadata": {
        "colab": {
          "base_uri": "https://localhost:8080/"
        },
        "id": "bsdZeXQC-Gw9",
        "outputId": "e9865b57-beab-4fd8-d9fd-64985eda79a2"
      },
      "source": [
        "cnt = 0\n",
        "for i in data_df['cleaned_headlines']:\n",
        "    if(len(i.split()) <= 15):\n",
        "        cnt += 1\n",
        "print(cnt / len(data_df['cleaned_headlines']))\n",
        "\n",
        "cnt = 0\n",
        "for i in data_df['cleaned_text']:\n",
        "    if(len(i.split()) <= 65):\n",
        "        cnt += 1\n",
        "print(cnt / len(data_df['cleaned_text']))"
      ],
      "execution_count": 12,
      "outputs": [
        {
          "output_type": "stream",
          "text": [
            "0.9997559983733225\n",
            "0.9999186661244408\n"
          ],
          "name": "stdout"
        }
      ]
    },
    {
      "cell_type": "code",
      "metadata": {
        "id": "0SZHjWgw-NAm"
      },
      "source": [
        "max_text_len = 65\n",
        "max_summary_len = 15\n",
        "pad_token = ' <pad>'"
      ],
      "execution_count": 13,
      "outputs": []
    },
    {
      "cell_type": "code",
      "metadata": {
        "id": "X2IMDGBa--mH",
        "colab": {
          "base_uri": "https://localhost:8080/"
        },
        "outputId": "7e08960a-a082-46dd-aa19-5be76073b95a"
      },
      "source": [
        "cleaned_text = np.array(data_df['cleaned_text'])\n",
        "cleaned_summary = np.array(data_df['cleaned_headlines'])\n",
        "\n",
        "short_text = []\n",
        "short_summary = []\n",
        "\n",
        "for i in range(len(cleaned_text)):\n",
        "    if(len(cleaned_summary[i].split()) <= max_summary_len and len(cleaned_text[i].split()) <= max_text_len):\n",
        "        #padded_cleaned_text = cleaned_text[i] + (max_text_len - len(cleaned_text[i].split())) * [pad_token]\n",
        "        #padded_cleaned_summary = cleaned_summary[i] + (max_summary_len - len(cleaned_summary[i].split())) * [pad_token]\n",
        "        short_text.append(cleaned_text[i])\n",
        "        short_summary.append(cleaned_summary[i])\n",
        "        \n",
        "df = pd.DataFrame({'text': short_text,'summary': short_summary})\n",
        "print(len(df))"
      ],
      "execution_count": 14,
      "outputs": [
        {
          "output_type": "stream",
          "text": [
            "98328\n"
          ],
          "name": "stdout"
        }
      ]
    },
    {
      "cell_type": "code",
      "metadata": {
        "id": "f2Po4j1tATeO"
      },
      "source": [
        "tokenizer = get_tokenizer(\"basic_english\")\n",
        "\n",
        "# define the text field for the dataset\n",
        "TEXT = data.Field(sequential=True,\n",
        "                  lower=True, \n",
        "                  tokenize=tokenizer,\n",
        "                  init_token='<sos>', \n",
        "                  eos_token='<eos>',\n",
        "                  dtype=torch.long)\n",
        "# define the text field for the dataset\n",
        "SUMMARY = data.Field(sequential=True,\n",
        "                    lower=True, \n",
        "                    tokenize=tokenizer,\n",
        "                    init_token='<sos>', \n",
        "                    eos_token='<eos>',\n",
        "                    dtype=torch.long)\n",
        "#SUMMARY = data.Field(sequential=True, tokenize=tokenizer)\n",
        "# TEXT.build_vocab(my_data, max_size=25000, vectors=\"glove.6B.100d\") \n",
        "#TEXT.build_vocab(my_data, max_size=25000) \n",
        "#SUMMARY.build_vocab(my_data)\n",
        "fields = {'text': TEXT, 'summary': SUMMARY}"
      ],
      "execution_count": 15,
      "outputs": []
    },
    {
      "cell_type": "code",
      "metadata": {
        "id": "yv6xCz8Btxez"
      },
      "source": [
        "train_data, test_data, val_data = DataFrameDataset(df, fields=fields).split(split_ratio=[0.8, 0.1, 0.1])"
      ],
      "execution_count": 16,
      "outputs": []
    },
    {
      "cell_type": "code",
      "metadata": {
        "id": "e_l8aWWP0LTr",
        "colab": {
          "base_uri": "https://localhost:8080/"
        },
        "outputId": "9274d982-301b-4df3-a692-70053803c3cc"
      },
      "source": [
        "TEXT.build_vocab(train_data, min_freq=2)\n",
        "SUMMARY.build_vocab(train_data, min_freq=2) \n",
        "\n",
        "print(f\"Unique tokens in training text vocabulary: {len(TEXT.vocab)}\")\n",
        "print(f\"Unique tokens in training summary vocabulary: {len(SUMMARY.vocab)}\")"
      ],
      "execution_count": 17,
      "outputs": [
        {
          "output_type": "stream",
          "text": [
            "Unique tokens in training text vocabulary: 54116\n",
            "Unique tokens in training summary vocabulary: 22387\n"
          ],
          "name": "stdout"
        }
      ]
    },
    {
      "cell_type": "code",
      "metadata": {
        "colab": {
          "base_uri": "https://localhost:8080/",
          "height": 434
        },
        "id": "rVqBCyuyvxry",
        "outputId": "3765149a-83a3-4def-dbe8-20fb0c54955d"
      },
      "source": [
        "print(f'Number of train samples: {len(train_data)}')\n",
        "print(f'Number of validation samples: {len(val_data)}')\n",
        "print(f'Number of test samples: {len(test_data)}')\n",
        "\n",
        "# display data samples\n",
        "display(HTML('<h4>Display data samples:</h4>'))\n",
        "n_samples = 2\n",
        "for i in range(n_samples):\n",
        "    print(\"\\nText:\\n \", \" \".join([t for t in train_data.examples[i].text]))\n",
        "    print(\"Tokens:\\n \", [TEXT.vocab.stoi[t] for t in train_data.examples[i].text])\n",
        "    print(\"Summary:\\n \", \" \".join([t for t in train_data.examples[i].summary]))\n",
        "    print(\"Tokens:\\n \", [SUMMARY.vocab.stoi[t] for t in train_data.examples[i].summary])"
      ],
      "execution_count": 18,
      "outputs": [
        {
          "output_type": "stream",
          "text": [
            "Number of train samples: 78662\n",
            "Number of validation samples: 9833\n",
            "Number of test samples: 9833\n"
          ],
          "name": "stdout"
        },
        {
          "output_type": "display_data",
          "data": {
            "text/html": [
              "<h4>Display data samples:</h4>"
            ],
            "text/plain": [
              "<IPython.core.display.HTML object>"
            ]
          },
          "metadata": {
            "tags": []
          }
        },
        {
          "output_type": "stream",
          "text": [
            "\n",
            "Text:\n",
            "  german authorities on friday gave their approval to an $8 billion rail and road tunnel linking denmark and germany . the 19-kilometre fehmarnbelt link comprises a four-lane motorway and a two-track railway , and is part-funded by the european union . the project , which is expected to be completed by 2024 , has been delayed by environmental protests in germany . n\n",
            "Tokens:\n",
            "  [1081, 427, 13, 131, 742, 52, 1922, 7, 31, 4247, 163, 2580, 12, 646, 3396, 4777, 4592, 12, 1096, 5, 4, 0, 0, 2981, 7863, 8, 31576, 24122, 12, 8, 0, 680, 6, 12, 20, 0, 22, 4, 1147, 287, 5, 4, 568, 6, 38, 20, 643, 7, 32, 1236, 22, 10830, 6, 15, 41, 2572, 22, 4231, 973, 9, 1096, 5, 490]\n",
            "Summary:\n",
            "  germany approves $8-billion rail and road tunnel link to denmark\n",
            "Tokens:\n",
            "  [837, 674, 0, 1490, 54, 492, 2244, 2152, 5, 3537]\n",
            "\n",
            "Text:\n",
            "  the shri mata vaishno devi shrine board on saturday approved enhancement of free accident insurance cover for pilgrims visiting the shrine to â¹5 lakh besides free treatment to trauma victims from nearby areas . the decision was reportedly taken at the 63rd meeting of the board under the chairmanship of jammu and kashmir governor and the board ' s chairman satya pal malik .\n",
            "Tokens:\n",
            "  [4, 3728, 6433, 16738, 4007, 5218, 283, 13, 159, 1076, 22079, 11, 613, 1107, 2029, 1145, 16, 3540, 2021, 4, 5218, 7, 1053, 121, 3110, 613, 891, 7, 10389, 971, 27, 2143, 1009, 5, 4, 401, 19, 76, 292, 30, 4, 16167, 464, 11, 4, 283, 167, 4, 27667, 11, 683, 12, 409, 859, 12, 4, 283, 10, 14, 442, 4918, 3991, 2045, 5]\n",
            "Summary:\n",
            "  vaishno devi to offer free â¹5l insurance cover to pilgrims\n",
            "Tokens:\n",
            "  [9319, 4752, 5, 726, 301, 4168, 1810, 1018, 5, 2666]\n"
          ],
          "name": "stdout"
        }
      ]
    },
    {
      "cell_type": "code",
      "metadata": {
        "colab": {
          "base_uri": "https://localhost:8080/"
        },
        "id": "XtTxuiLxwJ6J",
        "outputId": "8e1ac326-dd97-460f-b49e-d760317b1c24"
      },
      "source": [
        "print(vars(train_data.examples[0])['summary'])\n",
        "print([SUMMARY.vocab.stoi[t] for t in vars(train_data.examples[0])['summary']])"
      ],
      "execution_count": 19,
      "outputs": [
        {
          "output_type": "stream",
          "text": [
            "['germany', 'approves', '$8-billion', 'rail', 'and', 'road', 'tunnel', 'link', 'to', 'denmark']\n",
            "[837, 674, 0, 1490, 54, 492, 2244, 2152, 5, 3537]\n"
          ],
          "name": "stdout"
        }
      ]
    },
    {
      "cell_type": "code",
      "metadata": {
        "id": "VjzvUwk_xnft"
      },
      "source": [
        "BATCH_SIZE = 64\n",
        "\n",
        "train_iterator, valid_iterator, test_iterator = BucketIterator.splits(\n",
        "    (train_data, val_data, test_data), \n",
        "    batch_size = BATCH_SIZE, \n",
        "    device = device,\n",
        "    shuffle=False,\n",
        "    sort=False\n",
        "    )"
      ],
      "execution_count": 20,
      "outputs": []
    },
    {
      "cell_type": "code",
      "metadata": {
        "colab": {
          "base_uri": "https://localhost:8080/"
        },
        "id": "kvk5S-DDpXBB",
        "outputId": "c4bd6073-8480-4e72-d390-fd0e3a0eff0d"
      },
      "source": [
        "for i, batch in enumerate(test_iterator):\n",
        "    trg = batch.summary\n",
        "    if i==0:\n",
        "        print(trg.shape)\n",
        "    else:\n",
        "      break\n",
        "        "
      ],
      "execution_count": 22,
      "outputs": [
        {
          "output_type": "stream",
          "text": [
            "tensor([[    2,     2,     2,     2,     2],\n",
            "        [ 1678,   280,   880,   697,   705],\n",
            "        [ 5698,    24,    96,  1322,    10],\n",
            "        [ 1135,   158,    72,     5,   323],\n",
            "        [  324,     0,  1857,  2351,    87],\n",
            "        [   16,  6433,   294,  7812,     6],\n",
            "        [ 2461, 10457,    18,  4076,  6068],\n",
            "        [16439,     7,  1132,   212,  1892],\n",
            "        [  772,    98,    30,    18,     0],\n",
            "        [    1,  3302,    82,  3465,  6024],\n",
            "        [    1,    79,   294,    39,     1],\n",
            "        [    1,     1,  2105,     1,     1],\n",
            "        [    1,     1,     6,     1,     1],\n",
            "        [    1,     1,   437,     1,     1],\n",
            "        [    1,     1,     1,     1,     1],\n",
            "        [    1,     1,     1,     1,     1],\n",
            "        [    3,     1,     1,     3,     3],\n",
            "        [    1,     3,     1,     1,     1],\n",
            "        [    1,     1,     3,     1,     1]], device='cuda:0')\n"
          ],
          "name": "stdout"
        }
      ]
    },
    {
      "cell_type": "code",
      "metadata": {
        "id": "0ZmFkO-q5iKB"
      },
      "source": [
        "class Encoder(nn.Module):\n",
        "    def __init__(self, input_dim, emb_dim, hid_dim, n_layers, dropout):\n",
        "        super().__init__()\n",
        "        \n",
        "        # initializations\n",
        "        self.hid_dim = hid_dim\n",
        "        self.n_layers = n_layers\n",
        "        self.embedding = nn.Embedding(input_dim, emb_dim)\n",
        "        # we will use 2 layers for both encoder and decoder\n",
        "        self.rnn = nn.LSTM(emb_dim, hid_dim, n_layers, dropout=dropout)\n",
        "        self.dropout = nn.Dropout(dropout)\n",
        "        \n",
        "    def forward(self, src):\n",
        "        embedded = self.dropout(self.embedding(src)) # [src len, batch size]\n",
        "        outputs, (hidden, cell) = self.rnn(embedded) # [src len, batch size, emb dim]\n",
        "        \n",
        "        ## dimension\n",
        "        # outputs = [src len, batch size, hid dim * n directions]\n",
        "        # hidden = [n layers * n directions, batch size, hid dim]\n",
        "        # cell = [n layers * n directions, batch size, hid dim]\n",
        "        \n",
        "        # outputs are always from the top hidden layer\n",
        "        return hidden, cell\n",
        " \n",
        "\n",
        "\n",
        "\n",
        "class Decoder(nn.Module):\n",
        "    def __init__(self, output_dim, emb_dim, hid_dim, n_layers, dropout):\n",
        "        super().__init__()\n",
        "        \n",
        "        self.output_dim = output_dim\n",
        "        self.hid_dim = hid_dim\n",
        "        self.n_layers = n_layers\n",
        "        self.embedding = nn.Embedding(output_dim, emb_dim)\n",
        "        self.rnn = nn.LSTM(emb_dim, hid_dim, n_layers, dropout=dropout)\n",
        "        self.fc_out = nn.Linear(hid_dim, output_dim)\n",
        "        self.dropout = nn.Dropout(dropout)\n",
        "        \n",
        "    def forward(self, input, hidden, cell):\n",
        "        \n",
        "        # input = [batch size]\n",
        "        # hidden = [n layers * n directions, batch size, hid dim]\n",
        "        # cell = [n layers * n directions, batch size, hid dim]\n",
        "        \n",
        "        # n directions in the decoder will both always be 1, therefore:\n",
        "        # hidden = [n layers, batch size, hid dim]\n",
        "        # context = [n layers, batch size, hid dim]\n",
        "        \n",
        "        input = input.unsqueeze(0) #  [1, batch size]\n",
        "        embedded = self.dropout(self.embedding(input)) #  [1, batch size, emb dim]\n",
        "        output, (hidden, cell) = self.rnn(embedded, (hidden, cell))\n",
        "        \n",
        "        # output = [seq len, batch size, hid dim * n directions]\n",
        "        # hidden = [n layers * n directions, batch size, hid dim]\n",
        "        # cell = [n layers * n directions, batch size, hid dim]\n",
        "        \n",
        "        #seq len and n directions will always be 1 in the decoder, therefore:\n",
        "        #output = [1, batch size, hid dim]\n",
        "        #hidden = [n layers, batch size, hid dim]\n",
        "        #cell = [n layers, batch size, hid dim]\n",
        "        \n",
        "        prediction = self.fc_out(output.squeeze(0)) #  [batch size, output dim]\n",
        "        \n",
        "        return prediction, hidden, cell\n",
        "\n",
        "    \n",
        "\n",
        "class Seq2Seq(nn.Module):\n",
        "    def __init__(self, encoder, decoder, device):\n",
        "        super().__init__()\n",
        "        \n",
        "        self.encoder = encoder\n",
        "        self.decoder = decoder\n",
        "        self.device = device\n",
        "        \n",
        "        assert encoder.hid_dim == decoder.hid_dim, \\\n",
        "            \"Hidden dimensions of encoder and decoder must be equal!\"\n",
        "        assert encoder.n_layers == decoder.n_layers, \\\n",
        "            \"Encoder and decoder must have equal number of layers!\"\n",
        "        \n",
        "    def forward(self, src, trg, teacher_forcing_ratio=0.5):\n",
        "        \n",
        "        # src = [src len, batch size]\n",
        "        # trg = [trg len, batch size]\n",
        "        # teacher_forcing_ratio is probability to use teacher forcing\n",
        "        # e.g. if teacher_forcing_ratio is 0.75 we use ground-truth inputs 75% of the time\n",
        "        \n",
        "        batch_size = trg.shape[1]\n",
        "        trg_len = trg.shape[0]\n",
        "        trg_vocab_size = self.decoder.output_dim\n",
        "        \n",
        "        # tensor to store decoder outputs\n",
        "        outputs = torch.zeros(trg_len, batch_size, trg_vocab_size).to(self.device)\n",
        "        \n",
        "        # last hidden state of the encoder is used as the initial hidden state of the decoder\n",
        "        hidden, cell = self.encoder(src)\n",
        "        \n",
        "        # first input to the decoder is the <sos> tokens\n",
        "        input = trg[0, :]\n",
        "        \n",
        "        for t in range(1, trg_len):\n",
        "            \n",
        "            # insert input token embedding, previous hidden and previous cell states\n",
        "            # receive output tensor (predictions) and new hidden and cell states\n",
        "            output, hidden, cell = self.decoder(input, hidden, cell)\n",
        "            \n",
        "            # place predictions in a tensor holding predictions for each token\n",
        "            outputs[t] = output\n",
        "            \n",
        "            # decide if we are going to use teacher forcing or not\n",
        "            teacher_force = random.random() < teacher_forcing_ratio\n",
        "            \n",
        "            # get the highest predicted token from our predictions\n",
        "            top1 = output.argmax(1) \n",
        "            \n",
        "            # if teacher forcing, use actual next token as next input\n",
        "            # if not, use predicted token\n",
        "            input = trg[t] if teacher_force else top1\n",
        "        \n",
        "        return outputs"
      ],
      "execution_count": 21,
      "outputs": []
    },
    {
      "cell_type": "code",
      "metadata": {
        "id": "4O3xrMfU6kPC"
      },
      "source": [
        "INPUT_DIM = len(TEXT.vocab)\n",
        "OUTPUT_DIM = len(SUMMARY.vocab)\n",
        "ENC_EMB_DIM = 32\n",
        "DEC_EMB_DIM = 32\n",
        "HID_DIM = 64\n",
        "N_LAYERS = 2\n",
        "ENC_DROPOUT = 0.1\n",
        "DEC_DROPOUT = 0.1\n",
        "model_params = {'INPUT_DIM':    INPUT_DIM,\n",
        "                'OUTPUT_DIM':   OUTPUT_DIM,\n",
        "                'ENC_EMB_DIM':  ENC_EMB_DIM,\n",
        "                'DEC_EMB_DIM':  DEC_EMB_DIM,\n",
        "                'HID_DIM':      HID_DIM,\n",
        "                'N_LAYERS':     N_LAYERS,\n",
        "                'ENC_DROPOUT':  ENC_DROPOUT,\n",
        "                'DEC_DROPOUT':  DEC_DROPOUT,\n",
        "                }\n",
        "\n",
        "# initialize seq2seq model\n",
        "enc = Encoder(INPUT_DIM, ENC_EMB_DIM, HID_DIM, N_LAYERS, ENC_DROPOUT)\n",
        "dec = Decoder(OUTPUT_DIM, DEC_EMB_DIM, HID_DIM, N_LAYERS, DEC_DROPOUT)\n",
        "model = Seq2Seq(enc, dec, device)"
      ],
      "execution_count": 22,
      "outputs": []
    },
    {
      "cell_type": "code",
      "metadata": {
        "id": "TBp1ZBSl61DE"
      },
      "source": [
        "class Seq2Seq_trainer(object):\n",
        "    def __init__(self, model, model_params, train_iterator, valid_iterator, src_vocab, trg_vocab, device, clip, learning_rate):\n",
        "        # paths for save and load models\n",
        "        self.CHECKPOINT_DIR = '/content/gdrive/MyDrive/Checkpoints'\n",
        "        self.MODEL_NAME = 'LSTM_Text_Summarizer'\n",
        "        # initialize config variables\n",
        "        self.model = model.to(device)\n",
        "        self.model_params = model_params\n",
        "        self.train_iterator = train_iterator\n",
        "        self.valid_iterator = valid_iterator\n",
        "        self.clip = clip\n",
        "        self.optimizer = torch.optim.Adam(self.model.parameters(), lr=learning_rate)\n",
        "        self.src_vocab = src_vocab\n",
        "        self.trg_vocab = trg_vocab\n",
        "        pad_index = self.trg_vocab.stoi['<pad>']\n",
        "        self.criterion = nn.CrossEntropyLoss(ignore_index = pad_index)\n",
        "        self.model.apply(self.init_weights)\n",
        "        self.logger = {'training_loss': [], \n",
        "                       'validation_loss': [],\n",
        "                       'epochs': [],\n",
        "                       }\n",
        "        print(f'The model has {self.count_parameters(self.model):,} trainable parameters')\n",
        "\n",
        "        \n",
        "    \n",
        "    def init_weights(self,m):\n",
        "        for name, param in m.named_parameters():\n",
        "            nn.init.uniform_(param.data, -0.08, 0.08)\n",
        "        \n",
        "    \n",
        "    def count_parameters(self, model):\n",
        "        return sum(p.numel() for p in model.parameters() if p.requires_grad)\n",
        "\n",
        "    \n",
        "    def save_model(self, epoch):\n",
        "        if not os.path.exists(self.CHECKPOINT_DIR):\n",
        "            os.mkdir(self.CHECKPOINT_DIR)\n",
        "        # create the state for saving\n",
        "        state = {\n",
        "                'model': self.model.state_dict(),\n",
        "                'model_params': self.model_params,\n",
        "                'src_vocab': self.src_vocab,\n",
        "                'trg_vocab': self.trg_vocab,\n",
        "                'epoch': epoch,\n",
        "                'logger': self.logger\n",
        "                }\n",
        "        torch.save(state, f'{self.CHECKPOINT_DIR}/{self.MODEL_NAME}_{epoch}.pth')\n",
        "        print('-' * 89)\n",
        "        print(f'| Model was saved at epoch {epoch}|')\n",
        "        print('-' * 89)\n",
        "\n",
        "\n",
        "    def load_model(self, CHECKPOINT_DIR, MODEL_NAME, epoch):\n",
        "        # load saved model\n",
        "        state = torch.load(f'{CHECKPOINT_DIR}/{MODEL_NAME}_{epoch}.pth', map_location=device)\n",
        "\n",
        "        # initialize seq2seq model\n",
        "        model_params = state['model_params']\n",
        "        enc = Encoder(model_params['INPUT_DIM'], \n",
        "                      model_params['ENC_EMB_DIM'], \n",
        "                      model_params['HID_DIM'], \n",
        "                      model_params['N_LAYERS'], \n",
        "                      model_params['ENC_DROPOUT'])\n",
        "        dec = Decoder(model_params['OUTPUT_DIM'], \n",
        "                      model_params['DEC_EMB_DIM'], \n",
        "                      model_params['HID_DIM'], \n",
        "                      model_params['N_LAYERS'], \n",
        "                      model_params['DEC_DROPOUT'])\n",
        "        self.model = Seq2Seq(enc, dec, self.device)\n",
        "        self.model.load_state_dict(state['model'])\n",
        "        self.logger = state['logger']\n",
        "        self.src_vocab = state['src_vocab']\n",
        "        self.trg_vocab = state['trg_vocab']\n",
        "        \n",
        "        print('-' * 89)\n",
        "        print(f'Model {MODEL_NAME}, weights and vocabularies from epoch {epoch} were uploaded succesfully.')\n",
        "        print('-' * 89)\n",
        "\n",
        "\n",
        "    def train(self):\n",
        "\n",
        "        self.model.train()\n",
        "        epoch_loss = 0\n",
        "        for i, batch in enumerate(self.train_iterator):\n",
        "\n",
        "            src = batch.text\n",
        "            trg = batch.summary\n",
        "            self.optimizer.zero_grad()\n",
        "            output = self.model(src, trg)\n",
        "\n",
        "            # trg = [trg len, batch size]\n",
        "            # output = [trg len, batch size, output dim]\n",
        "\n",
        "            output_dim = output.shape[-1]\n",
        "            output = output[1:].view(-1, output_dim)\n",
        "            trg = trg[1:].view(-1)\n",
        "\n",
        "            # trg = [(trg len - 1) * batch size]\n",
        "            # output = [(trg len - 1) * batch size, output dim]\n",
        "\n",
        "            loss = self.criterion(output, trg)\n",
        "            loss.backward()\n",
        "            torch.nn.utils.clip_grad_norm_(self.model.parameters(), self.clip)\n",
        "            self.optimizer.step()\n",
        "            epoch_loss += loss.item()\n",
        "\n",
        "        return epoch_loss / len(self.train_iterator)\n",
        "    \n",
        "    \n",
        "    def evaluate(self, iterator):\n",
        "\n",
        "        self.model.eval()\n",
        "        epoch_loss = 0\n",
        "\n",
        "        with torch.no_grad():\n",
        "            for i, batch in enumerate(iterator):\n",
        "\n",
        "                src = batch.text\n",
        "                trg = batch.summary\n",
        "                output = self.model(src, trg, teacher_forcing_ratio=0) #turn off teacher forcing\n",
        "\n",
        "                # trg = [trg len, batch size]\n",
        "                # output = [trg len, batch size, output dim]\n",
        "\n",
        "                output_dim = output.shape[-1]\n",
        "                output = output[1:].view(-1, output_dim)\n",
        "                trg = trg[1:].view(-1)\n",
        "\n",
        "                # trg = [(trg len - 1) * batch size]\n",
        "                # output = [(trg len - 1) * batch size, output dim]\n",
        "\n",
        "                loss = self.criterion(output, trg)\n",
        "                epoch_loss += loss.item()\n",
        "\n",
        "        return epoch_loss / len(iterator)\n",
        "    \n",
        "    \n",
        "    def epoch_time(self, start_time, end_time):\n",
        "        elapsed_time = end_time - start_time\n",
        "        elapsed_mins = int(elapsed_time / 60)\n",
        "        elapsed_secs = int(elapsed_time - (elapsed_mins * 60))\n",
        "        return elapsed_mins, elapsed_secs\n",
        "    \n",
        "    \n",
        "    def fit(self, nepochs):\n",
        "        best_valid_loss = float('inf')\n",
        "        epoch_counter = 0\n",
        "\n",
        "        for epoch in tqdm(range(nepochs)):\n",
        "            if epoch_counter == 5:\n",
        "                self.save_model(epoch)\n",
        "                epoch_counter = 0\n",
        "\n",
        "            start_time = time.time()\n",
        "            train_loss = self.train()\n",
        "            valid_loss = self.evaluate(self.valid_iterator)\n",
        "            end_time = time.time()\n",
        "            epoch_mins, epoch_secs = self.epoch_time(start_time, end_time)\n",
        "\n",
        "            self.logger['training_loss'].append(train_loss)\n",
        "            self.logger['validation_loss'].append(valid_loss)\n",
        "            self.logger['epochs'].append(epoch)\n",
        "\n",
        "            if valid_loss < best_valid_loss:\n",
        "                best_valid_loss = valid_loss\n",
        "                self.save_model(epoch)\n",
        "                print(f'Epoch with best validation loss: {epoch+1:02}')\n",
        "                epoch_counter = 0\n",
        "            else:\n",
        "                epoch_counter += 1\n",
        "\n",
        "            print(f'Epoch: {epoch+1:02} | Time: {epoch_mins}m {epoch_secs}s')\n",
        "            print(f'\\tTrain Loss: {train_loss:.3f} | Train PPL: {math.exp(train_loss):7.3f}')\n",
        "            print(f'\\t Val. Loss: {valid_loss:.3f} |  Val. PPL: {math.exp(valid_loss):7.3f}')"
      ],
      "execution_count": 24,
      "outputs": []
    },
    {
      "cell_type": "code",
      "metadata": {
        "colab": {
          "base_uri": "https://localhost:8080/"
        },
        "id": "e6mTEVla8u9g",
        "outputId": "681cf3fb-3e36-478b-f8f9-7a01b0d83fcb"
      },
      "source": [
        "# initialize trainer\n",
        "trainer = Seq2Seq_trainer(model, model_params, train_iterator, valid_iterator, TEXT.vocab, SUMMARY.vocab, device, 1, 1e-3)"
      ],
      "execution_count": 25,
      "outputs": [
        {
          "output_type": "stream",
          "text": [
            "The model has 4,019,987 trainable parameters\n"
          ],
          "name": "stdout"
        }
      ]
    },
    {
      "cell_type": "code",
      "metadata": {
        "colab": {
          "base_uri": "https://localhost:8080/",
          "height": 1000,
          "referenced_widgets": [
            "05421a21532f4aafa0c2b3f4b0e49aa8",
            "f540ecbca2264f069fa949c2cd99b57d",
            "0fad8448021a48899f1fdc3c7484bc32",
            "f5ed470c208f43a08a9db00ecd5da026",
            "ada69fde30e94214946a5d4703c408a3",
            "1f0f3908b5c3477e8fde99b698cedba0",
            "d4430a12a75f4901a0412fc93c2cc310",
            "c573139c5df548c6905c845863774b27"
          ]
        },
        "id": "Bel8WuKl9GXO",
        "outputId": "f127235f-ae7f-4747-f2bc-f4d6e8ff321f"
      },
      "source": [
        "epochs = 2\n",
        "trainer.fit(epochs)"
      ],
      "execution_count": null,
      "outputs": [
        {
          "output_type": "display_data",
          "data": {
            "application/vnd.jupyter.widget-view+json": {
              "model_id": "05421a21532f4aafa0c2b3f4b0e49aa8",
              "version_minor": 0,
              "version_major": 2
            },
            "text/plain": [
              "HBox(children=(FloatProgress(value=0.0, max=150.0), HTML(value='')))"
            ]
          },
          "metadata": {
            "tags": []
          }
        },
        {
          "output_type": "stream",
          "text": [
            "-----------------------------------------------------------------------------------------\n",
            "| Model was saved |\n",
            "-----------------------------------------------------------------------------------------\n",
            "Epoch with best validation loss: 01\n",
            "Epoch: 01 | Time: 1m 58s\n",
            "\tTrain Loss: 7.216 | Train PPL: 1360.960\n",
            "\t Val. Loss: 6.967 |  Val. PPL: 1061.368\n",
            "-----------------------------------------------------------------------------------------\n",
            "| Model was saved |\n",
            "-----------------------------------------------------------------------------------------\n",
            "Epoch with best validation loss: 02\n",
            "Epoch: 02 | Time: 1m 58s\n",
            "\tTrain Loss: 6.918 | Train PPL: 1010.646\n",
            "\t Val. Loss: 6.931 |  Val. PPL: 1023.603\n",
            "-----------------------------------------------------------------------------------------\n",
            "| Model was saved |\n",
            "-----------------------------------------------------------------------------------------\n",
            "Epoch with best validation loss: 03\n",
            "Epoch: 03 | Time: 1m 58s\n",
            "\tTrain Loss: 6.805 | Train PPL: 902.099\n",
            "\t Val. Loss: 6.875 |  Val. PPL: 967.918\n",
            "-----------------------------------------------------------------------------------------\n",
            "| Model was saved |\n",
            "-----------------------------------------------------------------------------------------\n",
            "Epoch with best validation loss: 04\n",
            "Epoch: 04 | Time: 1m 58s\n",
            "\tTrain Loss: 6.647 | Train PPL: 770.839\n",
            "\t Val. Loss: 6.774 |  Val. PPL: 874.834\n",
            "-----------------------------------------------------------------------------------------\n",
            "| Model was saved |\n",
            "-----------------------------------------------------------------------------------------\n",
            "Epoch with best validation loss: 05\n",
            "Epoch: 05 | Time: 1m 58s\n",
            "\tTrain Loss: 6.496 | Train PPL: 662.219\n",
            "\t Val. Loss: 6.682 |  Val. PPL: 798.219\n",
            "-----------------------------------------------------------------------------------------\n",
            "| Model was saved |\n",
            "-----------------------------------------------------------------------------------------\n",
            "Epoch with best validation loss: 06\n",
            "Epoch: 06 | Time: 1m 58s\n",
            "\tTrain Loss: 6.343 | Train PPL: 568.320\n",
            "\t Val. Loss: 6.588 |  Val. PPL: 726.115\n",
            "-----------------------------------------------------------------------------------------\n",
            "| Model was saved |\n",
            "-----------------------------------------------------------------------------------------\n",
            "Epoch with best validation loss: 07\n",
            "Epoch: 07 | Time: 1m 57s\n",
            "\tTrain Loss: 6.205 | Train PPL: 495.365\n",
            "\t Val. Loss: 6.501 |  Val. PPL: 666.045\n",
            "-----------------------------------------------------------------------------------------\n",
            "| Model was saved |\n",
            "-----------------------------------------------------------------------------------------\n",
            "Epoch with best validation loss: 08\n",
            "Epoch: 08 | Time: 1m 57s\n",
            "\tTrain Loss: 6.064 | Train PPL: 430.202\n",
            "\t Val. Loss: 6.414 |  Val. PPL: 610.444\n",
            "-----------------------------------------------------------------------------------------\n",
            "| Model was saved |\n",
            "-----------------------------------------------------------------------------------------\n",
            "Epoch with best validation loss: 09\n",
            "Epoch: 09 | Time: 1m 57s\n",
            "\tTrain Loss: 5.931 | Train PPL: 376.593\n",
            "\t Val. Loss: 6.348 |  Val. PPL: 571.240\n",
            "-----------------------------------------------------------------------------------------\n",
            "| Model was saved |\n",
            "-----------------------------------------------------------------------------------------\n",
            "Epoch with best validation loss: 10\n",
            "Epoch: 10 | Time: 1m 57s\n",
            "\tTrain Loss: 5.816 | Train PPL: 335.744\n",
            "\t Val. Loss: 6.297 |  Val. PPL: 542.997\n",
            "-----------------------------------------------------------------------------------------\n",
            "| Model was saved |\n",
            "-----------------------------------------------------------------------------------------\n",
            "Epoch with best validation loss: 11\n",
            "Epoch: 11 | Time: 1m 57s\n",
            "\tTrain Loss: 5.717 | Train PPL: 304.046\n",
            "\t Val. Loss: 6.252 |  Val. PPL: 519.160\n",
            "-----------------------------------------------------------------------------------------\n",
            "| Model was saved |\n",
            "-----------------------------------------------------------------------------------------\n",
            "Epoch with best validation loss: 12\n",
            "Epoch: 12 | Time: 1m 57s\n",
            "\tTrain Loss: 5.612 | Train PPL: 273.701\n",
            "\t Val. Loss: 6.220 |  Val. PPL: 502.513\n",
            "-----------------------------------------------------------------------------------------\n",
            "| Model was saved |\n",
            "-----------------------------------------------------------------------------------------\n",
            "Epoch with best validation loss: 13\n",
            "Epoch: 13 | Time: 1m 57s\n",
            "\tTrain Loss: 5.532 | Train PPL: 252.637\n",
            "\t Val. Loss: 6.188 |  Val. PPL: 486.960\n",
            "-----------------------------------------------------------------------------------------\n",
            "| Model was saved |\n",
            "-----------------------------------------------------------------------------------------\n",
            "Epoch with best validation loss: 14\n",
            "Epoch: 14 | Time: 1m 57s\n",
            "\tTrain Loss: 5.453 | Train PPL: 233.358\n",
            "\t Val. Loss: 6.161 |  Val. PPL: 473.860\n",
            "-----------------------------------------------------------------------------------------\n",
            "| Model was saved |\n",
            "-----------------------------------------------------------------------------------------\n",
            "Epoch with best validation loss: 15\n",
            "Epoch: 15 | Time: 1m 57s\n",
            "\tTrain Loss: 5.372 | Train PPL: 215.270\n",
            "\t Val. Loss: 6.149 |  Val. PPL: 468.082\n",
            "-----------------------------------------------------------------------------------------\n",
            "| Model was saved |\n",
            "-----------------------------------------------------------------------------------------\n",
            "Epoch with best validation loss: 16\n",
            "Epoch: 16 | Time: 1m 57s\n",
            "\tTrain Loss: 5.302 | Train PPL: 200.830\n",
            "\t Val. Loss: 6.119 |  Val. PPL: 454.264\n",
            "-----------------------------------------------------------------------------------------\n",
            "| Model was saved |\n",
            "-----------------------------------------------------------------------------------------\n",
            "Epoch with best validation loss: 17\n",
            "Epoch: 17 | Time: 1m 57s\n",
            "\tTrain Loss: 5.234 | Train PPL: 187.547\n",
            "\t Val. Loss: 6.105 |  Val. PPL: 448.061\n",
            "-----------------------------------------------------------------------------------------\n",
            "| Model was saved |\n",
            "-----------------------------------------------------------------------------------------\n",
            "Epoch with best validation loss: 18\n",
            "Epoch: 18 | Time: 1m 57s\n",
            "\tTrain Loss: 5.176 | Train PPL: 176.913\n",
            "\t Val. Loss: 6.104 |  Val. PPL: 447.714\n",
            "Epoch: 19 | Time: 1m 57s\n",
            "\tTrain Loss: 5.104 | Train PPL: 164.621\n",
            "\t Val. Loss: 6.109 |  Val. PPL: 449.940\n",
            "Epoch: 20 | Time: 1m 58s\n",
            "\tTrain Loss: 5.047 | Train PPL: 155.563\n",
            "\t Val. Loss: 6.115 |  Val. PPL: 452.598\n",
            "-----------------------------------------------------------------------------------------\n",
            "| Model was saved |\n",
            "-----------------------------------------------------------------------------------------\n",
            "Epoch with best validation loss: 21\n",
            "Epoch: 21 | Time: 1m 57s\n",
            "\tTrain Loss: 4.991 | Train PPL: 147.132\n",
            "\t Val. Loss: 6.093 |  Val. PPL: 442.600\n",
            "-----------------------------------------------------------------------------------------\n",
            "| Model was saved |\n",
            "-----------------------------------------------------------------------------------------\n",
            "Epoch with best validation loss: 22\n",
            "Epoch: 22 | Time: 1m 56s\n",
            "\tTrain Loss: 4.937 | Train PPL: 139.299\n",
            "\t Val. Loss: 6.070 |  Val. PPL: 432.737\n",
            "-----------------------------------------------------------------------------------------\n",
            "| Model was saved |\n",
            "-----------------------------------------------------------------------------------------\n",
            "Epoch with best validation loss: 23\n",
            "Epoch: 23 | Time: 1m 57s\n",
            "\tTrain Loss: 4.881 | Train PPL: 131.819\n",
            "\t Val. Loss: 6.062 |  Val. PPL: 429.371\n",
            "Epoch: 24 | Time: 1m 57s\n",
            "\tTrain Loss: 4.833 | Train PPL: 125.554\n",
            "\t Val. Loss: 6.067 |  Val. PPL: 431.339\n",
            "Epoch: 25 | Time: 1m 56s\n",
            "\tTrain Loss: 4.792 | Train PPL: 120.548\n",
            "\t Val. Loss: 6.083 |  Val. PPL: 438.468\n",
            "Epoch: 26 | Time: 1m 56s\n",
            "\tTrain Loss: 4.748 | Train PPL: 115.402\n",
            "\t Val. Loss: 6.090 |  Val. PPL: 441.359\n",
            "Epoch: 27 | Time: 1m 56s\n",
            "\tTrain Loss: 4.703 | Train PPL: 110.332\n",
            "\t Val. Loss: 6.075 |  Val. PPL: 435.034\n",
            "Epoch: 28 | Time: 1m 57s\n",
            "\tTrain Loss: 4.657 | Train PPL: 105.347\n",
            "\t Val. Loss: 6.098 |  Val. PPL: 445.114\n",
            "-----------------------------------------------------------------------------------------\n",
            "| Model was saved |\n",
            "-----------------------------------------------------------------------------------------\n",
            "Epoch: 29 | Time: 1m 56s\n",
            "\tTrain Loss: 4.617 | Train PPL: 101.201\n",
            "\t Val. Loss: 6.092 |  Val. PPL: 442.148\n",
            "Epoch: 30 | Time: 1m 56s\n",
            "\tTrain Loss: 4.585 | Train PPL:  98.015\n",
            "\t Val. Loss: 6.085 |  Val. PPL: 439.297\n",
            "Epoch: 31 | Time: 1m 56s\n",
            "\tTrain Loss: 4.528 | Train PPL:  92.592\n",
            "\t Val. Loss: 6.108 |  Val. PPL: 449.215\n",
            "Epoch: 32 | Time: 1m 57s\n",
            "\tTrain Loss: 4.505 | Train PPL:  90.454\n",
            "\t Val. Loss: 6.114 |  Val. PPL: 451.933\n",
            "Epoch: 33 | Time: 1m 56s\n",
            "\tTrain Loss: 4.466 | Train PPL:  87.027\n",
            "\t Val. Loss: 6.109 |  Val. PPL: 449.765\n",
            "-----------------------------------------------------------------------------------------\n",
            "| Model was saved |\n",
            "-----------------------------------------------------------------------------------------\n",
            "Epoch: 34 | Time: 1m 57s\n",
            "\tTrain Loss: 4.437 | Train PPL:  84.552\n",
            "\t Val. Loss: 6.142 |  Val. PPL: 465.004\n",
            "Epoch: 35 | Time: 1m 57s\n",
            "\tTrain Loss: 4.407 | Train PPL:  82.005\n",
            "\t Val. Loss: 6.129 |  Val. PPL: 459.144\n",
            "Epoch: 36 | Time: 1m 56s\n",
            "\tTrain Loss: 4.367 | Train PPL:  78.801\n",
            "\t Val. Loss: 6.136 |  Val. PPL: 462.241\n",
            "Epoch: 37 | Time: 1m 57s\n",
            "\tTrain Loss: 4.341 | Train PPL:  76.762\n",
            "\t Val. Loss: 6.159 |  Val. PPL: 472.869\n",
            "Epoch: 38 | Time: 1m 56s\n",
            "\tTrain Loss: 4.312 | Train PPL:  74.595\n",
            "\t Val. Loss: 6.160 |  Val. PPL: 473.194\n",
            "-----------------------------------------------------------------------------------------\n",
            "| Model was saved |\n",
            "-----------------------------------------------------------------------------------------\n",
            "Epoch: 39 | Time: 1m 56s\n",
            "\tTrain Loss: 4.284 | Train PPL:  72.529\n",
            "\t Val. Loss: 6.177 |  Val. PPL: 481.768\n",
            "Epoch: 40 | Time: 1m 56s\n",
            "\tTrain Loss: 4.251 | Train PPL:  70.208\n",
            "\t Val. Loss: 6.173 |  Val. PPL: 479.450\n",
            "Epoch: 41 | Time: 1m 56s\n",
            "\tTrain Loss: 4.235 | Train PPL:  69.061\n",
            "\t Val. Loss: 6.180 |  Val. PPL: 482.861\n",
            "Epoch: 42 | Time: 1m 56s\n",
            "\tTrain Loss: 4.203 | Train PPL:  66.902\n",
            "\t Val. Loss: 6.208 |  Val. PPL: 496.473\n",
            "Epoch: 43 | Time: 1m 56s\n",
            "\tTrain Loss: 4.168 | Train PPL:  64.587\n",
            "\t Val. Loss: 6.209 |  Val. PPL: 497.009\n",
            "-----------------------------------------------------------------------------------------\n",
            "| Model was saved |\n",
            "-----------------------------------------------------------------------------------------\n",
            "Epoch: 44 | Time: 1m 56s\n",
            "\tTrain Loss: 4.150 | Train PPL:  63.449\n",
            "\t Val. Loss: 6.244 |  Val. PPL: 514.661\n",
            "Epoch: 45 | Time: 1m 56s\n",
            "\tTrain Loss: 4.123 | Train PPL:  61.765\n",
            "\t Val. Loss: 6.238 |  Val. PPL: 511.866\n",
            "Epoch: 46 | Time: 1m 56s\n",
            "\tTrain Loss: 4.104 | Train PPL:  60.582\n",
            "\t Val. Loss: 6.258 |  Val. PPL: 521.975\n",
            "Epoch: 47 | Time: 1m 56s\n",
            "\tTrain Loss: 4.080 | Train PPL:  59.156\n",
            "\t Val. Loss: 6.260 |  Val. PPL: 523.198\n",
            "Epoch: 48 | Time: 1m 57s\n",
            "\tTrain Loss: 4.056 | Train PPL:  57.754\n",
            "\t Val. Loss: 6.289 |  Val. PPL: 538.360\n",
            "-----------------------------------------------------------------------------------------\n",
            "| Model was saved |\n",
            "-----------------------------------------------------------------------------------------\n",
            "Epoch: 49 | Time: 1m 56s\n",
            "\tTrain Loss: 4.040 | Train PPL:  56.804\n",
            "\t Val. Loss: 6.295 |  Val. PPL: 541.980\n",
            "Epoch: 50 | Time: 1m 56s\n",
            "\tTrain Loss: 4.015 | Train PPL:  55.428\n",
            "\t Val. Loss: 6.284 |  Val. PPL: 536.146\n",
            "Epoch: 51 | Time: 1m 56s\n",
            "\tTrain Loss: 3.999 | Train PPL:  54.516\n",
            "\t Val. Loss: 6.309 |  Val. PPL: 549.685\n",
            "Epoch: 52 | Time: 1m 56s\n",
            "\tTrain Loss: 3.972 | Train PPL:  53.109\n",
            "\t Val. Loss: 6.313 |  Val. PPL: 551.574\n",
            "Epoch: 53 | Time: 1m 56s\n",
            "\tTrain Loss: 3.956 | Train PPL:  52.251\n",
            "\t Val. Loss: 6.305 |  Val. PPL: 547.565\n",
            "-----------------------------------------------------------------------------------------\n",
            "| Model was saved |\n",
            "-----------------------------------------------------------------------------------------\n",
            "Epoch: 54 | Time: 1m 56s\n",
            "\tTrain Loss: 3.931 | Train PPL:  50.976\n",
            "\t Val. Loss: 6.316 |  Val. PPL: 553.283\n",
            "Epoch: 55 | Time: 1m 56s\n",
            "\tTrain Loss: 3.931 | Train PPL:  50.979\n",
            "\t Val. Loss: 6.326 |  Val. PPL: 558.774\n",
            "Epoch: 56 | Time: 1m 56s\n",
            "\tTrain Loss: 3.902 | Train PPL:  49.502\n",
            "\t Val. Loss: 6.308 |  Val. PPL: 549.126\n",
            "Epoch: 57 | Time: 1m 56s\n",
            "\tTrain Loss: 3.891 | Train PPL:  48.967\n",
            "\t Val. Loss: 6.345 |  Val. PPL: 569.875\n",
            "Epoch: 58 | Time: 1m 56s\n",
            "\tTrain Loss: 3.874 | Train PPL:  48.133\n",
            "\t Val. Loss: 6.356 |  Val. PPL: 575.919\n",
            "-----------------------------------------------------------------------------------------\n",
            "| Model was saved |\n",
            "-----------------------------------------------------------------------------------------\n",
            "Epoch: 59 | Time: 1m 56s\n",
            "\tTrain Loss: 3.851 | Train PPL:  47.061\n",
            "\t Val. Loss: 6.351 |  Val. PPL: 573.097\n",
            "Epoch: 60 | Time: 1m 56s\n",
            "\tTrain Loss: 3.829 | Train PPL:  46.018\n",
            "\t Val. Loss: 6.372 |  Val. PPL: 585.154\n",
            "Epoch: 61 | Time: 1m 56s\n",
            "\tTrain Loss: 3.819 | Train PPL:  45.570\n",
            "\t Val. Loss: 6.397 |  Val. PPL: 600.073\n",
            "Epoch: 62 | Time: 1m 56s\n",
            "\tTrain Loss: 3.807 | Train PPL:  45.016\n",
            "\t Val. Loss: 6.373 |  Val. PPL: 585.613\n",
            "Epoch: 63 | Time: 1m 56s\n",
            "\tTrain Loss: 3.791 | Train PPL:  44.311\n",
            "\t Val. Loss: 6.385 |  Val. PPL: 592.896\n",
            "-----------------------------------------------------------------------------------------\n",
            "| Model was saved |\n",
            "-----------------------------------------------------------------------------------------\n",
            "Epoch: 64 | Time: 1m 56s\n",
            "\tTrain Loss: 3.777 | Train PPL:  43.684\n",
            "\t Val. Loss: 6.378 |  Val. PPL: 588.519\n",
            "Epoch: 65 | Time: 1m 56s\n",
            "\tTrain Loss: 3.761 | Train PPL:  43.009\n",
            "\t Val. Loss: 6.388 |  Val. PPL: 594.566\n",
            "Epoch: 66 | Time: 1m 56s\n",
            "\tTrain Loss: 3.742 | Train PPL:  42.197\n",
            "\t Val. Loss: 6.420 |  Val. PPL: 614.037\n",
            "Epoch: 67 | Time: 1m 56s\n",
            "\tTrain Loss: 3.737 | Train PPL:  41.952\n",
            "\t Val. Loss: 6.411 |  Val. PPL: 608.364\n",
            "Epoch: 68 | Time: 1m 56s\n",
            "\tTrain Loss: 3.722 | Train PPL:  41.344\n",
            "\t Val. Loss: 6.437 |  Val. PPL: 624.381\n",
            "-----------------------------------------------------------------------------------------\n",
            "| Model was saved |\n",
            "-----------------------------------------------------------------------------------------\n",
            "Epoch: 69 | Time: 1m 56s\n",
            "\tTrain Loss: 3.713 | Train PPL:  40.991\n",
            "\t Val. Loss: 6.411 |  Val. PPL: 608.443\n",
            "Epoch: 70 | Time: 1m 56s\n",
            "\tTrain Loss: 3.691 | Train PPL:  40.065\n",
            "\t Val. Loss: 6.441 |  Val. PPL: 626.731\n",
            "Epoch: 71 | Time: 1m 56s\n",
            "\tTrain Loss: 3.684 | Train PPL:  39.820\n",
            "\t Val. Loss: 6.464 |  Val. PPL: 641.539\n",
            "Epoch: 72 | Time: 1m 56s\n",
            "\tTrain Loss: 3.673 | Train PPL:  39.374\n",
            "\t Val. Loss: 6.461 |  Val. PPL: 639.799\n",
            "Epoch: 73 | Time: 1m 56s\n",
            "\tTrain Loss: 3.649 | Train PPL:  38.451\n",
            "\t Val. Loss: 6.480 |  Val. PPL: 652.005\n",
            "-----------------------------------------------------------------------------------------\n",
            "| Model was saved |\n",
            "-----------------------------------------------------------------------------------------\n",
            "Epoch: 74 | Time: 1m 56s\n",
            "\tTrain Loss: 3.647 | Train PPL:  38.341\n",
            "\t Val. Loss: 6.500 |  Val. PPL: 665.243\n",
            "Epoch: 75 | Time: 1m 56s\n",
            "\tTrain Loss: 3.639 | Train PPL:  38.064\n",
            "\t Val. Loss: 6.504 |  Val. PPL: 667.641\n",
            "Epoch: 76 | Time: 1m 56s\n",
            "\tTrain Loss: 3.621 | Train PPL:  37.385\n",
            "\t Val. Loss: 6.479 |  Val. PPL: 651.321\n",
            "Epoch: 77 | Time: 1m 56s\n",
            "\tTrain Loss: 3.616 | Train PPL:  37.203\n",
            "\t Val. Loss: 6.506 |  Val. PPL: 669.126\n",
            "Epoch: 78 | Time: 1m 56s\n",
            "\tTrain Loss: 3.609 | Train PPL:  36.917\n",
            "\t Val. Loss: 6.509 |  Val. PPL: 671.156\n",
            "-----------------------------------------------------------------------------------------\n",
            "| Model was saved |\n",
            "-----------------------------------------------------------------------------------------\n",
            "Epoch: 79 | Time: 1m 56s\n",
            "\tTrain Loss: 3.602 | Train PPL:  36.657\n",
            "\t Val. Loss: 6.531 |  Val. PPL: 686.056\n",
            "Epoch: 80 | Time: 1m 56s\n",
            "\tTrain Loss: 3.591 | Train PPL:  36.252\n",
            "\t Val. Loss: 6.508 |  Val. PPL: 670.284\n",
            "Epoch: 81 | Time: 1m 56s\n",
            "\tTrain Loss: 3.568 | Train PPL:  35.446\n",
            "\t Val. Loss: 6.544 |  Val. PPL: 694.837\n",
            "Epoch: 82 | Time: 1m 56s\n",
            "\tTrain Loss: 3.566 | Train PPL:  35.358\n",
            "\t Val. Loss: 6.531 |  Val. PPL: 686.218\n",
            "Epoch: 83 | Time: 1m 56s\n",
            "\tTrain Loss: 3.552 | Train PPL:  34.880\n",
            "\t Val. Loss: 6.540 |  Val. PPL: 692.441\n",
            "-----------------------------------------------------------------------------------------\n",
            "| Model was saved |\n",
            "-----------------------------------------------------------------------------------------\n",
            "Epoch: 84 | Time: 1m 56s\n",
            "\tTrain Loss: 3.549 | Train PPL:  34.786\n",
            "\t Val. Loss: 6.565 |  Val. PPL: 709.727\n",
            "Epoch: 85 | Time: 1m 56s\n",
            "\tTrain Loss: 3.543 | Train PPL:  34.556\n",
            "\t Val. Loss: 6.541 |  Val. PPL: 692.981\n",
            "Epoch: 86 | Time: 1m 56s\n",
            "\tTrain Loss: 3.522 | Train PPL:  33.862\n",
            "\t Val. Loss: 6.548 |  Val. PPL: 697.929\n",
            "Epoch: 87 | Time: 1m 56s\n",
            "\tTrain Loss: 3.522 | Train PPL:  33.838\n",
            "\t Val. Loss: 6.559 |  Val. PPL: 705.719\n",
            "Epoch: 88 | Time: 1m 56s\n",
            "\tTrain Loss: 3.502 | Train PPL:  33.184\n",
            "\t Val. Loss: 6.575 |  Val. PPL: 716.675\n",
            "-----------------------------------------------------------------------------------------\n",
            "| Model was saved |\n",
            "-----------------------------------------------------------------------------------------\n",
            "Epoch: 89 | Time: 1m 56s\n",
            "\tTrain Loss: 3.507 | Train PPL:  33.360\n",
            "\t Val. Loss: 6.578 |  Val. PPL: 719.449\n",
            "Epoch: 90 | Time: 1m 56s\n",
            "\tTrain Loss: 3.492 | Train PPL:  32.846\n",
            "\t Val. Loss: 6.564 |  Val. PPL: 709.382\n",
            "Epoch: 91 | Time: 1m 56s\n",
            "\tTrain Loss: 3.484 | Train PPL:  32.584\n",
            "\t Val. Loss: 6.596 |  Val. PPL: 732.263\n",
            "Epoch: 92 | Time: 1m 56s\n",
            "\tTrain Loss: 3.477 | Train PPL:  32.360\n",
            "\t Val. Loss: 6.605 |  Val. PPL: 739.146\n",
            "Epoch: 93 | Time: 1m 56s\n",
            "\tTrain Loss: 3.477 | Train PPL:  32.362\n",
            "\t Val. Loss: 6.583 |  Val. PPL: 722.372\n",
            "-----------------------------------------------------------------------------------------\n",
            "| Model was saved |\n",
            "-----------------------------------------------------------------------------------------\n",
            "Epoch: 94 | Time: 1m 56s\n",
            "\tTrain Loss: 3.457 | Train PPL:  31.722\n",
            "\t Val. Loss: 6.598 |  Val. PPL: 733.721\n",
            "Epoch: 95 | Time: 1m 56s\n",
            "\tTrain Loss: 3.449 | Train PPL:  31.461\n",
            "\t Val. Loss: 6.606 |  Val. PPL: 739.242\n",
            "Epoch: 96 | Time: 1m 56s\n",
            "\tTrain Loss: 3.449 | Train PPL:  31.465\n",
            "\t Val. Loss: 6.610 |  Val. PPL: 742.512\n",
            "Epoch: 97 | Time: 1m 56s\n",
            "\tTrain Loss: 3.438 | Train PPL:  31.109\n",
            "\t Val. Loss: 6.635 |  Val. PPL: 761.638\n",
            "Epoch: 98 | Time: 1m 56s\n",
            "\tTrain Loss: 3.437 | Train PPL:  31.104\n",
            "\t Val. Loss: 6.625 |  Val. PPL: 754.022\n",
            "-----------------------------------------------------------------------------------------\n",
            "| Model was saved |\n",
            "-----------------------------------------------------------------------------------------\n",
            "Epoch: 99 | Time: 1m 56s\n",
            "\tTrain Loss: 3.412 | Train PPL:  30.341\n",
            "\t Val. Loss: 6.662 |  Val. PPL: 781.939\n",
            "Epoch: 100 | Time: 1m 56s\n",
            "\tTrain Loss: 3.423 | Train PPL:  30.672\n",
            "\t Val. Loss: 6.637 |  Val. PPL: 762.524\n",
            "Epoch: 101 | Time: 1m 56s\n",
            "\tTrain Loss: 3.409 | Train PPL:  30.238\n",
            "\t Val. Loss: 6.679 |  Val. PPL: 795.777\n",
            "Epoch: 102 | Time: 1m 56s\n",
            "\tTrain Loss: 3.404 | Train PPL:  30.083\n",
            "\t Val. Loss: 6.643 |  Val. PPL: 767.104\n",
            "Epoch: 103 | Time: 1m 56s\n",
            "\tTrain Loss: 3.393 | Train PPL:  29.768\n",
            "\t Val. Loss: 6.670 |  Val. PPL: 788.768\n",
            "-----------------------------------------------------------------------------------------\n",
            "| Model was saved |\n",
            "-----------------------------------------------------------------------------------------\n",
            "Epoch: 104 | Time: 1m 56s\n",
            "\tTrain Loss: 3.388 | Train PPL:  29.609\n",
            "\t Val. Loss: 6.676 |  Val. PPL: 793.535\n",
            "Epoch: 105 | Time: 1m 56s\n",
            "\tTrain Loss: 3.385 | Train PPL:  29.521\n",
            "\t Val. Loss: 6.657 |  Val. PPL: 778.473\n",
            "Epoch: 106 | Time: 1m 56s\n",
            "\tTrain Loss: 3.377 | Train PPL:  29.281\n",
            "\t Val. Loss: 6.683 |  Val. PPL: 798.410\n",
            "Epoch: 107 | Time: 1m 56s\n",
            "\tTrain Loss: 3.369 | Train PPL:  29.046\n",
            "\t Val. Loss: 6.678 |  Val. PPL: 795.021\n",
            "Epoch: 108 | Time: 1m 56s\n",
            "\tTrain Loss: 3.360 | Train PPL:  28.791\n",
            "\t Val. Loss: 6.736 |  Val. PPL: 842.564\n",
            "-----------------------------------------------------------------------------------------\n",
            "| Model was saved |\n",
            "-----------------------------------------------------------------------------------------\n",
            "Epoch: 109 | Time: 1m 56s\n",
            "\tTrain Loss: 3.352 | Train PPL:  28.550\n",
            "\t Val. Loss: 6.734 |  Val. PPL: 840.919\n"
          ],
          "name": "stdout"
        }
      ]
    },
    {
      "cell_type": "code",
      "metadata": {
        "id": "RCsBUPnyDP46",
        "outputId": "e61afec8-49e6-4b1d-bde1-407c588e87ea",
        "colab": {
          "base_uri": "https://localhost:8080/"
        }
      },
      "source": [
        "# load saved model\n",
        "state = torch.load(f'{CHECKPOINT_DIR}/{MODEL_NAME}_{108}.pth', map_location=device)\n",
        "print(state.keys())"
      ],
      "execution_count": 39,
      "outputs": [
        {
          "output_type": "stream",
          "text": [
            "dict_keys(['model', 'epoch', 'logger'])\n"
          ],
          "name": "stdout"
        }
      ]
    },
    {
      "cell_type": "code",
      "metadata": {
        "id": "LaqZqYmB7-vC",
        "outputId": "0fb1f435-6974-4b0d-ce0b-289c56a3d2ff",
        "colab": {
          "base_uri": "https://localhost:8080/",
          "height": 419
        }
      },
      "source": [
        "model.load_state_dict(state['model'])"
      ],
      "execution_count": 40,
      "outputs": [
        {
          "output_type": "error",
          "ename": "RuntimeError",
          "evalue": "ignored",
          "traceback": [
            "\u001b[0;31m---------------------------------------------------------------------------\u001b[0m",
            "\u001b[0;31mRuntimeError\u001b[0m                              Traceback (most recent call last)",
            "\u001b[0;32m<ipython-input-40-97da3e9cc572>\u001b[0m in \u001b[0;36m<module>\u001b[0;34m()\u001b[0m\n\u001b[0;32m----> 1\u001b[0;31m \u001b[0mmodel\u001b[0m\u001b[0;34m.\u001b[0m\u001b[0mload_state_dict\u001b[0m\u001b[0;34m(\u001b[0m\u001b[0mstate\u001b[0m\u001b[0;34m[\u001b[0m\u001b[0;34m'model'\u001b[0m\u001b[0;34m]\u001b[0m\u001b[0;34m)\u001b[0m\u001b[0;34m\u001b[0m\u001b[0;34m\u001b[0m\u001b[0m\n\u001b[0m",
            "\u001b[0;32m/usr/local/lib/python3.7/dist-packages/torch/nn/modules/module.py\u001b[0m in \u001b[0;36mload_state_dict\u001b[0;34m(self, state_dict, strict)\u001b[0m\n\u001b[1;32m   1405\u001b[0m         \u001b[0;32mif\u001b[0m \u001b[0mlen\u001b[0m\u001b[0;34m(\u001b[0m\u001b[0merror_msgs\u001b[0m\u001b[0;34m)\u001b[0m \u001b[0;34m>\u001b[0m \u001b[0;36m0\u001b[0m\u001b[0;34m:\u001b[0m\u001b[0;34m\u001b[0m\u001b[0;34m\u001b[0m\u001b[0m\n\u001b[1;32m   1406\u001b[0m             raise RuntimeError('Error(s) in loading state_dict for {}:\\n\\t{}'.format(\n\u001b[0;32m-> 1407\u001b[0;31m                                self.__class__.__name__, \"\\n\\t\".join(error_msgs)))\n\u001b[0m\u001b[1;32m   1408\u001b[0m         \u001b[0;32mreturn\u001b[0m \u001b[0m_IncompatibleKeys\u001b[0m\u001b[0;34m(\u001b[0m\u001b[0mmissing_keys\u001b[0m\u001b[0;34m,\u001b[0m \u001b[0munexpected_keys\u001b[0m\u001b[0;34m)\u001b[0m\u001b[0;34m\u001b[0m\u001b[0;34m\u001b[0m\u001b[0m\n\u001b[1;32m   1409\u001b[0m \u001b[0;34m\u001b[0m\u001b[0m\n",
            "\u001b[0;31mRuntimeError\u001b[0m: Error(s) in loading state_dict for Seq2Seq:\n\tsize mismatch for encoder.embedding.weight: copying a param with shape torch.Size([54213, 32]) from checkpoint, the shape in current model is torch.Size([54106, 32]).\n\tsize mismatch for decoder.embedding.weight: copying a param with shape torch.Size([22318, 32]) from checkpoint, the shape in current model is torch.Size([22364, 32]).\n\tsize mismatch for decoder.fc_out.weight: copying a param with shape torch.Size([22318, 64]) from checkpoint, the shape in current model is torch.Size([22364, 64]).\n\tsize mismatch for decoder.fc_out.bias: copying a param with shape torch.Size([22318]) from checkpoint, the shape in current model is torch.Size([22364])."
          ]
        }
      ]
    },
    {
      "cell_type": "code",
      "metadata": {
        "colab": {
          "base_uri": "https://localhost:8080/",
          "height": 580
        },
        "id": "yigdc9fSEuD_",
        "outputId": "06fb3008-5974-482a-ce7b-02a50f90c8fe"
      },
      "source": [
        "logger = state['logger']\n",
        "fig, ax = plt.subplots(1, 1, figsize=(12,6), dpi=200)\n",
        "fig.patch.set_facecolor('white')\n",
        "\n",
        "# plot accuracy\n",
        "p1 = ax.plot(logger['epochs'], logger['training_loss'], linewidth=2, label='train\\nloss')\n",
        "p2 = ax.plot(logger['epochs'], logger['validation_loss'], linewidth=2, label='validation\\nloss')\n",
        "#ax.set_xticks(range(0, logger['epochs'][-1] + 1, 2))\n",
        "#ax.set_xticklabels(range(0, logger['epochs'][-1] + 1, 2))\n",
        "ax.set_xlabel('Epoch')\n",
        "ax.set_ylabel('Loss [%]')\n",
        "ax.set_title('Model Loss')\n",
        "ax.xaxis.grid()\n",
        "ax.legend()"
      ],
      "execution_count": 42,
      "outputs": [
        {
          "output_type": "execute_result",
          "data": {
            "text/plain": [
              "<matplotlib.legend.Legend at 0x7f5cdd6a04d0>"
            ]
          },
          "metadata": {
            "tags": []
          },
          "execution_count": 42
        },
        {
          "output_type": "display_data",
          "data": {
            "image/png": "[encoded data removed]",
            "text/plain": [
              "<Figure size 2400x1200 with 1 Axes>"
            ]
          },
          "metadata": {
            "tags": []
          }
        }
      ]
    },
    {
      "cell_type": "code",
      "metadata": {
        "id": "Xr53AzWU9wmo"
      },
      "source": [
        "# evaluate on test data\n",
        "test_loss = trainer.evaluate(test_iterator)\n",
        "print(f'\\t Test. Loss: {test_loss:.3f} |  Test. PPL: {math.exp(test_loss):7.3f}')"
      ],
      "execution_count": null,
      "outputs": []
    },
    {
      "cell_type": "code",
      "metadata": {
        "id": "1y-HL8dHF8ml"
      },
      "source": [
        "def predict(model, iterator):\n",
        "        model.eval()\n",
        "\n",
        "        with torch.no_grad():\n",
        "            for i, batch in enumerate(tqdm(iterator)):\n",
        "\n",
        "                src = batch.text\n",
        "                trg = batch.summary\n",
        "                output = model(src, trg, teacher_forcing_ratio=0) #turn off teacher forcing\n",
        "\n",
        "                #trg = [trg len, batch size]\n",
        "                #output = [trg len, batch size, output dim]\n",
        "                print(i)\n",
        "                print(output.shape)\n",
        "                \n",
        "                if i == 0:\n",
        "                    outputs = torch.argmax(output, -1)\n",
        "                else:\n",
        "                    break\n",
        "                    outputs = torch.cat((outputs, torch.argmax(output, -1)), -1)\n",
        "                \n",
        "                # outputs = [trg_len, len(iterator)]\n",
        "        return torch.transpose(outputs, 0, 1)"
      ],
      "execution_count": null,
      "outputs": []
    },
    {
      "cell_type": "code",
      "metadata": {
        "id": "UWREfU4QGVF3"
      },
      "source": [
        "test_tensor = predict(model, test_iterator)"
      ],
      "execution_count": null,
      "outputs": []
    },
    {
      "cell_type": "code",
      "metadata": {
        "id": "Ebw98ig1GH4Q"
      },
      "source": [
        "# body = '''\n",
        "#        Scientists say they have discovered a new species of orangutans on Indonesia’s island of Sumatra.\n",
        "# The population differs in several ways from the two existing orangutan species found in Sumatra and the neighboring island of Borneo.\n",
        "# The orangutans were found inside North Sumatra’s Batang Toru forest, the science publication Current Biology reported.\n",
        "# Researchers named the new species the Tapanuli orangutan. They say the animals are considered a new species because of genetic, skeletal and tooth differences.\n",
        "# Michael Kruetzen is a geneticist with the University of Zurich who has studied the orangutans for several years. He said he was excited to be part of the unusual discovery of a new great ape in the present day. He noted that most great apes are currently considered endangered or severely endangered.\n",
        "# Gorillas, chimpanzees and bonobos also belong to the great ape species.\n",
        "# Orangutan – which means person of the forest in the Indonesian and Malay languages - is the world’s biggest tree-living mammal. The orange-haired animals can move easily among the trees because their arms are longer than their legs. They live more lonely lives than other great apes, spending a lot of time sleeping and eating fruit in the forest.\n",
        "# The new study said fewer than 800 of the newly-described orangutans exist. Their low numbers make the group the most endangered of all the great ape species.\n",
        "# They live within an area covering about 1,000 square kilometers. The population is considered highly vulnerable. That is because the environment which they depend on is greatly threatened by development.\n",
        "# Researchers say if steps are not taken quickly to reduce the current and future threats, the new species could become extinct “within our lifetime.”\n",
        "# Research into the new species began in 2013, when an orangutan protection group in Sumatra found an injured orangutan in an area far away from the other species. The adult male orangutan had been beaten by local villagers and died of his injuries. The complete skull was examined by researchers.\n",
        "# Among the physical differences of the new species are a notably smaller head and frizzier hair. The Tapanuli orangutans also have a different diet and are found only in higher forest areas.\n",
        "# There is no unified international system for recognizing new species. But to be considered, discovery claims at least require publication in a major scientific publication.\n",
        "# Russell Mittermeier is head of the primate specialist group at the International Union for the Conservation of Nature. He called the finding a “remarkable discovery.” He said it puts responsibility on the Indonesian government to help the species survive.\n",
        "# Matthew Nowak is one of the writers of the study. He told the Associated Press that there are three groups of the Tapanuli orangutans that are separated by non-protected land.He said forest land needs to connect the separated groups.\n",
        "# In addition, the writers of the study are recommending that plans for a hydropower center in the area be stopped by the government.\n",
        "# It also recommended that remaining forest in the Sumatran area where the orangutans live be protected.\n",
        "# I’m Bryan Lynn.\n",
        "\n",
        "#         '''\n"
      ],
      "execution_count": null,
      "outputs": []
    },
    {
      "cell_type": "code",
      "metadata": {
        "id": "KBtEMLzXeo9t"
      },
      "source": [
        ""
      ],
      "execution_count": null,
      "outputs": []
    },
    {
      "cell_type": "code",
      "metadata": {
        "id": "qmBt-PVVH8Xt"
      },
      "source": [
        "# def plot_results(test_prediction, test_data, n_examples, trg_vocab):\n",
        "#     for i in range(n_samples):\n",
        "#         print('TEXT:\\n', ' '.join([t for t in test_data.examples[i].text]))\n",
        "#         print('SUMMARY:\\n', ' '.join([t for t in test_data.examples[i].summary]))\n",
        "#         print('predicted SUMMARY:\\n', ' '.join([trg_vocab.itos[t] for t in test_prediction[i]]))\n",
        "#         print('\\n')\n"
      ],
      "execution_count": 74,
      "outputs": []
    },
    {
      "cell_type": "code",
      "metadata": {
        "colab": {
          "base_uri": "https://localhost:8080/"
        },
        "id": "t3gQ8_rvGpIH",
        "outputId": "7b1c78cd-c5c4-4139-d4f8-df3ee5e049f2"
      },
      "source": [
        "# plot_results(test_tensor, test_data, 10, SUMMARY.vocab)"
      ],
      "execution_count": 73,
      "outputs": [
        {
          "output_type": "stream",
          "text": [
            "TEXT:\n",
            " us technology startup palantir agreed pay 10 crore back wages extend job offers eight applicants settle lawsuit accusing racial discrimination asians . lawsuit specifically focused company hiring selection processes engineering roles . earlier palantir ceo alex karp said ive fcked lot discriminated . <pad> <pad> <pad> <pad> <pad> <pad> <pad>\n",
            "SUMMARY:\n",
            " put air india stake sale 2019 polls swamy <pad> <pad>\n",
            "predicted SUMMARY:\n",
            " <unk> 2 play wedding centurion sena sena shahid shahid 15 plans <eos>\n",
            "\n",
            "\n",
            "TEXT:\n",
            " india organisation chemists druggists declared nationwide strike friday oppose government move regularise online sale medicines . chemists body alleged epharmacies would encourage drug abuse . sale tranquilisers habitforming drugs prohibited online however antidepressants sold without checking prescriptions aiocd said . <pad> <pad> <pad> <pad> <pad> <pad> <pad> <pad> <pad> <pad>\n",
            "SUMMARY:\n",
            " dress made 8 straw hats costs nearly 2 lakh <pad>\n",
            "predicted SUMMARY:\n",
            " <unk> maha drowned kriti kriti kriti kriti kohli 2 days delhi <eos>\n",
            "\n",
            "\n"
          ],
          "name": "stdout"
        }
      ]
    },
    {
      "cell_type": "code",
      "metadata": {
        "id": "Ze8ZD4_AJ16k"
      },
      "source": [
        "for i in range(30):\n",
        "    print('TEXT:\\n', ' '.join([t for t in test_data.examples[i].text]))\n",
        "    print('SUMMARY:\\n', ' '.join([t for t in test_data.examples[i].summary]))\n",
        "    print('predicted SUMMARY:\\n', ' '.join([SUMMARY.vocab.itos[t] for t in test_tensor[i]]))\n",
        "    print('\\n')"
      ],
      "execution_count": null,
      "outputs": []
    },
    {
      "cell_type": "code",
      "metadata": {
        "id": "M7Afzj-GOUmT"
      },
      "source": [
        ""
      ],
      "execution_count": null,
      "outputs": []
    }
  ]
}