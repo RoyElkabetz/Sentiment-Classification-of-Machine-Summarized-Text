{
  "nbformat": 4,
  "nbformat_minor": 0,
  "metadata": {
    "colab": {
      "name": "T5_Summarizer_pipeline.ipynb",
      "provenance": [],
      "collapsed_sections": [],
      "authorship_tag": "ABX9TyOaJ0UcZz01B9Gqhjt1LTuI",
      "include_colab_link": true
    },
    "kernelspec": {
      "name": "python3",
      "display_name": "Python 3"
    },
    "language_info": {
      "name": "python"
    }
  },
  "cells": [
    {
      "cell_type": "markdown",
      "metadata": {
        "id": "view-in-github",
        "colab_type": "text"
      },
      "source": [
        "<a href=\"https://colab.research.google.com/github/RoyElkabetz/Text-Summarization-with-Deep-Learning/blob/main/T5_Summarizer_pipeline.ipynb\" target=\"_parent\"><img src=\"https://colab.research.google.com/assets/colab-badge.svg\" alt=\"Open In Colab\"/></a>"
      ]
    },
    {
      "cell_type": "code",
      "metadata": {
        "id": "teLj186gV7VQ"
      },
      "source": [
        "## uncomment to mount google drive\n",
        "from google.colab import drive\n",
        "drive.mount('/content/gdrive')"
      ],
      "execution_count": null,
      "outputs": []
    },
    {
      "cell_type": "code",
      "metadata": {
        "id": "JQ0Dt40_V_Qr"
      },
      "source": [
        "!nvidia-smi"
      ],
      "execution_count": null,
      "outputs": []
    },
    {
      "cell_type": "code",
      "metadata": {
        "id": "3Ong6g4BV_vq"
      },
      "source": [
        "!pip install --quiet transformers==4.5.0\n",
        "!pip install --quiet pytorch-lightning==1.2.7"
      ],
      "execution_count": null,
      "outputs": []
    },
    {
      "cell_type": "code",
      "metadata": {
        "id": "rG8LCDJmV_yJ"
      },
      "source": [
        "import json\n",
        "import time\n",
        "import pandas as pd\n",
        "import numpy as np\n",
        "import torch\n",
        "from pathlib import Path\n",
        "from torch.utils.data import Dataset, DataLoader\n",
        "import pytorch_lightning as pl\n",
        "from pytorch_lightning.callbacks import ModelCheckpoint\n",
        "from pytorch_lightning.loggers import TensorBoardLogger\n",
        "from sklearn.model_selection import train_test_split\n",
        "from termcolor import colored\n",
        "\n",
        "\n",
        "\n",
        "# import torch\n",
        "# from torchtext.datasets import IMDB as the_dataset\n",
        "from torchtext.datasets import AG_NEWS \n",
        "# import torchtext.data as data\n",
        "# from torchtext.data.utils import get_tokenizer\n",
        "# from torchtext.vocab import build_vocab_from_iterator\n",
        "# from torchtext.data.functional import to_map_style_dataset\n",
        "# from torch.utils.data import DataLoader\n",
        "# from torch.utils.data.dataset import random_split\n",
        "# from torch import nn\n",
        "\n",
        "from transformers import (\n",
        "    AdamW,\n",
        "    T5ForConditionalGeneration,\n",
        "    T5TokenizerFast as T5Tokenizer\n",
        ")\n",
        "\n",
        "from tqdm.auto import tqdm"
      ],
      "execution_count": null,
      "outputs": []
    },
    {
      "cell_type": "code",
      "metadata": {
        "id": "06ZEoDSqV_0g"
      },
      "source": [
        "import seaborn as sns\n",
        "from pylab import rcParams\n",
        "import matplotlib.pyplot as plt\n",
        "from matplotlib import rc\n",
        "\n",
        "%matplotlib inline\n",
        "%config InlineBackend.figure_format='retina'\n",
        "sns.set(style='whitegrid', palette='muted', font_scale=1.2)\n",
        "rcParams['figure.figsize'] = 16, 10\n",
        "\n",
        "pl.seed_everything(216)"
      ],
      "execution_count": null,
      "outputs": []
    },
    {
      "cell_type": "code",
      "metadata": {
        "id": "Ryoz0ctyV_2v"
      },
      "source": [
        "DATASET_PATH = '/content/gdrive/MyDrive/Datasets/Text/news_summary.csv'\n",
        "CHECKPOINTS_PATH = '/content/gdrive/MyDrive/Checkpoints'\n",
        "MY_MODEL_NAME = 'Text_Summarizer_T5'"
      ],
      "execution_count": null,
      "outputs": []
    },
    {
      "cell_type": "code",
      "metadata": {
        "id": "qoBks0StV_5W"
      },
      "source": [
        ""
      ],
      "execution_count": null,
      "outputs": []
    },
    {
      "cell_type": "code",
      "metadata": {
        "id": "Xr-PIMYEV_7g"
      },
      "source": [
        "MODEL_NAME = 't5-base'\n",
        "\n",
        "tokenizer = T5Tokenizer.from_pretrained(MODEL_NAME)"
      ],
      "execution_count": null,
      "outputs": []
    },
    {
      "cell_type": "code",
      "metadata": {
        "id": "fgC8_4S7V_9z"
      },
      "source": [
        "train_iter = AG_NEWS(split='train')\n",
        "n_samples = len(train_iter)\n",
        "random_list = torch.randint(0, n_samples - 1, (4, ))\n",
        "labels = []\n",
        "for i, (label, text) in enumerate(train_iter):\n",
        "    labels.append(label)\n",
        "    if i in random_list:\n",
        "        print(f'Label: {label_pipeline(label)}')\n",
        "        print(f'Text: {text}')\n",
        "        print(f'Split: {tokenizer(text)}')\n",
        "        print(f'Tokens: {text_pipeline(text)}\\n')\n",
        "print('Number of classes: {}'.format(len(set(labels))))\n",
        "print('Number of samples: {}'.format(n_samples))"
      ],
      "execution_count": null,
      "outputs": []
    },
    {
      "cell_type": "code",
      "metadata": {
        "id": "FpGwIn63V__t"
      },
      "source": [
        "text_token_counts, summary_token_counts = [], []\n",
        "\n",
        "for _, row in train_df.iterrows():\n",
        "  text_token_count = len(tokenizer.encode(row['text']))\n",
        "  text_token_counts.append(text_token_count)\n",
        "\n",
        "  summary_token_count = len(tokenizer.encode(row['summary']))\n",
        "  summary_token_counts.append(summary_token_count)"
      ],
      "execution_count": null,
      "outputs": []
    },
    {
      "cell_type": "code",
      "metadata": {
        "id": "2yDs9HyKWABN"
      },
      "source": [
        "fig, (ax1, ax2) = plt.subplots(1, 2)\n",
        "\n",
        "sns.histplot(text_token_counts, ax=ax1)\n",
        "ax1.set_title('full text token counts')\n",
        "\n",
        "sns.histplot(summary_token_counts, ax=ax2)\n",
        "ax2.set_title('summary text token counts')"
      ],
      "execution_count": null,
      "outputs": []
    },
    {
      "cell_type": "code",
      "metadata": {
        "id": "O73C1ghUWAFW"
      },
      "source": [
        "class NewsSummaryModel(pl.LightningModule):\n",
        "\n",
        "  def __init__(self):\n",
        "    super().__init__()\n",
        "    self.model = T5ForConditionalGeneration.from_pretrained(MODEL_NAME, return_dict=True)\n",
        "\n",
        "  def forward(self, input_ids, attention_mask, decoder_attention_mask, labels=None):\n",
        "\n",
        "    output = self.model(\n",
        "        input_ids,\n",
        "        attention_mask=attention_mask,\n",
        "        labels=labels,\n",
        "        decoder_attention_mask=decoder_attention_mask\n",
        "    )\n",
        "\n",
        "    return output.loss, output.logits\n",
        "\n",
        "  def training_step(self, batch, batch_idx):\n",
        "    input_ids = batch['text_input_ids']\n",
        "    attention_mask = batch['text_attention_mask']\n",
        "    labels = batch['labels']\n",
        "    labels_attention_mask = batch['labels_attention_mask']\n",
        "\n",
        "    loss, outputs = self(\n",
        "        input_ids=input_ids,\n",
        "        attention_mask=attention_mask,\n",
        "        decoder_attention_mask=labels_attention_mask,\n",
        "        labels=labels\n",
        "    )\n",
        "\n",
        "    self.log('train_loss', loss, prog_bar=True, logger=True)\n",
        "    return loss\n",
        "  \n",
        "  def validation_step(self, batch, batch_idx):\n",
        "    input_ids = batch['text_input_ids']\n",
        "    attention_mask = batch['text_attention_mask']\n",
        "    labels = batch['labels']\n",
        "    labels_attention_mask = batch['labels_attention_mask']\n",
        "\n",
        "    loss, outputs = self(\n",
        "        input_ids=input_ids,\n",
        "        attention_mask=attention_mask,\n",
        "        decoder_attention_mask=labels_attention_mask,\n",
        "        labels=labels\n",
        "    )\n",
        "\n",
        "    self.log('valid_loss', loss, prog_bar=True, logger=True)\n",
        "    return loss\n",
        "\n",
        "  def test_step(self, batch, batch_idx):\n",
        "    input_ids = batch['text_input_ids']\n",
        "    attention_mask = batch['text_attention_mask']\n",
        "    labels = batch['labels']\n",
        "    labels_attention_mask = batch['labels_attention_mask']\n",
        "\n",
        "    loss, outputs = self(\n",
        "        input_ids=input_ids,\n",
        "        attention_mask=attention_mask,\n",
        "        decoder_attention_mask=labels_attention_mask,\n",
        "        labels=labels\n",
        "    )\n",
        "\n",
        "    self.log('test_loss', loss, prog_bar=True, logger=True)\n",
        "    return loss\n",
        "    \n",
        "    \n",
        "  def configure_optimizers(self):\n",
        "    return AdamW(self.parameters(), lr=0.0001)"
      ],
      "execution_count": null,
      "outputs": []
    },
    {
      "cell_type": "code",
      "metadata": {
        "id": "vuIKe1rnXUXT"
      },
      "source": [
        "model = NewsSummaryModel()"
      ],
      "execution_count": null,
      "outputs": []
    },
    {
      "cell_type": "code",
      "metadata": {
        "id": "n5X2knlvXUZv"
      },
      "source": [
        "trainer = pl.Trainer(\n",
        "    logger=logger,\n",
        "    checkpoint_callback=checkpoint_callback,\n",
        "    max_epochs=N_EPOCHS,\n",
        "    gpus=1,\n",
        "    progress_bar_refresh_rate=30\n",
        ")"
      ],
      "execution_count": null,
      "outputs": []
    },
    {
      "cell_type": "code",
      "metadata": {
        "id": "VTpOXcX_XUcL"
      },
      "source": [
        "trainer.checkpoint_callback.best_model_path = ''.join([CHECKPOINTS_PATH, '/', MY_MODEL_NAME, '-v1.ckpt'])\n",
        "trained_model = NewsSummaryModel.load_from_checkpoint(\n",
        "    trainer.checkpoint_callback.best_model_path\n",
        ")\n",
        "\n",
        "trained_model.freeze()"
      ],
      "execution_count": null,
      "outputs": []
    },
    {
      "cell_type": "code",
      "metadata": {
        "id": "cmrU7r3IXUeU"
      },
      "source": [
        ""
      ],
      "execution_count": null,
      "outputs": []
    },
    {
      "cell_type": "code",
      "metadata": {
        "id": "kY3A79iKWAHd"
      },
      "source": [
        "def summarizer(text):\n",
        "  text_encoding = tokenizer(\n",
        "      text,\n",
        "      max_length=512,\n",
        "      padding='max_length',\n",
        "      truncation=True,\n",
        "      return_attention_mask=True,\n",
        "      add_special_tokens=True,\n",
        "      return_tensors='pt'\n",
        "  )\n",
        "\n",
        "  generated_ids = trained_model.model.generate(\n",
        "      input_ids=text_encoding['input_ids'],\n",
        "      attention_mask=text_encoding['attention_mask'],\n",
        "      max_length=150,\n",
        "      num_beams=2,\n",
        "      repetition_penalty=2.5,\n",
        "      length_penalty=1.0,\n",
        "      early_stopping=True\n",
        "  )\n",
        "\n",
        "  preds = [\n",
        "   tokenizer.decode(gen_id, skip_special_tokens=True, clean_up_tokenization_spaces=True)\n",
        "   for gen_id in generated_ids\n",
        "  ]\n",
        "\n",
        "  return ''.join(preds)"
      ],
      "execution_count": null,
      "outputs": []
    },
    {
      "cell_type": "code",
      "metadata": {
        "id": "NdJkGW_kXrnj"
      },
      "source": [
        "with torch.no_grad():\n",
        "  sample_row = test_df.iloc[0]\n",
        "  text = sample_row['text']\n",
        "  model_summary = summarizer(text)"
      ],
      "execution_count": null,
      "outputs": []
    },
    {
      "cell_type": "code",
      "metadata": {
        "id": "6Qz9HIeoXrqF"
      },
      "source": [
        ""
      ],
      "execution_count": null,
      "outputs": []
    },
    {
      "cell_type": "code",
      "metadata": {
        "id": "DtvefA6HXrsW"
      },
      "source": [
        ""
      ],
      "execution_count": null,
      "outputs": []
    }
  ]
}